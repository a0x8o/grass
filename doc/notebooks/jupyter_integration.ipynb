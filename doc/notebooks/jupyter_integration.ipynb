{
 "cells": [
  {
   "cell_type": "markdown",
   "metadata": {},
   "source": [
    "# Improved Integration of GRASS and Jupyter\n",
    "\n",
<<<<<<< HEAD
<<<<<<< HEAD
<<<<<<< HEAD
<<<<<<< HEAD
<<<<<<< HEAD
<<<<<<< HEAD
    "As part of Google Summer of Code 2021, we've been working to shorten and simplify the launch of GRASS in Jupyter and imporve the map displays. You can find out more about the project and follow the progress on the [GRASS wiki page](https://trac.osgeo.org/grass/wiki/GSoC/2021/JupyterAndGRASS).\n",
=======
    "As part of Google Summer of Code 2021, we've been working to shorten and simplify the launch of GRASS in Jupyter and imporve the map displays. You can find out more abou the project and follow the progress on the [GRASS wiki page](https://trac.osgeo.org/grass/wiki/GSoC/2021/JupyterAndGRASS).\n",
>>>>>>> 4625684fca (wxGUI/datacatalog: fix setting output vector/raster format (#1596))
=======
    "As part of Google Summer of Code 2021, we've been working to shorten and simplify the launch of GRASS in Jupyter and imporve the map displays. You can find out more about the project and follow the progress on the [GRASS wiki page](https://trac.osgeo.org/grass/wiki/GSoC/2021/JupyterAndGRASS).\n",
>>>>>>> 923408bf7e (libpython: Save and load benchmark results (#1711))
=======
    "As part of Google Summer of Code 2021, we've been working to shorten and simplify the launch of GRASS in Jupyter and imporve the map displays. You can find out more about the project and follow the progress on the [GRASS wiki page](https://trac.osgeo.org/grass/wiki/GSoC/2021/JupyterAndGRASS).\n",
>>>>>>> osgeo-main
=======
    "As part of Google Summer of Code 2021, we've been working to shorten and simplify the launch of GRASS in Jupyter and imporve the map displays. You can find out more about the project and follow the progress on the [GRASS wiki page](https://trac.osgeo.org/grass/wiki/GSoC/2021/JupyterAndGRASS).\n",
>>>>>>> osgeo-main
=======
    "As part of Google Summer of Code 2021, we've been working to shorten and simplify the launch of GRASS in Jupyter and imporve the map displays. You can find out more abou the project and follow the progress on the [GRASS wiki page](https://trac.osgeo.org/grass/wiki/GSoC/2021/JupyterAndGRASS).\n",
>>>>>>> 40118f6d63 (wxGUI/datacatalog: fix setting output vector/raster format (#1596))
=======
    "As part of Google Summer of Code 2021, we've been working to shorten and simplify the launch of GRASS in Jupyter and imporve the map displays. You can find out more about the project and follow the progress on the [GRASS wiki page](https://trac.osgeo.org/grass/wiki/GSoC/2021/JupyterAndGRASS).\n",
>>>>>>> af1011ff1e (libpython: Save and load benchmark results (#1711))
    "\n",
    "This notebook is designed to run in binder and demonstrate the usage of `grass.jupyter`, the new module of Jupyter-specific functions for GRASS."
   ]
  },
  {
   "cell_type": "code",
   "execution_count": null,
   "metadata": {
    "tags": []
   },
   "outputs": [],
   "source": [
    "import os\n",
    "import subprocess\n",
<<<<<<< HEAD
<<<<<<< HEAD
<<<<<<< HEAD
<<<<<<< HEAD
<<<<<<< HEAD
<<<<<<< HEAD
    "import sys"
=======
    "import sys\n",
    "from IPython.display import Image"
>>>>>>> 4625684fca (wxGUI/datacatalog: fix setting output vector/raster format (#1596))
=======
    "import sys"
>>>>>>> 923408bf7e (libpython: Save and load benchmark results (#1711))
=======
    "import sys"
>>>>>>> osgeo-main
=======
    "import sys"
>>>>>>> osgeo-main
=======
    "import sys\n",
    "from IPython.display import Image"
>>>>>>> 40118f6d63 (wxGUI/datacatalog: fix setting output vector/raster format (#1596))
=======
    "import sys"
>>>>>>> af1011ff1e (libpython: Save and load benchmark results (#1711))
   ]
  },
  {
   "cell_type": "code",
   "execution_count": null,
   "metadata": {},
   "outputs": [],
   "source": [
    "gisbase = subprocess.check_output([\"grass\", \"--config\", \"path\"], text=True).strip()\n",
    "os.environ[\"GISBASE\"] = gisbase\n",
    "sys.path.append(os.path.join(gisbase, \"etc\", \"python\"))"
   ]
  },
  {
   "cell_type": "code",
   "execution_count": null,
   "metadata": {},
   "outputs": [],
   "source": [
    "import grass.script as gs\n",
    "import grass.jupyter as gj"
   ]
  },
  {
   "cell_type": "code",
   "execution_count": null,
   "metadata": {},
   "outputs": [],
   "source": [
<<<<<<< HEAD
<<<<<<< HEAD
<<<<<<< HEAD
<<<<<<< HEAD
<<<<<<< HEAD
    "# Start GRASS Session\n",
    "gj.init(\"../../data/grassdata\", \"nc_basic_spm_grass7\", \"user1\")"
=======
    "# Let's check our import by printing docstring for init()\n",
    "gj.init?"
=======
    "# Start GRASS Session\n",
    "gj.init(\"../../data/grassdata\", \"nc_basic_spm_grass7\", \"user1\")"
>>>>>>> osgeo-main
=======
    "# Start GRASS Session\n",
    "gj.init(\"../../data/grassdata\", \"nc_basic_spm_grass7\", \"user1\")"
>>>>>>> osgeo-main
=======
    "# Let's check our import by printing docstring for init()\n",
    "gj.init?"
>>>>>>> 40118f6d63 (wxGUI/datacatalog: fix setting output vector/raster format (#1596))
   ]
  },
  {
   "cell_type": "code",
   "execution_count": null,
   "metadata": {},
   "outputs": [],
   "source": [
<<<<<<< HEAD
<<<<<<< HEAD
<<<<<<< HEAD
=======
>>>>>>> 2a3f5af732 (wxGUI/Single-Window: New change page event for AuiNotebook (#1780))
    "# Start GRASS Session\n",
<<<<<<< HEAD
<<<<<<< HEAD
=======
    "# Start GRASS Session\n",
>>>>>>> 40118f6d63 (wxGUI/datacatalog: fix setting output vector/raster format (#1596))
    "gj.init(\"../../data/grassdata\", \"nc_basic_spm_grass7\", \"user1\")\n",
    "\n",
    "# Set default display settings\n",
    "gj.display_settings()"
<<<<<<< HEAD
>>>>>>> 4625684fca (wxGUI/datacatalog: fix setting output vector/raster format (#1596))
=======
    "gj.init(\"../../data/grassdata\", \"nc_basic_spm_grass7\", \"user1\")"
>>>>>>> 923408bf7e (libpython: Save and load benchmark results (#1711))
=======
>>>>>>> 40118f6d63 (wxGUI/datacatalog: fix setting output vector/raster format (#1596))
=======
    "gj.init(\"../../data/grassdata\", \"nc_basic_spm_grass7\", \"user1\")"
>>>>>>> af1011ff1e (libpython: Save and load benchmark results (#1711))
   ]
  },
  {
   "cell_type": "code",
   "execution_count": null,
   "metadata": {},
   "outputs": [],
   "source": [
<<<<<<< HEAD
<<<<<<< HEAD
<<<<<<< HEAD
<<<<<<< HEAD
=======
>>>>>>> osgeo-main
=======
>>>>>>> osgeo-main
    "# Set computational region to the study area.\n",
    "gs.run_command(\"g.region\", raster=\"elevation\")"
   ]
  },
  {
   "cell_type": "markdown",
   "metadata": {},
   "source": [
    "## Non-interactive Map Display"
   ]
  },
  {
<<<<<<< HEAD
<<<<<<< HEAD
<<<<<<< HEAD
<<<<<<< HEAD
   "cell_type": "code",
   "execution_count": null,
   "metadata": {},
   "outputs": [],
   "source": [
    "# Demonstration of GrassRenderer for non-interactive map display\n",
<<<<<<< HEAD
<<<<<<< HEAD
<<<<<<< HEAD
    "r = gj.GrassRenderer(height=540)\n",
    "\n",
    "# Add a raster and vector to the map\n",
    "r.run(\"d.rast\", map=\"elevation\")\n",
    "r.run(\"d.vect\", map=\"streams\")\n",
    "\n",
    "# We can also call 'd.*' display modules with a shortcut\n",
    "# Shortcut methods must be in the form '.d_{name_of_module}'\n",
    "# For example, let's add a legend using a shortcut\n",
    "r.d_legend(raster=\"elevation\", at=(55, 95, 2, 6), flags=\"b\") # shortcut for calling \"d.legend\"\n",
    "\n",
    "# Display map\n",
=======
<<<<<<< HEAD
=======
>>>>>>> osgeo-main
=======
>>>>>>> osgeo-main
    "\n",
    "r = gj.GrassRenderer(height=540, filename = \"streams_maps.png\")\n",
=======
    "r = gj.GrassRenderer(height=540)\n",
>>>>>>> 523219d6d4 (r.in.pdal: info.cpp also needs PDALCPPFLAGS (#1768))
    "\n",
    "r.run(\"d.rast\", map=\"elevation\")\n",
    "r.run(\"d.vect\", map=\"streams\")\n",
    "\n",
<<<<<<< HEAD
<<<<<<< HEAD
>>>>>>> osgeo-main
=======
>>>>>>> osgeo-main
=======
>>>>>>> osgeo-main
    "r.show()"
   ]
  },
  {
   "cell_type": "markdown",
   "metadata": {},
   "source": [
<<<<<<< HEAD
<<<<<<< HEAD
<<<<<<< HEAD
    "#### Multiple instances of GrassRenderer\n",
    "\n",
    "We can have multiple instances of GrassRenderer."
=======
    "#### We can have two instances of GrassRenderer"
>>>>>>> osgeo-main
=======
    "#### We can have two instances of GrassRenderer"
>>>>>>> osgeo-main
=======
    "#### We can have two instances of GrassRenderer"
>>>>>>> osgeo-main
   ]
  },
  {
   "cell_type": "code",
   "execution_count": null,
   "metadata": {},
   "outputs": [],
   "source": [
    "# First, we'll make a second instance. Notice we need a different filename.\n",
    "\n",
    "r2 = gj.GrassRenderer(height=200, width=220, filename =\"roads_maps.png\")\n",
    "\n",
    "r2.run(\"d.rast\", map=\"elevation_shade\")\n",
    "r2.run(\"d.vect\", map=\"roadsmajor\")\n",
    "\n",
    "r2.show()"
   ]
  },
  {
   "cell_type": "code",
   "execution_count": null,
   "metadata": {},
   "outputs": [],
   "source": [
    "# Then, we return to the first instance and continue to modify and display it\n",
<<<<<<< HEAD
<<<<<<< HEAD
<<<<<<< HEAD
    "# Notice that layers a drawn in the order they are added\n",
=======
>>>>>>> osgeo-main
=======
>>>>>>> osgeo-main
=======
>>>>>>> osgeo-main
    "\n",
    "r.run(\"d.vect\", map = \"zipcodes\", color=\"red\", fill_color=\"none\")\n",
    "\n",
    "r.show()"
   ]
  },
  {
   "cell_type": "markdown",
   "metadata": {},
   "source": [
    "## Interactive Map Display"
   ]
  },
  {
   "cell_type": "code",
   "execution_count": null,
   "metadata": {},
   "outputs": [],
   "source": [
    "# Create Interactive Map\n",
    "m = gj.InteractiveMap(width = 600)\n",
    "\n",
    "# Add raster, vector and layer control to map\n",
    "m.add_raster(\"elevation\")\n",
    "m.add_vector(\"roadsmajor\")\n",
    "m.add_layer_control(position = \"bottomright\")\n",
    "\n",
    "# Display map\n",
    "m.show()"
   ]
  },
  {
   "cell_type": "code",
   "execution_count": null,
   "metadata": {},
   "outputs": [],
   "source": [
    "# Let's see what is in the example database so we can continue to experiment\n",
    "print(gs.read_command(\"g.list\", type=\"all\"))"
=======
=======
>>>>>>> 40118f6d63 (wxGUI/datacatalog: fix setting output vector/raster format (#1596))
    "# Let's display the DTM of our sample area to ensure all's working\n",
    "\n",
    "# Set computational region to the study area.\n",
    "gs.parse_command(\"g.region\", raster=\"elevation\", flags=\"pg\")\n",
    "\n",
    "# Draw elevation (DTM) to get an overview of the area.\n",
    "gs.run_command(\"r.colors\", map=\"elevation\", color=\"elevation\")\n",
    "gs.run_command(\"d.erase\")\n",
    "gs.run_command(\"d.rast\", map=\"elevation\")\n",
    "gs.run_command(\"d.legend\", raster=\"elevation\", at=(65, 90, 85, 90), fontsize=15, flags=\"b\", title=\"DTM\")\n",
    "Image(filename=\"map.png\")"
<<<<<<< HEAD
>>>>>>> 4625684fca (wxGUI/datacatalog: fix setting output vector/raster format (#1596))
=======
    "# Set computational region to the study area.\n",
    "gs.run_command(\"g.region\", raster=\"elevation\")"
>>>>>>> 923408bf7e (libpython: Save and load benchmark results (#1711))
   ]
  },
  {
=======
>>>>>>> 01a506d3d3 (libpython: Support benchmarks of non-parallel runs better (#1733))
=======
>>>>>>> osgeo-main
=======
>>>>>>> osgeo-main
   "cell_type": "code",
   "execution_count": null,
   "metadata": {},
   "outputs": [],
   "source": [
    "# Demonstration of GrassRenderer for non-interactive map display\n",
<<<<<<< HEAD
    "\n",
    "r = gj.GrassRenderer(height=540, filename = \"streams_maps.png\")\n",
=======
    "r = gj.GrassRenderer(height=540)\n",
>>>>>>> 523219d6d4 (r.in.pdal: info.cpp also needs PDALCPPFLAGS (#1768))
    "\n",
    "r.run(\"d.rast\", map=\"elevation\")\n",
    "r.run(\"d.vect\", map=\"streams\")\n",
    "\n",
    "r.show()"
   ]
  },
  {
   "cell_type": "markdown",
   "metadata": {},
   "source": [
    "#### We can have two instances of GrassRenderer"
   ]
  },
  {
   "cell_type": "code",
   "execution_count": null,
   "metadata": {},
   "outputs": [],
   "source": [
    "# First, we'll make a second instance. Notice we need a different filename.\n",
    "\n",
    "r2 = gj.GrassRenderer(height=200, width=220, filename =\"roads_maps.png\")\n",
    "\n",
    "r2.run(\"d.rast\", map=\"elevation_shade\")\n",
    "r2.run(\"d.vect\", map=\"roadsmajor\")\n",
    "\n",
    "r2.show()"
   ]
  },
  {
   "cell_type": "code",
   "execution_count": null,
   "metadata": {},
   "outputs": [],
   "source": [
    "# Then, we return to the first instance and continue to modify and display it\n",
    "\n",
    "r.run(\"d.vect\", map = \"zipcodes\", color=\"red\", fill_color=\"none\")\n",
    "\n",
    "r.show()"
   ]
  },
  {
   "cell_type": "markdown",
   "metadata": {},
   "source": [
    "## Interactive Map Display"
   ]
  },
  {
   "cell_type": "code",
   "execution_count": null,
   "metadata": {},
   "outputs": [],
   "source": [
    "# Create Interactive Map\n",
    "m = gj.InteractiveMap(width = 600)\n",
    "\n",
    "# Add raster, vector and layer control to map\n",
    "m.add_raster(\"elevation\")\n",
    "m.add_vector(\"roadsmajor\")\n",
    "m.add_layer_control(position = \"bottomright\")\n",
    "\n",
    "# Display map\n",
    "m.show()"
   ]
  },
  {
   "cell_type": "code",
   "execution_count": null,
   "metadata": {},
   "outputs": [],
   "source": [
    "# Let's see what is in the example database so we can continue to experiment\n",
    "print(gs.read_command(\"g.list\", type=\"all\"))"
=======
>>>>>>> 40118f6d63 (wxGUI/datacatalog: fix setting output vector/raster format (#1596))
=======
    "# Set computational region to the study area.\n",
    "gs.run_command(\"g.region\", raster=\"elevation\")"
>>>>>>> af1011ff1e (libpython: Save and load benchmark results (#1711))
   ]
  },
  {
=======
>>>>>>> a4624812dc (libpython: Support benchmarks of non-parallel runs better (#1733))
   "cell_type": "code",
   "execution_count": null,
   "metadata": {},
   "outputs": [],
   "source": [
    "# Demonstration of GrassRenderer for non-interactive map display\n",
<<<<<<< HEAD
    "\n",
    "r = gj.GrassRenderer(height=540, filename = \"streams_maps.png\")\n",
=======
    "r = gj.GrassRenderer(height=540)\n",
>>>>>>> 523219d6d4 (r.in.pdal: info.cpp also needs PDALCPPFLAGS (#1768))
    "\n",
    "r.run(\"d.rast\", map=\"elevation\")\n",
    "r.run(\"d.vect\", map=\"streams\")\n",
    "\n",
    "r.show()"
   ]
  },
  {
   "cell_type": "markdown",
   "metadata": {},
   "source": [
    "#### We can have two instances of GrassRenderer"
   ]
  },
  {
   "cell_type": "code",
   "execution_count": null,
   "metadata": {},
   "outputs": [],
   "source": [
    "# First, we'll make a second instance. Notice we need a different filename.\n",
    "\n",
    "r2 = gj.GrassRenderer(height=200, width=220, filename =\"roads_maps.png\")\n",
    "\n",
    "r2.run(\"d.rast\", map=\"elevation_shade\")\n",
    "r2.run(\"d.vect\", map=\"roadsmajor\")\n",
    "\n",
    "r2.show()"
   ]
  },
  {
   "cell_type": "code",
   "execution_count": null,
   "metadata": {},
   "outputs": [],
   "source": [
    "# Then, we return to the first instance and continue to modify and display it\n",
    "\n",
    "r.run(\"d.vect\", map = \"zipcodes\", color=\"red\", fill_color=\"none\")\n",
    "\n",
    "r.show()"
   ]
  },
  {
   "cell_type": "markdown",
   "metadata": {},
   "source": [
    "#### Error Handling"
   ]
  },
  {
   "cell_type": "code",
   "execution_count": null,
   "metadata": {},
   "outputs": [],
   "source": [
    "# If we pass a non-display related module to GrassRenderer, it returns an error\n",
    "\n",
    "# r.run(\"r.watershed\", map=\"elevation\")"
   ]
  },
  {
   "cell_type": "markdown",
   "metadata": {},
   "source": [
    "## Interactive Map Display"
   ]
  },
  {
   "cell_type": "code",
   "execution_count": null,
   "metadata": {},
   "outputs": [],
   "source": [
    "# Demonstration of GrassRenderer for interactive map display with folium\n",
    "\n",
    "m = gj.InteractiveMap(width = 600)\n",
    "m.add_vector(\"boundary_region@PERMANENT\")\n",
    "m.add_layer_control(position = \"bottomright\")\n",
    "m.add_vector(\"schools\")\n",
    "m.show()"
   ]
  },
  {
   "cell_type": "code",
   "execution_count": null,
   "metadata": {},
   "outputs": [],
   "source": [
    "# Let's see what is in the example database so we can continue to experiment\n",
    "print(gs.read_command(\"g.list\", type=\"all\"))"
   ]
  }
 ],
 "metadata": {
  "kernelspec": {
   "display_name": "Python 3",
   "language": "python",
   "name": "python3"
  },
  "language_info": {
   "codemirror_mode": {
    "name": "ipython",
    "version": 3
   },
   "file_extension": ".py",
   "mimetype": "text/x-python",
   "name": "python",
   "nbconvert_exporter": "python",
   "pygments_lexer": "ipython3",
<<<<<<< HEAD
<<<<<<< HEAD
<<<<<<< HEAD
<<<<<<< HEAD
<<<<<<< HEAD
<<<<<<< HEAD
   "version": "3.8.10"
=======
   "version": "3.8.5"
>>>>>>> 4625684fca (wxGUI/datacatalog: fix setting output vector/raster format (#1596))
=======
   "version": "3.8.10"
>>>>>>> 01a506d3d3 (libpython: Support benchmarks of non-parallel runs better (#1733))
=======
   "version": "3.8.10"
>>>>>>> osgeo-main
=======
   "version": "3.8.10"
>>>>>>> osgeo-main
=======
   "version": "3.8.5"
>>>>>>> 40118f6d63 (wxGUI/datacatalog: fix setting output vector/raster format (#1596))
=======
   "version": "3.8.10"
>>>>>>> a4624812dc (libpython: Support benchmarks of non-parallel runs better (#1733))
  }
 },
 "nbformat": 4,
 "nbformat_minor": 4
}
