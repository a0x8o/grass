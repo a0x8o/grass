{
 "cells": [
  {
   "cell_type": "markdown",
   "metadata": {},
   "source": [
    "# Improved Integration of GRASS and Jupyter\n",
    "\n",
<<<<<<< HEAD
<<<<<<< HEAD
<<<<<<< HEAD
<<<<<<< HEAD
<<<<<<< HEAD
<<<<<<< HEAD
<<<<<<< HEAD
<<<<<<< HEAD
<<<<<<< HEAD
<<<<<<< HEAD
<<<<<<< HEAD
<<<<<<< HEAD
<<<<<<< HEAD
<<<<<<< HEAD
<<<<<<< HEAD
<<<<<<< HEAD
<<<<<<< HEAD
<<<<<<< HEAD
<<<<<<< HEAD
<<<<<<< HEAD
<<<<<<< HEAD
<<<<<<< HEAD
<<<<<<< HEAD
<<<<<<< HEAD
<<<<<<< HEAD
<<<<<<< HEAD
<<<<<<< HEAD
<<<<<<< HEAD
<<<<<<< HEAD
<<<<<<< HEAD
<<<<<<< HEAD
<<<<<<< HEAD
<<<<<<< HEAD
<<<<<<< HEAD
<<<<<<< HEAD
<<<<<<< HEAD
<<<<<<< HEAD
<<<<<<< HEAD
<<<<<<< HEAD
<<<<<<< HEAD
<<<<<<< HEAD
<<<<<<< HEAD
<<<<<<< HEAD
<<<<<<< HEAD
<<<<<<< HEAD
<<<<<<< HEAD
<<<<<<< HEAD
<<<<<<< HEAD
<<<<<<< HEAD
<<<<<<< HEAD
<<<<<<< HEAD
<<<<<<< HEAD
<<<<<<< HEAD
<<<<<<< HEAD
<<<<<<< HEAD
<<<<<<< HEAD
<<<<<<< HEAD
<<<<<<< HEAD
<<<<<<< HEAD
<<<<<<< HEAD
<<<<<<< HEAD
<<<<<<< HEAD
<<<<<<< HEAD
<<<<<<< HEAD
<<<<<<< HEAD
<<<<<<< HEAD
<<<<<<< HEAD
<<<<<<< HEAD
<<<<<<< HEAD
<<<<<<< HEAD
<<<<<<< HEAD
<<<<<<< HEAD
<<<<<<< HEAD
<<<<<<< HEAD
<<<<<<< HEAD
<<<<<<< HEAD
<<<<<<< HEAD
<<<<<<< HEAD
<<<<<<< HEAD
<<<<<<< HEAD
<<<<<<< HEAD
<<<<<<< HEAD
<<<<<<< HEAD
<<<<<<< HEAD
<<<<<<< HEAD
<<<<<<< HEAD
<<<<<<< HEAD
<<<<<<< HEAD
<<<<<<< HEAD
<<<<<<< HEAD
<<<<<<< HEAD
<<<<<<< HEAD
<<<<<<< HEAD
<<<<<<< HEAD
<<<<<<< HEAD
<<<<<<< HEAD
<<<<<<< HEAD
<<<<<<< HEAD
<<<<<<< HEAD
<<<<<<< HEAD
<<<<<<< HEAD
<<<<<<< HEAD
<<<<<<< HEAD
<<<<<<< HEAD
<<<<<<< HEAD
<<<<<<< HEAD
<<<<<<< HEAD
<<<<<<< HEAD
<<<<<<< HEAD
=======
=======
>>>>>>> 855503a984 (wxGUI/datacatalog: fix setting output vector/raster format (#1596))
=======
>>>>>>> 6dbb418f88 (libpython: Save and load benchmark results (#1711))
=======
>>>>>>> b4f1490ce2 (wxGUI/datacatalog: fix setting output vector/raster format (#1596))
=======
>>>>>>> 0d0bc8bfd9 (libpython: Save and load benchmark results (#1711))
=======
=======
>>>>>>> c4d1702fe7 (wxGUI/datacatalog: fix setting output vector/raster format (#1596))
>>>>>>> 4566710e5b (wxGUI/datacatalog: fix setting output vector/raster format (#1596))
=======
=======
>>>>>>> 0d97a989f6 (wxGUI/datacatalog: fix setting output vector/raster format (#1596))
=======
>>>>>>> dcc1810d30 (libpython: Save and load benchmark results (#1711))
=======
>>>>>>> fa7df22047 (wxGUI/datacatalog: fix setting output vector/raster format (#1596))
=======
>>>>>>> a29c4a1571 (libpython: Save and load benchmark results (#1711))
=======
>>>>>>> 73c280b8c6 (wxGUI/datacatalog: fix setting output vector/raster format (#1596))
=======
>>>>>>> 23a05fbab6 (libpython: Save and load benchmark results (#1711))
=======
>>>>>>> d0b3ffd998 (wxGUI/datacatalog: fix setting output vector/raster format (#1596))
=======
>>>>>>> 8051b01c88 (libpython: Save and load benchmark results (#1711))
=======
>>>>>>> 3468665ca3 (wxGUI/datacatalog: fix setting output vector/raster format (#1596))
=======
>>>>>>> 969385adae (libpython: Save and load benchmark results (#1711))
=======
>>>>>>> f9261b86c0 (wxGUI/datacatalog: fix setting output vector/raster format (#1596))
=======
>>>>>>> d86c47b865 (libpython: Save and load benchmark results (#1711))
=======
>>>>>>> 16ac4aec37 (wxGUI/datacatalog: fix setting output vector/raster format (#1596))
=======
>>>>>>> f226a36d82 (libpython: Save and load benchmark results (#1711))
=======
>>>>>>> 773ccfdfd3 (wxGUI/datacatalog: fix setting output vector/raster format (#1596))
=======
>>>>>>> 102ca719c3 (libpython: Save and load benchmark results (#1711))
=======
>>>>>>> cef6c84d7f (wxGUI/datacatalog: fix setting output vector/raster format (#1596))
=======
>>>>>>> f2e1fe7db7 (libpython: Save and load benchmark results (#1711))
=======
>>>>>>> 98fd9cfdb5 (wxGUI/datacatalog: fix setting output vector/raster format (#1596))
=======
>>>>>>> 39aa99710a (libpython: Save and load benchmark results (#1711))
=======
>>>>>>> cd0f28f571 (wxGUI/datacatalog: fix setting output vector/raster format (#1596))
=======
>>>>>>> 6178b77bf1 (libpython: Save and load benchmark results (#1711))
=======
>>>>>>> 425a31d95b (wxGUI/datacatalog: fix setting output vector/raster format (#1596))
=======
>>>>>>> 1c3c7a612a (libpython: Save and load benchmark results (#1711))
=======
>>>>>>> ea91af519a (wxGUI/datacatalog: fix setting output vector/raster format (#1596))
=======
>>>>>>> 6c56216d2e (libpython: Save and load benchmark results (#1711))
=======
>>>>>>> c4d1702fe7 (wxGUI/datacatalog: fix setting output vector/raster format (#1596))
=======
>>>>>>> aa15e7c6e3 (libpython: Save and load benchmark results (#1711))
<<<<<<< HEAD
>>>>>>> 8a286c75d5 (libpython: Save and load benchmark results (#1711))
=======
=======
>>>>>>> 7eeb1e86e5 (wxGUI/datacatalog: fix setting output vector/raster format (#1596))
<<<<<<< HEAD
>>>>>>> 0d97a989f6 (wxGUI/datacatalog: fix setting output vector/raster format (#1596))
=======
=======
>>>>>>> 8d53b00588 (libpython: Save and load benchmark results (#1711))
<<<<<<< HEAD
>>>>>>> dcc1810d30 (libpython: Save and load benchmark results (#1711))
=======
=======
>>>>>>> 946be2ff7b (wxGUI/datacatalog: fix setting output vector/raster format (#1596))
<<<<<<< HEAD
>>>>>>> 425a31d95b (wxGUI/datacatalog: fix setting output vector/raster format (#1596))
=======
=======
>>>>>>> c21dcd3d37 (libpython: Save and load benchmark results (#1711))
>>>>>>> 1c3c7a612a (libpython: Save and load benchmark results (#1711))
    "As part of Google Summer of Code 2021, we've been working to shorten and simplify the launch of GRASS in Jupyter and imporve the map displays. You can find out more about the project and follow the progress on the [GRASS wiki page](https://trac.osgeo.org/grass/wiki/GSoC/2021/JupyterAndGRASS).\n",
=======
    "As part of Google Summer of Code 2021, we've been working to shorten and simplify the launch of GRASS in Jupyter and imporve the map displays. You can find out more abou the project and follow the progress on the [GRASS wiki page](https://trac.osgeo.org/grass/wiki/GSoC/2021/JupyterAndGRASS).\n",
>>>>>>> 584e61d06d (wxGUI/datacatalog: fix setting output vector/raster format (#1596))
=======
    "As part of Google Summer of Code 2021, we've been working to shorten and simplify the launch of GRASS in Jupyter and imporve the map displays. You can find out more abou the project and follow the progress on the [GRASS wiki page](https://trac.osgeo.org/grass/wiki/GSoC/2021/JupyterAndGRASS).\n",
>>>>>>> 847046a031 (Add session initiations functions for Jupyter Notebooks (#1629))
=======
    "As part of Google Summer of Code 2021, we've been working to shorten and simplify the launch of GRASS in Jupyter and imporve the map displays. You can find out more about the project and follow the progress on the [GRASS wiki page](https://trac.osgeo.org/grass/wiki/GSoC/2021/JupyterAndGRASS).\n",
>>>>>>> da7f79c3f9 (libpython: Save and load benchmark results (#1711))
=======
    "As part of Google Summer of Code 2021, we've been working to shorten and simplify the launch of GRASS in Jupyter and imporve the map displays. You can find out more abou the project and follow the progress on the [GRASS wiki page](https://trac.osgeo.org/grass/wiki/GSoC/2021/JupyterAndGRASS).\n",
>>>>>>> 793ee713c5 (wxGUI/datacatalog: fix setting output vector/raster format (#1596))
=======
    "As part of Google Summer of Code 2021, we've been working to shorten and simplify the launch of GRASS in Jupyter and imporve the map displays. You can find out more about the project and follow the progress on the [GRASS wiki page](https://trac.osgeo.org/grass/wiki/GSoC/2021/JupyterAndGRASS).\n",
>>>>>>> 86e790785c (libpython: Save and load benchmark results (#1711))
=======
    "As part of Google Summer of Code 2021, we've been working to shorten and simplify the launch of GRASS in Jupyter and imporve the map displays. You can find out more abou the project and follow the progress on the [GRASS wiki page](https://trac.osgeo.org/grass/wiki/GSoC/2021/JupyterAndGRASS).\n",
>>>>>>> b8162a916c (wxGUI/datacatalog: fix setting output vector/raster format (#1596))
=======
    "As part of Google Summer of Code 2021, we've been working to shorten and simplify the launch of GRASS in Jupyter and imporve the map displays. You can find out more about the project and follow the progress on the [GRASS wiki page](https://trac.osgeo.org/grass/wiki/GSoC/2021/JupyterAndGRASS).\n",
>>>>>>> 476ef44553 (libpython: Save and load benchmark results (#1711))
=======
    "As part of Google Summer of Code 2021, we've been working to shorten and simplify the launch of GRASS in Jupyter and imporve the map displays. You can find out more abou the project and follow the progress on the [GRASS wiki page](https://trac.osgeo.org/grass/wiki/GSoC/2021/JupyterAndGRASS).\n",
>>>>>>> a05b13298f (wxGUI/datacatalog: fix setting output vector/raster format (#1596))
=======
    "As part of Google Summer of Code 2021, we've been working to shorten and simplify the launch of GRASS in Jupyter and imporve the map displays. You can find out more about the project and follow the progress on the [GRASS wiki page](https://trac.osgeo.org/grass/wiki/GSoC/2021/JupyterAndGRASS).\n",
>>>>>>> f541ee3b09 (libpython: Save and load benchmark results (#1711))
=======
=======
>>>>>>> 56976800a2 (libpython: Save and load benchmark results (#1711))
>>>>>>> 9cac1201a9 (libpython: Save and load benchmark results (#1711))
    "As part of Google Summer of Code 2021, we've been working to shorten and simplify the launch of GRASS in Jupyter and imporve the map displays. You can find out more about the project and follow the progress on the [GRASS wiki page](https://trac.osgeo.org/grass/wiki/GSoC/2021/JupyterAndGRASS).\n",
=======
    "As part of Google Summer of Code 2021, we've been working to shorten and simplify the launch of GRASS in Jupyter and imporve the map displays. You can find out more abou the project and follow the progress on the [GRASS wiki page](https://trac.osgeo.org/grass/wiki/GSoC/2021/JupyterAndGRASS).\n",
>>>>>>> 4625684fca (wxGUI/datacatalog: fix setting output vector/raster format (#1596))
<<<<<<< HEAD
=======
    "As part of Google Summer of Code 2021, we've been working to shorten and simplify the launch of GRASS in Jupyter and imporve the map displays. You can find out more about the project and follow the progress on the [GRASS wiki page](https://trac.osgeo.org/grass/wiki/GSoC/2021/JupyterAndGRASS).\n",
>>>>>>> 923408bf7e (libpython: Save and load benchmark results (#1711))
=======
    "As part of Google Summer of Code 2021, we've been working to shorten and simplify the launch of GRASS in Jupyter and imporve the map displays. You can find out more about the project and follow the progress on the [GRASS wiki page](https://trac.osgeo.org/grass/wiki/GSoC/2021/JupyterAndGRASS).\n",
>>>>>>> osgeo-main
=======
    "As part of Google Summer of Code 2021, we've been working to shorten and simplify the launch of GRASS in Jupyter and imporve the map displays. You can find out more about the project and follow the progress on the [GRASS wiki page](https://trac.osgeo.org/grass/wiki/GSoC/2021/JupyterAndGRASS).\n",
>>>>>>> osgeo-main
=======
    "As part of Google Summer of Code 2021, we've been working to shorten and simplify the launch of GRASS in Jupyter and imporve the map displays. You can find out more abou the project and follow the progress on the [GRASS wiki page](https://trac.osgeo.org/grass/wiki/GSoC/2021/JupyterAndGRASS).\n",
>>>>>>> 40118f6d63 (wxGUI/datacatalog: fix setting output vector/raster format (#1596))
=======
    "As part of Google Summer of Code 2021, we've been working to shorten and simplify the launch of GRASS in Jupyter and imporve the map displays. You can find out more about the project and follow the progress on the [GRASS wiki page](https://trac.osgeo.org/grass/wiki/GSoC/2021/JupyterAndGRASS).\n",
>>>>>>> af1011ff1e (libpython: Save and load benchmark results (#1711))
=======
<<<<<<< HEAD
    "As part of Google Summer of Code 2021, we've been working to shorten and simplify the launch of GRASS in Jupyter and imporve the map displays. You can find out more abou the project and follow the progress on the [GRASS wiki page](https://trac.osgeo.org/grass/wiki/GSoC/2021/JupyterAndGRASS).\n",
>>>>>>> 9e134ec08d (wxGUI/datacatalog: fix setting output vector/raster format (#1596))
=======
    "As part of Google Summer of Code 2021, we've been working to shorten and simplify the launch of GRASS in Jupyter and imporve the map displays. You can find out more about the project and follow the progress on the [GRASS wiki page](https://trac.osgeo.org/grass/wiki/GSoC/2021/JupyterAndGRASS).\n",
>>>>>>> 033a57360f (libpython: Save and load benchmark results (#1711))
=======
    "As part of Google Summer of Code 2021, we've been working to shorten and simplify the launch of GRASS in Jupyter and imporve the map displays. You can find out more about the project and follow the progress on the [GRASS wiki page](https://trac.osgeo.org/grass/wiki/GSoC/2021/JupyterAndGRASS).\n",
>>>>>>> osgeo-main
=======
    "As part of Google Summer of Code 2021, we've been working to shorten and simplify the launch of GRASS in Jupyter and imporve the map displays. You can find out more about the project and follow the progress on the [GRASS wiki page](https://trac.osgeo.org/grass/wiki/GSoC/2021/JupyterAndGRASS).\n",
>>>>>>> osgeo-main
>>>>>>> main
=======
    "As part of Google Summer of Code 2021, we've been working to shorten and simplify the launch of GRASS in Jupyter and imporve the map displays. You can find out more about the project and follow the progress on the [GRASS wiki page](https://trac.osgeo.org/grass/wiki/GSoC/2021/JupyterAndGRASS).\n",
>>>>>>> osgeo-main
=======
    "As part of Google Summer of Code 2021, we've been working to shorten and simplify the launch of GRASS in Jupyter and imporve the map displays. You can find out more about the project and follow the progress on the [GRASS wiki page](https://trac.osgeo.org/grass/wiki/GSoC/2021/JupyterAndGRASS).\n",
>>>>>>> osgeo-main
=======
    "As part of Google Summer of Code 2021, we've been working to shorten and simplify the launch of GRASS in Jupyter and imporve the map displays. You can find out more about the project and follow the progress on the [GRASS wiki page](https://trac.osgeo.org/grass/wiki/GSoC/2021/JupyterAndGRASS).\n",
>>>>>>> osgeo-main
=======
    "As part of Google Summer of Code 2021, we've been working to shorten and simplify the launch of GRASS in Jupyter and imporve the map displays. You can find out more about the project and follow the progress on the [GRASS wiki page](https://trac.osgeo.org/grass/wiki/GSoC/2021/JupyterAndGRASS).\n",
>>>>>>> osgeo-main
=======
    "As part of Google Summer of Code 2021, we've been working to shorten and simplify the launch of GRASS in Jupyter and imporve the map displays. You can find out more about the project and follow the progress on the [GRASS wiki page](https://trac.osgeo.org/grass/wiki/GSoC/2021/JupyterAndGRASS).\n",
>>>>>>> osgeo-main
=======
    "As part of Google Summer of Code 2021, we've been working to shorten and simplify the launch of GRASS in Jupyter and imporve the map displays. You can find out more about the project and follow the progress on the [GRASS wiki page](https://trac.osgeo.org/grass/wiki/GSoC/2021/JupyterAndGRASS).\n",
>>>>>>> osgeo-main
=======
    "As part of Google Summer of Code 2021, we've been working to shorten and simplify the launch of GRASS in Jupyter and imporve the map displays. You can find out more about the project and follow the progress on the [GRASS wiki page](https://trac.osgeo.org/grass/wiki/GSoC/2021/JupyterAndGRASS).\n",
>>>>>>> osgeo-main
=======
    "As part of Google Summer of Code 2021, we've been working to shorten and simplify the launch of GRASS in Jupyter and imporve the map displays. You can find out more about the project and follow the progress on the [GRASS wiki page](https://trac.osgeo.org/grass/wiki/GSoC/2021/JupyterAndGRASS).\n",
>>>>>>> osgeo-main
=======
    "As part of Google Summer of Code 2021, we've been working to shorten and simplify the launch of GRASS in Jupyter and imporve the map displays. You can find out more abou the project and follow the progress on the [GRASS wiki page](https://trac.osgeo.org/grass/wiki/GSoC/2021/JupyterAndGRASS).\n",
>>>>>>> 05e3f88683 (wxGUI/datacatalog: fix setting output vector/raster format (#1596))
=======
    "As part of Google Summer of Code 2021, we've been working to shorten and simplify the launch of GRASS in Jupyter and imporve the map displays. You can find out more about the project and follow the progress on the [GRASS wiki page](https://trac.osgeo.org/grass/wiki/GSoC/2021/JupyterAndGRASS).\n",
>>>>>>> 504a46451c (libpython: Save and load benchmark results (#1711))
=======
    "As part of Google Summer of Code 2021, we've been working to shorten and simplify the launch of GRASS in Jupyter and imporve the map displays. You can find out more about the project and follow the progress on the [GRASS wiki page](https://trac.osgeo.org/grass/wiki/GSoC/2021/JupyterAndGRASS).\n",
>>>>>>> osgeo-main
=======
    "As part of Google Summer of Code 2021, we've been working to shorten and simplify the launch of GRASS in Jupyter and imporve the map displays. You can find out more about the project and follow the progress on the [GRASS wiki page](https://trac.osgeo.org/grass/wiki/GSoC/2021/JupyterAndGRASS).\n",
>>>>>>> osgeo-main
=======
=======
>>>>>>> b53d4aed76 (Add session initiations functions for Jupyter Notebooks (#1629))
=======
>>>>>>> 4e96c0c0e8 (libpython: Save and load benchmark results (#1711))
=======
>>>>>>> a09cd63835 (wxGUI/datacatalog: fix setting output vector/raster format (#1596))
=======
>>>>>>> 1906f4a791 (libpython: Save and load benchmark results (#1711))
=======
>>>>>>> 565c97946b (wxGUI/datacatalog: fix setting output vector/raster format (#1596))
=======
>>>>>>> 345367a7c1 (libpython: Save and load benchmark results (#1711))
=======
>>>>>>> 150ef7b78e (wxGUI/datacatalog: fix setting output vector/raster format (#1596))
=======
>>>>>>> 4b334d121f (libpython: Save and load benchmark results (#1711))
=======
>>>>>>> 6f5fb4923c (wxGUI/datacatalog: fix setting output vector/raster format (#1596))
=======
>>>>>>> f2dfa9a433 (libpython: Save and load benchmark results (#1711))
=======
>>>>>>> 3229dc2622 (wxGUI/datacatalog: fix setting output vector/raster format (#1596))
=======
>>>>>>> de5b9cd94f (libpython: Save and load benchmark results (#1711))
=======
>>>>>>> 9d1090ec82 (wxGUI/datacatalog: fix setting output vector/raster format (#1596))
=======
>>>>>>> fb4ab822d8 (libpython: Save and load benchmark results (#1711))
=======
=======
>>>>>>> c4d1702fe7 (wxGUI/datacatalog: fix setting output vector/raster format (#1596))
>>>>>>> 83a2bf0c85 (wxGUI/datacatalog: fix setting output vector/raster format (#1596))
=======
=======
>>>>>>> 19273bf354 (wxGUI/datacatalog: fix setting output vector/raster format (#1596))
=======
>>>>>>> f8d32d9e3a (libpython: Save and load benchmark results (#1711))
=======
>>>>>>> deaca750c4 (wxGUI/datacatalog: fix setting output vector/raster format (#1596))
=======
>>>>>>> ae5deb8874 (libpython: Save and load benchmark results (#1711))
=======
>>>>>>> 4ea1bcfd13 (wxGUI/datacatalog: fix setting output vector/raster format (#1596))
=======
>>>>>>> f91c52c645 (libpython: Save and load benchmark results (#1711))
=======
>>>>>>> d2b40d15ca (wxGUI/datacatalog: fix setting output vector/raster format (#1596))
=======
>>>>>>> 577d32036e (libpython: Save and load benchmark results (#1711))
=======
>>>>>>> 667b6aa79a (wxGUI/datacatalog: fix setting output vector/raster format (#1596))
=======
>>>>>>> 3627af9569 (libpython: Save and load benchmark results (#1711))
=======
>>>>>>> e4f4950cae (wxGUI/datacatalog: fix setting output vector/raster format (#1596))
=======
>>>>>>> f1ae4cefc3 (libpython: Save and load benchmark results (#1711))
=======
>>>>>>> d3be45bfb5 (wxGUI/datacatalog: fix setting output vector/raster format (#1596))
=======
>>>>>>> bceba4c6e2 (libpython: Save and load benchmark results (#1711))
=======
>>>>>>> 744c99be79 (wxGUI/datacatalog: fix setting output vector/raster format (#1596))
=======
>>>>>>> 2efe487a0f (libpython: Save and load benchmark results (#1711))
=======
>>>>>>> 024f004a0e (wxGUI/datacatalog: fix setting output vector/raster format (#1596))
=======
>>>>>>> 980c935a7d (libpython: Save and load benchmark results (#1711))
=======
>>>>>>> 724bccdb58 (wxGUI/datacatalog: fix setting output vector/raster format (#1596))
=======
>>>>>>> 094016f111 (libpython: Save and load benchmark results (#1711))
=======
>>>>>>> e502e3849e (wxGUI/datacatalog: fix setting output vector/raster format (#1596))
=======
>>>>>>> 97c1ae10bf (libpython: Save and load benchmark results (#1711))
=======
>>>>>>> 1eade8c933 (wxGUI/datacatalog: fix setting output vector/raster format (#1596))
=======
>>>>>>> 9a51bf3124 (libpython: Save and load benchmark results (#1711))
=======
>>>>>>> e2b92fe11f (wxGUI/datacatalog: fix setting output vector/raster format (#1596))
=======
>>>>>>> 4480ca2a94 (libpython: Save and load benchmark results (#1711))
=======
>>>>>>> 073da2916c (wxGUI/datacatalog: fix setting output vector/raster format (#1596))
=======
>>>>>>> 70b350b826 (libpython: Save and load benchmark results (#1711))
=======
>>>>>>> c4d1702fe7 (wxGUI/datacatalog: fix setting output vector/raster format (#1596))
=======
>>>>>>> aa15e7c6e3 (libpython: Save and load benchmark results (#1711))
<<<<<<< HEAD
>>>>>>> d56ffd79c6 (libpython: Save and load benchmark results (#1711))
=======
=======
>>>>>>> 7eeb1e86e5 (wxGUI/datacatalog: fix setting output vector/raster format (#1596))
<<<<<<< HEAD
>>>>>>> 19273bf354 (wxGUI/datacatalog: fix setting output vector/raster format (#1596))
=======
=======
>>>>>>> 8d53b00588 (libpython: Save and load benchmark results (#1711))
<<<<<<< HEAD
>>>>>>> f8d32d9e3a (libpython: Save and load benchmark results (#1711))
=======
=======
>>>>>>> 946be2ff7b (wxGUI/datacatalog: fix setting output vector/raster format (#1596))
<<<<<<< HEAD
>>>>>>> 1eade8c933 (wxGUI/datacatalog: fix setting output vector/raster format (#1596))
=======
=======
>>>>>>> c21dcd3d37 (libpython: Save and load benchmark results (#1711))
>>>>>>> 9a51bf3124 (libpython: Save and load benchmark results (#1711))
=======
>>>>>>> 6ce1bc9e11 (Add session initiations functions for Jupyter Notebooks (#1629))
=======
>>>>>>> fbe1fc358a (libpython: Save and load benchmark results (#1711))
=======
>>>>>>> 836a40382b (wxGUI/datacatalog: fix setting output vector/raster format (#1596))
=======
>>>>>>> 319ab246f0 (libpython: Save and load benchmark results (#1711))
=======
>>>>>>> 75ca885908 (wxGUI/datacatalog: fix setting output vector/raster format (#1596))
=======
>>>>>>> 8a112feb47 (libpython: Save and load benchmark results (#1711))
=======
>>>>>>> 08a756738c (wxGUI/datacatalog: fix setting output vector/raster format (#1596))
=======
>>>>>>> 7439490972 (libpython: Save and load benchmark results (#1711))
=======
>>>>>>> 756f105374 (wxGUI/datacatalog: fix setting output vector/raster format (#1596))
    "As part of Google Summer of Code 2021, we've been working to shorten and simplify the launch of GRASS in Jupyter and imporve the map displays. You can find out more about the project and follow the progress on the [GRASS wiki page](https://trac.osgeo.org/grass/wiki/GSoC/2021/JupyterAndGRASS).\n",
=======
    "As part of Google Summer of Code 2021, we've been working to shorten and simplify the launch of GRASS in Jupyter and imporve the map displays. You can find out more abou the project and follow the progress on the [GRASS wiki page](https://trac.osgeo.org/grass/wiki/GSoC/2021/JupyterAndGRASS).\n",
>>>>>>> 584e61d06d (wxGUI/datacatalog: fix setting output vector/raster format (#1596))
<<<<<<< HEAD
<<<<<<< HEAD
>>>>>>> 1cb35c2fc8 (wxGUI/datacatalog: fix setting output vector/raster format (#1596))
=======
=======
    "As part of Google Summer of Code 2021, we've been working to shorten and simplify the launch of GRASS in Jupyter and imporve the map displays. You can find out more abou the project and follow the progress on the [GRASS wiki page](https://trac.osgeo.org/grass/wiki/GSoC/2021/JupyterAndGRASS).\n",
>>>>>>> 847046a031 (Add session initiations functions for Jupyter Notebooks (#1629))
<<<<<<< HEAD
<<<<<<< HEAD
>>>>>>> b53d4aed76 (Add session initiations functions for Jupyter Notebooks (#1629))
=======
=======
    "As part of Google Summer of Code 2021, we've been working to shorten and simplify the launch of GRASS in Jupyter and imporve the map displays. You can find out more about the project and follow the progress on the [GRASS wiki page](https://trac.osgeo.org/grass/wiki/GSoC/2021/JupyterAndGRASS).\n",
>>>>>>> da7f79c3f9 (libpython: Save and load benchmark results (#1711))
<<<<<<< HEAD
<<<<<<< HEAD
>>>>>>> 4e96c0c0e8 (libpython: Save and load benchmark results (#1711))
=======
=======
    "As part of Google Summer of Code 2021, we've been working to shorten and simplify the launch of GRASS in Jupyter and imporve the map displays. You can find out more abou the project and follow the progress on the [GRASS wiki page](https://trac.osgeo.org/grass/wiki/GSoC/2021/JupyterAndGRASS).\n",
>>>>>>> 793ee713c5 (wxGUI/datacatalog: fix setting output vector/raster format (#1596))
<<<<<<< HEAD
<<<<<<< HEAD
>>>>>>> a09cd63835 (wxGUI/datacatalog: fix setting output vector/raster format (#1596))
=======
=======
    "As part of Google Summer of Code 2021, we've been working to shorten and simplify the launch of GRASS in Jupyter and imporve the map displays. You can find out more about the project and follow the progress on the [GRASS wiki page](https://trac.osgeo.org/grass/wiki/GSoC/2021/JupyterAndGRASS).\n",
>>>>>>> 86e790785c (libpython: Save and load benchmark results (#1711))
<<<<<<< HEAD
<<<<<<< HEAD
>>>>>>> 1906f4a791 (libpython: Save and load benchmark results (#1711))
=======
=======
    "As part of Google Summer of Code 2021, we've been working to shorten and simplify the launch of GRASS in Jupyter and imporve the map displays. You can find out more abou the project and follow the progress on the [GRASS wiki page](https://trac.osgeo.org/grass/wiki/GSoC/2021/JupyterAndGRASS).\n",
>>>>>>> b8162a916c (wxGUI/datacatalog: fix setting output vector/raster format (#1596))
<<<<<<< HEAD
<<<<<<< HEAD
>>>>>>> 565c97946b (wxGUI/datacatalog: fix setting output vector/raster format (#1596))
=======
=======
    "As part of Google Summer of Code 2021, we've been working to shorten and simplify the launch of GRASS in Jupyter and imporve the map displays. You can find out more about the project and follow the progress on the [GRASS wiki page](https://trac.osgeo.org/grass/wiki/GSoC/2021/JupyterAndGRASS).\n",
>>>>>>> 476ef44553 (libpython: Save and load benchmark results (#1711))
<<<<<<< HEAD
<<<<<<< HEAD
>>>>>>> 345367a7c1 (libpython: Save and load benchmark results (#1711))
=======
=======
    "As part of Google Summer of Code 2021, we've been working to shorten and simplify the launch of GRASS in Jupyter and imporve the map displays. You can find out more abou the project and follow the progress on the [GRASS wiki page](https://trac.osgeo.org/grass/wiki/GSoC/2021/JupyterAndGRASS).\n",
>>>>>>> a05b13298f (wxGUI/datacatalog: fix setting output vector/raster format (#1596))
<<<<<<< HEAD
<<<<<<< HEAD
>>>>>>> 150ef7b78e (wxGUI/datacatalog: fix setting output vector/raster format (#1596))
=======
=======
    "As part of Google Summer of Code 2021, we've been working to shorten and simplify the launch of GRASS in Jupyter and imporve the map displays. You can find out more about the project and follow the progress on the [GRASS wiki page](https://trac.osgeo.org/grass/wiki/GSoC/2021/JupyterAndGRASS).\n",
>>>>>>> f541ee3b09 (libpython: Save and load benchmark results (#1711))
<<<<<<< HEAD
<<<<<<< HEAD
>>>>>>> 4b334d121f (libpython: Save and load benchmark results (#1711))
=======
=======
=======
>>>>>>> 56976800a2 (libpython: Save and load benchmark results (#1711))
=======
=======
>>>>>>> 756f105374 (wxGUI/datacatalog: fix setting output vector/raster format (#1596))
    "As part of Google Summer of Code 2021, we've been working to shorten and simplify the launch of GRASS in Jupyter and imporve the map displays. You can find out more about the project and follow the progress on the [GRASS wiki page](https://trac.osgeo.org/grass/wiki/GSoC/2021/JupyterAndGRASS).\n",
=======
    "As part of Google Summer of Code 2021, we've been working to shorten and simplify the launch of GRASS in Jupyter and imporve the map displays. You can find out more abou the project and follow the progress on the [GRASS wiki page](https://trac.osgeo.org/grass/wiki/GSoC/2021/JupyterAndGRASS).\n",
>>>>>>> 4625684fca (wxGUI/datacatalog: fix setting output vector/raster format (#1596))
<<<<<<< HEAD
<<<<<<< HEAD
>>>>>>> 6433ad1296 (wxGUI/datacatalog: fix setting output vector/raster format (#1596))
<<<<<<< HEAD
>>>>>>> 6f5fb4923c (wxGUI/datacatalog: fix setting output vector/raster format (#1596))
=======
=======
<<<<<<< HEAD
>>>>>>> 6433ad1296 (wxGUI/datacatalog: fix setting output vector/raster format (#1596))
>>>>>>> 9cac1201a9 (libpython: Save and load benchmark results (#1711))
=======
=======
    "As part of Google Summer of Code 2021, we've been working to shorten and simplify the launch of GRASS in Jupyter and imporve the map displays. You can find out more about the project and follow the progress on the [GRASS wiki page](https://trac.osgeo.org/grass/wiki/GSoC/2021/JupyterAndGRASS).\n",
>>>>>>> 923408bf7e (libpython: Save and load benchmark results (#1711))
>>>>>>> 56976800a2 (libpython: Save and load benchmark results (#1711))
<<<<<<< HEAD
<<<<<<< HEAD
<<<<<<< HEAD
>>>>>>> f2dfa9a433 (libpython: Save and load benchmark results (#1711))
=======
=======
    "As part of Google Summer of Code 2021, we've been working to shorten and simplify the launch of GRASS in Jupyter and imporve the map displays. You can find out more abou the project and follow the progress on the [GRASS wiki page](https://trac.osgeo.org/grass/wiki/GSoC/2021/JupyterAndGRASS).\n",
>>>>>>> 4625684fca (wxGUI/datacatalog: fix setting output vector/raster format (#1596))
<<<<<<< HEAD
<<<<<<< HEAD
>>>>>>> 3229dc2622 (wxGUI/datacatalog: fix setting output vector/raster format (#1596))
=======
=======
    "As part of Google Summer of Code 2021, we've been working to shorten and simplify the launch of GRASS in Jupyter and imporve the map displays. You can find out more about the project and follow the progress on the [GRASS wiki page](https://trac.osgeo.org/grass/wiki/GSoC/2021/JupyterAndGRASS).\n",
>>>>>>> 923408bf7e (libpython: Save and load benchmark results (#1711))
<<<<<<< HEAD
<<<<<<< HEAD
>>>>>>> de5b9cd94f (libpython: Save and load benchmark results (#1711))
=======
=======
    "As part of Google Summer of Code 2021, we've been working to shorten and simplify the launch of GRASS in Jupyter and imporve the map displays. You can find out more abou the project and follow the progress on the [GRASS wiki page](https://trac.osgeo.org/grass/wiki/GSoC/2021/JupyterAndGRASS).\n",
>>>>>>> 02f32ae2d4 (wxGUI/datacatalog: fix setting output vector/raster format (#1596))
<<<<<<< HEAD
<<<<<<< HEAD
>>>>>>> 9d1090ec82 (wxGUI/datacatalog: fix setting output vector/raster format (#1596))
=======
=======
    "As part of Google Summer of Code 2021, we've been working to shorten and simplify the launch of GRASS in Jupyter and imporve the map displays. You can find out more about the project and follow the progress on the [GRASS wiki page](https://trac.osgeo.org/grass/wiki/GSoC/2021/JupyterAndGRASS).\n",
<<<<<<< HEAD
>>>>>>> 2bf163e4b3 (libpython: Save and load benchmark results (#1711))
<<<<<<< HEAD
>>>>>>> fb4ab822d8 (libpython: Save and load benchmark results (#1711))
=======
=======
>>>>>>> osgeo-main
=======
    "As part of Google Summer of Code 2021, we've been working to shorten and simplify the launch of GRASS in Jupyter and imporve the map displays. You can find out more abou the project and follow the progress on the [GRASS wiki page](https://trac.osgeo.org/grass/wiki/GSoC/2021/JupyterAndGRASS).\n",
>>>>>>> 40118f6d63 (wxGUI/datacatalog: fix setting output vector/raster format (#1596))
<<<<<<< HEAD
>>>>>>> c4d1702fe7 (wxGUI/datacatalog: fix setting output vector/raster format (#1596))
<<<<<<< HEAD
>>>>>>> 83a2bf0c85 (wxGUI/datacatalog: fix setting output vector/raster format (#1596))
=======
=======
=======
    "As part of Google Summer of Code 2021, we've been working to shorten and simplify the launch of GRASS in Jupyter and imporve the map displays. You can find out more about the project and follow the progress on the [GRASS wiki page](https://trac.osgeo.org/grass/wiki/GSoC/2021/JupyterAndGRASS).\n",
>>>>>>> af1011ff1e (libpython: Save and load benchmark results (#1711))
<<<<<<< HEAD
>>>>>>> aa15e7c6e3 (libpython: Save and load benchmark results (#1711))
<<<<<<< HEAD
>>>>>>> d56ffd79c6 (libpython: Save and load benchmark results (#1711))
=======
=======
=======
    "As part of Google Summer of Code 2021, we've been working to shorten and simplify the launch of GRASS in Jupyter and imporve the map displays. You can find out more abou the project and follow the progress on the [GRASS wiki page](https://trac.osgeo.org/grass/wiki/GSoC/2021/JupyterAndGRASS).\n",
>>>>>>> 9e134ec08d (wxGUI/datacatalog: fix setting output vector/raster format (#1596))
<<<<<<< HEAD
>>>>>>> 7eeb1e86e5 (wxGUI/datacatalog: fix setting output vector/raster format (#1596))
<<<<<<< HEAD
>>>>>>> 19273bf354 (wxGUI/datacatalog: fix setting output vector/raster format (#1596))
=======
=======
=======
    "As part of Google Summer of Code 2021, we've been working to shorten and simplify the launch of GRASS in Jupyter and imporve the map displays. You can find out more about the project and follow the progress on the [GRASS wiki page](https://trac.osgeo.org/grass/wiki/GSoC/2021/JupyterAndGRASS).\n",
>>>>>>> 033a57360f (libpython: Save and load benchmark results (#1711))
>>>>>>> 8d53b00588 (libpython: Save and load benchmark results (#1711))
<<<<<<< HEAD
<<<<<<< HEAD
>>>>>>> f8d32d9e3a (libpython: Save and load benchmark results (#1711))
=======
=======
    "As part of Google Summer of Code 2021, we've been working to shorten and simplify the launch of GRASS in Jupyter and imporve the map displays. You can find out more abou the project and follow the progress on the [GRASS wiki page](https://trac.osgeo.org/grass/wiki/GSoC/2021/JupyterAndGRASS).\n",
>>>>>>> 9e134ec08d (wxGUI/datacatalog: fix setting output vector/raster format (#1596))
<<<<<<< HEAD
<<<<<<< HEAD
>>>>>>> deaca750c4 (wxGUI/datacatalog: fix setting output vector/raster format (#1596))
=======
=======
    "As part of Google Summer of Code 2021, we've been working to shorten and simplify the launch of GRASS in Jupyter and imporve the map displays. You can find out more about the project and follow the progress on the [GRASS wiki page](https://trac.osgeo.org/grass/wiki/GSoC/2021/JupyterAndGRASS).\n",
>>>>>>> 033a57360f (libpython: Save and load benchmark results (#1711))
<<<<<<< HEAD
<<<<<<< HEAD
>>>>>>> ae5deb8874 (libpython: Save and load benchmark results (#1711))
=======
=======
    "As part of Google Summer of Code 2021, we've been working to shorten and simplify the launch of GRASS in Jupyter and imporve the map displays. You can find out more abou the project and follow the progress on the [GRASS wiki page](https://trac.osgeo.org/grass/wiki/GSoC/2021/JupyterAndGRASS).\n",
>>>>>>> 75f1063afc (wxGUI/datacatalog: fix setting output vector/raster format (#1596))
<<<<<<< HEAD
<<<<<<< HEAD
>>>>>>> 4ea1bcfd13 (wxGUI/datacatalog: fix setting output vector/raster format (#1596))
=======
=======
    "As part of Google Summer of Code 2021, we've been working to shorten and simplify the launch of GRASS in Jupyter and imporve the map displays. You can find out more about the project and follow the progress on the [GRASS wiki page](https://trac.osgeo.org/grass/wiki/GSoC/2021/JupyterAndGRASS).\n",
>>>>>>> 8984405ebb (libpython: Save and load benchmark results (#1711))
<<<<<<< HEAD
<<<<<<< HEAD
>>>>>>> f91c52c645 (libpython: Save and load benchmark results (#1711))
=======
=======
    "As part of Google Summer of Code 2021, we've been working to shorten and simplify the launch of GRASS in Jupyter and imporve the map displays. You can find out more abou the project and follow the progress on the [GRASS wiki page](https://trac.osgeo.org/grass/wiki/GSoC/2021/JupyterAndGRASS).\n",
>>>>>>> b479d694c0 (wxGUI/datacatalog: fix setting output vector/raster format (#1596))
<<<<<<< HEAD
<<<<<<< HEAD
>>>>>>> d2b40d15ca (wxGUI/datacatalog: fix setting output vector/raster format (#1596))
=======
=======
    "As part of Google Summer of Code 2021, we've been working to shorten and simplify the launch of GRASS in Jupyter and imporve the map displays. You can find out more about the project and follow the progress on the [GRASS wiki page](https://trac.osgeo.org/grass/wiki/GSoC/2021/JupyterAndGRASS).\n",
>>>>>>> 6abb78d81f (libpython: Save and load benchmark results (#1711))
<<<<<<< HEAD
<<<<<<< HEAD
>>>>>>> 577d32036e (libpython: Save and load benchmark results (#1711))
=======
=======
    "As part of Google Summer of Code 2021, we've been working to shorten and simplify the launch of GRASS in Jupyter and imporve the map displays. You can find out more abou the project and follow the progress on the [GRASS wiki page](https://trac.osgeo.org/grass/wiki/GSoC/2021/JupyterAndGRASS).\n",
>>>>>>> 8b762d062b (wxGUI/datacatalog: fix setting output vector/raster format (#1596))
<<<<<<< HEAD
<<<<<<< HEAD
>>>>>>> 667b6aa79a (wxGUI/datacatalog: fix setting output vector/raster format (#1596))
=======
=======
    "As part of Google Summer of Code 2021, we've been working to shorten and simplify the launch of GRASS in Jupyter and imporve the map displays. You can find out more about the project and follow the progress on the [GRASS wiki page](https://trac.osgeo.org/grass/wiki/GSoC/2021/JupyterAndGRASS).\n",
>>>>>>> 4f7b5aea0b (libpython: Save and load benchmark results (#1711))
<<<<<<< HEAD
<<<<<<< HEAD
>>>>>>> 3627af9569 (libpython: Save and load benchmark results (#1711))
=======
=======
    "As part of Google Summer of Code 2021, we've been working to shorten and simplify the launch of GRASS in Jupyter and imporve the map displays. You can find out more abou the project and follow the progress on the [GRASS wiki page](https://trac.osgeo.org/grass/wiki/GSoC/2021/JupyterAndGRASS).\n",
>>>>>>> b621c8b780 (wxGUI/datacatalog: fix setting output vector/raster format (#1596))
<<<<<<< HEAD
<<<<<<< HEAD
>>>>>>> e4f4950cae (wxGUI/datacatalog: fix setting output vector/raster format (#1596))
=======
=======
    "As part of Google Summer of Code 2021, we've been working to shorten and simplify the launch of GRASS in Jupyter and imporve the map displays. You can find out more about the project and follow the progress on the [GRASS wiki page](https://trac.osgeo.org/grass/wiki/GSoC/2021/JupyterAndGRASS).\n",
>>>>>>> 6d0d0f1535 (libpython: Save and load benchmark results (#1711))
<<<<<<< HEAD
<<<<<<< HEAD
>>>>>>> f1ae4cefc3 (libpython: Save and load benchmark results (#1711))
=======
=======
    "As part of Google Summer of Code 2021, we've been working to shorten and simplify the launch of GRASS in Jupyter and imporve the map displays. You can find out more abou the project and follow the progress on the [GRASS wiki page](https://trac.osgeo.org/grass/wiki/GSoC/2021/JupyterAndGRASS).\n",
>>>>>>> 2942a2fdfb (wxGUI/datacatalog: fix setting output vector/raster format (#1596))
<<<<<<< HEAD
<<<<<<< HEAD
>>>>>>> d3be45bfb5 (wxGUI/datacatalog: fix setting output vector/raster format (#1596))
=======
=======
    "As part of Google Summer of Code 2021, we've been working to shorten and simplify the launch of GRASS in Jupyter and imporve the map displays. You can find out more about the project and follow the progress on the [GRASS wiki page](https://trac.osgeo.org/grass/wiki/GSoC/2021/JupyterAndGRASS).\n",
>>>>>>> f4219c860c (libpython: Save and load benchmark results (#1711))
<<<<<<< HEAD
<<<<<<< HEAD
>>>>>>> bceba4c6e2 (libpython: Save and load benchmark results (#1711))
=======
=======
    "As part of Google Summer of Code 2021, we've been working to shorten and simplify the launch of GRASS in Jupyter and imporve the map displays. You can find out more abou the project and follow the progress on the [GRASS wiki page](https://trac.osgeo.org/grass/wiki/GSoC/2021/JupyterAndGRASS).\n",
>>>>>>> 9051310ffd (wxGUI/datacatalog: fix setting output vector/raster format (#1596))
<<<<<<< HEAD
<<<<<<< HEAD
>>>>>>> 744c99be79 (wxGUI/datacatalog: fix setting output vector/raster format (#1596))
=======
=======
    "As part of Google Summer of Code 2021, we've been working to shorten and simplify the launch of GRASS in Jupyter and imporve the map displays. You can find out more about the project and follow the progress on the [GRASS wiki page](https://trac.osgeo.org/grass/wiki/GSoC/2021/JupyterAndGRASS).\n",
>>>>>>> ab99037454 (libpython: Save and load benchmark results (#1711))
<<<<<<< HEAD
<<<<<<< HEAD
>>>>>>> 2efe487a0f (libpython: Save and load benchmark results (#1711))
=======
=======
    "As part of Google Summer of Code 2021, we've been working to shorten and simplify the launch of GRASS in Jupyter and imporve the map displays. You can find out more abou the project and follow the progress on the [GRASS wiki page](https://trac.osgeo.org/grass/wiki/GSoC/2021/JupyterAndGRASS).\n",
>>>>>>> 510052984c (wxGUI/datacatalog: fix setting output vector/raster format (#1596))
<<<<<<< HEAD
<<<<<<< HEAD
>>>>>>> 024f004a0e (wxGUI/datacatalog: fix setting output vector/raster format (#1596))
=======
=======
    "As part of Google Summer of Code 2021, we've been working to shorten and simplify the launch of GRASS in Jupyter and imporve the map displays. You can find out more about the project and follow the progress on the [GRASS wiki page](https://trac.osgeo.org/grass/wiki/GSoC/2021/JupyterAndGRASS).\n",
>>>>>>> eb42b06b22 (libpython: Save and load benchmark results (#1711))
<<<<<<< HEAD
<<<<<<< HEAD
>>>>>>> 980c935a7d (libpython: Save and load benchmark results (#1711))
=======
=======
    "As part of Google Summer of Code 2021, we've been working to shorten and simplify the launch of GRASS in Jupyter and imporve the map displays. You can find out more abou the project and follow the progress on the [GRASS wiki page](https://trac.osgeo.org/grass/wiki/GSoC/2021/JupyterAndGRASS).\n",
>>>>>>> 095dc4def6 (wxGUI/datacatalog: fix setting output vector/raster format (#1596))
<<<<<<< HEAD
<<<<<<< HEAD
>>>>>>> 724bccdb58 (wxGUI/datacatalog: fix setting output vector/raster format (#1596))
=======
=======
    "As part of Google Summer of Code 2021, we've been working to shorten and simplify the launch of GRASS in Jupyter and imporve the map displays. You can find out more about the project and follow the progress on the [GRASS wiki page](https://trac.osgeo.org/grass/wiki/GSoC/2021/JupyterAndGRASS).\n",
>>>>>>> f0a06841f5 (libpython: Save and load benchmark results (#1711))
<<<<<<< HEAD
<<<<<<< HEAD
>>>>>>> 094016f111 (libpython: Save and load benchmark results (#1711))
=======
=======
    "As part of Google Summer of Code 2021, we've been working to shorten and simplify the launch of GRASS in Jupyter and imporve the map displays. You can find out more abou the project and follow the progress on the [GRASS wiki page](https://trac.osgeo.org/grass/wiki/GSoC/2021/JupyterAndGRASS).\n",
>>>>>>> 45a066d418 (wxGUI/datacatalog: fix setting output vector/raster format (#1596))
<<<<<<< HEAD
<<<<<<< HEAD
>>>>>>> e502e3849e (wxGUI/datacatalog: fix setting output vector/raster format (#1596))
=======
=======
    "As part of Google Summer of Code 2021, we've been working to shorten and simplify the launch of GRASS in Jupyter and imporve the map displays. You can find out more about the project and follow the progress on the [GRASS wiki page](https://trac.osgeo.org/grass/wiki/GSoC/2021/JupyterAndGRASS).\n",
<<<<<<< HEAD
>>>>>>> 13ad0bbd2d (libpython: Save and load benchmark results (#1711))
<<<<<<< HEAD
>>>>>>> 97c1ae10bf (libpython: Save and load benchmark results (#1711))
=======
=======
>>>>>>> osgeo-main
=======
    "As part of Google Summer of Code 2021, we've been working to shorten and simplify the launch of GRASS in Jupyter and imporve the map displays. You can find out more abou the project and follow the progress on the [GRASS wiki page](https://trac.osgeo.org/grass/wiki/GSoC/2021/JupyterAndGRASS).\n",
>>>>>>> 05e3f88683 (wxGUI/datacatalog: fix setting output vector/raster format (#1596))
<<<<<<< HEAD
>>>>>>> 946be2ff7b (wxGUI/datacatalog: fix setting output vector/raster format (#1596))
<<<<<<< HEAD
>>>>>>> 1eade8c933 (wxGUI/datacatalog: fix setting output vector/raster format (#1596))
=======
=======
=======
    "As part of Google Summer of Code 2021, we've been working to shorten and simplify the launch of GRASS in Jupyter and imporve the map displays. You can find out more about the project and follow the progress on the [GRASS wiki page](https://trac.osgeo.org/grass/wiki/GSoC/2021/JupyterAndGRASS).\n",
>>>>>>> 504a46451c (libpython: Save and load benchmark results (#1711))
>>>>>>> c21dcd3d37 (libpython: Save and load benchmark results (#1711))
<<<<<<< HEAD
<<<<<<< HEAD
>>>>>>> 9a51bf3124 (libpython: Save and load benchmark results (#1711))
=======
=======
    "As part of Google Summer of Code 2021, we've been working to shorten and simplify the launch of GRASS in Jupyter and imporve the map displays. You can find out more abou the project and follow the progress on the [GRASS wiki page](https://trac.osgeo.org/grass/wiki/GSoC/2021/JupyterAndGRASS).\n",
>>>>>>> fa3a181fb0 (wxGUI/datacatalog: fix setting output vector/raster format (#1596))
<<<<<<< HEAD
<<<<<<< HEAD
>>>>>>> e2b92fe11f (wxGUI/datacatalog: fix setting output vector/raster format (#1596))
=======
=======
    "As part of Google Summer of Code 2021, we've been working to shorten and simplify the launch of GRASS in Jupyter and imporve the map displays. You can find out more about the project and follow the progress on the [GRASS wiki page](https://trac.osgeo.org/grass/wiki/GSoC/2021/JupyterAndGRASS).\n",
>>>>>>> 742603b912 (libpython: Save and load benchmark results (#1711))
<<<<<<< HEAD
>>>>>>> 4480ca2a94 (libpython: Save and load benchmark results (#1711))
=======
=======
    "As part of Google Summer of Code 2021, we've been working to shorten and simplify the launch of GRASS in Jupyter and imporve the map displays. You can find out more abou the project and follow the progress on the [GRASS wiki page](https://trac.osgeo.org/grass/wiki/GSoC/2021/JupyterAndGRASS).\n",
>>>>>>> bd71b111b3 (wxGUI/datacatalog: fix setting output vector/raster format (#1596))
<<<<<<< HEAD
>>>>>>> 073da2916c (wxGUI/datacatalog: fix setting output vector/raster format (#1596))
=======
=======
    "As part of Google Summer of Code 2021, we've been working to shorten and simplify the launch of GRASS in Jupyter and imporve the map displays. You can find out more about the project and follow the progress on the [GRASS wiki page](https://trac.osgeo.org/grass/wiki/GSoC/2021/JupyterAndGRASS).\n",
>>>>>>> 4e0c4a2cca (libpython: Save and load benchmark results (#1711))
>>>>>>> 70b350b826 (libpython: Save and load benchmark results (#1711))
=======
    "As part of Google Summer of Code 2021, we've been working to shorten and simplify the launch of GRASS in Jupyter and imporve the map displays. You can find out more about the project and follow the progress on the [GRASS wiki page](https://trac.osgeo.org/grass/wiki/GSoC/2021/JupyterAndGRASS).\n",
>>>>>>> 173e44f2dc (libpython: Save and load benchmark results (#1711))
=======
    "As part of Google Summer of Code 2021, we've been working to shorten and simplify the launch of GRASS in Jupyter and imporve the map displays. You can find out more about the project and follow the progress on the [GRASS wiki page](https://trac.osgeo.org/grass/wiki/GSoC/2021/JupyterAndGRASS).\n",
=======
    "As part of Google Summer of Code 2021, we've been working to shorten and simplify the launch of GRASS in Jupyter and imporve the map displays. You can find out more abou the project and follow the progress on the [GRASS wiki page](https://trac.osgeo.org/grass/wiki/GSoC/2021/JupyterAndGRASS).\n",
>>>>>>> 584e61d06d (wxGUI/datacatalog: fix setting output vector/raster format (#1596))
>>>>>>> 07fcd460d0 (wxGUI/datacatalog: fix setting output vector/raster format (#1596))
=======
=======
    "As part of Google Summer of Code 2021, we've been working to shorten and simplify the launch of GRASS in Jupyter and imporve the map displays. You can find out more abou the project and follow the progress on the [GRASS wiki page](https://trac.osgeo.org/grass/wiki/GSoC/2021/JupyterAndGRASS).\n",
>>>>>>> 847046a031 (Add session initiations functions for Jupyter Notebooks (#1629))
>>>>>>> 6ce1bc9e11 (Add session initiations functions for Jupyter Notebooks (#1629))
=======
=======
    "As part of Google Summer of Code 2021, we've been working to shorten and simplify the launch of GRASS in Jupyter and imporve the map displays. You can find out more about the project and follow the progress on the [GRASS wiki page](https://trac.osgeo.org/grass/wiki/GSoC/2021/JupyterAndGRASS).\n",
>>>>>>> da7f79c3f9 (libpython: Save and load benchmark results (#1711))
>>>>>>> fbe1fc358a (libpython: Save and load benchmark results (#1711))
=======
=======
    "As part of Google Summer of Code 2021, we've been working to shorten and simplify the launch of GRASS in Jupyter and imporve the map displays. You can find out more abou the project and follow the progress on the [GRASS wiki page](https://trac.osgeo.org/grass/wiki/GSoC/2021/JupyterAndGRASS).\n",
>>>>>>> 793ee713c5 (wxGUI/datacatalog: fix setting output vector/raster format (#1596))
>>>>>>> 836a40382b (wxGUI/datacatalog: fix setting output vector/raster format (#1596))
=======
=======
    "As part of Google Summer of Code 2021, we've been working to shorten and simplify the launch of GRASS in Jupyter and imporve the map displays. You can find out more about the project and follow the progress on the [GRASS wiki page](https://trac.osgeo.org/grass/wiki/GSoC/2021/JupyterAndGRASS).\n",
>>>>>>> 86e790785c (libpython: Save and load benchmark results (#1711))
>>>>>>> 319ab246f0 (libpython: Save and load benchmark results (#1711))
=======
=======
    "As part of Google Summer of Code 2021, we've been working to shorten and simplify the launch of GRASS in Jupyter and imporve the map displays. You can find out more abou the project and follow the progress on the [GRASS wiki page](https://trac.osgeo.org/grass/wiki/GSoC/2021/JupyterAndGRASS).\n",
>>>>>>> b8162a916c (wxGUI/datacatalog: fix setting output vector/raster format (#1596))
>>>>>>> 75ca885908 (wxGUI/datacatalog: fix setting output vector/raster format (#1596))
=======
=======
    "As part of Google Summer of Code 2021, we've been working to shorten and simplify the launch of GRASS in Jupyter and imporve the map displays. You can find out more about the project and follow the progress on the [GRASS wiki page](https://trac.osgeo.org/grass/wiki/GSoC/2021/JupyterAndGRASS).\n",
>>>>>>> 476ef44553 (libpython: Save and load benchmark results (#1711))
>>>>>>> 8a112feb47 (libpython: Save and load benchmark results (#1711))
=======
=======
    "As part of Google Summer of Code 2021, we've been working to shorten and simplify the launch of GRASS in Jupyter and imporve the map displays. You can find out more abou the project and follow the progress on the [GRASS wiki page](https://trac.osgeo.org/grass/wiki/GSoC/2021/JupyterAndGRASS).\n",
>>>>>>> a05b13298f (wxGUI/datacatalog: fix setting output vector/raster format (#1596))
>>>>>>> 08a756738c (wxGUI/datacatalog: fix setting output vector/raster format (#1596))
=======
=======
    "As part of Google Summer of Code 2021, we've been working to shorten and simplify the launch of GRASS in Jupyter and imporve the map displays. You can find out more about the project and follow the progress on the [GRASS wiki page](https://trac.osgeo.org/grass/wiki/GSoC/2021/JupyterAndGRASS).\n",
>>>>>>> f541ee3b09 (libpython: Save and load benchmark results (#1711))
>>>>>>> 7439490972 (libpython: Save and load benchmark results (#1711))
=======
>>>>>>> 6433ad1296 (wxGUI/datacatalog: fix setting output vector/raster format (#1596))
>>>>>>> 756f105374 (wxGUI/datacatalog: fix setting output vector/raster format (#1596))
=======
>>>>>>> 9cac1201a9 (libpython: Save and load benchmark results (#1711))
=======
=======
    "As part of Google Summer of Code 2021, we've been working to shorten and simplify the launch of GRASS in Jupyter and imporve the map displays. You can find out more abou the project and follow the progress on the [GRASS wiki page](https://trac.osgeo.org/grass/wiki/GSoC/2021/JupyterAndGRASS).\n",
>>>>>>> 4625684fca (wxGUI/datacatalog: fix setting output vector/raster format (#1596))
>>>>>>> 855503a984 (wxGUI/datacatalog: fix setting output vector/raster format (#1596))
=======
=======
    "As part of Google Summer of Code 2021, we've been working to shorten and simplify the launch of GRASS in Jupyter and imporve the map displays. You can find out more about the project and follow the progress on the [GRASS wiki page](https://trac.osgeo.org/grass/wiki/GSoC/2021/JupyterAndGRASS).\n",
>>>>>>> 923408bf7e (libpython: Save and load benchmark results (#1711))
>>>>>>> 6dbb418f88 (libpython: Save and load benchmark results (#1711))
=======
=======
    "As part of Google Summer of Code 2021, we've been working to shorten and simplify the launch of GRASS in Jupyter and imporve the map displays. You can find out more abou the project and follow the progress on the [GRASS wiki page](https://trac.osgeo.org/grass/wiki/GSoC/2021/JupyterAndGRASS).\n",
>>>>>>> 02f32ae2d4 (wxGUI/datacatalog: fix setting output vector/raster format (#1596))
>>>>>>> b4f1490ce2 (wxGUI/datacatalog: fix setting output vector/raster format (#1596))
=======
=======
    "As part of Google Summer of Code 2021, we've been working to shorten and simplify the launch of GRASS in Jupyter and imporve the map displays. You can find out more about the project and follow the progress on the [GRASS wiki page](https://trac.osgeo.org/grass/wiki/GSoC/2021/JupyterAndGRASS).\n",
<<<<<<< HEAD
>>>>>>> 2bf163e4b3 (libpython: Save and load benchmark results (#1711))
<<<<<<< HEAD
>>>>>>> 0d0bc8bfd9 (libpython: Save and load benchmark results (#1711))
=======
=======
>>>>>>> osgeo-main
=======
    "As part of Google Summer of Code 2021, we've been working to shorten and simplify the launch of GRASS in Jupyter and imporve the map displays. You can find out more abou the project and follow the progress on the [GRASS wiki page](https://trac.osgeo.org/grass/wiki/GSoC/2021/JupyterAndGRASS).\n",
>>>>>>> 40118f6d63 (wxGUI/datacatalog: fix setting output vector/raster format (#1596))
<<<<<<< HEAD
>>>>>>> c4d1702fe7 (wxGUI/datacatalog: fix setting output vector/raster format (#1596))
<<<<<<< HEAD
>>>>>>> 4566710e5b (wxGUI/datacatalog: fix setting output vector/raster format (#1596))
=======
=======
=======
    "As part of Google Summer of Code 2021, we've been working to shorten and simplify the launch of GRASS in Jupyter and imporve the map displays. You can find out more about the project and follow the progress on the [GRASS wiki page](https://trac.osgeo.org/grass/wiki/GSoC/2021/JupyterAndGRASS).\n",
>>>>>>> af1011ff1e (libpython: Save and load benchmark results (#1711))
<<<<<<< HEAD
>>>>>>> aa15e7c6e3 (libpython: Save and load benchmark results (#1711))
<<<<<<< HEAD
>>>>>>> 8a286c75d5 (libpython: Save and load benchmark results (#1711))
=======
=======
=======
    "As part of Google Summer of Code 2021, we've been working to shorten and simplify the launch of GRASS in Jupyter and imporve the map displays. You can find out more abou the project and follow the progress on the [GRASS wiki page](https://trac.osgeo.org/grass/wiki/GSoC/2021/JupyterAndGRASS).\n",
>>>>>>> 9e134ec08d (wxGUI/datacatalog: fix setting output vector/raster format (#1596))
<<<<<<< HEAD
>>>>>>> 7eeb1e86e5 (wxGUI/datacatalog: fix setting output vector/raster format (#1596))
<<<<<<< HEAD
>>>>>>> 0d97a989f6 (wxGUI/datacatalog: fix setting output vector/raster format (#1596))
=======
=======
=======
    "As part of Google Summer of Code 2021, we've been working to shorten and simplify the launch of GRASS in Jupyter and imporve the map displays. You can find out more about the project and follow the progress on the [GRASS wiki page](https://trac.osgeo.org/grass/wiki/GSoC/2021/JupyterAndGRASS).\n",
>>>>>>> 033a57360f (libpython: Save and load benchmark results (#1711))
>>>>>>> 8d53b00588 (libpython: Save and load benchmark results (#1711))
>>>>>>> dcc1810d30 (libpython: Save and load benchmark results (#1711))
=======
=======
    "As part of Google Summer of Code 2021, we've been working to shorten and simplify the launch of GRASS in Jupyter and imporve the map displays. You can find out more abou the project and follow the progress on the [GRASS wiki page](https://trac.osgeo.org/grass/wiki/GSoC/2021/JupyterAndGRASS).\n",
>>>>>>> 9e134ec08d (wxGUI/datacatalog: fix setting output vector/raster format (#1596))
>>>>>>> fa7df22047 (wxGUI/datacatalog: fix setting output vector/raster format (#1596))
=======
=======
    "As part of Google Summer of Code 2021, we've been working to shorten and simplify the launch of GRASS in Jupyter and imporve the map displays. You can find out more about the project and follow the progress on the [GRASS wiki page](https://trac.osgeo.org/grass/wiki/GSoC/2021/JupyterAndGRASS).\n",
>>>>>>> 033a57360f (libpython: Save and load benchmark results (#1711))
>>>>>>> a29c4a1571 (libpython: Save and load benchmark results (#1711))
=======
=======
    "As part of Google Summer of Code 2021, we've been working to shorten and simplify the launch of GRASS in Jupyter and imporve the map displays. You can find out more abou the project and follow the progress on the [GRASS wiki page](https://trac.osgeo.org/grass/wiki/GSoC/2021/JupyterAndGRASS).\n",
>>>>>>> 75f1063afc (wxGUI/datacatalog: fix setting output vector/raster format (#1596))
>>>>>>> 73c280b8c6 (wxGUI/datacatalog: fix setting output vector/raster format (#1596))
=======
=======
    "As part of Google Summer of Code 2021, we've been working to shorten and simplify the launch of GRASS in Jupyter and imporve the map displays. You can find out more about the project and follow the progress on the [GRASS wiki page](https://trac.osgeo.org/grass/wiki/GSoC/2021/JupyterAndGRASS).\n",
>>>>>>> 8984405ebb (libpython: Save and load benchmark results (#1711))
>>>>>>> 23a05fbab6 (libpython: Save and load benchmark results (#1711))
=======
=======
    "As part of Google Summer of Code 2021, we've been working to shorten and simplify the launch of GRASS in Jupyter and imporve the map displays. You can find out more abou the project and follow the progress on the [GRASS wiki page](https://trac.osgeo.org/grass/wiki/GSoC/2021/JupyterAndGRASS).\n",
>>>>>>> b479d694c0 (wxGUI/datacatalog: fix setting output vector/raster format (#1596))
>>>>>>> d0b3ffd998 (wxGUI/datacatalog: fix setting output vector/raster format (#1596))
=======
=======
    "As part of Google Summer of Code 2021, we've been working to shorten and simplify the launch of GRASS in Jupyter and imporve the map displays. You can find out more about the project and follow the progress on the [GRASS wiki page](https://trac.osgeo.org/grass/wiki/GSoC/2021/JupyterAndGRASS).\n",
>>>>>>> 6abb78d81f (libpython: Save and load benchmark results (#1711))
>>>>>>> 8051b01c88 (libpython: Save and load benchmark results (#1711))
=======
=======
    "As part of Google Summer of Code 2021, we've been working to shorten and simplify the launch of GRASS in Jupyter and imporve the map displays. You can find out more abou the project and follow the progress on the [GRASS wiki page](https://trac.osgeo.org/grass/wiki/GSoC/2021/JupyterAndGRASS).\n",
>>>>>>> 8b762d062b (wxGUI/datacatalog: fix setting output vector/raster format (#1596))
>>>>>>> 3468665ca3 (wxGUI/datacatalog: fix setting output vector/raster format (#1596))
=======
=======
    "As part of Google Summer of Code 2021, we've been working to shorten and simplify the launch of GRASS in Jupyter and imporve the map displays. You can find out more about the project and follow the progress on the [GRASS wiki page](https://trac.osgeo.org/grass/wiki/GSoC/2021/JupyterAndGRASS).\n",
>>>>>>> 4f7b5aea0b (libpython: Save and load benchmark results (#1711))
>>>>>>> 969385adae (libpython: Save and load benchmark results (#1711))
=======
=======
    "As part of Google Summer of Code 2021, we've been working to shorten and simplify the launch of GRASS in Jupyter and imporve the map displays. You can find out more abou the project and follow the progress on the [GRASS wiki page](https://trac.osgeo.org/grass/wiki/GSoC/2021/JupyterAndGRASS).\n",
>>>>>>> b621c8b780 (wxGUI/datacatalog: fix setting output vector/raster format (#1596))
>>>>>>> f9261b86c0 (wxGUI/datacatalog: fix setting output vector/raster format (#1596))
=======
=======
    "As part of Google Summer of Code 2021, we've been working to shorten and simplify the launch of GRASS in Jupyter and imporve the map displays. You can find out more about the project and follow the progress on the [GRASS wiki page](https://trac.osgeo.org/grass/wiki/GSoC/2021/JupyterAndGRASS).\n",
>>>>>>> 6d0d0f1535 (libpython: Save and load benchmark results (#1711))
>>>>>>> d86c47b865 (libpython: Save and load benchmark results (#1711))
=======
=======
    "As part of Google Summer of Code 2021, we've been working to shorten and simplify the launch of GRASS in Jupyter and imporve the map displays. You can find out more abou the project and follow the progress on the [GRASS wiki page](https://trac.osgeo.org/grass/wiki/GSoC/2021/JupyterAndGRASS).\n",
>>>>>>> 2942a2fdfb (wxGUI/datacatalog: fix setting output vector/raster format (#1596))
>>>>>>> 16ac4aec37 (wxGUI/datacatalog: fix setting output vector/raster format (#1596))
=======
=======
    "As part of Google Summer of Code 2021, we've been working to shorten and simplify the launch of GRASS in Jupyter and imporve the map displays. You can find out more about the project and follow the progress on the [GRASS wiki page](https://trac.osgeo.org/grass/wiki/GSoC/2021/JupyterAndGRASS).\n",
>>>>>>> f4219c860c (libpython: Save and load benchmark results (#1711))
>>>>>>> f226a36d82 (libpython: Save and load benchmark results (#1711))
=======
=======
    "As part of Google Summer of Code 2021, we've been working to shorten and simplify the launch of GRASS in Jupyter and imporve the map displays. You can find out more abou the project and follow the progress on the [GRASS wiki page](https://trac.osgeo.org/grass/wiki/GSoC/2021/JupyterAndGRASS).\n",
>>>>>>> 9051310ffd (wxGUI/datacatalog: fix setting output vector/raster format (#1596))
>>>>>>> 773ccfdfd3 (wxGUI/datacatalog: fix setting output vector/raster format (#1596))
=======
=======
    "As part of Google Summer of Code 2021, we've been working to shorten and simplify the launch of GRASS in Jupyter and imporve the map displays. You can find out more about the project and follow the progress on the [GRASS wiki page](https://trac.osgeo.org/grass/wiki/GSoC/2021/JupyterAndGRASS).\n",
>>>>>>> ab99037454 (libpython: Save and load benchmark results (#1711))
>>>>>>> 102ca719c3 (libpython: Save and load benchmark results (#1711))
=======
=======
    "As part of Google Summer of Code 2021, we've been working to shorten and simplify the launch of GRASS in Jupyter and imporve the map displays. You can find out more abou the project and follow the progress on the [GRASS wiki page](https://trac.osgeo.org/grass/wiki/GSoC/2021/JupyterAndGRASS).\n",
>>>>>>> 510052984c (wxGUI/datacatalog: fix setting output vector/raster format (#1596))
>>>>>>> cef6c84d7f (wxGUI/datacatalog: fix setting output vector/raster format (#1596))
=======
=======
    "As part of Google Summer of Code 2021, we've been working to shorten and simplify the launch of GRASS in Jupyter and imporve the map displays. You can find out more about the project and follow the progress on the [GRASS wiki page](https://trac.osgeo.org/grass/wiki/GSoC/2021/JupyterAndGRASS).\n",
>>>>>>> eb42b06b22 (libpython: Save and load benchmark results (#1711))
>>>>>>> f2e1fe7db7 (libpython: Save and load benchmark results (#1711))
=======
=======
    "As part of Google Summer of Code 2021, we've been working to shorten and simplify the launch of GRASS in Jupyter and imporve the map displays. You can find out more abou the project and follow the progress on the [GRASS wiki page](https://trac.osgeo.org/grass/wiki/GSoC/2021/JupyterAndGRASS).\n",
>>>>>>> 095dc4def6 (wxGUI/datacatalog: fix setting output vector/raster format (#1596))
>>>>>>> 98fd9cfdb5 (wxGUI/datacatalog: fix setting output vector/raster format (#1596))
=======
=======
    "As part of Google Summer of Code 2021, we've been working to shorten and simplify the launch of GRASS in Jupyter and imporve the map displays. You can find out more about the project and follow the progress on the [GRASS wiki page](https://trac.osgeo.org/grass/wiki/GSoC/2021/JupyterAndGRASS).\n",
>>>>>>> f0a06841f5 (libpython: Save and load benchmark results (#1711))
>>>>>>> 39aa99710a (libpython: Save and load benchmark results (#1711))
=======
=======
    "As part of Google Summer of Code 2021, we've been working to shorten and simplify the launch of GRASS in Jupyter and imporve the map displays. You can find out more abou the project and follow the progress on the [GRASS wiki page](https://trac.osgeo.org/grass/wiki/GSoC/2021/JupyterAndGRASS).\n",
>>>>>>> 45a066d418 (wxGUI/datacatalog: fix setting output vector/raster format (#1596))
>>>>>>> cd0f28f571 (wxGUI/datacatalog: fix setting output vector/raster format (#1596))
=======
=======
    "As part of Google Summer of Code 2021, we've been working to shorten and simplify the launch of GRASS in Jupyter and imporve the map displays. You can find out more about the project and follow the progress on the [GRASS wiki page](https://trac.osgeo.org/grass/wiki/GSoC/2021/JupyterAndGRASS).\n",
<<<<<<< HEAD
>>>>>>> 13ad0bbd2d (libpython: Save and load benchmark results (#1711))
<<<<<<< HEAD
>>>>>>> 6178b77bf1 (libpython: Save and load benchmark results (#1711))
=======
=======
>>>>>>> osgeo-main
=======
    "As part of Google Summer of Code 2021, we've been working to shorten and simplify the launch of GRASS in Jupyter and imporve the map displays. You can find out more abou the project and follow the progress on the [GRASS wiki page](https://trac.osgeo.org/grass/wiki/GSoC/2021/JupyterAndGRASS).\n",
>>>>>>> 05e3f88683 (wxGUI/datacatalog: fix setting output vector/raster format (#1596))
<<<<<<< HEAD
>>>>>>> 946be2ff7b (wxGUI/datacatalog: fix setting output vector/raster format (#1596))
<<<<<<< HEAD
>>>>>>> 425a31d95b (wxGUI/datacatalog: fix setting output vector/raster format (#1596))
=======
=======
=======
    "As part of Google Summer of Code 2021, we've been working to shorten and simplify the launch of GRASS in Jupyter and imporve the map displays. You can find out more about the project and follow the progress on the [GRASS wiki page](https://trac.osgeo.org/grass/wiki/GSoC/2021/JupyterAndGRASS).\n",
>>>>>>> 504a46451c (libpython: Save and load benchmark results (#1711))
>>>>>>> c21dcd3d37 (libpython: Save and load benchmark results (#1711))
>>>>>>> 1c3c7a612a (libpython: Save and load benchmark results (#1711))
=======
=======
    "As part of Google Summer of Code 2021, we've been working to shorten and simplify the launch of GRASS in Jupyter and imporve the map displays. You can find out more abou the project and follow the progress on the [GRASS wiki page](https://trac.osgeo.org/grass/wiki/GSoC/2021/JupyterAndGRASS).\n",
>>>>>>> fa3a181fb0 (wxGUI/datacatalog: fix setting output vector/raster format (#1596))
>>>>>>> ea91af519a (wxGUI/datacatalog: fix setting output vector/raster format (#1596))
=======
=======
    "As part of Google Summer of Code 2021, we've been working to shorten and simplify the launch of GRASS in Jupyter and imporve the map displays. You can find out more about the project and follow the progress on the [GRASS wiki page](https://trac.osgeo.org/grass/wiki/GSoC/2021/JupyterAndGRASS).\n",
>>>>>>> 742603b912 (libpython: Save and load benchmark results (#1711))
>>>>>>> 6c56216d2e (libpython: Save and load benchmark results (#1711))
    "\n",
    "This notebook is designed to run in binder and demonstrate the usage of `grass.jupyter`, the new module of Jupyter-specific functions for GRASS."
   ]
  },
  {
   "cell_type": "code",
   "execution_count": null,
   "metadata": {
    "tags": []
   },
   "outputs": [],
   "source": [
    "import os\n",
    "import subprocess\n",
<<<<<<< HEAD
<<<<<<< HEAD
<<<<<<< HEAD
<<<<<<< HEAD
<<<<<<< HEAD
<<<<<<< HEAD
<<<<<<< HEAD
<<<<<<< HEAD
<<<<<<< HEAD
<<<<<<< HEAD
<<<<<<< HEAD
<<<<<<< HEAD
<<<<<<< HEAD
<<<<<<< HEAD
<<<<<<< HEAD
<<<<<<< HEAD
<<<<<<< HEAD
<<<<<<< HEAD
<<<<<<< HEAD
<<<<<<< HEAD
<<<<<<< HEAD
<<<<<<< HEAD
<<<<<<< HEAD
<<<<<<< HEAD
<<<<<<< HEAD
<<<<<<< HEAD
<<<<<<< HEAD
<<<<<<< HEAD
<<<<<<< HEAD
<<<<<<< HEAD
<<<<<<< HEAD
<<<<<<< HEAD
<<<<<<< HEAD
<<<<<<< HEAD
<<<<<<< HEAD
<<<<<<< HEAD
<<<<<<< HEAD
<<<<<<< HEAD
<<<<<<< HEAD
<<<<<<< HEAD
<<<<<<< HEAD
<<<<<<< HEAD
<<<<<<< HEAD
<<<<<<< HEAD
<<<<<<< HEAD
<<<<<<< HEAD
<<<<<<< HEAD
<<<<<<< HEAD
<<<<<<< HEAD
<<<<<<< HEAD
<<<<<<< HEAD
<<<<<<< HEAD
<<<<<<< HEAD
<<<<<<< HEAD
<<<<<<< HEAD
<<<<<<< HEAD
<<<<<<< HEAD
<<<<<<< HEAD
<<<<<<< HEAD
<<<<<<< HEAD
<<<<<<< HEAD
<<<<<<< HEAD
<<<<<<< HEAD
<<<<<<< HEAD
<<<<<<< HEAD
<<<<<<< HEAD
<<<<<<< HEAD
<<<<<<< HEAD
<<<<<<< HEAD
<<<<<<< HEAD
<<<<<<< HEAD
<<<<<<< HEAD
<<<<<<< HEAD
<<<<<<< HEAD
<<<<<<< HEAD
<<<<<<< HEAD
<<<<<<< HEAD
<<<<<<< HEAD
<<<<<<< HEAD
<<<<<<< HEAD
<<<<<<< HEAD
<<<<<<< HEAD
<<<<<<< HEAD
<<<<<<< HEAD
<<<<<<< HEAD
<<<<<<< HEAD
<<<<<<< HEAD
<<<<<<< HEAD
<<<<<<< HEAD
<<<<<<< HEAD
<<<<<<< HEAD
<<<<<<< HEAD
<<<<<<< HEAD
<<<<<<< HEAD
<<<<<<< HEAD
<<<<<<< HEAD
<<<<<<< HEAD
<<<<<<< HEAD
<<<<<<< HEAD
<<<<<<< HEAD
<<<<<<< HEAD
<<<<<<< HEAD
<<<<<<< HEAD
<<<<<<< HEAD
<<<<<<< HEAD
<<<<<<< HEAD
<<<<<<< HEAD
<<<<<<< HEAD
<<<<<<< HEAD
=======
>>>>>>> 1cb35c2fc8 (wxGUI/datacatalog: fix setting output vector/raster format (#1596))
=======
>>>>>>> b53d4aed76 (Add session initiations functions for Jupyter Notebooks (#1629))
=======
>>>>>>> 4e96c0c0e8 (libpython: Save and load benchmark results (#1711))
=======
>>>>>>> a09cd63835 (wxGUI/datacatalog: fix setting output vector/raster format (#1596))
=======
>>>>>>> 1906f4a791 (libpython: Save and load benchmark results (#1711))
=======
>>>>>>> 565c97946b (wxGUI/datacatalog: fix setting output vector/raster format (#1596))
=======
>>>>>>> 345367a7c1 (libpython: Save and load benchmark results (#1711))
=======
>>>>>>> 150ef7b78e (wxGUI/datacatalog: fix setting output vector/raster format (#1596))
=======
>>>>>>> 4b334d121f (libpython: Save and load benchmark results (#1711))
=======
=======
>>>>>>> 6433ad1296 (wxGUI/datacatalog: fix setting output vector/raster format (#1596))
>>>>>>> 6f5fb4923c (wxGUI/datacatalog: fix setting output vector/raster format (#1596))
=======
=======
>>>>>>> 3229dc2622 (wxGUI/datacatalog: fix setting output vector/raster format (#1596))
=======
>>>>>>> de5b9cd94f (libpython: Save and load benchmark results (#1711))
=======
>>>>>>> 9d1090ec82 (wxGUI/datacatalog: fix setting output vector/raster format (#1596))
=======
>>>>>>> fb4ab822d8 (libpython: Save and load benchmark results (#1711))
=======
>>>>>>> 83a2bf0c85 (wxGUI/datacatalog: fix setting output vector/raster format (#1596))
=======
>>>>>>> d56ffd79c6 (libpython: Save and load benchmark results (#1711))
=======
>>>>>>> 19273bf354 (wxGUI/datacatalog: fix setting output vector/raster format (#1596))
=======
>>>>>>> f8d32d9e3a (libpython: Save and load benchmark results (#1711))
=======
>>>>>>> deaca750c4 (wxGUI/datacatalog: fix setting output vector/raster format (#1596))
=======
>>>>>>> ae5deb8874 (libpython: Save and load benchmark results (#1711))
=======
>>>>>>> 4ea1bcfd13 (wxGUI/datacatalog: fix setting output vector/raster format (#1596))
=======
>>>>>>> f91c52c645 (libpython: Save and load benchmark results (#1711))
=======
>>>>>>> d2b40d15ca (wxGUI/datacatalog: fix setting output vector/raster format (#1596))
=======
>>>>>>> 577d32036e (libpython: Save and load benchmark results (#1711))
=======
>>>>>>> 667b6aa79a (wxGUI/datacatalog: fix setting output vector/raster format (#1596))
=======
>>>>>>> 3627af9569 (libpython: Save and load benchmark results (#1711))
=======
>>>>>>> e4f4950cae (wxGUI/datacatalog: fix setting output vector/raster format (#1596))
=======
>>>>>>> f1ae4cefc3 (libpython: Save and load benchmark results (#1711))
=======
>>>>>>> d3be45bfb5 (wxGUI/datacatalog: fix setting output vector/raster format (#1596))
=======
>>>>>>> bceba4c6e2 (libpython: Save and load benchmark results (#1711))
=======
>>>>>>> 744c99be79 (wxGUI/datacatalog: fix setting output vector/raster format (#1596))
=======
>>>>>>> 2efe487a0f (libpython: Save and load benchmark results (#1711))
=======
>>>>>>> 024f004a0e (wxGUI/datacatalog: fix setting output vector/raster format (#1596))
=======
>>>>>>> 980c935a7d (libpython: Save and load benchmark results (#1711))
=======
>>>>>>> 724bccdb58 (wxGUI/datacatalog: fix setting output vector/raster format (#1596))
=======
>>>>>>> 094016f111 (libpython: Save and load benchmark results (#1711))
=======
>>>>>>> e502e3849e (wxGUI/datacatalog: fix setting output vector/raster format (#1596))
=======
>>>>>>> 97c1ae10bf (libpython: Save and load benchmark results (#1711))
=======
>>>>>>> 1eade8c933 (wxGUI/datacatalog: fix setting output vector/raster format (#1596))
=======
>>>>>>> 9a51bf3124 (libpython: Save and load benchmark results (#1711))
=======
>>>>>>> e2b92fe11f (wxGUI/datacatalog: fix setting output vector/raster format (#1596))
=======
>>>>>>> 4480ca2a94 (libpython: Save and load benchmark results (#1711))
=======
>>>>>>> 073da2916c (wxGUI/datacatalog: fix setting output vector/raster format (#1596))
=======
>>>>>>> 70b350b826 (libpython: Save and load benchmark results (#1711))
=======
>>>>>>> 855503a984 (wxGUI/datacatalog: fix setting output vector/raster format (#1596))
=======
>>>>>>> 6dbb418f88 (libpython: Save and load benchmark results (#1711))
=======
>>>>>>> b4f1490ce2 (wxGUI/datacatalog: fix setting output vector/raster format (#1596))
=======
>>>>>>> 0d0bc8bfd9 (libpython: Save and load benchmark results (#1711))
=======
>>>>>>> 4566710e5b (wxGUI/datacatalog: fix setting output vector/raster format (#1596))
=======
>>>>>>> 8a286c75d5 (libpython: Save and load benchmark results (#1711))
=======
>>>>>>> 0d97a989f6 (wxGUI/datacatalog: fix setting output vector/raster format (#1596))
=======
>>>>>>> dcc1810d30 (libpython: Save and load benchmark results (#1711))
=======
>>>>>>> fa7df22047 (wxGUI/datacatalog: fix setting output vector/raster format (#1596))
=======
>>>>>>> a29c4a1571 (libpython: Save and load benchmark results (#1711))
=======
>>>>>>> 73c280b8c6 (wxGUI/datacatalog: fix setting output vector/raster format (#1596))
=======
>>>>>>> 23a05fbab6 (libpython: Save and load benchmark results (#1711))
=======
>>>>>>> d0b3ffd998 (wxGUI/datacatalog: fix setting output vector/raster format (#1596))
=======
>>>>>>> 8051b01c88 (libpython: Save and load benchmark results (#1711))
=======
>>>>>>> 3468665ca3 (wxGUI/datacatalog: fix setting output vector/raster format (#1596))
=======
>>>>>>> 969385adae (libpython: Save and load benchmark results (#1711))
=======
>>>>>>> f9261b86c0 (wxGUI/datacatalog: fix setting output vector/raster format (#1596))
=======
>>>>>>> d86c47b865 (libpython: Save and load benchmark results (#1711))
=======
>>>>>>> 16ac4aec37 (wxGUI/datacatalog: fix setting output vector/raster format (#1596))
=======
>>>>>>> f226a36d82 (libpython: Save and load benchmark results (#1711))
=======
>>>>>>> 773ccfdfd3 (wxGUI/datacatalog: fix setting output vector/raster format (#1596))
=======
>>>>>>> 102ca719c3 (libpython: Save and load benchmark results (#1711))
=======
>>>>>>> cef6c84d7f (wxGUI/datacatalog: fix setting output vector/raster format (#1596))
=======
>>>>>>> f2e1fe7db7 (libpython: Save and load benchmark results (#1711))
=======
>>>>>>> 98fd9cfdb5 (wxGUI/datacatalog: fix setting output vector/raster format (#1596))
=======
>>>>>>> 39aa99710a (libpython: Save and load benchmark results (#1711))
=======
>>>>>>> cd0f28f571 (wxGUI/datacatalog: fix setting output vector/raster format (#1596))
=======
>>>>>>> 6178b77bf1 (libpython: Save and load benchmark results (#1711))
=======
>>>>>>> 425a31d95b (wxGUI/datacatalog: fix setting output vector/raster format (#1596))
=======
>>>>>>> 1c3c7a612a (libpython: Save and load benchmark results (#1711))
=======
>>>>>>> ea91af519a (wxGUI/datacatalog: fix setting output vector/raster format (#1596))
=======
>>>>>>> 6c56216d2e (libpython: Save and load benchmark results (#1711))
=======
>>>>>>> 6433ad1296 (wxGUI/datacatalog: fix setting output vector/raster format (#1596))
=======
>>>>>>> 56976800a2 (libpython: Save and load benchmark results (#1711))
<<<<<<< HEAD
<<<<<<< HEAD
>>>>>>> f2dfa9a433 (libpython: Save and load benchmark results (#1711))
=======
=======
>>>>>>> c4d1702fe7 (wxGUI/datacatalog: fix setting output vector/raster format (#1596))
<<<<<<< HEAD
<<<<<<< HEAD
>>>>>>> 83a2bf0c85 (wxGUI/datacatalog: fix setting output vector/raster format (#1596))
=======
=======
>>>>>>> aa15e7c6e3 (libpython: Save and load benchmark results (#1711))
<<<<<<< HEAD
<<<<<<< HEAD
>>>>>>> d56ffd79c6 (libpython: Save and load benchmark results (#1711))
=======
=======
>>>>>>> 7eeb1e86e5 (wxGUI/datacatalog: fix setting output vector/raster format (#1596))
<<<<<<< HEAD
<<<<<<< HEAD
>>>>>>> 19273bf354 (wxGUI/datacatalog: fix setting output vector/raster format (#1596))
=======
=======
>>>>>>> 8d53b00588 (libpython: Save and load benchmark results (#1711))
<<<<<<< HEAD
<<<<<<< HEAD
>>>>>>> f8d32d9e3a (libpython: Save and load benchmark results (#1711))
=======
=======
>>>>>>> 946be2ff7b (wxGUI/datacatalog: fix setting output vector/raster format (#1596))
<<<<<<< HEAD
<<<<<<< HEAD
>>>>>>> 1eade8c933 (wxGUI/datacatalog: fix setting output vector/raster format (#1596))
=======
=======
>>>>>>> c21dcd3d37 (libpython: Save and load benchmark results (#1711))
>>>>>>> 9a51bf3124 (libpython: Save and load benchmark results (#1711))
=======
>>>>>>> 07fcd460d0 (wxGUI/datacatalog: fix setting output vector/raster format (#1596))
=======
>>>>>>> 6ce1bc9e11 (Add session initiations functions for Jupyter Notebooks (#1629))
=======
>>>>>>> fbe1fc358a (libpython: Save and load benchmark results (#1711))
=======
>>>>>>> 836a40382b (wxGUI/datacatalog: fix setting output vector/raster format (#1596))
=======
>>>>>>> 319ab246f0 (libpython: Save and load benchmark results (#1711))
=======
>>>>>>> 75ca885908 (wxGUI/datacatalog: fix setting output vector/raster format (#1596))
=======
>>>>>>> 8a112feb47 (libpython: Save and load benchmark results (#1711))
=======
>>>>>>> 08a756738c (wxGUI/datacatalog: fix setting output vector/raster format (#1596))
=======
>>>>>>> 7439490972 (libpython: Save and load benchmark results (#1711))
=======
=======
>>>>>>> 6433ad1296 (wxGUI/datacatalog: fix setting output vector/raster format (#1596))
>>>>>>> 756f105374 (wxGUI/datacatalog: fix setting output vector/raster format (#1596))
=======
=======
>>>>>>> 6433ad1296 (wxGUI/datacatalog: fix setting output vector/raster format (#1596))
=======
>>>>>>> 56976800a2 (libpython: Save and load benchmark results (#1711))
>>>>>>> 9cac1201a9 (libpython: Save and load benchmark results (#1711))
=======
=======
>>>>>>> c4d1702fe7 (wxGUI/datacatalog: fix setting output vector/raster format (#1596))
>>>>>>> 4566710e5b (wxGUI/datacatalog: fix setting output vector/raster format (#1596))
=======
=======
>>>>>>> aa15e7c6e3 (libpython: Save and load benchmark results (#1711))
>>>>>>> 8a286c75d5 (libpython: Save and load benchmark results (#1711))
=======
=======
>>>>>>> 7eeb1e86e5 (wxGUI/datacatalog: fix setting output vector/raster format (#1596))
>>>>>>> 0d97a989f6 (wxGUI/datacatalog: fix setting output vector/raster format (#1596))
=======
=======
>>>>>>> 8d53b00588 (libpython: Save and load benchmark results (#1711))
>>>>>>> dcc1810d30 (libpython: Save and load benchmark results (#1711))
=======
=======
>>>>>>> 946be2ff7b (wxGUI/datacatalog: fix setting output vector/raster format (#1596))
>>>>>>> 425a31d95b (wxGUI/datacatalog: fix setting output vector/raster format (#1596))
=======
=======
>>>>>>> c21dcd3d37 (libpython: Save and load benchmark results (#1711))
>>>>>>> 1c3c7a612a (libpython: Save and load benchmark results (#1711))
    "import sys"
=======
    "import sys\n",
    "from IPython.display import Image"
<<<<<<< HEAD
<<<<<<< HEAD
<<<<<<< HEAD
<<<<<<< HEAD
>>>>>>> 4625684fca (wxGUI/datacatalog: fix setting output vector/raster format (#1596))
=======
    "import sys"
>>>>>>> 923408bf7e (libpython: Save and load benchmark results (#1711))
=======
    "import sys"
>>>>>>> osgeo-main
=======
    "import sys"
>>>>>>> osgeo-main
=======
    "import sys\n",
    "from IPython.display import Image"
>>>>>>> 40118f6d63 (wxGUI/datacatalog: fix setting output vector/raster format (#1596))
=======
    "import sys"
>>>>>>> af1011ff1e (libpython: Save and load benchmark results (#1711))
=======
<<<<<<< HEAD
    "import sys\n",
    "from IPython.display import Image"
>>>>>>> 9e134ec08d (wxGUI/datacatalog: fix setting output vector/raster format (#1596))
=======
    "import sys"
>>>>>>> 033a57360f (libpython: Save and load benchmark results (#1711))
=======
    "import sys"
>>>>>>> osgeo-main
=======
    "import sys"
>>>>>>> osgeo-main
>>>>>>> main
=======
    "import sys"
>>>>>>> osgeo-main
=======
    "import sys"
>>>>>>> osgeo-main
=======
    "import sys"
>>>>>>> osgeo-main
=======
    "import sys"
>>>>>>> osgeo-main
=======
    "import sys"
>>>>>>> osgeo-main
=======
    "import sys"
>>>>>>> osgeo-main
=======
    "import sys"
>>>>>>> osgeo-main
=======
    "import sys"
>>>>>>> osgeo-main
=======
    "import sys\n",
    "from IPython.display import Image"
>>>>>>> 05e3f88683 (wxGUI/datacatalog: fix setting output vector/raster format (#1596))
=======
    "import sys"
>>>>>>> 504a46451c (libpython: Save and load benchmark results (#1711))
=======
    "import sys"
>>>>>>> osgeo-main
=======
    "import sys"
>>>>>>> osgeo-main
=======
=======
>>>>>>> 6f5fb4923c (wxGUI/datacatalog: fix setting output vector/raster format (#1596))
=======
>>>>>>> 756f105374 (wxGUI/datacatalog: fix setting output vector/raster format (#1596))
>>>>>>> 584e61d06d (wxGUI/datacatalog: fix setting output vector/raster format (#1596))
<<<<<<< HEAD
<<<<<<< HEAD
>>>>>>> 1cb35c2fc8 (wxGUI/datacatalog: fix setting output vector/raster format (#1596))
=======
=======
>>>>>>> 6ce1bc9e11 (Add session initiations functions for Jupyter Notebooks (#1629))
=======
    "import sys\n",
    "from IPython.display import Image"
>>>>>>> 847046a031 (Add session initiations functions for Jupyter Notebooks (#1629))
<<<<<<< HEAD
<<<<<<< HEAD
<<<<<<< HEAD
>>>>>>> b53d4aed76 (Add session initiations functions for Jupyter Notebooks (#1629))
=======
=======
    "import sys"
>>>>>>> da7f79c3f9 (libpython: Save and load benchmark results (#1711))
<<<<<<< HEAD
<<<<<<< HEAD
>>>>>>> 4e96c0c0e8 (libpython: Save and load benchmark results (#1711))
=======
=======
>>>>>>> 836a40382b (wxGUI/datacatalog: fix setting output vector/raster format (#1596))
=======
    "import sys\n",
    "from IPython.display import Image"
>>>>>>> 793ee713c5 (wxGUI/datacatalog: fix setting output vector/raster format (#1596))
<<<<<<< HEAD
<<<<<<< HEAD
<<<<<<< HEAD
>>>>>>> a09cd63835 (wxGUI/datacatalog: fix setting output vector/raster format (#1596))
=======
=======
    "import sys"
>>>>>>> 86e790785c (libpython: Save and load benchmark results (#1711))
<<<<<<< HEAD
<<<<<<< HEAD
>>>>>>> 1906f4a791 (libpython: Save and load benchmark results (#1711))
=======
=======
>>>>>>> 75ca885908 (wxGUI/datacatalog: fix setting output vector/raster format (#1596))
=======
    "import sys\n",
    "from IPython.display import Image"
>>>>>>> b8162a916c (wxGUI/datacatalog: fix setting output vector/raster format (#1596))
<<<<<<< HEAD
<<<<<<< HEAD
<<<<<<< HEAD
>>>>>>> 565c97946b (wxGUI/datacatalog: fix setting output vector/raster format (#1596))
=======
=======
    "import sys"
>>>>>>> 476ef44553 (libpython: Save and load benchmark results (#1711))
<<<<<<< HEAD
<<<<<<< HEAD
>>>>>>> 345367a7c1 (libpython: Save and load benchmark results (#1711))
=======
=======
>>>>>>> 08a756738c (wxGUI/datacatalog: fix setting output vector/raster format (#1596))
=======
    "import sys\n",
    "from IPython.display import Image"
>>>>>>> a05b13298f (wxGUI/datacatalog: fix setting output vector/raster format (#1596))
<<<<<<< HEAD
<<<<<<< HEAD
<<<<<<< HEAD
>>>>>>> 150ef7b78e (wxGUI/datacatalog: fix setting output vector/raster format (#1596))
=======
=======
    "import sys"
>>>>>>> f541ee3b09 (libpython: Save and load benchmark results (#1711))
<<<<<<< HEAD
<<<<<<< HEAD
>>>>>>> 4b334d121f (libpython: Save and load benchmark results (#1711))
=======
=======
>>>>>>> 4625684fca (wxGUI/datacatalog: fix setting output vector/raster format (#1596))
<<<<<<< HEAD
>>>>>>> 6433ad1296 (wxGUI/datacatalog: fix setting output vector/raster format (#1596))
<<<<<<< HEAD
>>>>>>> 6f5fb4923c (wxGUI/datacatalog: fix setting output vector/raster format (#1596))
=======
=======
=======
    "import sys"
>>>>>>> 923408bf7e (libpython: Save and load benchmark results (#1711))
>>>>>>> 56976800a2 (libpython: Save and load benchmark results (#1711))
<<<<<<< HEAD
<<<<<<< HEAD
>>>>>>> f2dfa9a433 (libpython: Save and load benchmark results (#1711))
=======
=======
>>>>>>> 855503a984 (wxGUI/datacatalog: fix setting output vector/raster format (#1596))
=======
    "import sys\n",
    "from IPython.display import Image"
>>>>>>> 4625684fca (wxGUI/datacatalog: fix setting output vector/raster format (#1596))
<<<<<<< HEAD
<<<<<<< HEAD
<<<<<<< HEAD
>>>>>>> 3229dc2622 (wxGUI/datacatalog: fix setting output vector/raster format (#1596))
=======
=======
    "import sys"
>>>>>>> 923408bf7e (libpython: Save and load benchmark results (#1711))
<<<<<<< HEAD
<<<<<<< HEAD
>>>>>>> de5b9cd94f (libpython: Save and load benchmark results (#1711))
=======
=======
>>>>>>> b4f1490ce2 (wxGUI/datacatalog: fix setting output vector/raster format (#1596))
=======
    "import sys\n",
    "from IPython.display import Image"
>>>>>>> 02f32ae2d4 (wxGUI/datacatalog: fix setting output vector/raster format (#1596))
<<<<<<< HEAD
<<<<<<< HEAD
<<<<<<< HEAD
>>>>>>> 9d1090ec82 (wxGUI/datacatalog: fix setting output vector/raster format (#1596))
=======
=======
    "import sys"
<<<<<<< HEAD
>>>>>>> 2bf163e4b3 (libpython: Save and load benchmark results (#1711))
<<<<<<< HEAD
>>>>>>> fb4ab822d8 (libpython: Save and load benchmark results (#1711))
=======
=======
>>>>>>> osgeo-main
=======
    "import sys\n",
    "from IPython.display import Image"
>>>>>>> 40118f6d63 (wxGUI/datacatalog: fix setting output vector/raster format (#1596))
<<<<<<< HEAD
>>>>>>> c4d1702fe7 (wxGUI/datacatalog: fix setting output vector/raster format (#1596))
<<<<<<< HEAD
>>>>>>> 83a2bf0c85 (wxGUI/datacatalog: fix setting output vector/raster format (#1596))
=======
=======
=======
    "import sys"
>>>>>>> af1011ff1e (libpython: Save and load benchmark results (#1711))
<<<<<<< HEAD
>>>>>>> aa15e7c6e3 (libpython: Save and load benchmark results (#1711))
<<<<<<< HEAD
>>>>>>> d56ffd79c6 (libpython: Save and load benchmark results (#1711))
=======
=======
=======
    "import sys\n",
    "from IPython.display import Image"
>>>>>>> 9e134ec08d (wxGUI/datacatalog: fix setting output vector/raster format (#1596))
<<<<<<< HEAD
>>>>>>> 7eeb1e86e5 (wxGUI/datacatalog: fix setting output vector/raster format (#1596))
<<<<<<< HEAD
>>>>>>> 19273bf354 (wxGUI/datacatalog: fix setting output vector/raster format (#1596))
=======
=======
=======
    "import sys"
>>>>>>> 033a57360f (libpython: Save and load benchmark results (#1711))
>>>>>>> 8d53b00588 (libpython: Save and load benchmark results (#1711))
<<<<<<< HEAD
<<<<<<< HEAD
>>>>>>> f8d32d9e3a (libpython: Save and load benchmark results (#1711))
=======
=======
>>>>>>> fa7df22047 (wxGUI/datacatalog: fix setting output vector/raster format (#1596))
=======
    "import sys\n",
    "from IPython.display import Image"
>>>>>>> 9e134ec08d (wxGUI/datacatalog: fix setting output vector/raster format (#1596))
<<<<<<< HEAD
<<<<<<< HEAD
<<<<<<< HEAD
>>>>>>> deaca750c4 (wxGUI/datacatalog: fix setting output vector/raster format (#1596))
=======
=======
    "import sys"
>>>>>>> 033a57360f (libpython: Save and load benchmark results (#1711))
<<<<<<< HEAD
<<<<<<< HEAD
>>>>>>> ae5deb8874 (libpython: Save and load benchmark results (#1711))
=======
=======
>>>>>>> 73c280b8c6 (wxGUI/datacatalog: fix setting output vector/raster format (#1596))
=======
    "import sys\n",
    "from IPython.display import Image"
>>>>>>> 75f1063afc (wxGUI/datacatalog: fix setting output vector/raster format (#1596))
<<<<<<< HEAD
<<<<<<< HEAD
<<<<<<< HEAD
>>>>>>> 4ea1bcfd13 (wxGUI/datacatalog: fix setting output vector/raster format (#1596))
=======
=======
    "import sys"
>>>>>>> 8984405ebb (libpython: Save and load benchmark results (#1711))
<<<<<<< HEAD
<<<<<<< HEAD
>>>>>>> f91c52c645 (libpython: Save and load benchmark results (#1711))
=======
=======
>>>>>>> d0b3ffd998 (wxGUI/datacatalog: fix setting output vector/raster format (#1596))
=======
    "import sys\n",
    "from IPython.display import Image"
>>>>>>> b479d694c0 (wxGUI/datacatalog: fix setting output vector/raster format (#1596))
<<<<<<< HEAD
<<<<<<< HEAD
<<<<<<< HEAD
>>>>>>> d2b40d15ca (wxGUI/datacatalog: fix setting output vector/raster format (#1596))
=======
=======
    "import sys"
>>>>>>> 6abb78d81f (libpython: Save and load benchmark results (#1711))
<<<<<<< HEAD
<<<<<<< HEAD
>>>>>>> 577d32036e (libpython: Save and load benchmark results (#1711))
=======
=======
>>>>>>> 3468665ca3 (wxGUI/datacatalog: fix setting output vector/raster format (#1596))
=======
    "import sys\n",
    "from IPython.display import Image"
>>>>>>> 8b762d062b (wxGUI/datacatalog: fix setting output vector/raster format (#1596))
<<<<<<< HEAD
<<<<<<< HEAD
<<<<<<< HEAD
>>>>>>> 667b6aa79a (wxGUI/datacatalog: fix setting output vector/raster format (#1596))
=======
=======
    "import sys"
>>>>>>> 4f7b5aea0b (libpython: Save and load benchmark results (#1711))
<<<<<<< HEAD
<<<<<<< HEAD
>>>>>>> 3627af9569 (libpython: Save and load benchmark results (#1711))
=======
=======
>>>>>>> f9261b86c0 (wxGUI/datacatalog: fix setting output vector/raster format (#1596))
=======
    "import sys\n",
    "from IPython.display import Image"
>>>>>>> b621c8b780 (wxGUI/datacatalog: fix setting output vector/raster format (#1596))
<<<<<<< HEAD
<<<<<<< HEAD
<<<<<<< HEAD
>>>>>>> e4f4950cae (wxGUI/datacatalog: fix setting output vector/raster format (#1596))
=======
=======
    "import sys"
>>>>>>> 6d0d0f1535 (libpython: Save and load benchmark results (#1711))
<<<<<<< HEAD
<<<<<<< HEAD
>>>>>>> f1ae4cefc3 (libpython: Save and load benchmark results (#1711))
=======
=======
>>>>>>> 16ac4aec37 (wxGUI/datacatalog: fix setting output vector/raster format (#1596))
=======
    "import sys\n",
    "from IPython.display import Image"
>>>>>>> 2942a2fdfb (wxGUI/datacatalog: fix setting output vector/raster format (#1596))
<<<<<<< HEAD
<<<<<<< HEAD
<<<<<<< HEAD
>>>>>>> d3be45bfb5 (wxGUI/datacatalog: fix setting output vector/raster format (#1596))
=======
=======
    "import sys"
>>>>>>> f4219c860c (libpython: Save and load benchmark results (#1711))
<<<<<<< HEAD
<<<<<<< HEAD
>>>>>>> bceba4c6e2 (libpython: Save and load benchmark results (#1711))
=======
=======
>>>>>>> 773ccfdfd3 (wxGUI/datacatalog: fix setting output vector/raster format (#1596))
=======
    "import sys\n",
    "from IPython.display import Image"
>>>>>>> 9051310ffd (wxGUI/datacatalog: fix setting output vector/raster format (#1596))
<<<<<<< HEAD
<<<<<<< HEAD
<<<<<<< HEAD
>>>>>>> 744c99be79 (wxGUI/datacatalog: fix setting output vector/raster format (#1596))
=======
=======
    "import sys"
>>>>>>> ab99037454 (libpython: Save and load benchmark results (#1711))
<<<<<<< HEAD
<<<<<<< HEAD
>>>>>>> 2efe487a0f (libpython: Save and load benchmark results (#1711))
=======
=======
>>>>>>> cef6c84d7f (wxGUI/datacatalog: fix setting output vector/raster format (#1596))
=======
    "import sys\n",
    "from IPython.display import Image"
>>>>>>> 510052984c (wxGUI/datacatalog: fix setting output vector/raster format (#1596))
<<<<<<< HEAD
<<<<<<< HEAD
<<<<<<< HEAD
>>>>>>> 024f004a0e (wxGUI/datacatalog: fix setting output vector/raster format (#1596))
=======
=======
    "import sys"
>>>>>>> eb42b06b22 (libpython: Save and load benchmark results (#1711))
<<<<<<< HEAD
<<<<<<< HEAD
>>>>>>> 980c935a7d (libpython: Save and load benchmark results (#1711))
=======
=======
>>>>>>> 98fd9cfdb5 (wxGUI/datacatalog: fix setting output vector/raster format (#1596))
=======
    "import sys\n",
    "from IPython.display import Image"
>>>>>>> 095dc4def6 (wxGUI/datacatalog: fix setting output vector/raster format (#1596))
<<<<<<< HEAD
<<<<<<< HEAD
<<<<<<< HEAD
>>>>>>> 724bccdb58 (wxGUI/datacatalog: fix setting output vector/raster format (#1596))
=======
=======
    "import sys"
>>>>>>> f0a06841f5 (libpython: Save and load benchmark results (#1711))
<<<<<<< HEAD
<<<<<<< HEAD
>>>>>>> 094016f111 (libpython: Save and load benchmark results (#1711))
=======
=======
>>>>>>> cd0f28f571 (wxGUI/datacatalog: fix setting output vector/raster format (#1596))
=======
    "import sys\n",
    "from IPython.display import Image"
>>>>>>> 45a066d418 (wxGUI/datacatalog: fix setting output vector/raster format (#1596))
<<<<<<< HEAD
<<<<<<< HEAD
<<<<<<< HEAD
>>>>>>> e502e3849e (wxGUI/datacatalog: fix setting output vector/raster format (#1596))
=======
=======
    "import sys"
<<<<<<< HEAD
>>>>>>> 13ad0bbd2d (libpython: Save and load benchmark results (#1711))
<<<<<<< HEAD
>>>>>>> 97c1ae10bf (libpython: Save and load benchmark results (#1711))
=======
=======
>>>>>>> osgeo-main
=======
    "import sys\n",
    "from IPython.display import Image"
>>>>>>> 05e3f88683 (wxGUI/datacatalog: fix setting output vector/raster format (#1596))
<<<<<<< HEAD
>>>>>>> 946be2ff7b (wxGUI/datacatalog: fix setting output vector/raster format (#1596))
<<<<<<< HEAD
>>>>>>> 1eade8c933 (wxGUI/datacatalog: fix setting output vector/raster format (#1596))
=======
=======
=======
    "import sys"
>>>>>>> 504a46451c (libpython: Save and load benchmark results (#1711))
>>>>>>> c21dcd3d37 (libpython: Save and load benchmark results (#1711))
<<<<<<< HEAD
<<<<<<< HEAD
>>>>>>> 9a51bf3124 (libpython: Save and load benchmark results (#1711))
=======
=======
>>>>>>> ea91af519a (wxGUI/datacatalog: fix setting output vector/raster format (#1596))
=======
    "import sys\n",
    "from IPython.display import Image"
>>>>>>> fa3a181fb0 (wxGUI/datacatalog: fix setting output vector/raster format (#1596))
<<<<<<< HEAD
<<<<<<< HEAD
<<<<<<< HEAD
>>>>>>> e2b92fe11f (wxGUI/datacatalog: fix setting output vector/raster format (#1596))
=======
=======
    "import sys"
>>>>>>> 742603b912 (libpython: Save and load benchmark results (#1711))
<<<<<<< HEAD
>>>>>>> 4480ca2a94 (libpython: Save and load benchmark results (#1711))
=======
=======
    "import sys\n",
    "from IPython.display import Image"
>>>>>>> bd71b111b3 (wxGUI/datacatalog: fix setting output vector/raster format (#1596))
<<<<<<< HEAD
>>>>>>> 073da2916c (wxGUI/datacatalog: fix setting output vector/raster format (#1596))
=======
=======
    "import sys"
>>>>>>> 4e0c4a2cca (libpython: Save and load benchmark results (#1711))
>>>>>>> 70b350b826 (libpython: Save and load benchmark results (#1711))
=======
    "import sys"
>>>>>>> 173e44f2dc (libpython: Save and load benchmark results (#1711))
=======
>>>>>>> 584e61d06d (wxGUI/datacatalog: fix setting output vector/raster format (#1596))
>>>>>>> 07fcd460d0 (wxGUI/datacatalog: fix setting output vector/raster format (#1596))
=======
>>>>>>> 6ce1bc9e11 (Add session initiations functions for Jupyter Notebooks (#1629))
=======
=======
    "import sys"
>>>>>>> da7f79c3f9 (libpython: Save and load benchmark results (#1711))
>>>>>>> fbe1fc358a (libpython: Save and load benchmark results (#1711))
=======
>>>>>>> 836a40382b (wxGUI/datacatalog: fix setting output vector/raster format (#1596))
=======
=======
    "import sys"
>>>>>>> 86e790785c (libpython: Save and load benchmark results (#1711))
>>>>>>> 319ab246f0 (libpython: Save and load benchmark results (#1711))
=======
>>>>>>> 75ca885908 (wxGUI/datacatalog: fix setting output vector/raster format (#1596))
=======
=======
    "import sys"
>>>>>>> 476ef44553 (libpython: Save and load benchmark results (#1711))
>>>>>>> 8a112feb47 (libpython: Save and load benchmark results (#1711))
=======
>>>>>>> 08a756738c (wxGUI/datacatalog: fix setting output vector/raster format (#1596))
=======
=======
    "import sys"
>>>>>>> f541ee3b09 (libpython: Save and load benchmark results (#1711))
>>>>>>> 7439490972 (libpython: Save and load benchmark results (#1711))
=======
=======
>>>>>>> 4625684fca (wxGUI/datacatalog: fix setting output vector/raster format (#1596))
<<<<<<< HEAD
>>>>>>> 6433ad1296 (wxGUI/datacatalog: fix setting output vector/raster format (#1596))
<<<<<<< HEAD
>>>>>>> 756f105374 (wxGUI/datacatalog: fix setting output vector/raster format (#1596))
=======
=======
=======
    "import sys"
>>>>>>> 923408bf7e (libpython: Save and load benchmark results (#1711))
>>>>>>> 56976800a2 (libpython: Save and load benchmark results (#1711))
>>>>>>> 9cac1201a9 (libpython: Save and load benchmark results (#1711))
=======
>>>>>>> 855503a984 (wxGUI/datacatalog: fix setting output vector/raster format (#1596))
=======
=======
    "import sys"
>>>>>>> 923408bf7e (libpython: Save and load benchmark results (#1711))
>>>>>>> 6dbb418f88 (libpython: Save and load benchmark results (#1711))
=======
>>>>>>> b4f1490ce2 (wxGUI/datacatalog: fix setting output vector/raster format (#1596))
=======
=======
    "import sys"
<<<<<<< HEAD
>>>>>>> 2bf163e4b3 (libpython: Save and load benchmark results (#1711))
<<<<<<< HEAD
>>>>>>> 0d0bc8bfd9 (libpython: Save and load benchmark results (#1711))
=======
=======
>>>>>>> osgeo-main
=======
    "import sys\n",
    "from IPython.display import Image"
>>>>>>> 40118f6d63 (wxGUI/datacatalog: fix setting output vector/raster format (#1596))
<<<<<<< HEAD
>>>>>>> c4d1702fe7 (wxGUI/datacatalog: fix setting output vector/raster format (#1596))
<<<<<<< HEAD
>>>>>>> 4566710e5b (wxGUI/datacatalog: fix setting output vector/raster format (#1596))
=======
=======
=======
    "import sys"
>>>>>>> af1011ff1e (libpython: Save and load benchmark results (#1711))
<<<<<<< HEAD
>>>>>>> aa15e7c6e3 (libpython: Save and load benchmark results (#1711))
<<<<<<< HEAD
>>>>>>> 8a286c75d5 (libpython: Save and load benchmark results (#1711))
=======
=======
=======
    "import sys\n",
    "from IPython.display import Image"
>>>>>>> 9e134ec08d (wxGUI/datacatalog: fix setting output vector/raster format (#1596))
<<<<<<< HEAD
>>>>>>> 7eeb1e86e5 (wxGUI/datacatalog: fix setting output vector/raster format (#1596))
<<<<<<< HEAD
>>>>>>> 0d97a989f6 (wxGUI/datacatalog: fix setting output vector/raster format (#1596))
=======
=======
=======
    "import sys"
>>>>>>> 033a57360f (libpython: Save and load benchmark results (#1711))
>>>>>>> 8d53b00588 (libpython: Save and load benchmark results (#1711))
>>>>>>> dcc1810d30 (libpython: Save and load benchmark results (#1711))
=======
>>>>>>> fa7df22047 (wxGUI/datacatalog: fix setting output vector/raster format (#1596))
=======
=======
    "import sys"
>>>>>>> 033a57360f (libpython: Save and load benchmark results (#1711))
>>>>>>> a29c4a1571 (libpython: Save and load benchmark results (#1711))
=======
>>>>>>> 73c280b8c6 (wxGUI/datacatalog: fix setting output vector/raster format (#1596))
=======
=======
    "import sys"
>>>>>>> 8984405ebb (libpython: Save and load benchmark results (#1711))
>>>>>>> 23a05fbab6 (libpython: Save and load benchmark results (#1711))
=======
>>>>>>> d0b3ffd998 (wxGUI/datacatalog: fix setting output vector/raster format (#1596))
=======
=======
    "import sys"
>>>>>>> 6abb78d81f (libpython: Save and load benchmark results (#1711))
>>>>>>> 8051b01c88 (libpython: Save and load benchmark results (#1711))
=======
>>>>>>> 3468665ca3 (wxGUI/datacatalog: fix setting output vector/raster format (#1596))
=======
=======
    "import sys"
>>>>>>> 4f7b5aea0b (libpython: Save and load benchmark results (#1711))
>>>>>>> 969385adae (libpython: Save and load benchmark results (#1711))
=======
>>>>>>> f9261b86c0 (wxGUI/datacatalog: fix setting output vector/raster format (#1596))
=======
=======
    "import sys"
>>>>>>> 6d0d0f1535 (libpython: Save and load benchmark results (#1711))
>>>>>>> d86c47b865 (libpython: Save and load benchmark results (#1711))
=======
>>>>>>> 16ac4aec37 (wxGUI/datacatalog: fix setting output vector/raster format (#1596))
=======
=======
    "import sys"
>>>>>>> f4219c860c (libpython: Save and load benchmark results (#1711))
>>>>>>> f226a36d82 (libpython: Save and load benchmark results (#1711))
=======
>>>>>>> 773ccfdfd3 (wxGUI/datacatalog: fix setting output vector/raster format (#1596))
=======
=======
    "import sys"
>>>>>>> ab99037454 (libpython: Save and load benchmark results (#1711))
>>>>>>> 102ca719c3 (libpython: Save and load benchmark results (#1711))
=======
>>>>>>> cef6c84d7f (wxGUI/datacatalog: fix setting output vector/raster format (#1596))
=======
=======
    "import sys"
>>>>>>> eb42b06b22 (libpython: Save and load benchmark results (#1711))
>>>>>>> f2e1fe7db7 (libpython: Save and load benchmark results (#1711))
=======
>>>>>>> 98fd9cfdb5 (wxGUI/datacatalog: fix setting output vector/raster format (#1596))
=======
=======
    "import sys"
>>>>>>> f0a06841f5 (libpython: Save and load benchmark results (#1711))
>>>>>>> 39aa99710a (libpython: Save and load benchmark results (#1711))
=======
>>>>>>> cd0f28f571 (wxGUI/datacatalog: fix setting output vector/raster format (#1596))
=======
=======
    "import sys"
<<<<<<< HEAD
>>>>>>> 13ad0bbd2d (libpython: Save and load benchmark results (#1711))
<<<<<<< HEAD
>>>>>>> 6178b77bf1 (libpython: Save and load benchmark results (#1711))
=======
=======
>>>>>>> osgeo-main
=======
    "import sys\n",
    "from IPython.display import Image"
>>>>>>> 05e3f88683 (wxGUI/datacatalog: fix setting output vector/raster format (#1596))
<<<<<<< HEAD
>>>>>>> 946be2ff7b (wxGUI/datacatalog: fix setting output vector/raster format (#1596))
<<<<<<< HEAD
>>>>>>> 425a31d95b (wxGUI/datacatalog: fix setting output vector/raster format (#1596))
=======
=======
=======
    "import sys"
>>>>>>> 504a46451c (libpython: Save and load benchmark results (#1711))
>>>>>>> c21dcd3d37 (libpython: Save and load benchmark results (#1711))
>>>>>>> 1c3c7a612a (libpython: Save and load benchmark results (#1711))
=======
>>>>>>> ea91af519a (wxGUI/datacatalog: fix setting output vector/raster format (#1596))
=======
=======
    "import sys"
>>>>>>> 742603b912 (libpython: Save and load benchmark results (#1711))
>>>>>>> 6c56216d2e (libpython: Save and load benchmark results (#1711))
   ]
  },
  {
   "cell_type": "code",
   "execution_count": null,
   "metadata": {},
   "outputs": [],
   "source": [
    "gisbase = subprocess.check_output([\"grass\", \"--config\", \"path\"], text=True).strip()\n",
    "os.environ[\"GISBASE\"] = gisbase\n",
    "sys.path.append(os.path.join(gisbase, \"etc\", \"python\"))"
   ]
  },
  {
   "cell_type": "code",
   "execution_count": null,
   "metadata": {},
   "outputs": [],
   "source": [
    "import grass.script as gs\n",
    "import grass.jupyter as gj"
   ]
  },
  {
   "cell_type": "code",
   "execution_count": null,
   "metadata": {},
   "outputs": [],
   "source": [
<<<<<<< HEAD
<<<<<<< HEAD
<<<<<<< HEAD
<<<<<<< HEAD
<<<<<<< HEAD
<<<<<<< HEAD
<<<<<<< HEAD
<<<<<<< HEAD
<<<<<<< HEAD
<<<<<<< HEAD
<<<<<<< HEAD
<<<<<<< HEAD
<<<<<<< HEAD
<<<<<<< HEAD
<<<<<<< HEAD
<<<<<<< HEAD
<<<<<<< HEAD
<<<<<<< HEAD
<<<<<<< HEAD
<<<<<<< HEAD
<<<<<<< HEAD
<<<<<<< HEAD
<<<<<<< HEAD
<<<<<<< HEAD
<<<<<<< HEAD
<<<<<<< HEAD
<<<<<<< HEAD
<<<<<<< HEAD
<<<<<<< HEAD
<<<<<<< HEAD
<<<<<<< HEAD
<<<<<<< HEAD
<<<<<<< HEAD
<<<<<<< HEAD
<<<<<<< HEAD
<<<<<<< HEAD
<<<<<<< HEAD
<<<<<<< HEAD
<<<<<<< HEAD
<<<<<<< HEAD
<<<<<<< HEAD
<<<<<<< HEAD
<<<<<<< HEAD
<<<<<<< HEAD
<<<<<<< HEAD
<<<<<<< HEAD
<<<<<<< HEAD
<<<<<<< HEAD
<<<<<<< HEAD
<<<<<<< HEAD
<<<<<<< HEAD
<<<<<<< HEAD
<<<<<<< HEAD
<<<<<<< HEAD
<<<<<<< HEAD
<<<<<<< HEAD
<<<<<<< HEAD
<<<<<<< HEAD
<<<<<<< HEAD
<<<<<<< HEAD
<<<<<<< HEAD
<<<<<<< HEAD
<<<<<<< HEAD
<<<<<<< HEAD
<<<<<<< HEAD
<<<<<<< HEAD
<<<<<<< HEAD
<<<<<<< HEAD
<<<<<<< HEAD
<<<<<<< HEAD
<<<<<<< HEAD
<<<<<<< HEAD
<<<<<<< HEAD
<<<<<<< HEAD
<<<<<<< HEAD
<<<<<<< HEAD
<<<<<<< HEAD
<<<<<<< HEAD
<<<<<<< HEAD
<<<<<<< HEAD
<<<<<<< HEAD
<<<<<<< HEAD
<<<<<<< HEAD
<<<<<<< HEAD
<<<<<<< HEAD
<<<<<<< HEAD
<<<<<<< HEAD
<<<<<<< HEAD
<<<<<<< HEAD
<<<<<<< HEAD
<<<<<<< HEAD
<<<<<<< HEAD
<<<<<<< HEAD
<<<<<<< HEAD
<<<<<<< HEAD
<<<<<<< HEAD
<<<<<<< HEAD
<<<<<<< HEAD
<<<<<<< HEAD
<<<<<<< HEAD
<<<<<<< HEAD
<<<<<<< HEAD
<<<<<<< HEAD
<<<<<<< HEAD
<<<<<<< HEAD
<<<<<<< HEAD
<<<<<<< HEAD
<<<<<<< HEAD
=======
>>>>>>> 83bcaf56ef (wxGUI/Single-Window: New change page event for AuiNotebook (#1780))
=======
>>>>>>> 165e1d768b (wxGUI/Single-Window: New change page event for AuiNotebook (#1780))
=======
>>>>>>> ee253be79a (wxGUI/Single-Window: New change page event for AuiNotebook (#1780))
=======
>>>>>>> 1cb35c2fc8 (wxGUI/datacatalog: fix setting output vector/raster format (#1596))
=======
>>>>>>> b53d4aed76 (Add session initiations functions for Jupyter Notebooks (#1629))
=======
>>>>>>> bfcba1482b (wxGUI/Single-Window: New change page event for AuiNotebook (#1780))
=======
>>>>>>> a09cd63835 (wxGUI/datacatalog: fix setting output vector/raster format (#1596))
=======
>>>>>>> f9daf13560 (wxGUI/Single-Window: New change page event for AuiNotebook (#1780))
=======
>>>>>>> 565c97946b (wxGUI/datacatalog: fix setting output vector/raster format (#1596))
=======
>>>>>>> c5bad555b2 (wxGUI/Single-Window: New change page event for AuiNotebook (#1780))
=======
>>>>>>> 150ef7b78e (wxGUI/datacatalog: fix setting output vector/raster format (#1596))
=======
>>>>>>> da35d0e56f (wxGUI/Single-Window: New change page event for AuiNotebook (#1780))
=======
>>>>>>> 6f5fb4923c (wxGUI/datacatalog: fix setting output vector/raster format (#1596))
=======
=======
>>>>>>> 3229dc2622 (wxGUI/datacatalog: fix setting output vector/raster format (#1596))
=======
>>>>>>> a3f08c4c56 (wxGUI/Single-Window: New change page event for AuiNotebook (#1780))
=======
>>>>>>> 9d1090ec82 (wxGUI/datacatalog: fix setting output vector/raster format (#1596))
=======
>>>>>>> 6c3db39bfa (wxGUI/Single-Window: New change page event for AuiNotebook (#1780))
=======
>>>>>>> 855503a984 (wxGUI/datacatalog: fix setting output vector/raster format (#1596))
=======
>>>>>>> 6a3d5d8229 (wxGUI/Single-Window: New change page event for AuiNotebook (#1780))
=======
>>>>>>> b4f1490ce2 (wxGUI/datacatalog: fix setting output vector/raster format (#1596))
=======
>>>>>>> 844932ae5d (wxGUI/Single-Window: New change page event for AuiNotebook (#1780))
=======
>>>>>>> d0f7fb7e37 (wxGUI/Single-Window: New change page event for AuiNotebook (#1780))
>>>>>>> f60d41cfac (wxGUI/Single-Window: New change page event for AuiNotebook (#1780))
=======
=======
>>>>>>> 99226d09d7 (wxGUI/Single-Window: New change page event for AuiNotebook (#1780))
=======
>>>>>>> 19273bf354 (wxGUI/datacatalog: fix setting output vector/raster format (#1596))
=======
>>>>>>> 0fec5bf578 (wxGUI/Single-Window: New change page event for AuiNotebook (#1780))
=======
>>>>>>> deaca750c4 (wxGUI/datacatalog: fix setting output vector/raster format (#1596))
=======
>>>>>>> e60bc7f2ae (wxGUI/Single-Window: New change page event for AuiNotebook (#1780))
=======
>>>>>>> 4ea1bcfd13 (wxGUI/datacatalog: fix setting output vector/raster format (#1596))
=======
>>>>>>> 145c1c3f72 (wxGUI/Single-Window: New change page event for AuiNotebook (#1780))
=======
>>>>>>> d2b40d15ca (wxGUI/datacatalog: fix setting output vector/raster format (#1596))
=======
>>>>>>> d30b01a9a9 (wxGUI/Single-Window: New change page event for AuiNotebook (#1780))
=======
>>>>>>> 667b6aa79a (wxGUI/datacatalog: fix setting output vector/raster format (#1596))
=======
>>>>>>> 890566d3e2 (wxGUI/Single-Window: New change page event for AuiNotebook (#1780))
=======
>>>>>>> e4f4950cae (wxGUI/datacatalog: fix setting output vector/raster format (#1596))
=======
>>>>>>> 7f669bb817 (wxGUI/Single-Window: New change page event for AuiNotebook (#1780))
=======
>>>>>>> d3be45bfb5 (wxGUI/datacatalog: fix setting output vector/raster format (#1596))
=======
>>>>>>> 316d73dab0 (wxGUI/Single-Window: New change page event for AuiNotebook (#1780))
=======
>>>>>>> 744c99be79 (wxGUI/datacatalog: fix setting output vector/raster format (#1596))
=======
>>>>>>> b091db536f (wxGUI/Single-Window: New change page event for AuiNotebook (#1780))
=======
>>>>>>> 024f004a0e (wxGUI/datacatalog: fix setting output vector/raster format (#1596))
=======
>>>>>>> 200269373c (wxGUI/Single-Window: New change page event for AuiNotebook (#1780))
=======
>>>>>>> 724bccdb58 (wxGUI/datacatalog: fix setting output vector/raster format (#1596))
=======
>>>>>>> 968f4f9ac0 (wxGUI/Single-Window: New change page event for AuiNotebook (#1780))
=======
>>>>>>> e502e3849e (wxGUI/datacatalog: fix setting output vector/raster format (#1596))
=======
>>>>>>> 008f69a4de (wxGUI/Single-Window: New change page event for AuiNotebook (#1780))
=======
>>>>>>> 1eade8c933 (wxGUI/datacatalog: fix setting output vector/raster format (#1596))
=======
>>>>>>> 6a49833e12 (wxGUI/Single-Window: New change page event for AuiNotebook (#1780))
=======
>>>>>>> e2b92fe11f (wxGUI/datacatalog: fix setting output vector/raster format (#1596))
=======
>>>>>>> 4fbf035b9a (wxGUI/Single-Window: New change page event for AuiNotebook (#1780))
=======
>>>>>>> 073da2916c (wxGUI/datacatalog: fix setting output vector/raster format (#1596))
=======
>>>>>>> 75a30f5016 (wxGUI/Single-Window: New change page event for AuiNotebook (#1780))
=======
>>>>>>> 13cc84758b (wxGUI/Single-Window: New change page event for AuiNotebook (#1780))
=======
>>>>>>> 0d97a989f6 (wxGUI/datacatalog: fix setting output vector/raster format (#1596))
=======
>>>>>>> 9a7ccbcfc4 (wxGUI/Single-Window: New change page event for AuiNotebook (#1780))
=======
>>>>>>> fa7df22047 (wxGUI/datacatalog: fix setting output vector/raster format (#1596))
=======
>>>>>>> f6d796fd40 (wxGUI/Single-Window: New change page event for AuiNotebook (#1780))
=======
>>>>>>> 73c280b8c6 (wxGUI/datacatalog: fix setting output vector/raster format (#1596))
=======
>>>>>>> c59f93bc6e (wxGUI/Single-Window: New change page event for AuiNotebook (#1780))
=======
>>>>>>> d0b3ffd998 (wxGUI/datacatalog: fix setting output vector/raster format (#1596))
=======
>>>>>>> 52352c0e7e (wxGUI/Single-Window: New change page event for AuiNotebook (#1780))
=======
>>>>>>> 3468665ca3 (wxGUI/datacatalog: fix setting output vector/raster format (#1596))
=======
>>>>>>> fa18e11eae (wxGUI/Single-Window: New change page event for AuiNotebook (#1780))
=======
>>>>>>> f9261b86c0 (wxGUI/datacatalog: fix setting output vector/raster format (#1596))
=======
>>>>>>> 41d412ce2a (wxGUI/Single-Window: New change page event for AuiNotebook (#1780))
=======
>>>>>>> 16ac4aec37 (wxGUI/datacatalog: fix setting output vector/raster format (#1596))
=======
>>>>>>> d7a05702af (wxGUI/Single-Window: New change page event for AuiNotebook (#1780))
=======
>>>>>>> 773ccfdfd3 (wxGUI/datacatalog: fix setting output vector/raster format (#1596))
=======
>>>>>>> 98f7fb42ae (wxGUI/Single-Window: New change page event for AuiNotebook (#1780))
=======
>>>>>>> cef6c84d7f (wxGUI/datacatalog: fix setting output vector/raster format (#1596))
=======
>>>>>>> 45bfaad52a (wxGUI/Single-Window: New change page event for AuiNotebook (#1780))
=======
>>>>>>> 98fd9cfdb5 (wxGUI/datacatalog: fix setting output vector/raster format (#1596))
=======
>>>>>>> 868ff9591d (wxGUI/Single-Window: New change page event for AuiNotebook (#1780))
=======
>>>>>>> cd0f28f571 (wxGUI/datacatalog: fix setting output vector/raster format (#1596))
=======
>>>>>>> c1037a4f82 (wxGUI/Single-Window: New change page event for AuiNotebook (#1780))
=======
>>>>>>> 425a31d95b (wxGUI/datacatalog: fix setting output vector/raster format (#1596))
=======
>>>>>>> dd5c383c30 (wxGUI/Single-Window: New change page event for AuiNotebook (#1780))
=======
>>>>>>> ea91af519a (wxGUI/datacatalog: fix setting output vector/raster format (#1596))
=======
>>>>>>> 7a7db5d2e7 (wxGUI/Single-Window: New change page event for AuiNotebook (#1780))
=======
>>>>>>> d0f7fb7e37 (wxGUI/Single-Window: New change page event for AuiNotebook (#1780))
=======
>>>>>>> c4d1702fe7 (wxGUI/datacatalog: fix setting output vector/raster format (#1596))
<<<<<<< HEAD
<<<<<<< HEAD
>>>>>>> 83a2bf0c85 (wxGUI/datacatalog: fix setting output vector/raster format (#1596))
=======
=======
=======
>>>>>>> 7eeb1e86e5 (wxGUI/datacatalog: fix setting output vector/raster format (#1596))
=======
>>>>>>> 83bcaf56ef (wxGUI/Single-Window: New change page event for AuiNotebook (#1780))
>>>>>>> 43b862a006 (wxGUI/Single-Window: New change page event for AuiNotebook (#1780))
<<<<<<< HEAD
<<<<<<< HEAD
>>>>>>> 99226d09d7 (wxGUI/Single-Window: New change page event for AuiNotebook (#1780))
=======
=======
=======
>>>>>>> 946be2ff7b (wxGUI/datacatalog: fix setting output vector/raster format (#1596))
=======
>>>>>>> 7c57325598 (wxGUI/Single-Window: New change page event for AuiNotebook (#1780))
=======
>>>>>>> 83bcaf56ef (wxGUI/Single-Window: New change page event for AuiNotebook (#1780))
=======
>>>>>>> 165e1d768b (wxGUI/Single-Window: New change page event for AuiNotebook (#1780))
<<<<<<< HEAD
>>>>>>> 86cfd7a703 (wxGUI/Single-Window: New change page event for AuiNotebook (#1780))
<<<<<<< HEAD
>>>>>>> 0fec5bf578 (wxGUI/Single-Window: New change page event for AuiNotebook (#1780))
=======
=======
>>>>>>> 165e1d768b (wxGUI/Single-Window: New change page event for AuiNotebook (#1780))
<<<<<<< HEAD
>>>>>>> e60bc7f2ae (wxGUI/Single-Window: New change page event for AuiNotebook (#1780))
=======
=======
>>>>>>> d4beced40f (wxGUI/Single-Window: New change page event for AuiNotebook (#1780))
<<<<<<< HEAD
>>>>>>> 145c1c3f72 (wxGUI/Single-Window: New change page event for AuiNotebook (#1780))
=======
=======
>>>>>>> 6b58199776 (wxGUI/Single-Window: New change page event for AuiNotebook (#1780))
<<<<<<< HEAD
>>>>>>> d30b01a9a9 (wxGUI/Single-Window: New change page event for AuiNotebook (#1780))
=======
=======
>>>>>>> 057ade7c94 (wxGUI/Single-Window: New change page event for AuiNotebook (#1780))
<<<<<<< HEAD
>>>>>>> 890566d3e2 (wxGUI/Single-Window: New change page event for AuiNotebook (#1780))
=======
=======
>>>>>>> 602a59f3d1 (wxGUI/Single-Window: New change page event for AuiNotebook (#1780))
<<<<<<< HEAD
>>>>>>> 7f669bb817 (wxGUI/Single-Window: New change page event for AuiNotebook (#1780))
=======
=======
>>>>>>> 9322f81244 (wxGUI/Single-Window: New change page event for AuiNotebook (#1780))
<<<<<<< HEAD
>>>>>>> 316d73dab0 (wxGUI/Single-Window: New change page event for AuiNotebook (#1780))
=======
=======
>>>>>>> 1de6bbf813 (wxGUI/Single-Window: New change page event for AuiNotebook (#1780))
<<<<<<< HEAD
>>>>>>> b091db536f (wxGUI/Single-Window: New change page event for AuiNotebook (#1780))
=======
=======
>>>>>>> 71e71e7e89 (wxGUI/Single-Window: New change page event for AuiNotebook (#1780))
<<<<<<< HEAD
>>>>>>> 200269373c (wxGUI/Single-Window: New change page event for AuiNotebook (#1780))
=======
=======
>>>>>>> 6547fb8a44 (wxGUI/Single-Window: New change page event for AuiNotebook (#1780))
<<<<<<< HEAD
>>>>>>> 968f4f9ac0 (wxGUI/Single-Window: New change page event for AuiNotebook (#1780))
=======
=======
>>>>>>> c462857ee4 (wxGUI/Single-Window: New change page event for AuiNotebook (#1780))
<<<<<<< HEAD
>>>>>>> 008f69a4de (wxGUI/Single-Window: New change page event for AuiNotebook (#1780))
=======
=======
=======
>>>>>>> ee253be79a (wxGUI/Single-Window: New change page event for AuiNotebook (#1780))
>>>>>>> 7c57325598 (wxGUI/Single-Window: New change page event for AuiNotebook (#1780))
<<<<<<< HEAD
<<<<<<< HEAD
>>>>>>> 6a49833e12 (wxGUI/Single-Window: New change page event for AuiNotebook (#1780))
=======
=======
>>>>>>> 094ff59126 (wxGUI/Single-Window: New change page event for AuiNotebook (#1780))
<<<<<<< HEAD
>>>>>>> 4fbf035b9a (wxGUI/Single-Window: New change page event for AuiNotebook (#1780))
=======
=======
>>>>>>> c8b938ae61 (wxGUI/Single-Window: New change page event for AuiNotebook (#1780))
>>>>>>> 75a30f5016 (wxGUI/Single-Window: New change page event for AuiNotebook (#1780))
=======
=======
>>>>>>> d0f7fb7e37 (wxGUI/Single-Window: New change page event for AuiNotebook (#1780))
=======
>>>>>>> c4d1702fe7 (wxGUI/datacatalog: fix setting output vector/raster format (#1596))
>>>>>>> 4566710e5b (wxGUI/datacatalog: fix setting output vector/raster format (#1596))
=======
=======
=======
>>>>>>> 7eeb1e86e5 (wxGUI/datacatalog: fix setting output vector/raster format (#1596))
=======
>>>>>>> 83bcaf56ef (wxGUI/Single-Window: New change page event for AuiNotebook (#1780))
>>>>>>> 43b862a006 (wxGUI/Single-Window: New change page event for AuiNotebook (#1780))
>>>>>>> 13cc84758b (wxGUI/Single-Window: New change page event for AuiNotebook (#1780))
=======
=======
=======
>>>>>>> 946be2ff7b (wxGUI/datacatalog: fix setting output vector/raster format (#1596))
=======
>>>>>>> 7c57325598 (wxGUI/Single-Window: New change page event for AuiNotebook (#1780))
=======
>>>>>>> 83bcaf56ef (wxGUI/Single-Window: New change page event for AuiNotebook (#1780))
=======
>>>>>>> 165e1d768b (wxGUI/Single-Window: New change page event for AuiNotebook (#1780))
<<<<<<< HEAD
>>>>>>> 86cfd7a703 (wxGUI/Single-Window: New change page event for AuiNotebook (#1780))
<<<<<<< HEAD
>>>>>>> 9a7ccbcfc4 (wxGUI/Single-Window: New change page event for AuiNotebook (#1780))
=======
=======
>>>>>>> 165e1d768b (wxGUI/Single-Window: New change page event for AuiNotebook (#1780))
<<<<<<< HEAD
>>>>>>> f6d796fd40 (wxGUI/Single-Window: New change page event for AuiNotebook (#1780))
=======
=======
>>>>>>> d4beced40f (wxGUI/Single-Window: New change page event for AuiNotebook (#1780))
<<<<<<< HEAD
>>>>>>> c59f93bc6e (wxGUI/Single-Window: New change page event for AuiNotebook (#1780))
=======
=======
>>>>>>> 6b58199776 (wxGUI/Single-Window: New change page event for AuiNotebook (#1780))
<<<<<<< HEAD
>>>>>>> 52352c0e7e (wxGUI/Single-Window: New change page event for AuiNotebook (#1780))
=======
=======
>>>>>>> 057ade7c94 (wxGUI/Single-Window: New change page event for AuiNotebook (#1780))
<<<<<<< HEAD
>>>>>>> fa18e11eae (wxGUI/Single-Window: New change page event for AuiNotebook (#1780))
=======
=======
>>>>>>> 602a59f3d1 (wxGUI/Single-Window: New change page event for AuiNotebook (#1780))
<<<<<<< HEAD
>>>>>>> 41d412ce2a (wxGUI/Single-Window: New change page event for AuiNotebook (#1780))
=======
=======
>>>>>>> 9322f81244 (wxGUI/Single-Window: New change page event for AuiNotebook (#1780))
<<<<<<< HEAD
>>>>>>> d7a05702af (wxGUI/Single-Window: New change page event for AuiNotebook (#1780))
=======
=======
>>>>>>> 1de6bbf813 (wxGUI/Single-Window: New change page event for AuiNotebook (#1780))
<<<<<<< HEAD
>>>>>>> 98f7fb42ae (wxGUI/Single-Window: New change page event for AuiNotebook (#1780))
=======
=======
>>>>>>> 71e71e7e89 (wxGUI/Single-Window: New change page event for AuiNotebook (#1780))
<<<<<<< HEAD
>>>>>>> 45bfaad52a (wxGUI/Single-Window: New change page event for AuiNotebook (#1780))
=======
=======
>>>>>>> 6547fb8a44 (wxGUI/Single-Window: New change page event for AuiNotebook (#1780))
<<<<<<< HEAD
>>>>>>> 868ff9591d (wxGUI/Single-Window: New change page event for AuiNotebook (#1780))
=======
=======
>>>>>>> c462857ee4 (wxGUI/Single-Window: New change page event for AuiNotebook (#1780))
<<<<<<< HEAD
>>>>>>> c1037a4f82 (wxGUI/Single-Window: New change page event for AuiNotebook (#1780))
=======
=======
=======
>>>>>>> ee253be79a (wxGUI/Single-Window: New change page event for AuiNotebook (#1780))
>>>>>>> 7c57325598 (wxGUI/Single-Window: New change page event for AuiNotebook (#1780))
>>>>>>> dd5c383c30 (wxGUI/Single-Window: New change page event for AuiNotebook (#1780))
=======
=======
>>>>>>> 094ff59126 (wxGUI/Single-Window: New change page event for AuiNotebook (#1780))
>>>>>>> 7a7db5d2e7 (wxGUI/Single-Window: New change page event for AuiNotebook (#1780))
    "# Start GRASS Session\n",
    "gj.init(\"../../data/grassdata\", \"nc_basic_spm_grass7\", \"user1\")"
=======
=======
>>>>>>> 847046a031 (Add session initiations functions for Jupyter Notebooks (#1629))
=======
>>>>>>> 793ee713c5 (wxGUI/datacatalog: fix setting output vector/raster format (#1596))
=======
>>>>>>> b8162a916c (wxGUI/datacatalog: fix setting output vector/raster format (#1596))
=======
>>>>>>> a05b13298f (wxGUI/datacatalog: fix setting output vector/raster format (#1596))
=======
    "# Start GRASS Session\n",
    "gj.init(\"../../data/grassdata\", \"nc_basic_spm_grass7\", \"user1\")"
=======
>>>>>>> 6433ad1296 (wxGUI/datacatalog: fix setting output vector/raster format (#1596))
=======
>>>>>>> 4625684fca (wxGUI/datacatalog: fix setting output vector/raster format (#1596))
=======
>>>>>>> 02f32ae2d4 (wxGUI/datacatalog: fix setting output vector/raster format (#1596))
    "# Let's check our import by printing docstring for init()\n",
    "gj.init?"
<<<<<<< HEAD
<<<<<<< HEAD
<<<<<<< HEAD
<<<<<<< HEAD
=======
=======
=======
=======
>>>>>>> 4566710e5b (wxGUI/datacatalog: fix setting output vector/raster format (#1596))
=======
=======
    "# Start GRASS Session\n",
    "gj.init(\"../../data/grassdata\", \"nc_basic_spm_grass7\", \"user1\")"
>>>>>>> osgeo-main
=======
    "# Start GRASS Session\n",
    "gj.init(\"../../data/grassdata\", \"nc_basic_spm_grass7\", \"user1\")"
>>>>>>> osgeo-main
=======
    "# Let's check our import by printing docstring for init()\n",
    "gj.init?"
>>>>>>> 40118f6d63 (wxGUI/datacatalog: fix setting output vector/raster format (#1596))
<<<<<<< HEAD
<<<<<<< HEAD
<<<<<<< HEAD
>>>>>>> c4d1702fe7 (wxGUI/datacatalog: fix setting output vector/raster format (#1596))
<<<<<<< HEAD
>>>>>>> 83a2bf0c85 (wxGUI/datacatalog: fix setting output vector/raster format (#1596))
=======
=======
>>>>>>> c4d1702fe7 (wxGUI/datacatalog: fix setting output vector/raster format (#1596))
>>>>>>> 0d97a989f6 (wxGUI/datacatalog: fix setting output vector/raster format (#1596))
=======
=======
    "# Let's check our import by printing docstring for init()\n",
    "gj.init?"
>>>>>>> 9e134ec08d (wxGUI/datacatalog: fix setting output vector/raster format (#1596))
>>>>>>> 7eeb1e86e5 (wxGUI/datacatalog: fix setting output vector/raster format (#1596))
<<<<<<< HEAD
<<<<<<< HEAD
<<<<<<< HEAD
>>>>>>> 19273bf354 (wxGUI/datacatalog: fix setting output vector/raster format (#1596))
=======
=======
>>>>>>> fa7df22047 (wxGUI/datacatalog: fix setting output vector/raster format (#1596))
=======
    "# Let's check our import by printing docstring for init()\n",
    "gj.init?"
>>>>>>> 9e134ec08d (wxGUI/datacatalog: fix setting output vector/raster format (#1596))
<<<<<<< HEAD
<<<<<<< HEAD
<<<<<<< HEAD
>>>>>>> deaca750c4 (wxGUI/datacatalog: fix setting output vector/raster format (#1596))
=======
=======
>>>>>>> 73c280b8c6 (wxGUI/datacatalog: fix setting output vector/raster format (#1596))
=======
    "# Let's check our import by printing docstring for init()\n",
    "gj.init?"
>>>>>>> 75f1063afc (wxGUI/datacatalog: fix setting output vector/raster format (#1596))
<<<<<<< HEAD
<<<<<<< HEAD
<<<<<<< HEAD
>>>>>>> 4ea1bcfd13 (wxGUI/datacatalog: fix setting output vector/raster format (#1596))
=======
=======
>>>>>>> d0b3ffd998 (wxGUI/datacatalog: fix setting output vector/raster format (#1596))
=======
    "# Let's check our import by printing docstring for init()\n",
    "gj.init?"
>>>>>>> b479d694c0 (wxGUI/datacatalog: fix setting output vector/raster format (#1596))
<<<<<<< HEAD
<<<<<<< HEAD
<<<<<<< HEAD
>>>>>>> d2b40d15ca (wxGUI/datacatalog: fix setting output vector/raster format (#1596))
=======
=======
>>>>>>> 3468665ca3 (wxGUI/datacatalog: fix setting output vector/raster format (#1596))
=======
    "# Let's check our import by printing docstring for init()\n",
    "gj.init?"
>>>>>>> 8b762d062b (wxGUI/datacatalog: fix setting output vector/raster format (#1596))
<<<<<<< HEAD
<<<<<<< HEAD
<<<<<<< HEAD
>>>>>>> 667b6aa79a (wxGUI/datacatalog: fix setting output vector/raster format (#1596))
=======
=======
>>>>>>> f9261b86c0 (wxGUI/datacatalog: fix setting output vector/raster format (#1596))
=======
    "# Let's check our import by printing docstring for init()\n",
    "gj.init?"
>>>>>>> b621c8b780 (wxGUI/datacatalog: fix setting output vector/raster format (#1596))
<<<<<<< HEAD
<<<<<<< HEAD
<<<<<<< HEAD
>>>>>>> e4f4950cae (wxGUI/datacatalog: fix setting output vector/raster format (#1596))
=======
=======
>>>>>>> 16ac4aec37 (wxGUI/datacatalog: fix setting output vector/raster format (#1596))
=======
    "# Let's check our import by printing docstring for init()\n",
    "gj.init?"
>>>>>>> 2942a2fdfb (wxGUI/datacatalog: fix setting output vector/raster format (#1596))
<<<<<<< HEAD
<<<<<<< HEAD
<<<<<<< HEAD
>>>>>>> d3be45bfb5 (wxGUI/datacatalog: fix setting output vector/raster format (#1596))
=======
=======
>>>>>>> 773ccfdfd3 (wxGUI/datacatalog: fix setting output vector/raster format (#1596))
=======
    "# Let's check our import by printing docstring for init()\n",
    "gj.init?"
>>>>>>> 9051310ffd (wxGUI/datacatalog: fix setting output vector/raster format (#1596))
<<<<<<< HEAD
<<<<<<< HEAD
<<<<<<< HEAD
>>>>>>> 744c99be79 (wxGUI/datacatalog: fix setting output vector/raster format (#1596))
=======
=======
>>>>>>> cef6c84d7f (wxGUI/datacatalog: fix setting output vector/raster format (#1596))
=======
    "# Let's check our import by printing docstring for init()\n",
    "gj.init?"
>>>>>>> 510052984c (wxGUI/datacatalog: fix setting output vector/raster format (#1596))
<<<<<<< HEAD
<<<<<<< HEAD
<<<<<<< HEAD
>>>>>>> 024f004a0e (wxGUI/datacatalog: fix setting output vector/raster format (#1596))
=======
=======
>>>>>>> 98fd9cfdb5 (wxGUI/datacatalog: fix setting output vector/raster format (#1596))
=======
    "# Let's check our import by printing docstring for init()\n",
    "gj.init?"
>>>>>>> 095dc4def6 (wxGUI/datacatalog: fix setting output vector/raster format (#1596))
<<<<<<< HEAD
<<<<<<< HEAD
<<<<<<< HEAD
>>>>>>> 724bccdb58 (wxGUI/datacatalog: fix setting output vector/raster format (#1596))
=======
=======
<<<<<<< HEAD
    "# Let's check our import by printing docstring for init()\n",
    "gj.init?"
>>>>>>> 45a066d418 (wxGUI/datacatalog: fix setting output vector/raster format (#1596))
<<<<<<< HEAD
>>>>>>> e502e3849e (wxGUI/datacatalog: fix setting output vector/raster format (#1596))
=======
=======
    "# Start GRASS Session\n",
    "gj.init(\"../../data/grassdata\", \"nc_basic_spm_grass7\", \"user1\")"
>>>>>>> osgeo-main
=======
    "# Start GRASS Session\n",
    "gj.init(\"../../data/grassdata\", \"nc_basic_spm_grass7\", \"user1\")"
>>>>>>> osgeo-main
=======
    "# Let's check our import by printing docstring for init()\n",
    "gj.init?"
>>>>>>> 05e3f88683 (wxGUI/datacatalog: fix setting output vector/raster format (#1596))
>>>>>>> 946be2ff7b (wxGUI/datacatalog: fix setting output vector/raster format (#1596))
<<<<<<< HEAD
<<<<<<< HEAD
>>>>>>> 1eade8c933 (wxGUI/datacatalog: fix setting output vector/raster format (#1596))
=======
=======
>>>>>>> ea91af519a (wxGUI/datacatalog: fix setting output vector/raster format (#1596))
=======
    "# Let's check our import by printing docstring for init()\n",
    "gj.init?"
>>>>>>> fa3a181fb0 (wxGUI/datacatalog: fix setting output vector/raster format (#1596))
<<<<<<< HEAD
<<<<<<< HEAD
>>>>>>> e2b92fe11f (wxGUI/datacatalog: fix setting output vector/raster format (#1596))
=======
=======
    "# Let's check our import by printing docstring for init()\n",
    "gj.init?"
>>>>>>> bd71b111b3 (wxGUI/datacatalog: fix setting output vector/raster format (#1596))
>>>>>>> 073da2916c (wxGUI/datacatalog: fix setting output vector/raster format (#1596))
=======
=======
>>>>>>> 6ce1bc9e11 (Add session initiations functions for Jupyter Notebooks (#1629))
=======
>>>>>>> 84964e9717 (wxGUI/Single-Window: New change page event for AuiNotebook (#1780))
=======
>>>>>>> 836a40382b (wxGUI/datacatalog: fix setting output vector/raster format (#1596))
=======
>>>>>>> d7c38bec8b (wxGUI/Single-Window: New change page event for AuiNotebook (#1780))
=======
>>>>>>> 75ca885908 (wxGUI/datacatalog: fix setting output vector/raster format (#1596))
=======
>>>>>>> 6c2ecbcdd0 (wxGUI/Single-Window: New change page event for AuiNotebook (#1780))
=======
>>>>>>> 08a756738c (wxGUI/datacatalog: fix setting output vector/raster format (#1596))
=======
>>>>>>> 1a0e9d8383 (wxGUI/Single-Window: New change page event for AuiNotebook (#1780))
=======
>>>>>>> 756f105374 (wxGUI/datacatalog: fix setting output vector/raster format (#1596))
=======
=======
>>>>>>> d0f7fb7e37 (wxGUI/Single-Window: New change page event for AuiNotebook (#1780))
>>>>>>> e6f0b56c57 (wxGUI/Single-Window: New change page event for AuiNotebook (#1780))
    "# Start GRASS Session\n",
    "gj.init(\"../../data/grassdata\", \"nc_basic_spm_grass7\", \"user1\")"
=======
=======
>>>>>>> 847046a031 (Add session initiations functions for Jupyter Notebooks (#1629))
=======
>>>>>>> 793ee713c5 (wxGUI/datacatalog: fix setting output vector/raster format (#1596))
=======
>>>>>>> b8162a916c (wxGUI/datacatalog: fix setting output vector/raster format (#1596))
=======
>>>>>>> a05b13298f (wxGUI/datacatalog: fix setting output vector/raster format (#1596))
=======
    "# Start GRASS Session\n",
    "gj.init(\"../../data/grassdata\", \"nc_basic_spm_grass7\", \"user1\")"
=======
>>>>>>> 6433ad1296 (wxGUI/datacatalog: fix setting output vector/raster format (#1596))
=======
>>>>>>> 4625684fca (wxGUI/datacatalog: fix setting output vector/raster format (#1596))
=======
>>>>>>> 02f32ae2d4 (wxGUI/datacatalog: fix setting output vector/raster format (#1596))
    "# Let's check our import by printing docstring for init()\n",
    "gj.init?"
<<<<<<< HEAD
>>>>>>> 07fcd460d0 (wxGUI/datacatalog: fix setting output vector/raster format (#1596))
=======
=======
>>>>>>> c4d1702fe7 (wxGUI/datacatalog: fix setting output vector/raster format (#1596))
>>>>>>> 4566710e5b (wxGUI/datacatalog: fix setting output vector/raster format (#1596))
=======
>>>>>>> 0d97a989f6 (wxGUI/datacatalog: fix setting output vector/raster format (#1596))
=======
>>>>>>> fa7df22047 (wxGUI/datacatalog: fix setting output vector/raster format (#1596))
=======
>>>>>>> 73c280b8c6 (wxGUI/datacatalog: fix setting output vector/raster format (#1596))
=======
>>>>>>> d0b3ffd998 (wxGUI/datacatalog: fix setting output vector/raster format (#1596))
=======
>>>>>>> 3468665ca3 (wxGUI/datacatalog: fix setting output vector/raster format (#1596))
=======
>>>>>>> f9261b86c0 (wxGUI/datacatalog: fix setting output vector/raster format (#1596))
=======
>>>>>>> 16ac4aec37 (wxGUI/datacatalog: fix setting output vector/raster format (#1596))
=======
>>>>>>> 773ccfdfd3 (wxGUI/datacatalog: fix setting output vector/raster format (#1596))
=======
>>>>>>> cef6c84d7f (wxGUI/datacatalog: fix setting output vector/raster format (#1596))
=======
>>>>>>> 98fd9cfdb5 (wxGUI/datacatalog: fix setting output vector/raster format (#1596))
=======
=======
<<<<<<< HEAD
    "# Let's check our import by printing docstring for init()\n",
    "gj.init?"
>>>>>>> 45a066d418 (wxGUI/datacatalog: fix setting output vector/raster format (#1596))
<<<<<<< HEAD
>>>>>>> cd0f28f571 (wxGUI/datacatalog: fix setting output vector/raster format (#1596))
=======
=======
    "# Start GRASS Session\n",
    "gj.init(\"../../data/grassdata\", \"nc_basic_spm_grass7\", \"user1\")"
>>>>>>> osgeo-main
=======
    "# Start GRASS Session\n",
    "gj.init(\"../../data/grassdata\", \"nc_basic_spm_grass7\", \"user1\")"
>>>>>>> osgeo-main
=======
    "# Let's check our import by printing docstring for init()\n",
    "gj.init?"
>>>>>>> 05e3f88683 (wxGUI/datacatalog: fix setting output vector/raster format (#1596))
>>>>>>> 946be2ff7b (wxGUI/datacatalog: fix setting output vector/raster format (#1596))
>>>>>>> 425a31d95b (wxGUI/datacatalog: fix setting output vector/raster format (#1596))
=======
>>>>>>> ea91af519a (wxGUI/datacatalog: fix setting output vector/raster format (#1596))
   ]
  },
  {
   "cell_type": "code",
   "execution_count": null,
   "metadata": {},
   "outputs": [],
   "source": [
<<<<<<< HEAD
<<<<<<< HEAD
<<<<<<< HEAD
<<<<<<< HEAD
<<<<<<< HEAD
<<<<<<< HEAD
<<<<<<< HEAD
<<<<<<< HEAD
<<<<<<< HEAD
<<<<<<< HEAD
<<<<<<< HEAD
<<<<<<< HEAD
<<<<<<< HEAD
<<<<<<< HEAD
<<<<<<< HEAD
=======
<<<<<<< HEAD
=======
>>>>>>> 946be2ff7b (wxGUI/datacatalog: fix setting output vector/raster format (#1596))
<<<<<<< HEAD
<<<<<<< HEAD
<<<<<<< HEAD
<<<<<<< HEAD
<<<<<<< HEAD
<<<<<<< HEAD
=======
>>>>>>> 7896e1a53f (wxGUI/Single-Window: New change page event for AuiNotebook (#1780))
=======
>>>>>>> 861dec1bf2 (wxGUI/Single-Window: New change page event for AuiNotebook (#1780))
=======
>>>>>>> c6a412e10d (wxGUI/Single-Window: New change page event for AuiNotebook (#1780))
=======
>>>>>>> 8472b7b824 (wxGUI/Single-Window: New change page event for AuiNotebook (#1780))
=======
=======
>>>>>>> c4d1702fe7 (wxGUI/datacatalog: fix setting output vector/raster format (#1596))
=======
>>>>>>> 7eeb1e86e5 (wxGUI/datacatalog: fix setting output vector/raster format (#1596))
=======
>>>>>>> 2a3f5af732 (wxGUI/Single-Window: New change page event for AuiNotebook (#1780))
>>>>>>> d0f7fb7e37 (wxGUI/Single-Window: New change page event for AuiNotebook (#1780))
=======
>>>>>>> 2a3f5af732 (wxGUI/Single-Window: New change page event for AuiNotebook (#1780))
=======
>>>>>>> 7ac7d0e0a6 (wxGUI/Single-Window: New change page event for AuiNotebook (#1780))
    "# Start GRASS Session\n",
<<<<<<< HEAD
<<<<<<< HEAD
<<<<<<< HEAD
<<<<<<< HEAD
<<<<<<< HEAD
<<<<<<< HEAD
<<<<<<< HEAD
<<<<<<< HEAD
<<<<<<< HEAD
<<<<<<< HEAD
<<<<<<< HEAD
<<<<<<< HEAD
<<<<<<< HEAD
<<<<<<< HEAD
<<<<<<< HEAD
<<<<<<< HEAD
<<<<<<< HEAD
<<<<<<< HEAD
<<<<<<< HEAD
<<<<<<< HEAD
<<<<<<< HEAD
<<<<<<< HEAD
=======
    "# Start GRASS Session\n",
>>>>>>> 793ee713c5 (wxGUI/datacatalog: fix setting output vector/raster format (#1596))
=======
    "# Start GRASS Session\n",
>>>>>>> b8162a916c (wxGUI/datacatalog: fix setting output vector/raster format (#1596))
=======
    "# Start GRASS Session\n",
>>>>>>> a05b13298f (wxGUI/datacatalog: fix setting output vector/raster format (#1596))
=======
    "# Start GRASS Session\n",
>>>>>>> 6433ad1296 (wxGUI/datacatalog: fix setting output vector/raster format (#1596))
=======
>>>>>>> 56976800a2 (libpython: Save and load benchmark results (#1711))
=======
    "# Start GRASS Session\n",
>>>>>>> 4625684fca (wxGUI/datacatalog: fix setting output vector/raster format (#1596))
=======
    "# Start GRASS Session\n",
>>>>>>> 02f32ae2d4 (wxGUI/datacatalog: fix setting output vector/raster format (#1596))
=======
=======
>>>>>>> aa15e7c6e3 (libpython: Save and load benchmark results (#1711))
=======
>>>>>>> 8d53b00588 (libpython: Save and load benchmark results (#1711))
=======
>>>>>>> c21dcd3d37 (libpython: Save and load benchmark results (#1711))
=======
    "# Start GRASS Session\n",
>>>>>>> 40118f6d63 (wxGUI/datacatalog: fix setting output vector/raster format (#1596))
<<<<<<< HEAD
>>>>>>> c4d1702fe7 (wxGUI/datacatalog: fix setting output vector/raster format (#1596))
=======
=======
    "# Start GRASS Session\n",
>>>>>>> 9e134ec08d (wxGUI/datacatalog: fix setting output vector/raster format (#1596))
<<<<<<< HEAD
>>>>>>> 7eeb1e86e5 (wxGUI/datacatalog: fix setting output vector/raster format (#1596))
=======
    "# Start GRASS Session\n",
>>>>>>> 9e134ec08d (wxGUI/datacatalog: fix setting output vector/raster format (#1596))
=======
    "# Start GRASS Session\n",
>>>>>>> 75f1063afc (wxGUI/datacatalog: fix setting output vector/raster format (#1596))
=======
    "# Start GRASS Session\n",
>>>>>>> b479d694c0 (wxGUI/datacatalog: fix setting output vector/raster format (#1596))
=======
    "# Start GRASS Session\n",
>>>>>>> 8b762d062b (wxGUI/datacatalog: fix setting output vector/raster format (#1596))
=======
    "# Start GRASS Session\n",
>>>>>>> b621c8b780 (wxGUI/datacatalog: fix setting output vector/raster format (#1596))
=======
    "# Start GRASS Session\n",
>>>>>>> 2942a2fdfb (wxGUI/datacatalog: fix setting output vector/raster format (#1596))
=======
    "# Start GRASS Session\n",
>>>>>>> 9051310ffd (wxGUI/datacatalog: fix setting output vector/raster format (#1596))
=======
    "# Start GRASS Session\n",
>>>>>>> 510052984c (wxGUI/datacatalog: fix setting output vector/raster format (#1596))
=======
    "# Start GRASS Session\n",
>>>>>>> 095dc4def6 (wxGUI/datacatalog: fix setting output vector/raster format (#1596))
=======
    "# Start GRASS Session\n",
>>>>>>> 45a066d418 (wxGUI/datacatalog: fix setting output vector/raster format (#1596))
=======
=======
    "# Start GRASS Session\n",
>>>>>>> 05e3f88683 (wxGUI/datacatalog: fix setting output vector/raster format (#1596))
>>>>>>> 946be2ff7b (wxGUI/datacatalog: fix setting output vector/raster format (#1596))
=======
    "# Start GRASS Session\n",
>>>>>>> fa3a181fb0 (wxGUI/datacatalog: fix setting output vector/raster format (#1596))
    "gj.init(\"../../data/grassdata\", \"nc_basic_spm_grass7\", \"user1\")\n",
    "\n",
    "# Set default display settings\n",
    "gj.display_settings()"
<<<<<<< HEAD
<<<<<<< HEAD
<<<<<<< HEAD
<<<<<<< HEAD
<<<<<<< HEAD
<<<<<<< HEAD
<<<<<<< HEAD
<<<<<<< HEAD
<<<<<<< HEAD
<<<<<<< HEAD
<<<<<<< HEAD
<<<<<<< HEAD
<<<<<<< HEAD
<<<<<<< HEAD
<<<<<<< HEAD
<<<<<<< HEAD
<<<<<<< HEAD
<<<<<<< HEAD
<<<<<<< HEAD
<<<<<<< HEAD
<<<<<<< HEAD
>>>>>>> 584e61d06d (wxGUI/datacatalog: fix setting output vector/raster format (#1596))
=======
>>>>>>> 847046a031 (Add session initiations functions for Jupyter Notebooks (#1629))
<<<<<<< HEAD
>>>>>>> 6ce1bc9e11 (Add session initiations functions for Jupyter Notebooks (#1629))
=======
=======
    "gj.init(\"../../data/grassdata\", \"nc_basic_spm_grass7\", \"user1\")"
>>>>>>> da7f79c3f9 (libpython: Save and load benchmark results (#1711))
<<<<<<< HEAD
>>>>>>> fbe1fc358a (libpython: Save and load benchmark results (#1711))
=======
=======
>>>>>>> 793ee713c5 (wxGUI/datacatalog: fix setting output vector/raster format (#1596))
<<<<<<< HEAD
>>>>>>> 836a40382b (wxGUI/datacatalog: fix setting output vector/raster format (#1596))
=======
=======
    "gj.init(\"../../data/grassdata\", \"nc_basic_spm_grass7\", \"user1\")"
>>>>>>> 86e790785c (libpython: Save and load benchmark results (#1711))
<<<<<<< HEAD
>>>>>>> 319ab246f0 (libpython: Save and load benchmark results (#1711))
=======
=======
>>>>>>> b8162a916c (wxGUI/datacatalog: fix setting output vector/raster format (#1596))
<<<<<<< HEAD
>>>>>>> 75ca885908 (wxGUI/datacatalog: fix setting output vector/raster format (#1596))
=======
=======
    "gj.init(\"../../data/grassdata\", \"nc_basic_spm_grass7\", \"user1\")"
>>>>>>> 476ef44553 (libpython: Save and load benchmark results (#1711))
<<<<<<< HEAD
>>>>>>> 8a112feb47 (libpython: Save and load benchmark results (#1711))
=======
=======
>>>>>>> a05b13298f (wxGUI/datacatalog: fix setting output vector/raster format (#1596))
<<<<<<< HEAD
>>>>>>> 08a756738c (wxGUI/datacatalog: fix setting output vector/raster format (#1596))
=======
=======
    "gj.init(\"../../data/grassdata\", \"nc_basic_spm_grass7\", \"user1\")"
>>>>>>> f541ee3b09 (libpython: Save and load benchmark results (#1711))
<<<<<<< HEAD
>>>>>>> 7439490972 (libpython: Save and load benchmark results (#1711))
=======
=======
>>>>>>> 4625684fca (wxGUI/datacatalog: fix setting output vector/raster format (#1596))
<<<<<<< HEAD
>>>>>>> 6433ad1296 (wxGUI/datacatalog: fix setting output vector/raster format (#1596))
<<<<<<< HEAD
>>>>>>> 756f105374 (wxGUI/datacatalog: fix setting output vector/raster format (#1596))
=======
=======
=======
    "gj.init(\"../../data/grassdata\", \"nc_basic_spm_grass7\", \"user1\")"
>>>>>>> 923408bf7e (libpython: Save and load benchmark results (#1711))
>>>>>>> 56976800a2 (libpython: Save and load benchmark results (#1711))
<<<<<<< HEAD
>>>>>>> 9cac1201a9 (libpython: Save and load benchmark results (#1711))
=======
=======
=======
>>>>>>> c4d1702fe7 (wxGUI/datacatalog: fix setting output vector/raster format (#1596))
=======
>>>>>>> 7eeb1e86e5 (wxGUI/datacatalog: fix setting output vector/raster format (#1596))
=======
>>>>>>> 946be2ff7b (wxGUI/datacatalog: fix setting output vector/raster format (#1596))
>>>>>>> 4625684fca (wxGUI/datacatalog: fix setting output vector/raster format (#1596))
<<<<<<< HEAD
>>>>>>> 855503a984 (wxGUI/datacatalog: fix setting output vector/raster format (#1596))
=======
=======
    "gj.init(\"../../data/grassdata\", \"nc_basic_spm_grass7\", \"user1\")"
>>>>>>> 923408bf7e (libpython: Save and load benchmark results (#1711))
<<<<<<< HEAD
>>>>>>> 6dbb418f88 (libpython: Save and load benchmark results (#1711))
=======
=======
<<<<<<< HEAD
>>>>>>> 02f32ae2d4 (wxGUI/datacatalog: fix setting output vector/raster format (#1596))
<<<<<<< HEAD
>>>>>>> b4f1490ce2 (wxGUI/datacatalog: fix setting output vector/raster format (#1596))
=======
=======
    "gj.init(\"../../data/grassdata\", \"nc_basic_spm_grass7\", \"user1\")"
>>>>>>> 2bf163e4b3 (libpython: Save and load benchmark results (#1711))
<<<<<<< HEAD
>>>>>>> 0d0bc8bfd9 (libpython: Save and load benchmark results (#1711))
=======
=======
>>>>>>> 40118f6d63 (wxGUI/datacatalog: fix setting output vector/raster format (#1596))
<<<<<<< HEAD
>>>>>>> c4d1702fe7 (wxGUI/datacatalog: fix setting output vector/raster format (#1596))
<<<<<<< HEAD
>>>>>>> 4566710e5b (wxGUI/datacatalog: fix setting output vector/raster format (#1596))
=======
=======
=======
    "gj.init(\"../../data/grassdata\", \"nc_basic_spm_grass7\", \"user1\")"
>>>>>>> af1011ff1e (libpython: Save and load benchmark results (#1711))
<<<<<<< HEAD
>>>>>>> aa15e7c6e3 (libpython: Save and load benchmark results (#1711))
<<<<<<< HEAD
>>>>>>> 8a286c75d5 (libpython: Save and load benchmark results (#1711))
=======
=======
=======
>>>>>>> 9e134ec08d (wxGUI/datacatalog: fix setting output vector/raster format (#1596))
<<<<<<< HEAD
>>>>>>> 7eeb1e86e5 (wxGUI/datacatalog: fix setting output vector/raster format (#1596))
<<<<<<< HEAD
>>>>>>> 0d97a989f6 (wxGUI/datacatalog: fix setting output vector/raster format (#1596))
=======
=======
=======
    "gj.init(\"../../data/grassdata\", \"nc_basic_spm_grass7\", \"user1\")"
>>>>>>> 033a57360f (libpython: Save and load benchmark results (#1711))
>>>>>>> 8d53b00588 (libpython: Save and load benchmark results (#1711))
<<<<<<< HEAD
>>>>>>> dcc1810d30 (libpython: Save and load benchmark results (#1711))
=======
=======
>>>>>>> 9e134ec08d (wxGUI/datacatalog: fix setting output vector/raster format (#1596))
<<<<<<< HEAD
>>>>>>> fa7df22047 (wxGUI/datacatalog: fix setting output vector/raster format (#1596))
=======
=======
    "gj.init(\"../../data/grassdata\", \"nc_basic_spm_grass7\", \"user1\")"
>>>>>>> 033a57360f (libpython: Save and load benchmark results (#1711))
<<<<<<< HEAD
>>>>>>> a29c4a1571 (libpython: Save and load benchmark results (#1711))
=======
=======
<<<<<<< HEAD
>>>>>>> 75f1063afc (wxGUI/datacatalog: fix setting output vector/raster format (#1596))
<<<<<<< HEAD
>>>>>>> 73c280b8c6 (wxGUI/datacatalog: fix setting output vector/raster format (#1596))
=======
=======
    "gj.init(\"../../data/grassdata\", \"nc_basic_spm_grass7\", \"user1\")"
>>>>>>> 8984405ebb (libpython: Save and load benchmark results (#1711))
<<<<<<< HEAD
>>>>>>> 23a05fbab6 (libpython: Save and load benchmark results (#1711))
=======
=======
>>>>>>> b479d694c0 (wxGUI/datacatalog: fix setting output vector/raster format (#1596))
<<<<<<< HEAD
>>>>>>> d0b3ffd998 (wxGUI/datacatalog: fix setting output vector/raster format (#1596))
=======
=======
    "gj.init(\"../../data/grassdata\", \"nc_basic_spm_grass7\", \"user1\")"
>>>>>>> 6abb78d81f (libpython: Save and load benchmark results (#1711))
<<<<<<< HEAD
>>>>>>> 8051b01c88 (libpython: Save and load benchmark results (#1711))
=======
=======
>>>>>>> 8b762d062b (wxGUI/datacatalog: fix setting output vector/raster format (#1596))
<<<<<<< HEAD
>>>>>>> 3468665ca3 (wxGUI/datacatalog: fix setting output vector/raster format (#1596))
=======
=======
    "gj.init(\"../../data/grassdata\", \"nc_basic_spm_grass7\", \"user1\")"
>>>>>>> 4f7b5aea0b (libpython: Save and load benchmark results (#1711))
<<<<<<< HEAD
>>>>>>> 969385adae (libpython: Save and load benchmark results (#1711))
=======
=======
>>>>>>> b621c8b780 (wxGUI/datacatalog: fix setting output vector/raster format (#1596))
<<<<<<< HEAD
>>>>>>> f9261b86c0 (wxGUI/datacatalog: fix setting output vector/raster format (#1596))
=======
=======
    "gj.init(\"../../data/grassdata\", \"nc_basic_spm_grass7\", \"user1\")"
>>>>>>> 6d0d0f1535 (libpython: Save and load benchmark results (#1711))
<<<<<<< HEAD
>>>>>>> d86c47b865 (libpython: Save and load benchmark results (#1711))
=======
=======
>>>>>>> 2942a2fdfb (wxGUI/datacatalog: fix setting output vector/raster format (#1596))
<<<<<<< HEAD
>>>>>>> 16ac4aec37 (wxGUI/datacatalog: fix setting output vector/raster format (#1596))
=======
=======
    "gj.init(\"../../data/grassdata\", \"nc_basic_spm_grass7\", \"user1\")"
>>>>>>> f4219c860c (libpython: Save and load benchmark results (#1711))
<<<<<<< HEAD
>>>>>>> f226a36d82 (libpython: Save and load benchmark results (#1711))
=======
=======
>>>>>>> 9051310ffd (wxGUI/datacatalog: fix setting output vector/raster format (#1596))
<<<<<<< HEAD
>>>>>>> 773ccfdfd3 (wxGUI/datacatalog: fix setting output vector/raster format (#1596))
=======
=======
    "gj.init(\"../../data/grassdata\", \"nc_basic_spm_grass7\", \"user1\")"
>>>>>>> ab99037454 (libpython: Save and load benchmark results (#1711))
<<<<<<< HEAD
>>>>>>> 102ca719c3 (libpython: Save and load benchmark results (#1711))
=======
=======
>>>>>>> 510052984c (wxGUI/datacatalog: fix setting output vector/raster format (#1596))
<<<<<<< HEAD
>>>>>>> cef6c84d7f (wxGUI/datacatalog: fix setting output vector/raster format (#1596))
=======
=======
    "gj.init(\"../../data/grassdata\", \"nc_basic_spm_grass7\", \"user1\")"
>>>>>>> eb42b06b22 (libpython: Save and load benchmark results (#1711))
<<<<<<< HEAD
>>>>>>> f2e1fe7db7 (libpython: Save and load benchmark results (#1711))
=======
=======
>>>>>>> 095dc4def6 (wxGUI/datacatalog: fix setting output vector/raster format (#1596))
<<<<<<< HEAD
>>>>>>> 98fd9cfdb5 (wxGUI/datacatalog: fix setting output vector/raster format (#1596))
=======
=======
    "gj.init(\"../../data/grassdata\", \"nc_basic_spm_grass7\", \"user1\")"
>>>>>>> f0a06841f5 (libpython: Save and load benchmark results (#1711))
<<<<<<< HEAD
>>>>>>> 39aa99710a (libpython: Save and load benchmark results (#1711))
=======
=======
>>>>>>> 45a066d418 (wxGUI/datacatalog: fix setting output vector/raster format (#1596))
<<<<<<< HEAD
>>>>>>> cd0f28f571 (wxGUI/datacatalog: fix setting output vector/raster format (#1596))
=======
=======
    "gj.init(\"../../data/grassdata\", \"nc_basic_spm_grass7\", \"user1\")"
>>>>>>> 13ad0bbd2d (libpython: Save and load benchmark results (#1711))
<<<<<<< HEAD
>>>>>>> 6178b77bf1 (libpython: Save and load benchmark results (#1711))
=======
=======
>>>>>>> 05e3f88683 (wxGUI/datacatalog: fix setting output vector/raster format (#1596))
<<<<<<< HEAD
>>>>>>> 946be2ff7b (wxGUI/datacatalog: fix setting output vector/raster format (#1596))
<<<<<<< HEAD
>>>>>>> 425a31d95b (wxGUI/datacatalog: fix setting output vector/raster format (#1596))
=======
=======
=======
    "gj.init(\"../../data/grassdata\", \"nc_basic_spm_grass7\", \"user1\")"
>>>>>>> 504a46451c (libpython: Save and load benchmark results (#1711))
>>>>>>> c21dcd3d37 (libpython: Save and load benchmark results (#1711))
<<<<<<< HEAD
>>>>>>> 1c3c7a612a (libpython: Save and load benchmark results (#1711))
=======
=======
>>>>>>> fa3a181fb0 (wxGUI/datacatalog: fix setting output vector/raster format (#1596))
<<<<<<< HEAD
>>>>>>> ea91af519a (wxGUI/datacatalog: fix setting output vector/raster format (#1596))
=======
=======
    "gj.init(\"../../data/grassdata\", \"nc_basic_spm_grass7\", \"user1\")"
>>>>>>> 742603b912 (libpython: Save and load benchmark results (#1711))
>>>>>>> 6c56216d2e (libpython: Save and load benchmark results (#1711))
   ]
  },
  {
   "cell_type": "code",
   "execution_count": null,
   "metadata": {},
   "outputs": [],
   "source": [
<<<<<<< HEAD
<<<<<<< HEAD
<<<<<<< HEAD
<<<<<<< HEAD
<<<<<<< HEAD
<<<<<<< HEAD
<<<<<<< HEAD
<<<<<<< HEAD
<<<<<<< HEAD
<<<<<<< HEAD
<<<<<<< HEAD
<<<<<<< HEAD
<<<<<<< HEAD
<<<<<<< HEAD
<<<<<<< HEAD
<<<<<<< HEAD
<<<<<<< HEAD
<<<<<<< HEAD
<<<<<<< HEAD
<<<<<<< HEAD
<<<<<<< HEAD
<<<<<<< HEAD
<<<<<<< HEAD
<<<<<<< HEAD
<<<<<<< HEAD
<<<<<<< HEAD
<<<<<<< HEAD
<<<<<<< HEAD
<<<<<<< HEAD
<<<<<<< HEAD
<<<<<<< HEAD
<<<<<<< HEAD
<<<<<<< HEAD
<<<<<<< HEAD
<<<<<<< HEAD
<<<<<<< HEAD
<<<<<<< HEAD
<<<<<<< HEAD
<<<<<<< HEAD
<<<<<<< HEAD
<<<<<<< HEAD
<<<<<<< HEAD
<<<<<<< HEAD
<<<<<<< HEAD
<<<<<<< HEAD
<<<<<<< HEAD
<<<<<<< HEAD
<<<<<<< HEAD
<<<<<<< HEAD
<<<<<<< HEAD
<<<<<<< HEAD
<<<<<<< HEAD
<<<<<<< HEAD
<<<<<<< HEAD
<<<<<<< HEAD
<<<<<<< HEAD
<<<<<<< HEAD
<<<<<<< HEAD
<<<<<<< HEAD
=======
<<<<<<< HEAD
=======
=======
>>>>>>> ea91af519a (wxGUI/datacatalog: fix setting output vector/raster format (#1596))
=======
>>>>>>> 6c56216d2e (libpython: Save and load benchmark results (#1711))
=======
>>>>>>> c21dcd3d37 (libpython: Save and load benchmark results (#1711))
>>>>>>> 1c3c7a612a (libpython: Save and load benchmark results (#1711))
=======
>>>>>>> 946be2ff7b (wxGUI/datacatalog: fix setting output vector/raster format (#1596))
<<<<<<< HEAD
<<<<<<< HEAD
<<<<<<< HEAD
<<<<<<< HEAD
<<<<<<< HEAD
<<<<<<< HEAD
=======
>>>>>>> 7896e1a53f (wxGUI/Single-Window: New change page event for AuiNotebook (#1780))
<<<<<<< HEAD
>>>>>>> bfcba1482b (wxGUI/Single-Window: New change page event for AuiNotebook (#1780))
=======
=======
>>>>>>> 861dec1bf2 (wxGUI/Single-Window: New change page event for AuiNotebook (#1780))
<<<<<<< HEAD
>>>>>>> f9daf13560 (wxGUI/Single-Window: New change page event for AuiNotebook (#1780))
=======
=======
>>>>>>> c6a412e10d (wxGUI/Single-Window: New change page event for AuiNotebook (#1780))
<<<<<<< HEAD
>>>>>>> c5bad555b2 (wxGUI/Single-Window: New change page event for AuiNotebook (#1780))
=======
=======
>>>>>>> 8472b7b824 (wxGUI/Single-Window: New change page event for AuiNotebook (#1780))
<<<<<<< HEAD
>>>>>>> da35d0e56f (wxGUI/Single-Window: New change page event for AuiNotebook (#1780))
=======
=======
=======
=======
>>>>>>> aa15e7c6e3 (libpython: Save and load benchmark results (#1711))
>>>>>>> 8a286c75d5 (libpython: Save and load benchmark results (#1711))
=======
>>>>>>> c4d1702fe7 (wxGUI/datacatalog: fix setting output vector/raster format (#1596))
=======
=======
>>>>>>> fa7df22047 (wxGUI/datacatalog: fix setting output vector/raster format (#1596))
=======
>>>>>>> a29c4a1571 (libpython: Save and load benchmark results (#1711))
=======
>>>>>>> 73c280b8c6 (wxGUI/datacatalog: fix setting output vector/raster format (#1596))
=======
>>>>>>> 23a05fbab6 (libpython: Save and load benchmark results (#1711))
=======
>>>>>>> d0b3ffd998 (wxGUI/datacatalog: fix setting output vector/raster format (#1596))
=======
>>>>>>> 8051b01c88 (libpython: Save and load benchmark results (#1711))
=======
>>>>>>> 3468665ca3 (wxGUI/datacatalog: fix setting output vector/raster format (#1596))
=======
>>>>>>> 969385adae (libpython: Save and load benchmark results (#1711))
=======
>>>>>>> f9261b86c0 (wxGUI/datacatalog: fix setting output vector/raster format (#1596))
=======
>>>>>>> d86c47b865 (libpython: Save and load benchmark results (#1711))
=======
>>>>>>> 16ac4aec37 (wxGUI/datacatalog: fix setting output vector/raster format (#1596))
=======
>>>>>>> f226a36d82 (libpython: Save and load benchmark results (#1711))
=======
>>>>>>> 773ccfdfd3 (wxGUI/datacatalog: fix setting output vector/raster format (#1596))
=======
>>>>>>> 102ca719c3 (libpython: Save and load benchmark results (#1711))
=======
>>>>>>> cef6c84d7f (wxGUI/datacatalog: fix setting output vector/raster format (#1596))
=======
>>>>>>> f2e1fe7db7 (libpython: Save and load benchmark results (#1711))
=======
>>>>>>> 98fd9cfdb5 (wxGUI/datacatalog: fix setting output vector/raster format (#1596))
=======
>>>>>>> 39aa99710a (libpython: Save and load benchmark results (#1711))
=======
>>>>>>> cd0f28f571 (wxGUI/datacatalog: fix setting output vector/raster format (#1596))
=======
>>>>>>> 6178b77bf1 (libpython: Save and load benchmark results (#1711))
=======
=======
>>>>>>> 946be2ff7b (wxGUI/datacatalog: fix setting output vector/raster format (#1596))
>>>>>>> 425a31d95b (wxGUI/datacatalog: fix setting output vector/raster format (#1596))
=======
>>>>>>> 8d53b00588 (libpython: Save and load benchmark results (#1711))
>>>>>>> dcc1810d30 (libpython: Save and load benchmark results (#1711))
=======
>>>>>>> 7eeb1e86e5 (wxGUI/datacatalog: fix setting output vector/raster format (#1596))
=======
>>>>>>> 2a3f5af732 (wxGUI/Single-Window: New change page event for AuiNotebook (#1780))
>>>>>>> d0f7fb7e37 (wxGUI/Single-Window: New change page event for AuiNotebook (#1780))
<<<<<<< HEAD
>>>>>>> f60d41cfac (wxGUI/Single-Window: New change page event for AuiNotebook (#1780))
=======
=======
>>>>>>> 2a3f5af732 (wxGUI/Single-Window: New change page event for AuiNotebook (#1780))
<<<<<<< HEAD
>>>>>>> a3f08c4c56 (wxGUI/Single-Window: New change page event for AuiNotebook (#1780))
=======
=======
>>>>>>> 7ac7d0e0a6 (wxGUI/Single-Window: New change page event for AuiNotebook (#1780))
>>>>>>> 6c3db39bfa (wxGUI/Single-Window: New change page event for AuiNotebook (#1780))
    "# Start GRASS Session\n",
<<<<<<< HEAD
<<<<<<< HEAD
<<<<<<< HEAD
<<<<<<< HEAD
<<<<<<< HEAD
<<<<<<< HEAD
<<<<<<< HEAD
<<<<<<< HEAD
<<<<<<< HEAD
<<<<<<< HEAD
<<<<<<< HEAD
<<<<<<< HEAD
<<<<<<< HEAD
<<<<<<< HEAD
<<<<<<< HEAD
<<<<<<< HEAD
<<<<<<< HEAD
<<<<<<< HEAD
<<<<<<< HEAD
<<<<<<< HEAD
<<<<<<< HEAD
<<<<<<< HEAD
<<<<<<< HEAD
<<<<<<< HEAD
<<<<<<< HEAD
<<<<<<< HEAD
    "gj.init(\"../../data/grassdata\", \"nc_basic_spm_grass7\", \"user1\")"
>>>>>>> osgeo-main
=======
    "# Start GRASS Session\n",
    "gj.init(\"../../data/grassdata\", \"nc_basic_spm_grass7\", \"user1\")"
>>>>>>> osgeo-main
=======
    "# Let's check our import by printing docstring for init()\n",
    "gj.init?"
>>>>>>> 40118f6d63 (wxGUI/datacatalog: fix setting output vector/raster format (#1596))
=======
<<<<<<< HEAD
    "# Let's check our import by printing docstring for init()\n",
    "gj.init?"
>>>>>>> 9e134ec08d (wxGUI/datacatalog: fix setting output vector/raster format (#1596))
=======
    "# Start GRASS Session\n",
    "gj.init(\"../../data/grassdata\", \"nc_basic_spm_grass7\", \"user1\")"
>>>>>>> osgeo-main
=======
    "# Start GRASS Session\n",
    "gj.init(\"../../data/grassdata\", \"nc_basic_spm_grass7\", \"user1\")"
>>>>>>> osgeo-main
>>>>>>> main
=======
    "# Start GRASS Session\n",
    "gj.init(\"../../data/grassdata\", \"nc_basic_spm_grass7\", \"user1\")"
>>>>>>> osgeo-main
=======
    "# Start GRASS Session\n",
    "gj.init(\"../../data/grassdata\", \"nc_basic_spm_grass7\", \"user1\")"
>>>>>>> osgeo-main
=======
    "# Start GRASS Session\n",
    "gj.init(\"../../data/grassdata\", \"nc_basic_spm_grass7\", \"user1\")"
>>>>>>> osgeo-main
=======
    "# Start GRASS Session\n",
    "gj.init(\"../../data/grassdata\", \"nc_basic_spm_grass7\", \"user1\")"
>>>>>>> osgeo-main
=======
    "# Start GRASS Session\n",
    "gj.init(\"../../data/grassdata\", \"nc_basic_spm_grass7\", \"user1\")"
>>>>>>> osgeo-main
=======
    "# Start GRASS Session\n",
    "gj.init(\"../../data/grassdata\", \"nc_basic_spm_grass7\", \"user1\")"
>>>>>>> osgeo-main
=======
    "# Start GRASS Session\n",
    "gj.init(\"../../data/grassdata\", \"nc_basic_spm_grass7\", \"user1\")"
>>>>>>> osgeo-main
=======
    "# Start GRASS Session\n",
    "gj.init(\"../../data/grassdata\", \"nc_basic_spm_grass7\", \"user1\")"
>>>>>>> osgeo-main
=======
    "# Let's check our import by printing docstring for init()\n",
    "gj.init?"
>>>>>>> 05e3f88683 (wxGUI/datacatalog: fix setting output vector/raster format (#1596))
=======
    "# Start GRASS Session\n",
    "gj.init(\"../../data/grassdata\", \"nc_basic_spm_grass7\", \"user1\")"
>>>>>>> osgeo-main
=======
    "# Start GRASS Session\n",
    "gj.init(\"../../data/grassdata\", \"nc_basic_spm_grass7\", \"user1\")"
>>>>>>> osgeo-main
=======
>>>>>>> 1cb35c2fc8 (wxGUI/datacatalog: fix setting output vector/raster format (#1596))
=======
=======
>>>>>>> 4e96c0c0e8 (libpython: Save and load benchmark results (#1711))
=======
=======
>>>>>>> 1906f4a791 (libpython: Save and load benchmark results (#1711))
=======
>>>>>>> 345367a7c1 (libpython: Save and load benchmark results (#1711))
=======
>>>>>>> 4b334d121f (libpython: Save and load benchmark results (#1711))
=======
>>>>>>> f2dfa9a433 (libpython: Save and load benchmark results (#1711))
=======
>>>>>>> de5b9cd94f (libpython: Save and load benchmark results (#1711))
=======
>>>>>>> fb4ab822d8 (libpython: Save and load benchmark results (#1711))
=======
>>>>>>> 83a2bf0c85 (wxGUI/datacatalog: fix setting output vector/raster format (#1596))
=======
>>>>>>> d56ffd79c6 (libpython: Save and load benchmark results (#1711))
=======
>>>>>>> f8d32d9e3a (libpython: Save and load benchmark results (#1711))
=======
>>>>>>> ae5deb8874 (libpython: Save and load benchmark results (#1711))
=======
>>>>>>> f91c52c645 (libpython: Save and load benchmark results (#1711))
=======
>>>>>>> 577d32036e (libpython: Save and load benchmark results (#1711))
=======
>>>>>>> 3627af9569 (libpython: Save and load benchmark results (#1711))
=======
>>>>>>> f1ae4cefc3 (libpython: Save and load benchmark results (#1711))
=======
>>>>>>> bceba4c6e2 (libpython: Save and load benchmark results (#1711))
=======
>>>>>>> 2efe487a0f (libpython: Save and load benchmark results (#1711))
=======
>>>>>>> 980c935a7d (libpython: Save and load benchmark results (#1711))
=======
>>>>>>> 094016f111 (libpython: Save and load benchmark results (#1711))
=======
>>>>>>> 97c1ae10bf (libpython: Save and load benchmark results (#1711))
=======
>>>>>>> 9a51bf3124 (libpython: Save and load benchmark results (#1711))
=======
>>>>>>> 4480ca2a94 (libpython: Save and load benchmark results (#1711))
=======
>>>>>>> 70b350b826 (libpython: Save and load benchmark results (#1711))
=======
    "# Start GRASS Session\n",
>>>>>>> 793ee713c5 (wxGUI/datacatalog: fix setting output vector/raster format (#1596))
<<<<<<< HEAD
>>>>>>> a09cd63835 (wxGUI/datacatalog: fix setting output vector/raster format (#1596))
=======
=======
    "# Start GRASS Session\n",
>>>>>>> b8162a916c (wxGUI/datacatalog: fix setting output vector/raster format (#1596))
<<<<<<< HEAD
>>>>>>> 565c97946b (wxGUI/datacatalog: fix setting output vector/raster format (#1596))
=======
=======
    "# Start GRASS Session\n",
>>>>>>> a05b13298f (wxGUI/datacatalog: fix setting output vector/raster format (#1596))
<<<<<<< HEAD
>>>>>>> 150ef7b78e (wxGUI/datacatalog: fix setting output vector/raster format (#1596))
=======
=======
    "# Start GRASS Session\n",
>>>>>>> 6433ad1296 (wxGUI/datacatalog: fix setting output vector/raster format (#1596))
<<<<<<< HEAD
>>>>>>> 6f5fb4923c (wxGUI/datacatalog: fix setting output vector/raster format (#1596))
=======
=======
>>>>>>> 56976800a2 (libpython: Save and load benchmark results (#1711))
<<<<<<< HEAD
>>>>>>> f2dfa9a433 (libpython: Save and load benchmark results (#1711))
=======
=======
    "# Start GRASS Session\n",
>>>>>>> 4625684fca (wxGUI/datacatalog: fix setting output vector/raster format (#1596))
<<<<<<< HEAD
>>>>>>> 3229dc2622 (wxGUI/datacatalog: fix setting output vector/raster format (#1596))
=======
=======
    "# Start GRASS Session\n",
>>>>>>> 02f32ae2d4 (wxGUI/datacatalog: fix setting output vector/raster format (#1596))
<<<<<<< HEAD
>>>>>>> 9d1090ec82 (wxGUI/datacatalog: fix setting output vector/raster format (#1596))
=======
=======
=======
=======
>>>>>>> 7eeb1e86e5 (wxGUI/datacatalog: fix setting output vector/raster format (#1596))
>>>>>>> 0d97a989f6 (wxGUI/datacatalog: fix setting output vector/raster format (#1596))
=======
>>>>>>> aa15e7c6e3 (libpython: Save and load benchmark results (#1711))
=======
>>>>>>> 8d53b00588 (libpython: Save and load benchmark results (#1711))
=======
>>>>>>> c21dcd3d37 (libpython: Save and load benchmark results (#1711))
=======
    "# Start GRASS Session\n",
>>>>>>> 40118f6d63 (wxGUI/datacatalog: fix setting output vector/raster format (#1596))
<<<<<<< HEAD
>>>>>>> c4d1702fe7 (wxGUI/datacatalog: fix setting output vector/raster format (#1596))
<<<<<<< HEAD
>>>>>>> 83a2bf0c85 (wxGUI/datacatalog: fix setting output vector/raster format (#1596))
=======
=======
=======
    "# Start GRASS Session\n",
>>>>>>> 9e134ec08d (wxGUI/datacatalog: fix setting output vector/raster format (#1596))
<<<<<<< HEAD
>>>>>>> 7eeb1e86e5 (wxGUI/datacatalog: fix setting output vector/raster format (#1596))
<<<<<<< HEAD
>>>>>>> 19273bf354 (wxGUI/datacatalog: fix setting output vector/raster format (#1596))
=======
=======
    "# Start GRASS Session\n",
>>>>>>> 9e134ec08d (wxGUI/datacatalog: fix setting output vector/raster format (#1596))
<<<<<<< HEAD
>>>>>>> deaca750c4 (wxGUI/datacatalog: fix setting output vector/raster format (#1596))
=======
=======
    "# Start GRASS Session\n",
>>>>>>> 75f1063afc (wxGUI/datacatalog: fix setting output vector/raster format (#1596))
<<<<<<< HEAD
>>>>>>> 4ea1bcfd13 (wxGUI/datacatalog: fix setting output vector/raster format (#1596))
=======
=======
    "# Start GRASS Session\n",
>>>>>>> b479d694c0 (wxGUI/datacatalog: fix setting output vector/raster format (#1596))
<<<<<<< HEAD
>>>>>>> d2b40d15ca (wxGUI/datacatalog: fix setting output vector/raster format (#1596))
=======
=======
    "# Start GRASS Session\n",
>>>>>>> 8b762d062b (wxGUI/datacatalog: fix setting output vector/raster format (#1596))
<<<<<<< HEAD
>>>>>>> 667b6aa79a (wxGUI/datacatalog: fix setting output vector/raster format (#1596))
=======
=======
    "# Start GRASS Session\n",
>>>>>>> b621c8b780 (wxGUI/datacatalog: fix setting output vector/raster format (#1596))
<<<<<<< HEAD
>>>>>>> e4f4950cae (wxGUI/datacatalog: fix setting output vector/raster format (#1596))
=======
=======
    "# Start GRASS Session\n",
>>>>>>> 2942a2fdfb (wxGUI/datacatalog: fix setting output vector/raster format (#1596))
<<<<<<< HEAD
>>>>>>> d3be45bfb5 (wxGUI/datacatalog: fix setting output vector/raster format (#1596))
=======
=======
    "# Start GRASS Session\n",
>>>>>>> 9051310ffd (wxGUI/datacatalog: fix setting output vector/raster format (#1596))
<<<<<<< HEAD
>>>>>>> 744c99be79 (wxGUI/datacatalog: fix setting output vector/raster format (#1596))
=======
=======
    "# Start GRASS Session\n",
>>>>>>> 510052984c (wxGUI/datacatalog: fix setting output vector/raster format (#1596))
<<<<<<< HEAD
>>>>>>> 024f004a0e (wxGUI/datacatalog: fix setting output vector/raster format (#1596))
=======
=======
    "# Start GRASS Session\n",
>>>>>>> 095dc4def6 (wxGUI/datacatalog: fix setting output vector/raster format (#1596))
<<<<<<< HEAD
>>>>>>> 724bccdb58 (wxGUI/datacatalog: fix setting output vector/raster format (#1596))
=======
=======
    "# Start GRASS Session\n",
>>>>>>> 45a066d418 (wxGUI/datacatalog: fix setting output vector/raster format (#1596))
<<<<<<< HEAD
>>>>>>> e502e3849e (wxGUI/datacatalog: fix setting output vector/raster format (#1596))
=======
=======
=======
    "# Start GRASS Session\n",
>>>>>>> 05e3f88683 (wxGUI/datacatalog: fix setting output vector/raster format (#1596))
>>>>>>> 946be2ff7b (wxGUI/datacatalog: fix setting output vector/raster format (#1596))
<<<<<<< HEAD
>>>>>>> 1eade8c933 (wxGUI/datacatalog: fix setting output vector/raster format (#1596))
=======
=======
    "# Start GRASS Session\n",
>>>>>>> fa3a181fb0 (wxGUI/datacatalog: fix setting output vector/raster format (#1596))
<<<<<<< HEAD
>>>>>>> e2b92fe11f (wxGUI/datacatalog: fix setting output vector/raster format (#1596))
=======
=======
    "# Start GRASS Session\n",
>>>>>>> bd71b111b3 (wxGUI/datacatalog: fix setting output vector/raster format (#1596))
>>>>>>> 073da2916c (wxGUI/datacatalog: fix setting output vector/raster format (#1596))
=======
    "# Start GRASS Session\n",
>>>>>>> 07fcd460d0 (wxGUI/datacatalog: fix setting output vector/raster format (#1596))
    "gj.init(\"../../data/grassdata\", \"nc_basic_spm_grass7\", \"user1\")\n",
    "\n",
    "# Set default display settings\n",
    "gj.display_settings()"
<<<<<<< HEAD
<<<<<<< HEAD
<<<<<<< HEAD
<<<<<<< HEAD
<<<<<<< HEAD
<<<<<<< HEAD
<<<<<<< HEAD
<<<<<<< HEAD
<<<<<<< HEAD
<<<<<<< HEAD
<<<<<<< HEAD
<<<<<<< HEAD
<<<<<<< HEAD
<<<<<<< HEAD
<<<<<<< HEAD
<<<<<<< HEAD
<<<<<<< HEAD
<<<<<<< HEAD
<<<<<<< HEAD
<<<<<<< HEAD
<<<<<<< HEAD
<<<<<<< HEAD
<<<<<<< HEAD
>>>>>>> 584e61d06d (wxGUI/datacatalog: fix setting output vector/raster format (#1596))
=======
>>>>>>> 847046a031 (Add session initiations functions for Jupyter Notebooks (#1629))
<<<<<<< HEAD
>>>>>>> b53d4aed76 (Add session initiations functions for Jupyter Notebooks (#1629))
=======
=======
    "gj.init(\"../../data/grassdata\", \"nc_basic_spm_grass7\", \"user1\")"
>>>>>>> da7f79c3f9 (libpython: Save and load benchmark results (#1711))
<<<<<<< HEAD
>>>>>>> 4e96c0c0e8 (libpython: Save and load benchmark results (#1711))
=======
=======
>>>>>>> 793ee713c5 (wxGUI/datacatalog: fix setting output vector/raster format (#1596))
<<<<<<< HEAD
>>>>>>> a09cd63835 (wxGUI/datacatalog: fix setting output vector/raster format (#1596))
=======
=======
    "gj.init(\"../../data/grassdata\", \"nc_basic_spm_grass7\", \"user1\")"
>>>>>>> 86e790785c (libpython: Save and load benchmark results (#1711))
<<<<<<< HEAD
>>>>>>> 1906f4a791 (libpython: Save and load benchmark results (#1711))
=======
=======
>>>>>>> b8162a916c (wxGUI/datacatalog: fix setting output vector/raster format (#1596))
<<<<<<< HEAD
>>>>>>> 565c97946b (wxGUI/datacatalog: fix setting output vector/raster format (#1596))
=======
=======
    "gj.init(\"../../data/grassdata\", \"nc_basic_spm_grass7\", \"user1\")"
>>>>>>> 476ef44553 (libpython: Save and load benchmark results (#1711))
<<<<<<< HEAD
>>>>>>> 345367a7c1 (libpython: Save and load benchmark results (#1711))
=======
=======
>>>>>>> a05b13298f (wxGUI/datacatalog: fix setting output vector/raster format (#1596))
<<<<<<< HEAD
>>>>>>> 150ef7b78e (wxGUI/datacatalog: fix setting output vector/raster format (#1596))
=======
=======
    "gj.init(\"../../data/grassdata\", \"nc_basic_spm_grass7\", \"user1\")"
>>>>>>> f541ee3b09 (libpython: Save and load benchmark results (#1711))
<<<<<<< HEAD
>>>>>>> 4b334d121f (libpython: Save and load benchmark results (#1711))
=======
=======
>>>>>>> 4625684fca (wxGUI/datacatalog: fix setting output vector/raster format (#1596))
<<<<<<< HEAD
>>>>>>> 6433ad1296 (wxGUI/datacatalog: fix setting output vector/raster format (#1596))
<<<<<<< HEAD
>>>>>>> 6f5fb4923c (wxGUI/datacatalog: fix setting output vector/raster format (#1596))
=======
=======
=======
    "gj.init(\"../../data/grassdata\", \"nc_basic_spm_grass7\", \"user1\")"
>>>>>>> 923408bf7e (libpython: Save and load benchmark results (#1711))
>>>>>>> 56976800a2 (libpython: Save and load benchmark results (#1711))
<<<<<<< HEAD
>>>>>>> f2dfa9a433 (libpython: Save and load benchmark results (#1711))
=======
=======
=======
>>>>>>> c4d1702fe7 (wxGUI/datacatalog: fix setting output vector/raster format (#1596))
=======
>>>>>>> 7eeb1e86e5 (wxGUI/datacatalog: fix setting output vector/raster format (#1596))
=======
>>>>>>> 946be2ff7b (wxGUI/datacatalog: fix setting output vector/raster format (#1596))
>>>>>>> 4625684fca (wxGUI/datacatalog: fix setting output vector/raster format (#1596))
<<<<<<< HEAD
>>>>>>> 3229dc2622 (wxGUI/datacatalog: fix setting output vector/raster format (#1596))
=======
=======
    "gj.init(\"../../data/grassdata\", \"nc_basic_spm_grass7\", \"user1\")"
>>>>>>> 923408bf7e (libpython: Save and load benchmark results (#1711))
<<<<<<< HEAD
>>>>>>> de5b9cd94f (libpython: Save and load benchmark results (#1711))
=======
=======
<<<<<<< HEAD
>>>>>>> 02f32ae2d4 (wxGUI/datacatalog: fix setting output vector/raster format (#1596))
<<<<<<< HEAD
>>>>>>> 9d1090ec82 (wxGUI/datacatalog: fix setting output vector/raster format (#1596))
=======
=======
    "gj.init(\"../../data/grassdata\", \"nc_basic_spm_grass7\", \"user1\")"
>>>>>>> 2bf163e4b3 (libpython: Save and load benchmark results (#1711))
<<<<<<< HEAD
>>>>>>> fb4ab822d8 (libpython: Save and load benchmark results (#1711))
=======
=======
>>>>>>> 40118f6d63 (wxGUI/datacatalog: fix setting output vector/raster format (#1596))
<<<<<<< HEAD
>>>>>>> c4d1702fe7 (wxGUI/datacatalog: fix setting output vector/raster format (#1596))
<<<<<<< HEAD
>>>>>>> 83a2bf0c85 (wxGUI/datacatalog: fix setting output vector/raster format (#1596))
=======
=======
=======
    "gj.init(\"../../data/grassdata\", \"nc_basic_spm_grass7\", \"user1\")"
>>>>>>> af1011ff1e (libpython: Save and load benchmark results (#1711))
<<<<<<< HEAD
>>>>>>> aa15e7c6e3 (libpython: Save and load benchmark results (#1711))
<<<<<<< HEAD
>>>>>>> d56ffd79c6 (libpython: Save and load benchmark results (#1711))
=======
=======
=======
>>>>>>> 9e134ec08d (wxGUI/datacatalog: fix setting output vector/raster format (#1596))
<<<<<<< HEAD
>>>>>>> 7eeb1e86e5 (wxGUI/datacatalog: fix setting output vector/raster format (#1596))
<<<<<<< HEAD
>>>>>>> 19273bf354 (wxGUI/datacatalog: fix setting output vector/raster format (#1596))
=======
=======
=======
    "gj.init(\"../../data/grassdata\", \"nc_basic_spm_grass7\", \"user1\")"
>>>>>>> 033a57360f (libpython: Save and load benchmark results (#1711))
>>>>>>> 8d53b00588 (libpython: Save and load benchmark results (#1711))
<<<<<<< HEAD
>>>>>>> f8d32d9e3a (libpython: Save and load benchmark results (#1711))
=======
=======
>>>>>>> 9e134ec08d (wxGUI/datacatalog: fix setting output vector/raster format (#1596))
<<<<<<< HEAD
>>>>>>> deaca750c4 (wxGUI/datacatalog: fix setting output vector/raster format (#1596))
=======
=======
    "gj.init(\"../../data/grassdata\", \"nc_basic_spm_grass7\", \"user1\")"
>>>>>>> 033a57360f (libpython: Save and load benchmark results (#1711))
<<<<<<< HEAD
>>>>>>> ae5deb8874 (libpython: Save and load benchmark results (#1711))
=======
=======
<<<<<<< HEAD
>>>>>>> 75f1063afc (wxGUI/datacatalog: fix setting output vector/raster format (#1596))
<<<<<<< HEAD
>>>>>>> 4ea1bcfd13 (wxGUI/datacatalog: fix setting output vector/raster format (#1596))
=======
=======
    "gj.init(\"../../data/grassdata\", \"nc_basic_spm_grass7\", \"user1\")"
>>>>>>> 8984405ebb (libpython: Save and load benchmark results (#1711))
<<<<<<< HEAD
>>>>>>> f91c52c645 (libpython: Save and load benchmark results (#1711))
=======
=======
>>>>>>> b479d694c0 (wxGUI/datacatalog: fix setting output vector/raster format (#1596))
<<<<<<< HEAD
>>>>>>> d2b40d15ca (wxGUI/datacatalog: fix setting output vector/raster format (#1596))
=======
=======
    "gj.init(\"../../data/grassdata\", \"nc_basic_spm_grass7\", \"user1\")"
>>>>>>> 6abb78d81f (libpython: Save and load benchmark results (#1711))
<<<<<<< HEAD
>>>>>>> 577d32036e (libpython: Save and load benchmark results (#1711))
=======
=======
>>>>>>> 8b762d062b (wxGUI/datacatalog: fix setting output vector/raster format (#1596))
<<<<<<< HEAD
>>>>>>> 667b6aa79a (wxGUI/datacatalog: fix setting output vector/raster format (#1596))
=======
=======
    "gj.init(\"../../data/grassdata\", \"nc_basic_spm_grass7\", \"user1\")"
>>>>>>> 4f7b5aea0b (libpython: Save and load benchmark results (#1711))
<<<<<<< HEAD
>>>>>>> 3627af9569 (libpython: Save and load benchmark results (#1711))
=======
=======
>>>>>>> b621c8b780 (wxGUI/datacatalog: fix setting output vector/raster format (#1596))
<<<<<<< HEAD
>>>>>>> e4f4950cae (wxGUI/datacatalog: fix setting output vector/raster format (#1596))
=======
=======
    "gj.init(\"../../data/grassdata\", \"nc_basic_spm_grass7\", \"user1\")"
>>>>>>> 6d0d0f1535 (libpython: Save and load benchmark results (#1711))
<<<<<<< HEAD
>>>>>>> f1ae4cefc3 (libpython: Save and load benchmark results (#1711))
=======
=======
>>>>>>> 2942a2fdfb (wxGUI/datacatalog: fix setting output vector/raster format (#1596))
<<<<<<< HEAD
>>>>>>> d3be45bfb5 (wxGUI/datacatalog: fix setting output vector/raster format (#1596))
=======
=======
    "gj.init(\"../../data/grassdata\", \"nc_basic_spm_grass7\", \"user1\")"
>>>>>>> f4219c860c (libpython: Save and load benchmark results (#1711))
<<<<<<< HEAD
>>>>>>> bceba4c6e2 (libpython: Save and load benchmark results (#1711))
=======
=======
>>>>>>> 9051310ffd (wxGUI/datacatalog: fix setting output vector/raster format (#1596))
<<<<<<< HEAD
>>>>>>> 744c99be79 (wxGUI/datacatalog: fix setting output vector/raster format (#1596))
=======
=======
    "gj.init(\"../../data/grassdata\", \"nc_basic_spm_grass7\", \"user1\")"
>>>>>>> ab99037454 (libpython: Save and load benchmark results (#1711))
<<<<<<< HEAD
>>>>>>> 2efe487a0f (libpython: Save and load benchmark results (#1711))
=======
=======
>>>>>>> 510052984c (wxGUI/datacatalog: fix setting output vector/raster format (#1596))
<<<<<<< HEAD
>>>>>>> 024f004a0e (wxGUI/datacatalog: fix setting output vector/raster format (#1596))
=======
=======
    "gj.init(\"../../data/grassdata\", \"nc_basic_spm_grass7\", \"user1\")"
>>>>>>> eb42b06b22 (libpython: Save and load benchmark results (#1711))
<<<<<<< HEAD
>>>>>>> 980c935a7d (libpython: Save and load benchmark results (#1711))
=======
=======
>>>>>>> 095dc4def6 (wxGUI/datacatalog: fix setting output vector/raster format (#1596))
<<<<<<< HEAD
>>>>>>> 724bccdb58 (wxGUI/datacatalog: fix setting output vector/raster format (#1596))
=======
=======
    "gj.init(\"../../data/grassdata\", \"nc_basic_spm_grass7\", \"user1\")"
>>>>>>> f0a06841f5 (libpython: Save and load benchmark results (#1711))
<<<<<<< HEAD
>>>>>>> 094016f111 (libpython: Save and load benchmark results (#1711))
=======
=======
>>>>>>> 45a066d418 (wxGUI/datacatalog: fix setting output vector/raster format (#1596))
<<<<<<< HEAD
>>>>>>> e502e3849e (wxGUI/datacatalog: fix setting output vector/raster format (#1596))
=======
=======
    "gj.init(\"../../data/grassdata\", \"nc_basic_spm_grass7\", \"user1\")"
>>>>>>> 13ad0bbd2d (libpython: Save and load benchmark results (#1711))
<<<<<<< HEAD
>>>>>>> 97c1ae10bf (libpython: Save and load benchmark results (#1711))
=======
=======
>>>>>>> 05e3f88683 (wxGUI/datacatalog: fix setting output vector/raster format (#1596))
<<<<<<< HEAD
>>>>>>> 946be2ff7b (wxGUI/datacatalog: fix setting output vector/raster format (#1596))
<<<<<<< HEAD
>>>>>>> 1eade8c933 (wxGUI/datacatalog: fix setting output vector/raster format (#1596))
=======
=======
=======
    "gj.init(\"../../data/grassdata\", \"nc_basic_spm_grass7\", \"user1\")"
>>>>>>> 504a46451c (libpython: Save and load benchmark results (#1711))
>>>>>>> c21dcd3d37 (libpython: Save and load benchmark results (#1711))
<<<<<<< HEAD
>>>>>>> 9a51bf3124 (libpython: Save and load benchmark results (#1711))
=======
=======
>>>>>>> fa3a181fb0 (wxGUI/datacatalog: fix setting output vector/raster format (#1596))
<<<<<<< HEAD
>>>>>>> e2b92fe11f (wxGUI/datacatalog: fix setting output vector/raster format (#1596))
=======
=======
    "gj.init(\"../../data/grassdata\", \"nc_basic_spm_grass7\", \"user1\")"
>>>>>>> 742603b912 (libpython: Save and load benchmark results (#1711))
<<<<<<< HEAD
>>>>>>> 4480ca2a94 (libpython: Save and load benchmark results (#1711))
=======
=======
>>>>>>> bd71b111b3 (wxGUI/datacatalog: fix setting output vector/raster format (#1596))
<<<<<<< HEAD
>>>>>>> 073da2916c (wxGUI/datacatalog: fix setting output vector/raster format (#1596))
=======
=======
    "gj.init(\"../../data/grassdata\", \"nc_basic_spm_grass7\", \"user1\")"
>>>>>>> 4e0c4a2cca (libpython: Save and load benchmark results (#1711))
>>>>>>> 70b350b826 (libpython: Save and load benchmark results (#1711))
=======
    "gj.init(\"../../data/grassdata\", \"nc_basic_spm_grass7\", \"user1\")"
>>>>>>> 173e44f2dc (libpython: Save and load benchmark results (#1711))
=======
>>>>>>> 584e61d06d (wxGUI/datacatalog: fix setting output vector/raster format (#1596))
>>>>>>> 07fcd460d0 (wxGUI/datacatalog: fix setting output vector/raster format (#1596))
   ]
  },
  {
   "cell_type": "code",
   "execution_count": null,
   "metadata": {},
   "outputs": [],
   "source": [
<<<<<<< HEAD
<<<<<<< HEAD
<<<<<<< HEAD
<<<<<<< HEAD
<<<<<<< HEAD
<<<<<<< HEAD
<<<<<<< HEAD
<<<<<<< HEAD
<<<<<<< HEAD
<<<<<<< HEAD
<<<<<<< HEAD
<<<<<<< HEAD
<<<<<<< HEAD
<<<<<<< HEAD
<<<<<<< HEAD
<<<<<<< HEAD
<<<<<<< HEAD
<<<<<<< HEAD
<<<<<<< HEAD
<<<<<<< HEAD
<<<<<<< HEAD
<<<<<<< HEAD
<<<<<<< HEAD
<<<<<<< HEAD
<<<<<<< HEAD
<<<<<<< HEAD
<<<<<<< HEAD
<<<<<<< HEAD
<<<<<<< HEAD
<<<<<<< HEAD
<<<<<<< HEAD
<<<<<<< HEAD
<<<<<<< HEAD
<<<<<<< HEAD
<<<<<<< HEAD
<<<<<<< HEAD
<<<<<<< HEAD
<<<<<<< HEAD
<<<<<<< HEAD
<<<<<<< HEAD
<<<<<<< HEAD
<<<<<<< HEAD
<<<<<<< HEAD
<<<<<<< HEAD
<<<<<<< HEAD
<<<<<<< HEAD
<<<<<<< HEAD
<<<<<<< HEAD
<<<<<<< HEAD
<<<<<<< HEAD
<<<<<<< HEAD
<<<<<<< HEAD
<<<<<<< HEAD
<<<<<<< HEAD
<<<<<<< HEAD
<<<<<<< HEAD
<<<<<<< HEAD
<<<<<<< HEAD
<<<<<<< HEAD
<<<<<<< HEAD
<<<<<<< HEAD
<<<<<<< HEAD
<<<<<<< HEAD
=======
<<<<<<< HEAD
>>>>>>> main
=======
>>>>>>> 2a3f5af732 (wxGUI/Single-Window: New change page event for AuiNotebook (#1780))
    "# Start GRASS Session\n",
<<<<<<< HEAD
<<<<<<< HEAD
<<<<<<< HEAD
<<<<<<< HEAD
=======
    "# Start GRASS Session\n",
>>>>>>> 40118f6d63 (wxGUI/datacatalog: fix setting output vector/raster format (#1596))
=======
    "# Start GRASS Session\n",
>>>>>>> 9e134ec08d (wxGUI/datacatalog: fix setting output vector/raster format (#1596))
=======
    "# Start GRASS Session\n",
>>>>>>> 05e3f88683 (wxGUI/datacatalog: fix setting output vector/raster format (#1596))
=======
    "# Start GRASS Session\n",
>>>>>>> 1cb35c2fc8 (wxGUI/datacatalog: fix setting output vector/raster format (#1596))
    "gj.init(\"../../data/grassdata\", \"nc_basic_spm_grass7\", \"user1\")\n",
    "\n",
    "# Set default display settings\n",
    "gj.display_settings()"
<<<<<<< HEAD
<<<<<<< HEAD
<<<<<<< HEAD
<<<<<<< HEAD
>>>>>>> 4625684fca (wxGUI/datacatalog: fix setting output vector/raster format (#1596))
=======
    "gj.init(\"../../data/grassdata\", \"nc_basic_spm_grass7\", \"user1\")"
>>>>>>> 923408bf7e (libpython: Save and load benchmark results (#1711))
=======
>>>>>>> 40118f6d63 (wxGUI/datacatalog: fix setting output vector/raster format (#1596))
=======
    "gj.init(\"../../data/grassdata\", \"nc_basic_spm_grass7\", \"user1\")"
>>>>>>> af1011ff1e (libpython: Save and load benchmark results (#1711))
=======
>>>>>>> 9e134ec08d (wxGUI/datacatalog: fix setting output vector/raster format (#1596))
=======
    "gj.init(\"../../data/grassdata\", \"nc_basic_spm_grass7\", \"user1\")"
>>>>>>> 033a57360f (libpython: Save and load benchmark results (#1711))
=======
>>>>>>> 05e3f88683 (wxGUI/datacatalog: fix setting output vector/raster format (#1596))
=======
    "gj.init(\"../../data/grassdata\", \"nc_basic_spm_grass7\", \"user1\")"
>>>>>>> 504a46451c (libpython: Save and load benchmark results (#1711))
=======
>>>>>>> 584e61d06d (wxGUI/datacatalog: fix setting output vector/raster format (#1596))
>>>>>>> 1cb35c2fc8 (wxGUI/datacatalog: fix setting output vector/raster format (#1596))
   ]
  },
  {
   "cell_type": "code",
   "execution_count": null,
   "metadata": {},
   "outputs": [],
   "source": [
<<<<<<< HEAD
<<<<<<< HEAD
<<<<<<< HEAD
<<<<<<< HEAD
<<<<<<< HEAD
<<<<<<< HEAD
<<<<<<< HEAD
<<<<<<< HEAD
<<<<<<< HEAD
=======
>>>>>>> osgeo-main
=======
>>>>>>> osgeo-main
=======
>>>>>>> osgeo-main
=======
>>>>>>> osgeo-main
=======
>>>>>>> osgeo-main
=======
>>>>>>> osgeo-main
=======
>>>>>>> osgeo-main
=======
>>>>>>> osgeo-main
=======
>>>>>>> osgeo-main
=======
>>>>>>> osgeo-main
=======
>>>>>>> osgeo-main
=======
>>>>>>> osgeo-main
=======
>>>>>>> osgeo-main
=======
>>>>>>> osgeo-main
=======
>>>>>>> 1cb35c2fc8 (wxGUI/datacatalog: fix setting output vector/raster format (#1596))
=======
>>>>>>> b53d4aed76 (Add session initiations functions for Jupyter Notebooks (#1629))
=======
>>>>>>> 4e96c0c0e8 (libpython: Save and load benchmark results (#1711))
=======
>>>>>>> a09cd63835 (wxGUI/datacatalog: fix setting output vector/raster format (#1596))
=======
>>>>>>> 1906f4a791 (libpython: Save and load benchmark results (#1711))
=======
>>>>>>> 565c97946b (wxGUI/datacatalog: fix setting output vector/raster format (#1596))
=======
>>>>>>> 345367a7c1 (libpython: Save and load benchmark results (#1711))
=======
>>>>>>> 150ef7b78e (wxGUI/datacatalog: fix setting output vector/raster format (#1596))
=======
>>>>>>> 4b334d121f (libpython: Save and load benchmark results (#1711))
=======
=======
>>>>>>> 6433ad1296 (wxGUI/datacatalog: fix setting output vector/raster format (#1596))
>>>>>>> 6f5fb4923c (wxGUI/datacatalog: fix setting output vector/raster format (#1596))
=======
=======
>>>>>>> 3229dc2622 (wxGUI/datacatalog: fix setting output vector/raster format (#1596))
=======
>>>>>>> de5b9cd94f (libpython: Save and load benchmark results (#1711))
=======
>>>>>>> 9d1090ec82 (wxGUI/datacatalog: fix setting output vector/raster format (#1596))
=======
>>>>>>> fb4ab822d8 (libpython: Save and load benchmark results (#1711))
=======
=======
=======
=======
=======
>>>>>>> deaca750c4 (wxGUI/datacatalog: fix setting output vector/raster format (#1596))
=======
>>>>>>> ae5deb8874 (libpython: Save and load benchmark results (#1711))
=======
>>>>>>> 4ea1bcfd13 (wxGUI/datacatalog: fix setting output vector/raster format (#1596))
=======
>>>>>>> f91c52c645 (libpython: Save and load benchmark results (#1711))
=======
>>>>>>> d2b40d15ca (wxGUI/datacatalog: fix setting output vector/raster format (#1596))
=======
>>>>>>> 577d32036e (libpython: Save and load benchmark results (#1711))
=======
>>>>>>> 667b6aa79a (wxGUI/datacatalog: fix setting output vector/raster format (#1596))
=======
>>>>>>> 3627af9569 (libpython: Save and load benchmark results (#1711))
=======
>>>>>>> e4f4950cae (wxGUI/datacatalog: fix setting output vector/raster format (#1596))
=======
>>>>>>> f1ae4cefc3 (libpython: Save and load benchmark results (#1711))
=======
>>>>>>> d3be45bfb5 (wxGUI/datacatalog: fix setting output vector/raster format (#1596))
=======
>>>>>>> bceba4c6e2 (libpython: Save and load benchmark results (#1711))
=======
>>>>>>> 744c99be79 (wxGUI/datacatalog: fix setting output vector/raster format (#1596))
=======
>>>>>>> 2efe487a0f (libpython: Save and load benchmark results (#1711))
=======
>>>>>>> 024f004a0e (wxGUI/datacatalog: fix setting output vector/raster format (#1596))
=======
>>>>>>> 980c935a7d (libpython: Save and load benchmark results (#1711))
=======
>>>>>>> 724bccdb58 (wxGUI/datacatalog: fix setting output vector/raster format (#1596))
=======
>>>>>>> 094016f111 (libpython: Save and load benchmark results (#1711))
=======
>>>>>>> e502e3849e (wxGUI/datacatalog: fix setting output vector/raster format (#1596))
=======
>>>>>>> 97c1ae10bf (libpython: Save and load benchmark results (#1711))
=======
=======
=======
>>>>>>> e2b92fe11f (wxGUI/datacatalog: fix setting output vector/raster format (#1596))
=======
>>>>>>> 4480ca2a94 (libpython: Save and load benchmark results (#1711))
=======
>>>>>>> 073da2916c (wxGUI/datacatalog: fix setting output vector/raster format (#1596))
=======
>>>>>>> 70b350b826 (libpython: Save and load benchmark results (#1711))
=======
>>>>>>> c21dcd3d37 (libpython: Save and load benchmark results (#1711))
>>>>>>> 9a51bf3124 (libpython: Save and load benchmark results (#1711))
=======
>>>>>>> 946be2ff7b (wxGUI/datacatalog: fix setting output vector/raster format (#1596))
>>>>>>> 1eade8c933 (wxGUI/datacatalog: fix setting output vector/raster format (#1596))
=======
>>>>>>> 8d53b00588 (libpython: Save and load benchmark results (#1711))
>>>>>>> f8d32d9e3a (libpython: Save and load benchmark results (#1711))
=======
>>>>>>> 7eeb1e86e5 (wxGUI/datacatalog: fix setting output vector/raster format (#1596))
>>>>>>> 19273bf354 (wxGUI/datacatalog: fix setting output vector/raster format (#1596))
=======
>>>>>>> aa15e7c6e3 (libpython: Save and load benchmark results (#1711))
>>>>>>> d56ffd79c6 (libpython: Save and load benchmark results (#1711))
=======
>>>>>>> c4d1702fe7 (wxGUI/datacatalog: fix setting output vector/raster format (#1596))
>>>>>>> 83a2bf0c85 (wxGUI/datacatalog: fix setting output vector/raster format (#1596))
=======
>>>>>>> 855503a984 (wxGUI/datacatalog: fix setting output vector/raster format (#1596))
=======
>>>>>>> 6dbb418f88 (libpython: Save and load benchmark results (#1711))
=======
>>>>>>> b4f1490ce2 (wxGUI/datacatalog: fix setting output vector/raster format (#1596))
=======
>>>>>>> 0d0bc8bfd9 (libpython: Save and load benchmark results (#1711))
=======
=======
>>>>>>> c4d1702fe7 (wxGUI/datacatalog: fix setting output vector/raster format (#1596))
>>>>>>> 4566710e5b (wxGUI/datacatalog: fix setting output vector/raster format (#1596))
=======
>>>>>>> 6433ad1296 (wxGUI/datacatalog: fix setting output vector/raster format (#1596))
=======
>>>>>>> 56976800a2 (libpython: Save and load benchmark results (#1711))
>>>>>>> f2dfa9a433 (libpython: Save and load benchmark results (#1711))
=======
>>>>>>> 07fcd460d0 (wxGUI/datacatalog: fix setting output vector/raster format (#1596))
=======
>>>>>>> 6ce1bc9e11 (Add session initiations functions for Jupyter Notebooks (#1629))
=======
>>>>>>> fbe1fc358a (libpython: Save and load benchmark results (#1711))
=======
>>>>>>> 836a40382b (wxGUI/datacatalog: fix setting output vector/raster format (#1596))
=======
>>>>>>> 319ab246f0 (libpython: Save and load benchmark results (#1711))
=======
>>>>>>> 75ca885908 (wxGUI/datacatalog: fix setting output vector/raster format (#1596))
=======
>>>>>>> 8a112feb47 (libpython: Save and load benchmark results (#1711))
=======
>>>>>>> 08a756738c (wxGUI/datacatalog: fix setting output vector/raster format (#1596))
=======
>>>>>>> 7439490972 (libpython: Save and load benchmark results (#1711))
=======
=======
>>>>>>> 6433ad1296 (wxGUI/datacatalog: fix setting output vector/raster format (#1596))
>>>>>>> 756f105374 (wxGUI/datacatalog: fix setting output vector/raster format (#1596))
=======
=======
>>>>>>> 6433ad1296 (wxGUI/datacatalog: fix setting output vector/raster format (#1596))
=======
>>>>>>> 56976800a2 (libpython: Save and load benchmark results (#1711))
>>>>>>> 9cac1201a9 (libpython: Save and load benchmark results (#1711))
    "# Set computational region to the study area.\n",
    "gs.run_command(\"g.region\", raster=\"elevation\")"
   ]
  },
  {
   "cell_type": "markdown",
   "metadata": {},
   "source": [
    "## Non-interactive Map Display"
   ]
  },
  {
<<<<<<< HEAD
<<<<<<< HEAD
<<<<<<< HEAD
<<<<<<< HEAD
<<<<<<< HEAD
<<<<<<< HEAD
<<<<<<< HEAD
<<<<<<< HEAD
<<<<<<< HEAD
<<<<<<< HEAD
<<<<<<< HEAD
<<<<<<< HEAD
<<<<<<< HEAD
<<<<<<< HEAD
<<<<<<< HEAD
<<<<<<< HEAD
=======
<<<<<<< HEAD
=======
>>>>>>> 547913387f (libpython: Support benchmarks of non-parallel runs better (#1733))
<<<<<<< HEAD
<<<<<<< HEAD
<<<<<<< HEAD
<<<<<<< HEAD
<<<<<<< HEAD
<<<<<<< HEAD
<<<<<<< HEAD
<<<<<<< HEAD
<<<<<<< HEAD
<<<<<<< HEAD
<<<<<<< HEAD
<<<<<<< HEAD
<<<<<<< HEAD
<<<<<<< HEAD
<<<<<<< HEAD
<<<<<<< HEAD
<<<<<<< HEAD
<<<<<<< HEAD
<<<<<<< HEAD
<<<<<<< HEAD
<<<<<<< HEAD
<<<<<<< HEAD
=======
<<<<<<< HEAD
=======
>>>>>>> 547913387f (libpython: Support benchmarks of non-parallel runs better (#1733))
<<<<<<< HEAD
<<<<<<< HEAD
<<<<<<< HEAD
<<<<<<< HEAD
<<<<<<< HEAD
<<<<<<< HEAD
<<<<<<< HEAD
<<<<<<< HEAD
<<<<<<< HEAD
<<<<<<< HEAD
<<<<<<< HEAD
<<<<<<< HEAD
<<<<<<< HEAD
<<<<<<< HEAD
<<<<<<< HEAD
<<<<<<< HEAD
<<<<<<< HEAD
<<<<<<< HEAD
<<<<<<< HEAD
<<<<<<< HEAD
<<<<<<< HEAD
<<<<<<< HEAD
=======
<<<<<<< HEAD
>>>>>>> main
   "cell_type": "code",
   "execution_count": null,
   "metadata": {},
   "outputs": [],
   "source": [
    "# Demonstration of GrassRenderer for non-interactive map display\n",
<<<<<<< HEAD
<<<<<<< HEAD
<<<<<<< HEAD
    "r = gj.GrassRenderer(height=540)\n",
    "\n",
    "# Add a raster and vector to the map\n",
    "r.run(\"d.rast\", map=\"elevation\")\n",
    "r.run(\"d.vect\", map=\"streams\")\n",
    "\n",
    "# We can also call 'd.*' display modules with a shortcut\n",
    "# Shortcut methods must be in the form '.d_{name_of_module}'\n",
    "# For example, let's add a legend using a shortcut\n",
    "r.d_legend(raster=\"elevation\", at=(55, 95, 2, 6), flags=\"b\") # shortcut for calling \"d.legend\"\n",
    "\n",
    "# Display map\n",
=======
<<<<<<< HEAD
=======
>>>>>>> osgeo-main
=======
>>>>>>> osgeo-main
    "\n",
    "r = gj.GrassRenderer(height=540, filename = \"streams_maps.png\")\n",
=======
    "r = gj.GrassRenderer(height=540)\n",
>>>>>>> 523219d6d4 (r.in.pdal: info.cpp also needs PDALCPPFLAGS (#1768))
    "\n",
    "r.run(\"d.rast\", map=\"elevation\")\n",
    "r.run(\"d.vect\", map=\"streams\")\n",
    "\n",
<<<<<<< HEAD
<<<<<<< HEAD
>>>>>>> osgeo-main
=======
>>>>>>> osgeo-main
=======
>>>>>>> osgeo-main
    "r.show()"
   ]
  },
  {
   "cell_type": "markdown",
   "metadata": {},
   "source": [
<<<<<<< HEAD
<<<<<<< HEAD
<<<<<<< HEAD
    "#### Multiple instances of GrassRenderer\n",
    "\n",
    "We can have multiple instances of GrassRenderer."
=======
    "#### We can have two instances of GrassRenderer"
>>>>>>> osgeo-main
=======
    "#### We can have two instances of GrassRenderer"
>>>>>>> osgeo-main
=======
    "#### We can have two instances of GrassRenderer"
>>>>>>> osgeo-main
   ]
  },
  {
   "cell_type": "code",
   "execution_count": null,
   "metadata": {},
   "outputs": [],
   "source": [
    "# First, we'll make a second instance. Notice we need a different filename.\n",
    "\n",
    "r2 = gj.GrassRenderer(height=200, width=220, filename =\"roads_maps.png\")\n",
    "\n",
    "r2.run(\"d.rast\", map=\"elevation_shade\")\n",
    "r2.run(\"d.vect\", map=\"roadsmajor\")\n",
    "\n",
    "r2.show()"
   ]
  },
  {
   "cell_type": "code",
   "execution_count": null,
   "metadata": {},
   "outputs": [],
   "source": [
    "# Then, we return to the first instance and continue to modify and display it\n",
<<<<<<< HEAD
<<<<<<< HEAD
<<<<<<< HEAD
    "# Notice that layers a drawn in the order they are added\n",
=======
>>>>>>> osgeo-main
=======
>>>>>>> osgeo-main
=======
>>>>>>> osgeo-main
    "\n",
    "r.run(\"d.vect\", map = \"zipcodes\", color=\"red\", fill_color=\"none\")\n",
    "\n",
    "r.show()"
   ]
  },
  {
   "cell_type": "markdown",
   "metadata": {},
   "source": [
    "## Interactive Map Display"
   ]
  },
  {
   "cell_type": "code",
   "execution_count": null,
   "metadata": {},
   "outputs": [],
   "source": [
    "# Create Interactive Map\n",
    "m = gj.InteractiveMap(width = 600)\n",
    "\n",
    "# Add raster, vector and layer control to map\n",
    "m.add_raster(\"elevation\")\n",
    "m.add_vector(\"roadsmajor\")\n",
    "m.add_layer_control(position = \"bottomright\")\n",
    "\n",
    "# Display map\n",
    "m.show()"
   ]
  },
  {
   "cell_type": "code",
   "execution_count": null,
   "metadata": {},
   "outputs": [],
   "source": [
    "# Let's see what is in the example database so we can continue to experiment\n",
    "print(gs.read_command(\"g.list\", type=\"all\"))"
=======
=======
>>>>>>> 40118f6d63 (wxGUI/datacatalog: fix setting output vector/raster format (#1596))
=======
>>>>>>> 9e134ec08d (wxGUI/datacatalog: fix setting output vector/raster format (#1596))
=======
>>>>>>> 05e3f88683 (wxGUI/datacatalog: fix setting output vector/raster format (#1596))
    "# Let's display the DTM of our sample area to ensure all's working\n",
    "\n",
    "# Set computational region to the study area.\n",
    "gs.parse_command(\"g.region\", raster=\"elevation\", flags=\"pg\")\n",
    "\n",
    "# Draw elevation (DTM) to get an overview of the area.\n",
    "gs.run_command(\"r.colors\", map=\"elevation\", color=\"elevation\")\n",
    "gs.run_command(\"d.erase\")\n",
    "gs.run_command(\"d.rast\", map=\"elevation\")\n",
    "gs.run_command(\"d.legend\", raster=\"elevation\", at=(65, 90, 85, 90), fontsize=15, flags=\"b\", title=\"DTM\")\n",
    "Image(filename=\"map.png\")"
<<<<<<< HEAD
<<<<<<< HEAD
<<<<<<< HEAD
>>>>>>> 4625684fca (wxGUI/datacatalog: fix setting output vector/raster format (#1596))
=======
    "# Set computational region to the study area.\n",
    "gs.run_command(\"g.region\", raster=\"elevation\")"
>>>>>>> 923408bf7e (libpython: Save and load benchmark results (#1711))
   ]
  },
  {
=======
>>>>>>> 01a506d3d3 (libpython: Support benchmarks of non-parallel runs better (#1733))
=======
>>>>>>> osgeo-main
=======
>>>>>>> osgeo-main
   "cell_type": "code",
   "execution_count": null,
   "metadata": {},
   "outputs": [],
   "source": [
    "# Demonstration of GrassRenderer for non-interactive map display\n",
<<<<<<< HEAD
    "\n",
    "r = gj.GrassRenderer(height=540, filename = \"streams_maps.png\")\n",
=======
    "r = gj.GrassRenderer(height=540)\n",
>>>>>>> 523219d6d4 (r.in.pdal: info.cpp also needs PDALCPPFLAGS (#1768))
    "\n",
    "r.run(\"d.rast\", map=\"elevation\")\n",
    "r.run(\"d.vect\", map=\"streams\")\n",
    "\n",
    "r.show()"
   ]
  },
  {
   "cell_type": "markdown",
   "metadata": {},
   "source": [
    "#### We can have two instances of GrassRenderer"
   ]
  },
  {
   "cell_type": "code",
   "execution_count": null,
   "metadata": {},
   "outputs": [],
   "source": [
    "# First, we'll make a second instance. Notice we need a different filename.\n",
    "\n",
    "r2 = gj.GrassRenderer(height=200, width=220, filename =\"roads_maps.png\")\n",
    "\n",
    "r2.run(\"d.rast\", map=\"elevation_shade\")\n",
    "r2.run(\"d.vect\", map=\"roadsmajor\")\n",
    "\n",
    "r2.show()"
   ]
  },
  {
   "cell_type": "code",
   "execution_count": null,
   "metadata": {},
   "outputs": [],
   "source": [
    "# Then, we return to the first instance and continue to modify and display it\n",
    "\n",
    "r.run(\"d.vect\", map = \"zipcodes\", color=\"red\", fill_color=\"none\")\n",
    "\n",
    "r.show()"
   ]
  },
  {
   "cell_type": "markdown",
   "metadata": {},
   "source": [
    "## Interactive Map Display"
   ]
  },
  {
   "cell_type": "code",
   "execution_count": null,
   "metadata": {},
   "outputs": [],
   "source": [
    "# Create Interactive Map\n",
    "m = gj.InteractiveMap(width = 600)\n",
    "\n",
    "# Add raster, vector and layer control to map\n",
    "m.add_raster(\"elevation\")\n",
    "m.add_vector(\"roadsmajor\")\n",
    "m.add_layer_control(position = \"bottomright\")\n",
    "\n",
    "# Display map\n",
    "m.show()"
   ]
  },
  {
   "cell_type": "code",
   "execution_count": null,
   "metadata": {},
   "outputs": [],
   "source": [
    "# Let's see what is in the example database so we can continue to experiment\n",
    "print(gs.read_command(\"g.list\", type=\"all\"))"
=======
<<<<<<< HEAD
<<<<<<< HEAD
>>>>>>> 40118f6d63 (wxGUI/datacatalog: fix setting output vector/raster format (#1596))
=======
    "# Set computational region to the study area.\n",
    "gs.run_command(\"g.region\", raster=\"elevation\")"
>>>>>>> af1011ff1e (libpython: Save and load benchmark results (#1711))
=======
=======
=======
>>>>>>> 847046a031 (Add session initiations functions for Jupyter Notebooks (#1629))
>>>>>>> 6ce1bc9e11 (Add session initiations functions for Jupyter Notebooks (#1629))
    "# Let's display the DTM of our sample area to ensure all's working\n",
    "\n",
    "# Set computational region to the study area.\n",
    "gs.parse_command(\"g.region\", raster=\"elevation\", flags=\"pg\")\n",
    "\n",
    "# Draw elevation (DTM) to get an overview of the area.\n",
    "gs.run_command(\"r.colors\", map=\"elevation\", color=\"elevation\")\n",
    "gs.run_command(\"d.erase\")\n",
    "gs.run_command(\"d.rast\", map=\"elevation\")\n",
    "gs.run_command(\"d.legend\", raster=\"elevation\", at=(65, 90, 85, 90), fontsize=15, flags=\"b\", title=\"DTM\")\n",
    "Image(filename=\"map.png\")"
<<<<<<< HEAD
>>>>>>> 584e61d06d (wxGUI/datacatalog: fix setting output vector/raster format (#1596))
<<<<<<< HEAD
>>>>>>> 07fcd460d0 (wxGUI/datacatalog: fix setting output vector/raster format (#1596))
=======
=======
>>>>>>> 847046a031 (Add session initiations functions for Jupyter Notebooks (#1629))
>>>>>>> 6ce1bc9e11 (Add session initiations functions for Jupyter Notebooks (#1629))
   ]
  },
  {
=======
>>>>>>> a4624812dc (libpython: Support benchmarks of non-parallel runs better (#1733))
=======
>>>>>>> osgeo-main
=======
>>>>>>> osgeo-main
   "cell_type": "code",
   "execution_count": null,
   "metadata": {},
   "outputs": [],
   "source": [
    "# Demonstration of GrassRenderer for non-interactive map display\n",
<<<<<<< HEAD
    "\n",
    "r = gj.GrassRenderer(height=540, filename = \"streams_maps.png\")\n",
=======
    "r = gj.GrassRenderer(height=540)\n",
>>>>>>> 523219d6d4 (r.in.pdal: info.cpp also needs PDALCPPFLAGS (#1768))
    "\n",
    "r.run(\"d.rast\", map=\"elevation\")\n",
    "r.run(\"d.vect\", map=\"streams\")\n",
    "\n",
    "r.show()"
   ]
  },
  {
   "cell_type": "markdown",
   "metadata": {},
   "source": [
    "#### We can have two instances of GrassRenderer"
   ]
  },
  {
   "cell_type": "code",
   "execution_count": null,
   "metadata": {},
   "outputs": [],
   "source": [
    "# First, we'll make a second instance. Notice we need a different filename.\n",
    "\n",
    "r2 = gj.GrassRenderer(height=200, width=220, filename =\"roads_maps.png\")\n",
    "\n",
    "r2.run(\"d.rast\", map=\"elevation_shade\")\n",
    "r2.run(\"d.vect\", map=\"roadsmajor\")\n",
    "\n",
    "r2.show()"
   ]
  },
  {
   "cell_type": "code",
   "execution_count": null,
   "metadata": {},
   "outputs": [],
   "source": [
    "# Then, we return to the first instance and continue to modify and display it\n",
    "\n",
    "r.run(\"d.vect\", map = \"zipcodes\", color=\"red\", fill_color=\"none\")\n",
    "\n",
    "r.show()"
   ]
  },
  {
   "cell_type": "markdown",
   "metadata": {},
   "source": [
    "## Interactive Map Display"
   ]
  },
  {
   "cell_type": "code",
   "execution_count": null,
   "metadata": {},
   "outputs": [],
   "source": [
    "# Create Interactive Map\n",
    "m = gj.InteractiveMap(width = 600)\n",
    "\n",
    "# Add raster, vector and layer control to map\n",
    "m.add_raster(\"elevation\")\n",
    "m.add_vector(\"roadsmajor\")\n",
    "m.add_layer_control(position = \"bottomright\")\n",
    "\n",
    "# Display map\n",
    "m.show()"
   ]
  },
  {
   "cell_type": "code",
   "execution_count": null,
   "metadata": {},
   "outputs": [],
   "source": [
    "# Let's see what is in the example database so we can continue to experiment\n",
    "print(gs.read_command(\"g.list\", type=\"all\"))"
=======
>>>>>>> 9e134ec08d (wxGUI/datacatalog: fix setting output vector/raster format (#1596))
=======
    "# Set computational region to the study area.\n",
    "gs.run_command(\"g.region\", raster=\"elevation\")"
>>>>>>> 033a57360f (libpython: Save and load benchmark results (#1711))
   ]
  },
  {
=======
>>>>>>> 434bf28e3d (libpython: Support benchmarks of non-parallel runs better (#1733))
=======
>>>>>>> osgeo-main
=======
>>>>>>> osgeo-main
=======
>>>>>>> osgeo-main
=======
>>>>>>> osgeo-main
=======
>>>>>>> osgeo-main
=======
>>>>>>> osgeo-main
=======
>>>>>>> osgeo-main
=======
>>>>>>> osgeo-main
   "cell_type": "code",
   "execution_count": null,
   "metadata": {},
   "outputs": [],
   "source": [
    "# Demonstration of GrassRenderer for non-interactive map display\n",
<<<<<<< HEAD
    "\n",
    "r = gj.GrassRenderer(height=540, filename = \"streams_maps.png\")\n",
=======
    "r = gj.GrassRenderer(height=540)\n",
>>>>>>> 523219d6d4 (r.in.pdal: info.cpp also needs PDALCPPFLAGS (#1768))
    "\n",
    "r.run(\"d.rast\", map=\"elevation\")\n",
    "r.run(\"d.vect\", map=\"streams\")\n",
    "\n",
    "r.show()"
   ]
  },
  {
   "cell_type": "markdown",
   "metadata": {},
   "source": [
    "#### We can have two instances of GrassRenderer"
   ]
  },
  {
   "cell_type": "code",
   "execution_count": null,
   "metadata": {},
   "outputs": [],
   "source": [
    "# First, we'll make a second instance. Notice we need a different filename.\n",
    "\n",
    "r2 = gj.GrassRenderer(height=200, width=220, filename =\"roads_maps.png\")\n",
    "\n",
    "r2.run(\"d.rast\", map=\"elevation_shade\")\n",
    "r2.run(\"d.vect\", map=\"roadsmajor\")\n",
    "\n",
    "r2.show()"
   ]
  },
  {
   "cell_type": "code",
   "execution_count": null,
   "metadata": {},
   "outputs": [],
   "source": [
    "# Then, we return to the first instance and continue to modify and display it\n",
    "\n",
    "r.run(\"d.vect\", map = \"zipcodes\", color=\"red\", fill_color=\"none\")\n",
    "\n",
    "r.show()"
   ]
  },
  {
   "cell_type": "markdown",
   "metadata": {},
   "source": [
    "## Interactive Map Display"
   ]
  },
  {
   "cell_type": "code",
   "execution_count": null,
   "metadata": {},
   "outputs": [],
   "source": [
    "# Create Interactive Map\n",
    "m = gj.InteractiveMap(width = 600)\n",
    "\n",
    "# Add raster, vector and layer control to map\n",
    "m.add_raster(\"elevation\")\n",
    "m.add_vector(\"roadsmajor\")\n",
    "m.add_layer_control(position = \"bottomright\")\n",
    "\n",
    "# Display map\n",
    "m.show()"
   ]
  },
  {
   "cell_type": "code",
   "execution_count": null,
   "metadata": {},
   "outputs": [],
   "source": [
    "# Let's see what is in the example database so we can continue to experiment\n",
    "print(gs.read_command(\"g.list\", type=\"all\"))"
=======
>>>>>>> 05e3f88683 (wxGUI/datacatalog: fix setting output vector/raster format (#1596))
=======
    "# Set computational region to the study area.\n",
    "gs.run_command(\"g.region\", raster=\"elevation\")"
>>>>>>> 504a46451c (libpython: Save and load benchmark results (#1711))
   ]
  },
  {
=======
>>>>>>> d3014fcc0b (libpython: Support benchmarks of non-parallel runs better (#1733))
=======
>>>>>>> osgeo-main
=======
>>>>>>> osgeo-main
=======
>>>>>>> 0a00d6f9df (libpython: Support benchmarks of non-parallel runs better (#1733))
=======
>>>>>>> c2d961e4a1 (libpython: Support benchmarks of non-parallel runs better (#1733))
=======
>>>>>>> 166e88ec39 (libpython: Support benchmarks of non-parallel runs better (#1733))
=======
>>>>>>> f6b704e2b3 (Merge branch 'a0x8o' into stag0)
=======
=======
>>>>>>> c1e96d556f (libpython: Support benchmarks of non-parallel runs better (#1733))
=======
>>>>>>> 3bcef5e53e (libpython: Support benchmarks of non-parallel runs better (#1733))
=======
>>>>>>> dad564ed48 (libpython: Support benchmarks of non-parallel runs better (#1733))
=======
>>>>>>> 256f5d81a6 (libpython: Support benchmarks of non-parallel runs better (#1733))
=======
>>>>>>> eda3ed4fd6 (libpython: Support benchmarks of non-parallel runs better (#1733))
>>>>>>> 962d13bfd3 (libpython: Support benchmarks of non-parallel runs better (#1733))
=======
=======
>>>>>>> b8b0054745 (libpython: Support benchmarks of non-parallel runs better (#1733))
=======
>>>>>>> 057765b894 (libpython: Support benchmarks of non-parallel runs better (#1733))
=======
>>>>>>> 949d58a435 (libpython: Support benchmarks of non-parallel runs better (#1733))
=======
>>>>>>> 81ee4cdfd6 (libpython: Support benchmarks of non-parallel runs better (#1733))
=======
>>>>>>> 63045de622 (libpython: Support benchmarks of non-parallel runs better (#1733))
=======
>>>>>>> fb1415d5b7 (libpython: Support benchmarks of non-parallel runs better (#1733))
=======
>>>>>>> 5a369c18ab (libpython: Support benchmarks of non-parallel runs better (#1733))
=======
>>>>>>> 8e09c28a9a (libpython: Support benchmarks of non-parallel runs better (#1733))
=======
>>>>>>> ff508b1907 (libpython: Support benchmarks of non-parallel runs better (#1733))
=======
>>>>>>> 479bcc2525 (libpython: Support benchmarks of non-parallel runs better (#1733))
=======
>>>>>>> a5bc7458b9 (libpython: Support benchmarks of non-parallel runs better (#1733))
=======
>>>>>>> 88accbfbad (libpython: Support benchmarks of non-parallel runs better (#1733))
=======
>>>>>>> d4bec80a1c (libpython: Support benchmarks of non-parallel runs better (#1733))
=======
>>>>>>> c41f2eb779 (libpython: Support benchmarks of non-parallel runs better (#1733))
=======
>>>>>>> 6ce1ce4c0e (libpython: Support benchmarks of non-parallel runs better (#1733))
=======
>>>>>>> 7aeee7f0e9 (libpython: Support benchmarks of non-parallel runs better (#1733))
=======
>>>>>>> cb7d39cb66 (libpython: Support benchmarks of non-parallel runs better (#1733))
=======
>>>>>>> 73a604b96c (libpython: Support benchmarks of non-parallel runs better (#1733))
=======
>>>>>>> 808f410679 (libpython: Support benchmarks of non-parallel runs better (#1733))
=======
>>>>>>> 5fbea63c8d (libpython: Support benchmarks of non-parallel runs better (#1733))
=======
>>>>>>> 28bc5c68cb (libpython: Support benchmarks of non-parallel runs better (#1733))
=======
>>>>>>> 0fd8e61114 (libpython: Support benchmarks of non-parallel runs better (#1733))
=======
>>>>>>> eda3ed4fd6 (libpython: Support benchmarks of non-parallel runs better (#1733))
=======
>>>>>>> 4d38e4070b (libpython: Support benchmarks of non-parallel runs better (#1733))
<<<<<<< HEAD
<<<<<<< HEAD
>>>>>>> 21cac8ec4f (libpython: Support benchmarks of non-parallel runs better (#1733))
=======
=======
>>>>>>> 97b8f7a849 (libpython: Support benchmarks of non-parallel runs better (#1733))
>>>>>>> b8b0054745 (libpython: Support benchmarks of non-parallel runs better (#1733))
=======
>>>>>>> 2ba4dbc7e5 (libpython: Support benchmarks of non-parallel runs better (#1733))
=======
>>>>>>> 85e622234d (libpython: Support benchmarks of non-parallel runs better (#1733))
=======
>>>>>>> 7393c080aa (libpython: Support benchmarks of non-parallel runs better (#1733))
=======
>>>>>>> 3e81947fcf (Merge branch 'a0x8o' into stag0)
=======
=======
>>>>>>> eda3ed4fd6 (libpython: Support benchmarks of non-parallel runs better (#1733))
>>>>>>> 824e32212e (libpython: Support benchmarks of non-parallel runs better (#1733))
=======
=======
>>>>>>> eda3ed4fd6 (libpython: Support benchmarks of non-parallel runs better (#1733))
=======
>>>>>>> 4d38e4070b (libpython: Support benchmarks of non-parallel runs better (#1733))
>>>>>>> 3f42bae598 (libpython: Support benchmarks of non-parallel runs better (#1733))
=======
=======
>>>>>>> 97b8f7a849 (libpython: Support benchmarks of non-parallel runs better (#1733))
>>>>>>> 88accbfbad (libpython: Support benchmarks of non-parallel runs better (#1733))
   "cell_type": "code",
   "execution_count": null,
   "metadata": {},
   "outputs": [],
   "source": [
    "# Demonstration of GrassRenderer for non-interactive map display\n",
<<<<<<< HEAD
    "\n",
    "r = gj.GrassRenderer(height=540, filename = \"streams_maps.png\")\n",
=======
    "r = gj.GrassRenderer(height=540)\n",
>>>>>>> 523219d6d4 (r.in.pdal: info.cpp also needs PDALCPPFLAGS (#1768))
    "\n",
    "r.run(\"d.rast\", map=\"elevation\")\n",
    "r.run(\"d.vect\", map=\"streams\")\n",
    "\n",
    "r.show()"
   ]
  },
  {
   "cell_type": "markdown",
   "metadata": {},
   "source": [
    "#### We can have two instances of GrassRenderer"
   ]
  },
  {
   "cell_type": "code",
   "execution_count": null,
   "metadata": {},
   "outputs": [],
   "source": [
    "# First, we'll make a second instance. Notice we need a different filename.\n",
    "\n",
    "r2 = gj.GrassRenderer(height=200, width=220, filename =\"roads_maps.png\")\n",
    "\n",
    "r2.run(\"d.rast\", map=\"elevation_shade\")\n",
    "r2.run(\"d.vect\", map=\"roadsmajor\")\n",
    "\n",
    "r2.show()"
   ]
  },
  {
   "cell_type": "code",
   "execution_count": null,
   "metadata": {},
   "outputs": [],
   "source": [
    "# Then, we return to the first instance and continue to modify and display it\n",
    "\n",
    "r.run(\"d.vect\", map = \"zipcodes\", color=\"red\", fill_color=\"none\")\n",
    "\n",
    "r.show()"
   ]
  },
  {
   "cell_type": "markdown",
   "metadata": {},
   "source": [
    "## Interactive Map Display"
   ]
  },
  {
   "cell_type": "code",
   "execution_count": null,
   "metadata": {},
   "outputs": [],
   "source": [
    "# Create Interactive Map\n",
    "m = gj.InteractiveMap(width = 600)\n",
    "\n",
    "# Add raster, vector and layer control to map\n",
    "m.add_raster(\"elevation\")\n",
    "m.add_vector(\"roadsmajor\")\n",
    "m.add_layer_control(position = \"bottomright\")\n",
    "\n",
    "# Display map\n",
    "m.show()"
   ]
  },
  {
   "cell_type": "code",
   "execution_count": null,
   "metadata": {},
   "outputs": [],
   "source": [
    "# Let's see what is in the example database so we can continue to experiment\n",
    "print(gs.read_command(\"g.list\", type=\"all\"))"
=======
=======
>>>>>>> 847046a031 (Add session initiations functions for Jupyter Notebooks (#1629))
=======
>>>>>>> 793ee713c5 (wxGUI/datacatalog: fix setting output vector/raster format (#1596))
<<<<<<< HEAD
<<<<<<< HEAD
=======
>>>>>>> b8162a916c (wxGUI/datacatalog: fix setting output vector/raster format (#1596))
=======
>>>>>>> a05b13298f (wxGUI/datacatalog: fix setting output vector/raster format (#1596))
<<<<<<< HEAD
<<<<<<< HEAD
=======
>>>>>>> 4625684fca (wxGUI/datacatalog: fix setting output vector/raster format (#1596))
=======
>>>>>>> 02f32ae2d4 (wxGUI/datacatalog: fix setting output vector/raster format (#1596))
<<<<<<< HEAD
<<<<<<< HEAD
=======
>>>>>>> 9e134ec08d (wxGUI/datacatalog: fix setting output vector/raster format (#1596))
=======
>>>>>>> 75f1063afc (wxGUI/datacatalog: fix setting output vector/raster format (#1596))
<<<<<<< HEAD
<<<<<<< HEAD
=======
>>>>>>> b479d694c0 (wxGUI/datacatalog: fix setting output vector/raster format (#1596))
=======
>>>>>>> 8b762d062b (wxGUI/datacatalog: fix setting output vector/raster format (#1596))
<<<<<<< HEAD
<<<<<<< HEAD
=======
>>>>>>> b621c8b780 (wxGUI/datacatalog: fix setting output vector/raster format (#1596))
=======
>>>>>>> 2942a2fdfb (wxGUI/datacatalog: fix setting output vector/raster format (#1596))
<<<<<<< HEAD
<<<<<<< HEAD
=======
>>>>>>> 9051310ffd (wxGUI/datacatalog: fix setting output vector/raster format (#1596))
=======
>>>>>>> 510052984c (wxGUI/datacatalog: fix setting output vector/raster format (#1596))
<<<<<<< HEAD
<<<<<<< HEAD
=======
>>>>>>> 095dc4def6 (wxGUI/datacatalog: fix setting output vector/raster format (#1596))
=======
>>>>>>> 45a066d418 (wxGUI/datacatalog: fix setting output vector/raster format (#1596))
<<<<<<< HEAD
<<<<<<< HEAD
=======
>>>>>>> fa3a181fb0 (wxGUI/datacatalog: fix setting output vector/raster format (#1596))
=======
>>>>>>> bd71b111b3 (wxGUI/datacatalog: fix setting output vector/raster format (#1596))
=======
>>>>>>> 836a40382b (wxGUI/datacatalog: fix setting output vector/raster format (#1596))
=======
=======
>>>>>>> b8162a916c (wxGUI/datacatalog: fix setting output vector/raster format (#1596))
>>>>>>> 75ca885908 (wxGUI/datacatalog: fix setting output vector/raster format (#1596))
=======
>>>>>>> 08a756738c (wxGUI/datacatalog: fix setting output vector/raster format (#1596))
=======
=======
>>>>>>> 4625684fca (wxGUI/datacatalog: fix setting output vector/raster format (#1596))
>>>>>>> 855503a984 (wxGUI/datacatalog: fix setting output vector/raster format (#1596))
=======
>>>>>>> b4f1490ce2 (wxGUI/datacatalog: fix setting output vector/raster format (#1596))
=======
=======
>>>>>>> 9e134ec08d (wxGUI/datacatalog: fix setting output vector/raster format (#1596))
>>>>>>> fa7df22047 (wxGUI/datacatalog: fix setting output vector/raster format (#1596))
=======
>>>>>>> 73c280b8c6 (wxGUI/datacatalog: fix setting output vector/raster format (#1596))
=======
=======
>>>>>>> b479d694c0 (wxGUI/datacatalog: fix setting output vector/raster format (#1596))
>>>>>>> d0b3ffd998 (wxGUI/datacatalog: fix setting output vector/raster format (#1596))
=======
>>>>>>> 3468665ca3 (wxGUI/datacatalog: fix setting output vector/raster format (#1596))
=======
=======
>>>>>>> b621c8b780 (wxGUI/datacatalog: fix setting output vector/raster format (#1596))
>>>>>>> f9261b86c0 (wxGUI/datacatalog: fix setting output vector/raster format (#1596))
=======
>>>>>>> 16ac4aec37 (wxGUI/datacatalog: fix setting output vector/raster format (#1596))
=======
=======
>>>>>>> 9051310ffd (wxGUI/datacatalog: fix setting output vector/raster format (#1596))
>>>>>>> 773ccfdfd3 (wxGUI/datacatalog: fix setting output vector/raster format (#1596))
=======
>>>>>>> cef6c84d7f (wxGUI/datacatalog: fix setting output vector/raster format (#1596))
=======
=======
>>>>>>> 095dc4def6 (wxGUI/datacatalog: fix setting output vector/raster format (#1596))
>>>>>>> 98fd9cfdb5 (wxGUI/datacatalog: fix setting output vector/raster format (#1596))
=======
>>>>>>> cd0f28f571 (wxGUI/datacatalog: fix setting output vector/raster format (#1596))
=======
=======
>>>>>>> fa3a181fb0 (wxGUI/datacatalog: fix setting output vector/raster format (#1596))
>>>>>>> ea91af519a (wxGUI/datacatalog: fix setting output vector/raster format (#1596))
    "# Let's display the DTM of our sample area to ensure all's working\n",
    "\n",
    "# Set computational region to the study area.\n",
    "gs.parse_command(\"g.region\", raster=\"elevation\", flags=\"pg\")\n",
    "\n",
    "# Draw elevation (DTM) to get an overview of the area.\n",
    "gs.run_command(\"r.colors\", map=\"elevation\", color=\"elevation\")\n",
    "gs.run_command(\"d.erase\")\n",
    "gs.run_command(\"d.rast\", map=\"elevation\")\n",
    "gs.run_command(\"d.legend\", raster=\"elevation\", at=(65, 90, 85, 90), fontsize=15, flags=\"b\", title=\"DTM\")\n",
    "Image(filename=\"map.png\")"
<<<<<<< HEAD
<<<<<<< HEAD
<<<<<<< HEAD
<<<<<<< HEAD
<<<<<<< HEAD
<<<<<<< HEAD
<<<<<<< HEAD
<<<<<<< HEAD
<<<<<<< HEAD
<<<<<<< HEAD
<<<<<<< HEAD
<<<<<<< HEAD
<<<<<<< HEAD
<<<<<<< HEAD
<<<<<<< HEAD
<<<<<<< HEAD
<<<<<<< HEAD
<<<<<<< HEAD
<<<<<<< HEAD
<<<<<<< HEAD
<<<<<<< HEAD
<<<<<<< HEAD
<<<<<<< HEAD
<<<<<<< HEAD
<<<<<<< HEAD
<<<<<<< HEAD
<<<<<<< HEAD
<<<<<<< HEAD
<<<<<<< HEAD
<<<<<<< HEAD
<<<<<<< HEAD
<<<<<<< HEAD
<<<<<<< HEAD
<<<<<<< HEAD
=======
>>>>>>> 836a40382b (wxGUI/datacatalog: fix setting output vector/raster format (#1596))
=======
>>>>>>> 75ca885908 (wxGUI/datacatalog: fix setting output vector/raster format (#1596))
=======
>>>>>>> 08a756738c (wxGUI/datacatalog: fix setting output vector/raster format (#1596))
=======
>>>>>>> 855503a984 (wxGUI/datacatalog: fix setting output vector/raster format (#1596))
=======
>>>>>>> b4f1490ce2 (wxGUI/datacatalog: fix setting output vector/raster format (#1596))
=======
>>>>>>> fa7df22047 (wxGUI/datacatalog: fix setting output vector/raster format (#1596))
=======
>>>>>>> 73c280b8c6 (wxGUI/datacatalog: fix setting output vector/raster format (#1596))
=======
>>>>>>> d0b3ffd998 (wxGUI/datacatalog: fix setting output vector/raster format (#1596))
=======
>>>>>>> 3468665ca3 (wxGUI/datacatalog: fix setting output vector/raster format (#1596))
=======
>>>>>>> f9261b86c0 (wxGUI/datacatalog: fix setting output vector/raster format (#1596))
=======
>>>>>>> 16ac4aec37 (wxGUI/datacatalog: fix setting output vector/raster format (#1596))
=======
>>>>>>> 773ccfdfd3 (wxGUI/datacatalog: fix setting output vector/raster format (#1596))
=======
>>>>>>> cef6c84d7f (wxGUI/datacatalog: fix setting output vector/raster format (#1596))
=======
>>>>>>> 98fd9cfdb5 (wxGUI/datacatalog: fix setting output vector/raster format (#1596))
=======
>>>>>>> cd0f28f571 (wxGUI/datacatalog: fix setting output vector/raster format (#1596))
=======
>>>>>>> ea91af519a (wxGUI/datacatalog: fix setting output vector/raster format (#1596))
>>>>>>> 584e61d06d (wxGUI/datacatalog: fix setting output vector/raster format (#1596))
=======
>>>>>>> 847046a031 (Add session initiations functions for Jupyter Notebooks (#1629))
=======
    "# Set computational region to the study area.\n",
    "gs.run_command(\"g.region\", raster=\"elevation\")"
>>>>>>> da7f79c3f9 (libpython: Save and load benchmark results (#1711))
   ]
  },
  {
<<<<<<< HEAD
<<<<<<< HEAD
=======
>>>>>>> ba3c0640fa (libpython: Support benchmarks of non-parallel runs better (#1733))
   "cell_type": "code",
   "execution_count": null,
   "metadata": {},
   "outputs": [],
   "source": [
    "# Demonstration of GrassRenderer for non-interactive map display\n",
    "r = gj.GrassRenderer(height=540)\n",
<<<<<<< HEAD
    "\n",
    "# Add a raster and vector to the map\n",
    "r.run(\"d.rast\", map=\"elevation\")\n",
    "r.run(\"d.vect\", map=\"streams\")\n",
    "\n",
    "# We can also call 'd.*' display modules with a shortcut\n",
    "# Shortcut methods must be in the form '.d_{name_of_module}'\n",
    "# For example, let's add a legend using a shortcut\n",
    "r.d_legend(raster=\"elevation\", at=(55, 95, 2, 6), flags=\"b\") # shortcut for calling \"d.legend\"\n",
    "\n",
    "# Display map\n",
    "r.show()"
   ]
  },
  {
   "cell_type": "markdown",
   "metadata": {},
   "source": [
    "#### Multiple instances of GrassRenderer\n",
    "\n",
    "We can have multiple instances of GrassRenderer."
   ]
  },
  {
   "cell_type": "code",
   "execution_count": null,
   "metadata": {},
   "outputs": [],
   "source": [
    "# First, we'll make a second instance. Notice we need a different filename.\n",
    "\n",
    "r2 = gj.GrassRenderer(height=200, width=220, filename =\"roads_maps.png\")\n",
    "\n",
    "r2.run(\"d.rast\", map=\"elevation_shade\")\n",
    "r2.run(\"d.vect\", map=\"roadsmajor\")\n",
    "\n",
    "r2.show()"
   ]
  },
  {
   "cell_type": "code",
   "execution_count": null,
   "metadata": {},
   "outputs": [],
   "source": [
    "# Then, we return to the first instance and continue to modify and display it\n",
    "# Notice that layers a drawn in the order they are added\n",
    "\n",
    "r.run(\"d.vect\", map = \"zipcodes\", color=\"red\", fill_color=\"none\")\n",
    "\n",
    "r.show()"
   ]
  },
  {
   "cell_type": "markdown",
   "metadata": {},
   "source": [
    "## Interactive Map Display"
   ]
  },
  {
   "cell_type": "code",
   "execution_count": null,
   "metadata": {},
   "outputs": [],
   "source": [
    "# Create Interactive Map\n",
    "m = gj.InteractiveMap(width = 600)\n",
    "\n",
    "# Add raster, vector and layer control to map\n",
    "m.add_raster(\"elevation\")\n",
    "m.add_vector(\"roadsmajor\")\n",
    "m.add_layer_control(position = \"bottomright\")\n",
    "\n",
    "# Display map\n",
    "m.show()"
   ]
  },
  {
   "cell_type": "code",
   "execution_count": null,
   "metadata": {},
   "outputs": [],
   "source": [
    "# Let's see what is in the example database so we can continue to experiment\n",
    "print(gs.read_command(\"g.list\", type=\"all\"))"
=======
>>>>>>> 793ee713c5 (wxGUI/datacatalog: fix setting output vector/raster format (#1596))
=======
    "# Set computational region to the study area.\n",
    "gs.run_command(\"g.region\", raster=\"elevation\")"
>>>>>>> 86e790785c (libpython: Save and load benchmark results (#1711))
   ]
  },
  {
=======
>>>>>>> aae21b95f4 (libpython: Support benchmarks of non-parallel runs better (#1733))
   "cell_type": "code",
   "execution_count": null,
   "metadata": {},
   "outputs": [],
   "source": [
    "# Demonstration of GrassRenderer for non-interactive map display\n",
<<<<<<< HEAD
    "\n",
    "r = gj.GrassRenderer(height=540, filename = \"streams_maps.png\")\n",
=======
    "r = gj.GrassRenderer(height=540)\n",
>>>>>>> 523219d6d4 (r.in.pdal: info.cpp also needs PDALCPPFLAGS (#1768))
    "\n",
    "r.run(\"d.rast\", map=\"elevation\")\n",
    "r.run(\"d.vect\", map=\"streams\")\n",
    "\n",
    "r.show()"
   ]
  },
  {
   "cell_type": "markdown",
   "metadata": {},
   "source": [
    "#### We can have two instances of GrassRenderer"
   ]
  },
  {
   "cell_type": "code",
   "execution_count": null,
   "metadata": {},
   "outputs": [],
   "source": [
    "# First, we'll make a second instance. Notice we need a different filename.\n",
    "\n",
    "r2 = gj.GrassRenderer(height=200, width=220, filename =\"roads_maps.png\")\n",
    "\n",
    "r2.run(\"d.rast\", map=\"elevation_shade\")\n",
    "r2.run(\"d.vect\", map=\"roadsmajor\")\n",
    "\n",
    "r2.show()"
   ]
  },
  {
   "cell_type": "code",
   "execution_count": null,
   "metadata": {},
   "outputs": [],
   "source": [
    "# Then, we return to the first instance and continue to modify and display it\n",
    "\n",
    "r.run(\"d.vect\", map = \"zipcodes\", color=\"red\", fill_color=\"none\")\n",
    "\n",
    "r.show()"
   ]
  },
  {
   "cell_type": "markdown",
   "metadata": {},
   "source": [
    "## Interactive Map Display"
   ]
  },
  {
   "cell_type": "code",
   "execution_count": null,
   "metadata": {},
   "outputs": [],
   "source": [
    "# Create Interactive Map\n",
    "m = gj.InteractiveMap(width = 600)\n",
    "\n",
    "# Add raster, vector and layer control to map\n",
    "m.add_raster(\"elevation\")\n",
    "m.add_vector(\"roadsmajor\")\n",
    "m.add_layer_control(position = \"bottomright\")\n",
    "\n",
    "# Display map\n",
    "m.show()"
   ]
  },
  {
   "cell_type": "code",
   "execution_count": null,
   "metadata": {},
   "outputs": [],
   "source": [
    "# Let's see what is in the example database so we can continue to experiment\n",
    "print(gs.read_command(\"g.list\", type=\"all\"))"
=======
>>>>>>> b8162a916c (wxGUI/datacatalog: fix setting output vector/raster format (#1596))
=======
    "# Set computational region to the study area.\n",
    "gs.run_command(\"g.region\", raster=\"elevation\")"
>>>>>>> 476ef44553 (libpython: Save and load benchmark results (#1711))
   ]
  },
  {
=======
>>>>>>> 170fde8596 (libpython: Support benchmarks of non-parallel runs better (#1733))
   "cell_type": "code",
   "execution_count": null,
   "metadata": {},
   "outputs": [],
   "source": [
    "# Demonstration of GrassRenderer for non-interactive map display\n",
<<<<<<< HEAD
    "\n",
    "r = gj.GrassRenderer(height=540, filename = \"streams_maps.png\")\n",
=======
    "r = gj.GrassRenderer(height=540)\n",
>>>>>>> 523219d6d4 (r.in.pdal: info.cpp also needs PDALCPPFLAGS (#1768))
    "\n",
    "r.run(\"d.rast\", map=\"elevation\")\n",
    "r.run(\"d.vect\", map=\"streams\")\n",
    "\n",
    "r.show()"
   ]
  },
  {
   "cell_type": "markdown",
   "metadata": {},
   "source": [
    "#### We can have two instances of GrassRenderer"
   ]
  },
  {
   "cell_type": "code",
   "execution_count": null,
   "metadata": {},
   "outputs": [],
   "source": [
    "# First, we'll make a second instance. Notice we need a different filename.\n",
    "\n",
    "r2 = gj.GrassRenderer(height=200, width=220, filename =\"roads_maps.png\")\n",
    "\n",
    "r2.run(\"d.rast\", map=\"elevation_shade\")\n",
    "r2.run(\"d.vect\", map=\"roadsmajor\")\n",
    "\n",
    "r2.show()"
   ]
  },
  {
   "cell_type": "code",
   "execution_count": null,
   "metadata": {},
   "outputs": [],
   "source": [
    "# Then, we return to the first instance and continue to modify and display it\n",
    "\n",
    "r.run(\"d.vect\", map = \"zipcodes\", color=\"red\", fill_color=\"none\")\n",
    "\n",
    "r.show()"
   ]
  },
  {
   "cell_type": "markdown",
   "metadata": {},
   "source": [
    "## Interactive Map Display"
   ]
  },
  {
   "cell_type": "code",
   "execution_count": null,
   "metadata": {},
   "outputs": [],
   "source": [
    "# Create Interactive Map\n",
    "m = gj.InteractiveMap(width = 600)\n",
    "\n",
    "# Add raster, vector and layer control to map\n",
    "m.add_raster(\"elevation\")\n",
    "m.add_vector(\"roadsmajor\")\n",
    "m.add_layer_control(position = \"bottomright\")\n",
    "\n",
    "# Display map\n",
    "m.show()"
   ]
  },
  {
   "cell_type": "code",
   "execution_count": null,
   "metadata": {},
   "outputs": [],
   "source": [
    "# Let's see what is in the example database so we can continue to experiment\n",
    "print(gs.read_command(\"g.list\", type=\"all\"))"
=======
>>>>>>> a05b13298f (wxGUI/datacatalog: fix setting output vector/raster format (#1596))
=======
    "# Set computational region to the study area.\n",
    "gs.run_command(\"g.region\", raster=\"elevation\")"
>>>>>>> f541ee3b09 (libpython: Save and load benchmark results (#1711))
   ]
  },
  {
=======
>>>>>>> ea17e86303 (libpython: Support benchmarks of non-parallel runs better (#1733))
   "cell_type": "code",
   "execution_count": null,
   "metadata": {},
   "outputs": [],
   "source": [
    "# Demonstration of GrassRenderer for non-interactive map display\n",
<<<<<<< HEAD
    "\n",
    "r = gj.GrassRenderer(height=540, filename = \"streams_maps.png\")\n",
=======
    "r = gj.GrassRenderer(height=540)\n",
>>>>>>> 523219d6d4 (r.in.pdal: info.cpp also needs PDALCPPFLAGS (#1768))
    "\n",
    "r.run(\"d.rast\", map=\"elevation\")\n",
    "r.run(\"d.vect\", map=\"streams\")\n",
    "\n",
    "r.show()"
   ]
  },
  {
   "cell_type": "markdown",
   "metadata": {},
   "source": [
    "#### We can have two instances of GrassRenderer"
   ]
  },
  {
   "cell_type": "code",
   "execution_count": null,
   "metadata": {},
   "outputs": [],
   "source": [
    "# First, we'll make a second instance. Notice we need a different filename.\n",
    "\n",
    "r2 = gj.GrassRenderer(height=200, width=220, filename =\"roads_maps.png\")\n",
    "\n",
    "r2.run(\"d.rast\", map=\"elevation_shade\")\n",
    "r2.run(\"d.vect\", map=\"roadsmajor\")\n",
    "\n",
    "r2.show()"
   ]
  },
  {
   "cell_type": "code",
   "execution_count": null,
   "metadata": {},
   "outputs": [],
   "source": [
    "# Then, we return to the first instance and continue to modify and display it\n",
    "\n",
    "r.run(\"d.vect\", map = \"zipcodes\", color=\"red\", fill_color=\"none\")\n",
    "\n",
    "r.show()"
   ]
  },
  {
   "cell_type": "markdown",
   "metadata": {},
   "source": [
    "## Interactive Map Display"
   ]
  },
  {
   "cell_type": "code",
   "execution_count": null,
   "metadata": {},
   "outputs": [],
   "source": [
    "# Create Interactive Map\n",
    "m = gj.InteractiveMap(width = 600)\n",
    "\n",
    "# Add raster, vector and layer control to map\n",
    "m.add_raster(\"elevation\")\n",
    "m.add_vector(\"roadsmajor\")\n",
    "m.add_layer_control(position = \"bottomright\")\n",
    "\n",
    "# Display map\n",
    "m.show()"
   ]
  },
  {
   "cell_type": "code",
   "execution_count": null,
   "metadata": {},
   "outputs": [],
   "source": [
    "# Let's see what is in the example database so we can continue to experiment\n",
    "print(gs.read_command(\"g.list\", type=\"all\"))"
=======
=======
>>>>>>> 40118f6d63 (wxGUI/datacatalog: fix setting output vector/raster format (#1596))
=======
>>>>>>> 9e134ec08d (wxGUI/datacatalog: fix setting output vector/raster format (#1596))
=======
>>>>>>> 05e3f88683 (wxGUI/datacatalog: fix setting output vector/raster format (#1596))
    "# Let's display the DTM of our sample area to ensure all's working\n",
    "\n",
    "# Set computational region to the study area.\n",
    "gs.parse_command(\"g.region\", raster=\"elevation\", flags=\"pg\")\n",
    "\n",
    "# Draw elevation (DTM) to get an overview of the area.\n",
    "gs.run_command(\"r.colors\", map=\"elevation\", color=\"elevation\")\n",
    "gs.run_command(\"d.erase\")\n",
    "gs.run_command(\"d.rast\", map=\"elevation\")\n",
    "gs.run_command(\"d.legend\", raster=\"elevation\", at=(65, 90, 85, 90), fontsize=15, flags=\"b\", title=\"DTM\")\n",
    "Image(filename=\"map.png\")"
<<<<<<< HEAD
<<<<<<< HEAD
<<<<<<< HEAD
>>>>>>> 4625684fca (wxGUI/datacatalog: fix setting output vector/raster format (#1596))
=======
    "# Set computational region to the study area.\n",
    "gs.run_command(\"g.region\", raster=\"elevation\")"
>>>>>>> 923408bf7e (libpython: Save and load benchmark results (#1711))
   ]
  },
  {
=======
>>>>>>> 01a506d3d3 (libpython: Support benchmarks of non-parallel runs better (#1733))
   "cell_type": "code",
   "execution_count": null,
   "metadata": {},
   "outputs": [],
   "source": [
    "# Demonstration of GrassRenderer for non-interactive map display\n",
<<<<<<< HEAD
    "\n",
    "r = gj.GrassRenderer(height=540, filename = \"streams_maps.png\")\n",
=======
    "r = gj.GrassRenderer(height=540)\n",
>>>>>>> 523219d6d4 (r.in.pdal: info.cpp also needs PDALCPPFLAGS (#1768))
    "\n",
    "r.run(\"d.rast\", map=\"elevation\")\n",
    "r.run(\"d.vect\", map=\"streams\")\n",
    "\n",
    "r.show()"
   ]
  },
  {
   "cell_type": "markdown",
   "metadata": {},
   "source": [
    "#### We can have two instances of GrassRenderer"
   ]
  },
  {
   "cell_type": "code",
   "execution_count": null,
   "metadata": {},
   "outputs": [],
   "source": [
    "# First, we'll make a second instance. Notice we need a different filename.\n",
    "\n",
    "r2 = gj.GrassRenderer(height=200, width=220, filename =\"roads_maps.png\")\n",
    "\n",
    "r2.run(\"d.rast\", map=\"elevation_shade\")\n",
    "r2.run(\"d.vect\", map=\"roadsmajor\")\n",
    "\n",
    "r2.show()"
   ]
  },
  {
   "cell_type": "code",
   "execution_count": null,
   "metadata": {},
   "outputs": [],
   "source": [
    "# Then, we return to the first instance and continue to modify and display it\n",
    "\n",
    "r.run(\"d.vect\", map = \"zipcodes\", color=\"red\", fill_color=\"none\")\n",
    "\n",
    "r.show()"
   ]
  },
  {
   "cell_type": "markdown",
   "metadata": {},
   "source": [
    "## Interactive Map Display"
   ]
  },
  {
   "cell_type": "code",
   "execution_count": null,
   "metadata": {},
   "outputs": [],
   "source": [
    "# Create Interactive Map\n",
    "m = gj.InteractiveMap(width = 600)\n",
    "\n",
    "# Add raster, vector and layer control to map\n",
    "m.add_raster(\"elevation\")\n",
    "m.add_vector(\"roadsmajor\")\n",
    "m.add_layer_control(position = \"bottomright\")\n",
    "\n",
    "# Display map\n",
    "m.show()"
   ]
  },
  {
   "cell_type": "code",
   "execution_count": null,
   "metadata": {},
   "outputs": [],
   "source": [
    "# Let's see what is in the example database so we can continue to experiment\n",
    "print(gs.read_command(\"g.list\", type=\"all\"))"
=======
>>>>>>> 4625684fca (wxGUI/datacatalog: fix setting output vector/raster format (#1596))
=======
    "# Set computational region to the study area.\n",
    "gs.run_command(\"g.region\", raster=\"elevation\")"
>>>>>>> 923408bf7e (libpython: Save and load benchmark results (#1711))
   ]
  },
  {
=======
>>>>>>> 01a506d3d3 (libpython: Support benchmarks of non-parallel runs better (#1733))
   "cell_type": "code",
   "execution_count": null,
   "metadata": {},
   "outputs": [],
   "source": [
    "# Demonstration of GrassRenderer for non-interactive map display\n",
<<<<<<< HEAD
    "\n",
    "r = gj.GrassRenderer(height=540, filename = \"streams_maps.png\")\n",
=======
    "r = gj.GrassRenderer(height=540)\n",
>>>>>>> 523219d6d4 (r.in.pdal: info.cpp also needs PDALCPPFLAGS (#1768))
    "\n",
    "r.run(\"d.rast\", map=\"elevation\")\n",
    "r.run(\"d.vect\", map=\"streams\")\n",
    "\n",
    "r.show()"
   ]
  },
  {
   "cell_type": "markdown",
   "metadata": {},
   "source": [
    "#### We can have two instances of GrassRenderer"
   ]
  },
  {
   "cell_type": "code",
   "execution_count": null,
   "metadata": {},
   "outputs": [],
   "source": [
    "# First, we'll make a second instance. Notice we need a different filename.\n",
    "\n",
    "r2 = gj.GrassRenderer(height=200, width=220, filename =\"roads_maps.png\")\n",
    "\n",
    "r2.run(\"d.rast\", map=\"elevation_shade\")\n",
    "r2.run(\"d.vect\", map=\"roadsmajor\")\n",
    "\n",
    "r2.show()"
   ]
  },
  {
   "cell_type": "code",
   "execution_count": null,
   "metadata": {},
   "outputs": [],
   "source": [
    "# Then, we return to the first instance and continue to modify and display it\n",
    "\n",
    "r.run(\"d.vect\", map = \"zipcodes\", color=\"red\", fill_color=\"none\")\n",
    "\n",
    "r.show()"
   ]
  },
  {
   "cell_type": "markdown",
   "metadata": {},
   "source": [
    "## Interactive Map Display"
   ]
  },
  {
   "cell_type": "code",
   "execution_count": null,
   "metadata": {},
   "outputs": [],
   "source": [
    "# Create Interactive Map\n",
    "m = gj.InteractiveMap(width = 600)\n",
    "\n",
    "# Add raster, vector and layer control to map\n",
    "m.add_raster(\"elevation\")\n",
    "m.add_vector(\"roadsmajor\")\n",
    "m.add_layer_control(position = \"bottomright\")\n",
    "\n",
    "# Display map\n",
    "m.show()"
   ]
  },
  {
   "cell_type": "code",
   "execution_count": null,
   "metadata": {},
   "outputs": [],
   "source": [
    "# Let's see what is in the example database so we can continue to experiment\n",
    "print(gs.read_command(\"g.list\", type=\"all\"))"
=======
>>>>>>> 02f32ae2d4 (wxGUI/datacatalog: fix setting output vector/raster format (#1596))
=======
    "# Set computational region to the study area.\n",
    "gs.run_command(\"g.region\", raster=\"elevation\")"
>>>>>>> 2bf163e4b3 (libpython: Save and load benchmark results (#1711))
   ]
  },
  {
=======
>>>>>>> d23d575d0e (libpython: Support benchmarks of non-parallel runs better (#1733))
   "cell_type": "code",
   "execution_count": null,
   "metadata": {},
   "outputs": [],
   "source": [
    "# Demonstration of GrassRenderer for non-interactive map display\n",
<<<<<<< HEAD
    "\n",
    "r = gj.GrassRenderer(height=540, filename = \"streams_maps.png\")\n",
=======
    "r = gj.GrassRenderer(height=540)\n",
>>>>>>> 523219d6d4 (r.in.pdal: info.cpp also needs PDALCPPFLAGS (#1768))
    "\n",
    "r.run(\"d.rast\", map=\"elevation\")\n",
    "r.run(\"d.vect\", map=\"streams\")\n",
    "\n",
    "r.show()"
   ]
  },
  {
   "cell_type": "markdown",
   "metadata": {},
   "source": [
    "#### We can have two instances of GrassRenderer"
   ]
  },
  {
   "cell_type": "code",
   "execution_count": null,
   "metadata": {},
   "outputs": [],
   "source": [
    "# First, we'll make a second instance. Notice we need a different filename.\n",
    "\n",
    "r2 = gj.GrassRenderer(height=200, width=220, filename =\"roads_maps.png\")\n",
    "\n",
    "r2.run(\"d.rast\", map=\"elevation_shade\")\n",
    "r2.run(\"d.vect\", map=\"roadsmajor\")\n",
    "\n",
    "r2.show()"
   ]
  },
  {
   "cell_type": "code",
   "execution_count": null,
   "metadata": {},
   "outputs": [],
   "source": [
    "# Then, we return to the first instance and continue to modify and display it\n",
    "\n",
    "r.run(\"d.vect\", map = \"zipcodes\", color=\"red\", fill_color=\"none\")\n",
    "\n",
    "r.show()"
   ]
  },
  {
   "cell_type": "markdown",
   "metadata": {},
   "source": [
    "## Interactive Map Display"
   ]
  },
  {
   "cell_type": "code",
   "execution_count": null,
   "metadata": {},
   "outputs": [],
   "source": [
    "# Create Interactive Map\n",
    "m = gj.InteractiveMap(width = 600)\n",
    "\n",
    "# Add raster, vector and layer control to map\n",
    "m.add_raster(\"elevation\")\n",
    "m.add_vector(\"roadsmajor\")\n",
    "m.add_layer_control(position = \"bottomright\")\n",
    "\n",
    "# Display map\n",
    "m.show()"
   ]
  },
  {
   "cell_type": "code",
   "execution_count": null,
   "metadata": {},
   "outputs": [],
   "source": [
    "# Let's see what is in the example database so we can continue to experiment\n",
    "print(gs.read_command(\"g.list\", type=\"all\"))"
=======
>>>>>>> 40118f6d63 (wxGUI/datacatalog: fix setting output vector/raster format (#1596))
=======
    "# Set computational region to the study area.\n",
    "gs.run_command(\"g.region\", raster=\"elevation\")"
>>>>>>> af1011ff1e (libpython: Save and load benchmark results (#1711))
   ]
  },
  {
=======
>>>>>>> a4624812dc (libpython: Support benchmarks of non-parallel runs better (#1733))
   "cell_type": "code",
   "execution_count": null,
   "metadata": {},
   "outputs": [],
   "source": [
    "# Demonstration of GrassRenderer for non-interactive map display\n",
<<<<<<< HEAD
    "\n",
    "r = gj.GrassRenderer(height=540, filename = \"streams_maps.png\")\n",
=======
    "r = gj.GrassRenderer(height=540)\n",
>>>>>>> 523219d6d4 (r.in.pdal: info.cpp also needs PDALCPPFLAGS (#1768))
    "\n",
    "r.run(\"d.rast\", map=\"elevation\")\n",
    "r.run(\"d.vect\", map=\"streams\")\n",
    "\n",
    "r.show()"
   ]
  },
  {
   "cell_type": "markdown",
   "metadata": {},
   "source": [
    "#### We can have two instances of GrassRenderer"
   ]
  },
  {
   "cell_type": "code",
   "execution_count": null,
   "metadata": {},
   "outputs": [],
   "source": [
    "# First, we'll make a second instance. Notice we need a different filename.\n",
    "\n",
    "r2 = gj.GrassRenderer(height=200, width=220, filename =\"roads_maps.png\")\n",
    "\n",
    "r2.run(\"d.rast\", map=\"elevation_shade\")\n",
    "r2.run(\"d.vect\", map=\"roadsmajor\")\n",
    "\n",
    "r2.show()"
   ]
  },
  {
   "cell_type": "code",
   "execution_count": null,
   "metadata": {},
   "outputs": [],
   "source": [
    "# Then, we return to the first instance and continue to modify and display it\n",
    "\n",
    "r.run(\"d.vect\", map = \"zipcodes\", color=\"red\", fill_color=\"none\")\n",
    "\n",
    "r.show()"
   ]
  },
  {
   "cell_type": "markdown",
   "metadata": {},
   "source": [
    "## Interactive Map Display"
   ]
  },
  {
   "cell_type": "code",
   "execution_count": null,
   "metadata": {},
   "outputs": [],
   "source": [
    "# Create Interactive Map\n",
    "m = gj.InteractiveMap(width = 600)\n",
    "\n",
    "# Add raster, vector and layer control to map\n",
    "m.add_raster(\"elevation\")\n",
    "m.add_vector(\"roadsmajor\")\n",
    "m.add_layer_control(position = \"bottomright\")\n",
    "\n",
    "# Display map\n",
    "m.show()"
   ]
  },
  {
   "cell_type": "code",
   "execution_count": null,
   "metadata": {},
   "outputs": [],
   "source": [
    "# Let's see what is in the example database so we can continue to experiment\n",
    "print(gs.read_command(\"g.list\", type=\"all\"))"
=======
>>>>>>> 9e134ec08d (wxGUI/datacatalog: fix setting output vector/raster format (#1596))
=======
    "# Set computational region to the study area.\n",
    "gs.run_command(\"g.region\", raster=\"elevation\")"
>>>>>>> 033a57360f (libpython: Save and load benchmark results (#1711))
   ]
  },
  {
=======
>>>>>>> 434bf28e3d (libpython: Support benchmarks of non-parallel runs better (#1733))
   "cell_type": "code",
   "execution_count": null,
   "metadata": {},
   "outputs": [],
   "source": [
    "# Demonstration of GrassRenderer for non-interactive map display\n",
<<<<<<< HEAD
    "\n",
    "r = gj.GrassRenderer(height=540, filename = \"streams_maps.png\")\n",
=======
    "r = gj.GrassRenderer(height=540)\n",
>>>>>>> 523219d6d4 (r.in.pdal: info.cpp also needs PDALCPPFLAGS (#1768))
    "\n",
    "r.run(\"d.rast\", map=\"elevation\")\n",
    "r.run(\"d.vect\", map=\"streams\")\n",
    "\n",
    "r.show()"
   ]
  },
  {
   "cell_type": "markdown",
   "metadata": {},
   "source": [
    "#### We can have two instances of GrassRenderer"
   ]
  },
  {
   "cell_type": "code",
   "execution_count": null,
   "metadata": {},
   "outputs": [],
   "source": [
    "# First, we'll make a second instance. Notice we need a different filename.\n",
    "\n",
    "r2 = gj.GrassRenderer(height=200, width=220, filename =\"roads_maps.png\")\n",
    "\n",
    "r2.run(\"d.rast\", map=\"elevation_shade\")\n",
    "r2.run(\"d.vect\", map=\"roadsmajor\")\n",
    "\n",
    "r2.show()"
   ]
  },
  {
   "cell_type": "code",
   "execution_count": null,
   "metadata": {},
   "outputs": [],
   "source": [
    "# Then, we return to the first instance and continue to modify and display it\n",
    "\n",
    "r.run(\"d.vect\", map = \"zipcodes\", color=\"red\", fill_color=\"none\")\n",
    "\n",
    "r.show()"
   ]
  },
  {
   "cell_type": "markdown",
   "metadata": {},
   "source": [
    "## Interactive Map Display"
   ]
  },
  {
   "cell_type": "code",
   "execution_count": null,
   "metadata": {},
   "outputs": [],
   "source": [
    "# Create Interactive Map\n",
    "m = gj.InteractiveMap(width = 600)\n",
    "\n",
    "# Add raster, vector and layer control to map\n",
    "m.add_raster(\"elevation\")\n",
    "m.add_vector(\"roadsmajor\")\n",
    "m.add_layer_control(position = \"bottomright\")\n",
    "\n",
    "# Display map\n",
    "m.show()"
   ]
  },
  {
   "cell_type": "code",
   "execution_count": null,
   "metadata": {},
   "outputs": [],
   "source": [
    "# Let's see what is in the example database so we can continue to experiment\n",
    "print(gs.read_command(\"g.list\", type=\"all\"))"
=======
>>>>>>> 9e134ec08d (wxGUI/datacatalog: fix setting output vector/raster format (#1596))
=======
    "# Set computational region to the study area.\n",
    "gs.run_command(\"g.region\", raster=\"elevation\")"
>>>>>>> 033a57360f (libpython: Save and load benchmark results (#1711))
   ]
  },
  {
=======
>>>>>>> 434bf28e3d (libpython: Support benchmarks of non-parallel runs better (#1733))
   "cell_type": "code",
   "execution_count": null,
   "metadata": {},
   "outputs": [],
   "source": [
    "# Demonstration of GrassRenderer for non-interactive map display\n",
<<<<<<< HEAD
    "\n",
    "r = gj.GrassRenderer(height=540, filename = \"streams_maps.png\")\n",
=======
    "r = gj.GrassRenderer(height=540)\n",
>>>>>>> 523219d6d4 (r.in.pdal: info.cpp also needs PDALCPPFLAGS (#1768))
    "\n",
    "r.run(\"d.rast\", map=\"elevation\")\n",
    "r.run(\"d.vect\", map=\"streams\")\n",
    "\n",
    "r.show()"
   ]
  },
  {
   "cell_type": "markdown",
   "metadata": {},
   "source": [
    "#### We can have two instances of GrassRenderer"
   ]
  },
  {
   "cell_type": "code",
   "execution_count": null,
   "metadata": {},
   "outputs": [],
   "source": [
    "# First, we'll make a second instance. Notice we need a different filename.\n",
    "\n",
    "r2 = gj.GrassRenderer(height=200, width=220, filename =\"roads_maps.png\")\n",
    "\n",
    "r2.run(\"d.rast\", map=\"elevation_shade\")\n",
    "r2.run(\"d.vect\", map=\"roadsmajor\")\n",
    "\n",
    "r2.show()"
   ]
  },
  {
   "cell_type": "code",
   "execution_count": null,
   "metadata": {},
   "outputs": [],
   "source": [
    "# Then, we return to the first instance and continue to modify and display it\n",
    "\n",
    "r.run(\"d.vect\", map = \"zipcodes\", color=\"red\", fill_color=\"none\")\n",
    "\n",
    "r.show()"
   ]
  },
  {
   "cell_type": "markdown",
   "metadata": {},
   "source": [
    "## Interactive Map Display"
   ]
  },
  {
   "cell_type": "code",
   "execution_count": null,
   "metadata": {},
   "outputs": [],
   "source": [
    "# Create Interactive Map\n",
    "m = gj.InteractiveMap(width = 600)\n",
    "\n",
    "# Add raster, vector and layer control to map\n",
    "m.add_raster(\"elevation\")\n",
    "m.add_vector(\"roadsmajor\")\n",
    "m.add_layer_control(position = \"bottomright\")\n",
    "\n",
    "# Display map\n",
    "m.show()"
   ]
  },
  {
   "cell_type": "code",
   "execution_count": null,
   "metadata": {},
   "outputs": [],
   "source": [
    "# Let's see what is in the example database so we can continue to experiment\n",
    "print(gs.read_command(\"g.list\", type=\"all\"))"
=======
>>>>>>> 75f1063afc (wxGUI/datacatalog: fix setting output vector/raster format (#1596))
=======
    "# Set computational region to the study area.\n",
    "gs.run_command(\"g.region\", raster=\"elevation\")"
>>>>>>> 8984405ebb (libpython: Save and load benchmark results (#1711))
   ]
  },
  {
=======
>>>>>>> 1691c94d89 (libpython: Support benchmarks of non-parallel runs better (#1733))
   "cell_type": "code",
   "execution_count": null,
   "metadata": {},
   "outputs": [],
   "source": [
    "# Demonstration of GrassRenderer for non-interactive map display\n",
<<<<<<< HEAD
    "\n",
    "r = gj.GrassRenderer(height=540, filename = \"streams_maps.png\")\n",
=======
    "r = gj.GrassRenderer(height=540)\n",
>>>>>>> 523219d6d4 (r.in.pdal: info.cpp also needs PDALCPPFLAGS (#1768))
    "\n",
    "r.run(\"d.rast\", map=\"elevation\")\n",
    "r.run(\"d.vect\", map=\"streams\")\n",
    "\n",
    "r.show()"
   ]
  },
  {
   "cell_type": "markdown",
   "metadata": {},
   "source": [
    "#### We can have two instances of GrassRenderer"
   ]
  },
  {
   "cell_type": "code",
   "execution_count": null,
   "metadata": {},
   "outputs": [],
   "source": [
    "# First, we'll make a second instance. Notice we need a different filename.\n",
    "\n",
    "r2 = gj.GrassRenderer(height=200, width=220, filename =\"roads_maps.png\")\n",
    "\n",
    "r2.run(\"d.rast\", map=\"elevation_shade\")\n",
    "r2.run(\"d.vect\", map=\"roadsmajor\")\n",
    "\n",
    "r2.show()"
   ]
  },
  {
   "cell_type": "code",
   "execution_count": null,
   "metadata": {},
   "outputs": [],
   "source": [
    "# Then, we return to the first instance and continue to modify and display it\n",
    "\n",
    "r.run(\"d.vect\", map = \"zipcodes\", color=\"red\", fill_color=\"none\")\n",
    "\n",
    "r.show()"
   ]
  },
  {
   "cell_type": "markdown",
   "metadata": {},
   "source": [
    "## Interactive Map Display"
   ]
  },
  {
   "cell_type": "code",
   "execution_count": null,
   "metadata": {},
   "outputs": [],
   "source": [
    "# Create Interactive Map\n",
    "m = gj.InteractiveMap(width = 600)\n",
    "\n",
    "# Add raster, vector and layer control to map\n",
    "m.add_raster(\"elevation\")\n",
    "m.add_vector(\"roadsmajor\")\n",
    "m.add_layer_control(position = \"bottomright\")\n",
    "\n",
    "# Display map\n",
    "m.show()"
   ]
  },
  {
   "cell_type": "code",
   "execution_count": null,
   "metadata": {},
   "outputs": [],
   "source": [
    "# Let's see what is in the example database so we can continue to experiment\n",
    "print(gs.read_command(\"g.list\", type=\"all\"))"
=======
>>>>>>> b479d694c0 (wxGUI/datacatalog: fix setting output vector/raster format (#1596))
=======
    "# Set computational region to the study area.\n",
    "gs.run_command(\"g.region\", raster=\"elevation\")"
>>>>>>> 6abb78d81f (libpython: Save and load benchmark results (#1711))
   ]
  },
  {
=======
>>>>>>> 94090db73c (libpython: Support benchmarks of non-parallel runs better (#1733))
   "cell_type": "code",
   "execution_count": null,
   "metadata": {},
   "outputs": [],
   "source": [
    "# Demonstration of GrassRenderer for non-interactive map display\n",
<<<<<<< HEAD
    "\n",
    "r = gj.GrassRenderer(height=540, filename = \"streams_maps.png\")\n",
=======
    "r = gj.GrassRenderer(height=540)\n",
>>>>>>> 523219d6d4 (r.in.pdal: info.cpp also needs PDALCPPFLAGS (#1768))
    "\n",
    "r.run(\"d.rast\", map=\"elevation\")\n",
    "r.run(\"d.vect\", map=\"streams\")\n",
    "\n",
    "r.show()"
   ]
  },
  {
   "cell_type": "markdown",
   "metadata": {},
   "source": [
    "#### We can have two instances of GrassRenderer"
   ]
  },
  {
   "cell_type": "code",
   "execution_count": null,
   "metadata": {},
   "outputs": [],
   "source": [
    "# First, we'll make a second instance. Notice we need a different filename.\n",
    "\n",
    "r2 = gj.GrassRenderer(height=200, width=220, filename =\"roads_maps.png\")\n",
    "\n",
    "r2.run(\"d.rast\", map=\"elevation_shade\")\n",
    "r2.run(\"d.vect\", map=\"roadsmajor\")\n",
    "\n",
    "r2.show()"
   ]
  },
  {
   "cell_type": "code",
   "execution_count": null,
   "metadata": {},
   "outputs": [],
   "source": [
    "# Then, we return to the first instance and continue to modify and display it\n",
    "\n",
    "r.run(\"d.vect\", map = \"zipcodes\", color=\"red\", fill_color=\"none\")\n",
    "\n",
    "r.show()"
   ]
  },
  {
   "cell_type": "markdown",
   "metadata": {},
   "source": [
    "## Interactive Map Display"
   ]
  },
  {
   "cell_type": "code",
   "execution_count": null,
   "metadata": {},
   "outputs": [],
   "source": [
    "# Create Interactive Map\n",
    "m = gj.InteractiveMap(width = 600)\n",
    "\n",
    "# Add raster, vector and layer control to map\n",
    "m.add_raster(\"elevation\")\n",
    "m.add_vector(\"roadsmajor\")\n",
    "m.add_layer_control(position = \"bottomright\")\n",
    "\n",
    "# Display map\n",
    "m.show()"
   ]
  },
  {
   "cell_type": "code",
   "execution_count": null,
   "metadata": {},
   "outputs": [],
   "source": [
    "# Let's see what is in the example database so we can continue to experiment\n",
    "print(gs.read_command(\"g.list\", type=\"all\"))"
=======
>>>>>>> 8b762d062b (wxGUI/datacatalog: fix setting output vector/raster format (#1596))
=======
    "# Set computational region to the study area.\n",
    "gs.run_command(\"g.region\", raster=\"elevation\")"
>>>>>>> 4f7b5aea0b (libpython: Save and load benchmark results (#1711))
   ]
  },
  {
=======
>>>>>>> da95805ca1 (libpython: Support benchmarks of non-parallel runs better (#1733))
   "cell_type": "code",
   "execution_count": null,
   "metadata": {},
   "outputs": [],
   "source": [
    "# Demonstration of GrassRenderer for non-interactive map display\n",
<<<<<<< HEAD
    "\n",
    "r = gj.GrassRenderer(height=540, filename = \"streams_maps.png\")\n",
=======
    "r = gj.GrassRenderer(height=540)\n",
>>>>>>> 523219d6d4 (r.in.pdal: info.cpp also needs PDALCPPFLAGS (#1768))
    "\n",
    "r.run(\"d.rast\", map=\"elevation\")\n",
    "r.run(\"d.vect\", map=\"streams\")\n",
    "\n",
    "r.show()"
   ]
  },
  {
   "cell_type": "markdown",
   "metadata": {},
   "source": [
    "#### We can have two instances of GrassRenderer"
   ]
  },
  {
   "cell_type": "code",
   "execution_count": null,
   "metadata": {},
   "outputs": [],
   "source": [
    "# First, we'll make a second instance. Notice we need a different filename.\n",
    "\n",
    "r2 = gj.GrassRenderer(height=200, width=220, filename =\"roads_maps.png\")\n",
    "\n",
    "r2.run(\"d.rast\", map=\"elevation_shade\")\n",
    "r2.run(\"d.vect\", map=\"roadsmajor\")\n",
    "\n",
    "r2.show()"
   ]
  },
  {
   "cell_type": "code",
   "execution_count": null,
   "metadata": {},
   "outputs": [],
   "source": [
    "# Then, we return to the first instance and continue to modify and display it\n",
    "\n",
    "r.run(\"d.vect\", map = \"zipcodes\", color=\"red\", fill_color=\"none\")\n",
    "\n",
    "r.show()"
   ]
  },
  {
   "cell_type": "markdown",
   "metadata": {},
   "source": [
    "## Interactive Map Display"
   ]
  },
  {
   "cell_type": "code",
   "execution_count": null,
   "metadata": {},
   "outputs": [],
   "source": [
    "# Create Interactive Map\n",
    "m = gj.InteractiveMap(width = 600)\n",
    "\n",
    "# Add raster, vector and layer control to map\n",
    "m.add_raster(\"elevation\")\n",
    "m.add_vector(\"roadsmajor\")\n",
    "m.add_layer_control(position = \"bottomright\")\n",
    "\n",
    "# Display map\n",
    "m.show()"
   ]
  },
  {
   "cell_type": "code",
   "execution_count": null,
   "metadata": {},
   "outputs": [],
   "source": [
    "# Let's see what is in the example database so we can continue to experiment\n",
    "print(gs.read_command(\"g.list\", type=\"all\"))"
=======
>>>>>>> b621c8b780 (wxGUI/datacatalog: fix setting output vector/raster format (#1596))
=======
    "# Set computational region to the study area.\n",
    "gs.run_command(\"g.region\", raster=\"elevation\")"
>>>>>>> 6d0d0f1535 (libpython: Save and load benchmark results (#1711))
   ]
  },
  {
=======
>>>>>>> 2a88dad128 (libpython: Support benchmarks of non-parallel runs better (#1733))
   "cell_type": "code",
   "execution_count": null,
   "metadata": {},
   "outputs": [],
   "source": [
    "# Demonstration of GrassRenderer for non-interactive map display\n",
<<<<<<< HEAD
    "\n",
    "r = gj.GrassRenderer(height=540, filename = \"streams_maps.png\")\n",
=======
    "r = gj.GrassRenderer(height=540)\n",
>>>>>>> 523219d6d4 (r.in.pdal: info.cpp also needs PDALCPPFLAGS (#1768))
    "\n",
    "r.run(\"d.rast\", map=\"elevation\")\n",
    "r.run(\"d.vect\", map=\"streams\")\n",
    "\n",
    "r.show()"
   ]
  },
  {
   "cell_type": "markdown",
   "metadata": {},
   "source": [
    "#### We can have two instances of GrassRenderer"
   ]
  },
  {
   "cell_type": "code",
   "execution_count": null,
   "metadata": {},
   "outputs": [],
   "source": [
    "# First, we'll make a second instance. Notice we need a different filename.\n",
    "\n",
    "r2 = gj.GrassRenderer(height=200, width=220, filename =\"roads_maps.png\")\n",
    "\n",
    "r2.run(\"d.rast\", map=\"elevation_shade\")\n",
    "r2.run(\"d.vect\", map=\"roadsmajor\")\n",
    "\n",
    "r2.show()"
   ]
  },
  {
   "cell_type": "code",
   "execution_count": null,
   "metadata": {},
   "outputs": [],
   "source": [
    "# Then, we return to the first instance and continue to modify and display it\n",
    "\n",
    "r.run(\"d.vect\", map = \"zipcodes\", color=\"red\", fill_color=\"none\")\n",
    "\n",
    "r.show()"
   ]
  },
  {
   "cell_type": "markdown",
   "metadata": {},
   "source": [
    "## Interactive Map Display"
   ]
  },
  {
   "cell_type": "code",
   "execution_count": null,
   "metadata": {},
   "outputs": [],
   "source": [
    "# Create Interactive Map\n",
    "m = gj.InteractiveMap(width = 600)\n",
    "\n",
    "# Add raster, vector and layer control to map\n",
    "m.add_raster(\"elevation\")\n",
    "m.add_vector(\"roadsmajor\")\n",
    "m.add_layer_control(position = \"bottomright\")\n",
    "\n",
    "# Display map\n",
    "m.show()"
   ]
  },
  {
   "cell_type": "code",
   "execution_count": null,
   "metadata": {},
   "outputs": [],
   "source": [
    "# Let's see what is in the example database so we can continue to experiment\n",
    "print(gs.read_command(\"g.list\", type=\"all\"))"
=======
>>>>>>> 2942a2fdfb (wxGUI/datacatalog: fix setting output vector/raster format (#1596))
=======
    "# Set computational region to the study area.\n",
    "gs.run_command(\"g.region\", raster=\"elevation\")"
>>>>>>> f4219c860c (libpython: Save and load benchmark results (#1711))
   ]
  },
  {
=======
>>>>>>> bcd8260293 (libpython: Support benchmarks of non-parallel runs better (#1733))
   "cell_type": "code",
   "execution_count": null,
   "metadata": {},
   "outputs": [],
   "source": [
    "# Demonstration of GrassRenderer for non-interactive map display\n",
<<<<<<< HEAD
    "\n",
    "r = gj.GrassRenderer(height=540, filename = \"streams_maps.png\")\n",
=======
    "r = gj.GrassRenderer(height=540)\n",
>>>>>>> 523219d6d4 (r.in.pdal: info.cpp also needs PDALCPPFLAGS (#1768))
    "\n",
    "r.run(\"d.rast\", map=\"elevation\")\n",
    "r.run(\"d.vect\", map=\"streams\")\n",
    "\n",
    "r.show()"
   ]
  },
  {
   "cell_type": "markdown",
   "metadata": {},
   "source": [
    "#### We can have two instances of GrassRenderer"
   ]
  },
  {
   "cell_type": "code",
   "execution_count": null,
   "metadata": {},
   "outputs": [],
   "source": [
    "# First, we'll make a second instance. Notice we need a different filename.\n",
    "\n",
    "r2 = gj.GrassRenderer(height=200, width=220, filename =\"roads_maps.png\")\n",
    "\n",
    "r2.run(\"d.rast\", map=\"elevation_shade\")\n",
    "r2.run(\"d.vect\", map=\"roadsmajor\")\n",
    "\n",
    "r2.show()"
   ]
  },
  {
   "cell_type": "code",
   "execution_count": null,
   "metadata": {},
   "outputs": [],
   "source": [
    "# Then, we return to the first instance and continue to modify and display it\n",
    "\n",
    "r.run(\"d.vect\", map = \"zipcodes\", color=\"red\", fill_color=\"none\")\n",
    "\n",
    "r.show()"
   ]
  },
  {
   "cell_type": "markdown",
   "metadata": {},
   "source": [
    "## Interactive Map Display"
   ]
  },
  {
   "cell_type": "code",
   "execution_count": null,
   "metadata": {},
   "outputs": [],
   "source": [
    "# Create Interactive Map\n",
    "m = gj.InteractiveMap(width = 600)\n",
    "\n",
    "# Add raster, vector and layer control to map\n",
    "m.add_raster(\"elevation\")\n",
    "m.add_vector(\"roadsmajor\")\n",
    "m.add_layer_control(position = \"bottomright\")\n",
    "\n",
    "# Display map\n",
    "m.show()"
   ]
  },
  {
   "cell_type": "code",
   "execution_count": null,
   "metadata": {},
   "outputs": [],
   "source": [
    "# Let's see what is in the example database so we can continue to experiment\n",
    "print(gs.read_command(\"g.list\", type=\"all\"))"
=======
>>>>>>> 9051310ffd (wxGUI/datacatalog: fix setting output vector/raster format (#1596))
=======
    "# Set computational region to the study area.\n",
    "gs.run_command(\"g.region\", raster=\"elevation\")"
>>>>>>> ab99037454 (libpython: Save and load benchmark results (#1711))
   ]
  },
  {
=======
>>>>>>> 58f65d161b (libpython: Support benchmarks of non-parallel runs better (#1733))
   "cell_type": "code",
   "execution_count": null,
   "metadata": {},
   "outputs": [],
   "source": [
    "# Demonstration of GrassRenderer for non-interactive map display\n",
<<<<<<< HEAD
    "\n",
    "r = gj.GrassRenderer(height=540, filename = \"streams_maps.png\")\n",
=======
    "r = gj.GrassRenderer(height=540)\n",
>>>>>>> 523219d6d4 (r.in.pdal: info.cpp also needs PDALCPPFLAGS (#1768))
    "\n",
    "r.run(\"d.rast\", map=\"elevation\")\n",
    "r.run(\"d.vect\", map=\"streams\")\n",
    "\n",
    "r.show()"
   ]
  },
  {
   "cell_type": "markdown",
   "metadata": {},
   "source": [
    "#### We can have two instances of GrassRenderer"
   ]
  },
  {
   "cell_type": "code",
   "execution_count": null,
   "metadata": {},
   "outputs": [],
   "source": [
    "# First, we'll make a second instance. Notice we need a different filename.\n",
    "\n",
    "r2 = gj.GrassRenderer(height=200, width=220, filename =\"roads_maps.png\")\n",
    "\n",
    "r2.run(\"d.rast\", map=\"elevation_shade\")\n",
    "r2.run(\"d.vect\", map=\"roadsmajor\")\n",
    "\n",
    "r2.show()"
   ]
  },
  {
   "cell_type": "code",
   "execution_count": null,
   "metadata": {},
   "outputs": [],
   "source": [
    "# Then, we return to the first instance and continue to modify and display it\n",
    "\n",
    "r.run(\"d.vect\", map = \"zipcodes\", color=\"red\", fill_color=\"none\")\n",
    "\n",
    "r.show()"
   ]
  },
  {
   "cell_type": "markdown",
   "metadata": {},
   "source": [
    "## Interactive Map Display"
   ]
  },
  {
   "cell_type": "code",
   "execution_count": null,
   "metadata": {},
   "outputs": [],
   "source": [
    "# Create Interactive Map\n",
    "m = gj.InteractiveMap(width = 600)\n",
    "\n",
    "# Add raster, vector and layer control to map\n",
    "m.add_raster(\"elevation\")\n",
    "m.add_vector(\"roadsmajor\")\n",
    "m.add_layer_control(position = \"bottomright\")\n",
    "\n",
    "# Display map\n",
    "m.show()"
   ]
  },
  {
   "cell_type": "code",
   "execution_count": null,
   "metadata": {},
   "outputs": [],
   "source": [
    "# Let's see what is in the example database so we can continue to experiment\n",
    "print(gs.read_command(\"g.list\", type=\"all\"))"
=======
>>>>>>> 510052984c (wxGUI/datacatalog: fix setting output vector/raster format (#1596))
=======
    "# Set computational region to the study area.\n",
    "gs.run_command(\"g.region\", raster=\"elevation\")"
>>>>>>> eb42b06b22 (libpython: Save and load benchmark results (#1711))
   ]
  },
  {
=======
>>>>>>> 196a20892e (libpython: Support benchmarks of non-parallel runs better (#1733))
   "cell_type": "code",
   "execution_count": null,
   "metadata": {},
   "outputs": [],
   "source": [
    "# Demonstration of GrassRenderer for non-interactive map display\n",
<<<<<<< HEAD
    "\n",
    "r = gj.GrassRenderer(height=540, filename = \"streams_maps.png\")\n",
=======
    "r = gj.GrassRenderer(height=540)\n",
>>>>>>> 523219d6d4 (r.in.pdal: info.cpp also needs PDALCPPFLAGS (#1768))
    "\n",
    "r.run(\"d.rast\", map=\"elevation\")\n",
    "r.run(\"d.vect\", map=\"streams\")\n",
    "\n",
    "r.show()"
   ]
  },
  {
   "cell_type": "markdown",
   "metadata": {},
   "source": [
    "#### We can have two instances of GrassRenderer"
   ]
  },
  {
   "cell_type": "code",
   "execution_count": null,
   "metadata": {},
   "outputs": [],
   "source": [
    "# First, we'll make a second instance. Notice we need a different filename.\n",
    "\n",
    "r2 = gj.GrassRenderer(height=200, width=220, filename =\"roads_maps.png\")\n",
    "\n",
    "r2.run(\"d.rast\", map=\"elevation_shade\")\n",
    "r2.run(\"d.vect\", map=\"roadsmajor\")\n",
    "\n",
    "r2.show()"
   ]
  },
  {
   "cell_type": "code",
   "execution_count": null,
   "metadata": {},
   "outputs": [],
   "source": [
    "# Then, we return to the first instance and continue to modify and display it\n",
    "\n",
    "r.run(\"d.vect\", map = \"zipcodes\", color=\"red\", fill_color=\"none\")\n",
    "\n",
    "r.show()"
   ]
  },
  {
   "cell_type": "markdown",
   "metadata": {},
   "source": [
    "## Interactive Map Display"
   ]
  },
  {
   "cell_type": "code",
   "execution_count": null,
   "metadata": {},
   "outputs": [],
   "source": [
    "# Create Interactive Map\n",
    "m = gj.InteractiveMap(width = 600)\n",
    "\n",
    "# Add raster, vector and layer control to map\n",
    "m.add_raster(\"elevation\")\n",
    "m.add_vector(\"roadsmajor\")\n",
    "m.add_layer_control(position = \"bottomright\")\n",
    "\n",
    "# Display map\n",
    "m.show()"
   ]
  },
  {
   "cell_type": "code",
   "execution_count": null,
   "metadata": {},
   "outputs": [],
   "source": [
    "# Let's see what is in the example database so we can continue to experiment\n",
    "print(gs.read_command(\"g.list\", type=\"all\"))"
=======
>>>>>>> 095dc4def6 (wxGUI/datacatalog: fix setting output vector/raster format (#1596))
=======
    "# Set computational region to the study area.\n",
    "gs.run_command(\"g.region\", raster=\"elevation\")"
>>>>>>> f0a06841f5 (libpython: Save and load benchmark results (#1711))
   ]
  },
  {
=======
>>>>>>> 2e712c25e8 (libpython: Support benchmarks of non-parallel runs better (#1733))
   "cell_type": "code",
   "execution_count": null,
   "metadata": {},
   "outputs": [],
   "source": [
    "# Demonstration of GrassRenderer for non-interactive map display\n",
<<<<<<< HEAD
    "\n",
    "r = gj.GrassRenderer(height=540, filename = \"streams_maps.png\")\n",
=======
    "r = gj.GrassRenderer(height=540)\n",
>>>>>>> 523219d6d4 (r.in.pdal: info.cpp also needs PDALCPPFLAGS (#1768))
    "\n",
    "r.run(\"d.rast\", map=\"elevation\")\n",
    "r.run(\"d.vect\", map=\"streams\")\n",
    "\n",
    "r.show()"
   ]
  },
  {
   "cell_type": "markdown",
   "metadata": {},
   "source": [
    "#### We can have two instances of GrassRenderer"
   ]
  },
  {
   "cell_type": "code",
   "execution_count": null,
   "metadata": {},
   "outputs": [],
   "source": [
    "# First, we'll make a second instance. Notice we need a different filename.\n",
    "\n",
    "r2 = gj.GrassRenderer(height=200, width=220, filename =\"roads_maps.png\")\n",
    "\n",
    "r2.run(\"d.rast\", map=\"elevation_shade\")\n",
    "r2.run(\"d.vect\", map=\"roadsmajor\")\n",
    "\n",
    "r2.show()"
   ]
  },
  {
   "cell_type": "code",
   "execution_count": null,
   "metadata": {},
   "outputs": [],
   "source": [
    "# Then, we return to the first instance and continue to modify and display it\n",
    "\n",
    "r.run(\"d.vect\", map = \"zipcodes\", color=\"red\", fill_color=\"none\")\n",
    "\n",
    "r.show()"
   ]
  },
  {
   "cell_type": "markdown",
   "metadata": {},
   "source": [
    "## Interactive Map Display"
   ]
  },
  {
   "cell_type": "code",
   "execution_count": null,
   "metadata": {},
   "outputs": [],
   "source": [
    "# Create Interactive Map\n",
    "m = gj.InteractiveMap(width = 600)\n",
    "\n",
    "# Add raster, vector and layer control to map\n",
    "m.add_raster(\"elevation\")\n",
    "m.add_vector(\"roadsmajor\")\n",
    "m.add_layer_control(position = \"bottomright\")\n",
    "\n",
    "# Display map\n",
    "m.show()"
   ]
  },
  {
   "cell_type": "code",
   "execution_count": null,
   "metadata": {},
   "outputs": [],
   "source": [
    "# Let's see what is in the example database so we can continue to experiment\n",
    "print(gs.read_command(\"g.list\", type=\"all\"))"
=======
>>>>>>> 45a066d418 (wxGUI/datacatalog: fix setting output vector/raster format (#1596))
=======
    "# Set computational region to the study area.\n",
    "gs.run_command(\"g.region\", raster=\"elevation\")"
>>>>>>> 13ad0bbd2d (libpython: Save and load benchmark results (#1711))
   ]
  },
  {
=======
>>>>>>> 84a0683221 (libpython: Support benchmarks of non-parallel runs better (#1733))
   "cell_type": "code",
   "execution_count": null,
   "metadata": {},
   "outputs": [],
   "source": [
    "# Demonstration of GrassRenderer for non-interactive map display\n",
<<<<<<< HEAD
    "\n",
    "r = gj.GrassRenderer(height=540, filename = \"streams_maps.png\")\n",
=======
    "r = gj.GrassRenderer(height=540)\n",
>>>>>>> 523219d6d4 (r.in.pdal: info.cpp also needs PDALCPPFLAGS (#1768))
    "\n",
    "r.run(\"d.rast\", map=\"elevation\")\n",
    "r.run(\"d.vect\", map=\"streams\")\n",
    "\n",
    "r.show()"
   ]
  },
  {
   "cell_type": "markdown",
   "metadata": {},
   "source": [
    "#### We can have two instances of GrassRenderer"
   ]
  },
  {
   "cell_type": "code",
   "execution_count": null,
   "metadata": {},
   "outputs": [],
   "source": [
    "# First, we'll make a second instance. Notice we need a different filename.\n",
    "\n",
    "r2 = gj.GrassRenderer(height=200, width=220, filename =\"roads_maps.png\")\n",
    "\n",
    "r2.run(\"d.rast\", map=\"elevation_shade\")\n",
    "r2.run(\"d.vect\", map=\"roadsmajor\")\n",
    "\n",
    "r2.show()"
   ]
  },
  {
   "cell_type": "code",
   "execution_count": null,
   "metadata": {},
   "outputs": [],
   "source": [
    "# Then, we return to the first instance and continue to modify and display it\n",
    "\n",
    "r.run(\"d.vect\", map = \"zipcodes\", color=\"red\", fill_color=\"none\")\n",
    "\n",
    "r.show()"
   ]
  },
  {
   "cell_type": "markdown",
   "metadata": {},
   "source": [
    "## Interactive Map Display"
   ]
  },
  {
   "cell_type": "code",
   "execution_count": null,
   "metadata": {},
   "outputs": [],
   "source": [
    "# Create Interactive Map\n",
    "m = gj.InteractiveMap(width = 600)\n",
    "\n",
    "# Add raster, vector and layer control to map\n",
    "m.add_raster(\"elevation\")\n",
    "m.add_vector(\"roadsmajor\")\n",
    "m.add_layer_control(position = \"bottomright\")\n",
    "\n",
    "# Display map\n",
    "m.show()"
   ]
  },
  {
   "cell_type": "code",
   "execution_count": null,
   "metadata": {},
   "outputs": [],
   "source": [
    "# Let's see what is in the example database so we can continue to experiment\n",
    "print(gs.read_command(\"g.list\", type=\"all\"))"
=======
>>>>>>> 05e3f88683 (wxGUI/datacatalog: fix setting output vector/raster format (#1596))
=======
    "# Set computational region to the study area.\n",
    "gs.run_command(\"g.region\", raster=\"elevation\")"
>>>>>>> 504a46451c (libpython: Save and load benchmark results (#1711))
   ]
  },
  {
=======
>>>>>>> d3014fcc0b (libpython: Support benchmarks of non-parallel runs better (#1733))
   "cell_type": "code",
   "execution_count": null,
   "metadata": {},
   "outputs": [],
   "source": [
    "# Demonstration of GrassRenderer for non-interactive map display\n",
<<<<<<< HEAD
    "\n",
    "r = gj.GrassRenderer(height=540, filename = \"streams_maps.png\")\n",
=======
    "r = gj.GrassRenderer(height=540)\n",
>>>>>>> 523219d6d4 (r.in.pdal: info.cpp also needs PDALCPPFLAGS (#1768))
    "\n",
    "r.run(\"d.rast\", map=\"elevation\")\n",
    "r.run(\"d.vect\", map=\"streams\")\n",
    "\n",
    "r.show()"
   ]
  },
  {
   "cell_type": "markdown",
   "metadata": {},
   "source": [
    "#### We can have two instances of GrassRenderer"
   ]
  },
  {
   "cell_type": "code",
   "execution_count": null,
   "metadata": {},
   "outputs": [],
   "source": [
    "# First, we'll make a second instance. Notice we need a different filename.\n",
    "\n",
    "r2 = gj.GrassRenderer(height=200, width=220, filename =\"roads_maps.png\")\n",
    "\n",
    "r2.run(\"d.rast\", map=\"elevation_shade\")\n",
    "r2.run(\"d.vect\", map=\"roadsmajor\")\n",
    "\n",
    "r2.show()"
   ]
  },
  {
   "cell_type": "code",
   "execution_count": null,
   "metadata": {},
   "outputs": [],
   "source": [
    "# Then, we return to the first instance and continue to modify and display it\n",
    "\n",
    "r.run(\"d.vect\", map = \"zipcodes\", color=\"red\", fill_color=\"none\")\n",
    "\n",
    "r.show()"
   ]
  },
  {
   "cell_type": "markdown",
   "metadata": {},
   "source": [
    "## Interactive Map Display"
   ]
  },
  {
   "cell_type": "code",
   "execution_count": null,
   "metadata": {},
   "outputs": [],
   "source": [
    "# Create Interactive Map\n",
    "m = gj.InteractiveMap(width = 600)\n",
    "\n",
    "# Add raster, vector and layer control to map\n",
    "m.add_raster(\"elevation\")\n",
    "m.add_vector(\"roadsmajor\")\n",
    "m.add_layer_control(position = \"bottomright\")\n",
    "\n",
    "# Display map\n",
    "m.show()"
   ]
  },
  {
   "cell_type": "code",
   "execution_count": null,
   "metadata": {},
   "outputs": [],
   "source": [
    "# Let's see what is in the example database so we can continue to experiment\n",
    "print(gs.read_command(\"g.list\", type=\"all\"))"
=======
>>>>>>> fa3a181fb0 (wxGUI/datacatalog: fix setting output vector/raster format (#1596))
=======
    "# Set computational region to the study area.\n",
    "gs.run_command(\"g.region\", raster=\"elevation\")"
>>>>>>> 742603b912 (libpython: Save and load benchmark results (#1711))
   ]
  },
  {
=======
>>>>>>> 9deecba858 (libpython: Support benchmarks of non-parallel runs better (#1733))
   "cell_type": "code",
   "execution_count": null,
   "metadata": {},
   "outputs": [],
   "source": [
    "# Demonstration of GrassRenderer for non-interactive map display\n",
<<<<<<< HEAD
    "\n",
    "r = gj.GrassRenderer(height=540, filename = \"streams_maps.png\")\n",
=======
    "r = gj.GrassRenderer(height=540)\n",
>>>>>>> 523219d6d4 (r.in.pdal: info.cpp also needs PDALCPPFLAGS (#1768))
    "\n",
    "r.run(\"d.rast\", map=\"elevation\")\n",
    "r.run(\"d.vect\", map=\"streams\")\n",
    "\n",
    "r.show()"
   ]
  },
  {
   "cell_type": "markdown",
   "metadata": {},
   "source": [
    "#### We can have two instances of GrassRenderer"
   ]
  },
  {
   "cell_type": "code",
   "execution_count": null,
   "metadata": {},
   "outputs": [],
   "source": [
    "# First, we'll make a second instance. Notice we need a different filename.\n",
    "\n",
    "r2 = gj.GrassRenderer(height=200, width=220, filename =\"roads_maps.png\")\n",
    "\n",
    "r2.run(\"d.rast\", map=\"elevation_shade\")\n",
    "r2.run(\"d.vect\", map=\"roadsmajor\")\n",
    "\n",
    "r2.show()"
   ]
  },
  {
   "cell_type": "code",
   "execution_count": null,
   "metadata": {},
   "outputs": [],
   "source": [
    "# Then, we return to the first instance and continue to modify and display it\n",
    "\n",
    "r.run(\"d.vect\", map = \"zipcodes\", color=\"red\", fill_color=\"none\")\n",
    "\n",
    "r.show()"
   ]
  },
  {
   "cell_type": "markdown",
   "metadata": {},
   "source": [
    "## Interactive Map Display"
   ]
  },
  {
   "cell_type": "code",
   "execution_count": null,
   "metadata": {},
   "outputs": [],
   "source": [
    "# Create Interactive Map\n",
    "m = gj.InteractiveMap(width = 600)\n",
    "\n",
    "# Add raster, vector and layer control to map\n",
    "m.add_raster(\"elevation\")\n",
    "m.add_vector(\"roadsmajor\")\n",
    "m.add_layer_control(position = \"bottomright\")\n",
    "\n",
    "# Display map\n",
    "m.show()"
   ]
  },
  {
   "cell_type": "code",
   "execution_count": null,
   "metadata": {},
   "outputs": [],
   "source": [
    "# Let's see what is in the example database so we can continue to experiment\n",
    "print(gs.read_command(\"g.list\", type=\"all\"))"
=======
>>>>>>> bd71b111b3 (wxGUI/datacatalog: fix setting output vector/raster format (#1596))
=======
    "# Set computational region to the study area.\n",
    "gs.run_command(\"g.region\", raster=\"elevation\")"
>>>>>>> 4e0c4a2cca (libpython: Save and load benchmark results (#1711))
   ]
  },
  {
=======
>>>>>>> 1b9dd510b7 (libpython: Support benchmarks of non-parallel runs better (#1733))
   "cell_type": "code",
   "execution_count": null,
   "metadata": {},
   "outputs": [],
   "source": [
    "# Demonstration of GrassRenderer for non-interactive map display\n",
<<<<<<< HEAD
    "\n",
    "r = gj.GrassRenderer(height=540, filename = \"streams_maps.png\")\n",
=======
    "r = gj.GrassRenderer(height=540)\n",
>>>>>>> 523219d6d4 (r.in.pdal: info.cpp also needs PDALCPPFLAGS (#1768))
    "\n",
    "r.run(\"d.rast\", map=\"elevation\")\n",
    "r.run(\"d.vect\", map=\"streams\")\n",
    "\n",
    "r.show()"
   ]
  },
  {
   "cell_type": "markdown",
   "metadata": {},
   "source": [
    "#### We can have two instances of GrassRenderer"
   ]
  },
  {
   "cell_type": "code",
   "execution_count": null,
   "metadata": {},
   "outputs": [],
   "source": [
    "# First, we'll make a second instance. Notice we need a different filename.\n",
    "\n",
    "r2 = gj.GrassRenderer(height=200, width=220, filename =\"roads_maps.png\")\n",
    "\n",
    "r2.run(\"d.rast\", map=\"elevation_shade\")\n",
    "r2.run(\"d.vect\", map=\"roadsmajor\")\n",
    "\n",
    "r2.show()"
   ]
  },
  {
   "cell_type": "code",
   "execution_count": null,
   "metadata": {},
   "outputs": [],
   "source": [
    "# Then, we return to the first instance and continue to modify and display it\n",
    "\n",
    "r.run(\"d.vect\", map = \"zipcodes\", color=\"red\", fill_color=\"none\")\n",
    "\n",
    "r.show()"
   ]
  },
  {
   "cell_type": "markdown",
   "metadata": {},
   "source": [
    "## Interactive Map Display"
   ]
  },
  {
   "cell_type": "code",
   "execution_count": null,
   "metadata": {},
   "outputs": [],
   "source": [
    "# Create Interactive Map\n",
    "m = gj.InteractiveMap(width = 600)\n",
    "\n",
    "# Add raster, vector and layer control to map\n",
    "m.add_raster(\"elevation\")\n",
    "m.add_vector(\"roadsmajor\")\n",
    "m.add_layer_control(position = \"bottomright\")\n",
    "\n",
    "# Display map\n",
    "m.show()"
   ]
  },
  {
   "cell_type": "code",
   "execution_count": null,
   "metadata": {},
   "outputs": [],
   "source": [
    "# Let's see what is in the example database so we can continue to experiment\n",
    "print(gs.read_command(\"g.list\", type=\"all\"))"
=======
    "# Set computational region to the study area.\n",
    "gs.run_command(\"g.region\", raster=\"elevation\")"
>>>>>>> 173e44f2dc (libpython: Save and load benchmark results (#1711))
   ]
  },
  {
=======
>>>>>>> fbe1fc358a (libpython: Save and load benchmark results (#1711))
=======
=======
>>>>>>> ba3c0640fa (libpython: Support benchmarks of non-parallel runs better (#1733))
>>>>>>> 2ba4dbc7e5 (libpython: Support benchmarks of non-parallel runs better (#1733))
   "cell_type": "code",
   "execution_count": null,
   "metadata": {},
   "outputs": [],
   "source": [
    "# Demonstration of GrassRenderer for non-interactive map display\n",
    "\n",
    "# Create an instance of GrassRenderer\n",
    "r = gj.GrassRenderer(height=540, filename = \"streams_maps.png\")\n",
=======
>>>>>>> 4669177a24 (r.in.pdal: info.cpp also needs PDALCPPFLAGS (#1768))
    "\n",
    "# Add a raster and vector to the map\n",
    "r.run(\"d.rast\", map=\"elevation\")\n",
    "r.run(\"d.vect\", map=\"streams\")\n",
    "\n",
    "# We can also call 'd.*' display modules with a shortcut\n",
    "# Shortcut methods must be in the form '.d_{name_of_module}'\n",
    "# For example, let's add a legend using a shortcut\n",
    "r.d_legend(raster=\"elevation\", at=(55, 95, 2, 6), flags=\"b\") # shortcut for calling \"d.legend\"\n",
    "\n",
    "# Display map\n",
    "r.show()"
   ]
  },
  {
   "cell_type": "markdown",
   "metadata": {},
   "source": [
    "#### Multiple instances of GrassRenderer\n",
    "\n",
    "We can have multiple instances of GrassRenderer."
   ]
  },
  {
   "cell_type": "code",
   "execution_count": null,
   "metadata": {},
   "outputs": [],
   "source": [
    "# First, we'll make a second instance. Notice we need a different filename.\n",
    "\n",
    "r2 = gj.GrassRenderer(height=200, width=220, filename =\"roads_maps.png\")\n",
    "\n",
    "r2.run(\"d.rast\", map=\"elevation_shade\")\n",
    "r2.run(\"d.vect\", map=\"roadsmajor\")\n",
    "\n",
    "r2.show()"
   ]
  },
  {
   "cell_type": "code",
   "execution_count": null,
   "metadata": {},
   "outputs": [],
   "source": [
    "# Then, we return to the first instance and continue to modify and display it\n",
    "# Notice that layers a drawn in the order they are added\n",
    "\n",
    "r.run(\"d.vect\", map = \"zipcodes\", color=\"red\", fill_color=\"none\")\n",
    "\n",
    "r.show()"
   ]
  },
  {
   "cell_type": "markdown",
   "metadata": {},
   "source": [
    "## Interactive Map Display"
   ]
  },
  {
   "cell_type": "code",
   "execution_count": null,
   "metadata": {},
   "outputs": [],
   "source": [
    "# Create Interactive Map\n",
    "m = gj.InteractiveMap(width = 600)\n",
    "\n",
    "# Add raster, vector and layer control to map\n",
    "m.add_raster(\"elevation\")\n",
    "m.add_vector(\"roadsmajor\")\n",
    "m.add_layer_control(position = \"bottomright\")\n",
    "\n",
    "# Display map\n",
    "m.show()"
   ]
  },
  {
   "cell_type": "code",
   "execution_count": null,
   "metadata": {},
   "outputs": [],
   "source": [
    "# Let's see what is in the example database so we can continue to experiment\n",
    "print(gs.read_command(\"g.list\", type=\"all\"))"
=======
>>>>>>> 793ee713c5 (wxGUI/datacatalog: fix setting output vector/raster format (#1596))
=======
    "# Set computational region to the study area.\n",
    "gs.run_command(\"g.region\", raster=\"elevation\")"
>>>>>>> 86e790785c (libpython: Save and load benchmark results (#1711))
   ]
  },
  {
=======
>>>>>>> aae21b95f4 (libpython: Support benchmarks of non-parallel runs better (#1733))
   "cell_type": "code",
   "execution_count": null,
   "metadata": {},
   "outputs": [],
   "source": [
    "# Demonstration of GrassRenderer for non-interactive map display\n",
<<<<<<< HEAD
    "\n",
    "r = gj.GrassRenderer(height=540, filename = \"streams_maps.png\")\n",
=======
    "r = gj.GrassRenderer(height=540)\n",
>>>>>>> 523219d6d4 (r.in.pdal: info.cpp also needs PDALCPPFLAGS (#1768))
    "\n",
    "r.run(\"d.rast\", map=\"elevation\")\n",
    "r.run(\"d.vect\", map=\"streams\")\n",
    "\n",
    "r.show()"
   ]
  },
  {
   "cell_type": "markdown",
   "metadata": {},
   "source": [
    "#### We can have two instances of GrassRenderer"
   ]
  },
  {
   "cell_type": "code",
   "execution_count": null,
   "metadata": {},
   "outputs": [],
   "source": [
    "# First, we'll make a second instance. Notice we need a different filename.\n",
    "\n",
    "r2 = gj.GrassRenderer(height=200, width=220, filename =\"roads_maps.png\")\n",
    "\n",
    "r2.run(\"d.rast\", map=\"elevation_shade\")\n",
    "r2.run(\"d.vect\", map=\"roadsmajor\")\n",
    "\n",
    "r2.show()"
   ]
  },
  {
   "cell_type": "code",
   "execution_count": null,
   "metadata": {},
   "outputs": [],
   "source": [
    "# Then, we return to the first instance and continue to modify and display it\n",
    "\n",
    "r.run(\"d.vect\", map = \"zipcodes\", color=\"red\", fill_color=\"none\")\n",
    "\n",
    "r.show()"
   ]
  },
  {
   "cell_type": "markdown",
   "metadata": {},
   "source": [
    "## Interactive Map Display"
   ]
  },
  {
   "cell_type": "code",
   "execution_count": null,
   "metadata": {},
   "outputs": [],
   "source": [
    "# Create Interactive Map\n",
    "m = gj.InteractiveMap(width = 600)\n",
    "\n",
    "# Add raster, vector and layer control to map\n",
    "m.add_raster(\"elevation\")\n",
    "m.add_vector(\"roadsmajor\")\n",
    "m.add_layer_control(position = \"bottomright\")\n",
    "\n",
    "# Display map\n",
    "m.show()"
   ]
  },
  {
   "cell_type": "code",
   "execution_count": null,
   "metadata": {},
   "outputs": [],
   "source": [
    "# Let's see what is in the example database so we can continue to experiment\n",
    "print(gs.read_command(\"g.list\", type=\"all\"))"
=======
>>>>>>> b8162a916c (wxGUI/datacatalog: fix setting output vector/raster format (#1596))
=======
    "# Set computational region to the study area.\n",
    "gs.run_command(\"g.region\", raster=\"elevation\")"
>>>>>>> 476ef44553 (libpython: Save and load benchmark results (#1711))
   ]
  },
  {
=======
>>>>>>> 170fde8596 (libpython: Support benchmarks of non-parallel runs better (#1733))
   "cell_type": "code",
   "execution_count": null,
   "metadata": {},
   "outputs": [],
   "source": [
    "# Demonstration of GrassRenderer for non-interactive map display\n",
<<<<<<< HEAD
    "\n",
    "r = gj.GrassRenderer(height=540, filename = \"streams_maps.png\")\n",
=======
    "r = gj.GrassRenderer(height=540)\n",
>>>>>>> 523219d6d4 (r.in.pdal: info.cpp also needs PDALCPPFLAGS (#1768))
    "\n",
    "r.run(\"d.rast\", map=\"elevation\")\n",
    "r.run(\"d.vect\", map=\"streams\")\n",
    "\n",
    "r.show()"
   ]
  },
  {
   "cell_type": "markdown",
   "metadata": {},
   "source": [
    "#### We can have two instances of GrassRenderer"
   ]
  },
  {
   "cell_type": "code",
   "execution_count": null,
   "metadata": {},
   "outputs": [],
   "source": [
    "# First, we'll make a second instance. Notice we need a different filename.\n",
    "\n",
    "r2 = gj.GrassRenderer(height=200, width=220, filename =\"roads_maps.png\")\n",
    "\n",
    "r2.run(\"d.rast\", map=\"elevation_shade\")\n",
    "r2.run(\"d.vect\", map=\"roadsmajor\")\n",
    "\n",
    "r2.show()"
   ]
  },
  {
   "cell_type": "code",
   "execution_count": null,
   "metadata": {},
   "outputs": [],
   "source": [
    "# Then, we return to the first instance and continue to modify and display it\n",
    "\n",
    "r.run(\"d.vect\", map = \"zipcodes\", color=\"red\", fill_color=\"none\")\n",
    "\n",
    "r.show()"
   ]
  },
  {
   "cell_type": "markdown",
   "metadata": {},
   "source": [
    "## Interactive Map Display"
   ]
  },
  {
   "cell_type": "code",
   "execution_count": null,
   "metadata": {},
   "outputs": [],
   "source": [
    "# Create Interactive Map\n",
    "m = gj.InteractiveMap(width = 600)\n",
    "\n",
    "# Add raster, vector and layer control to map\n",
    "m.add_raster(\"elevation\")\n",
    "m.add_vector(\"roadsmajor\")\n",
    "m.add_layer_control(position = \"bottomright\")\n",
    "\n",
    "# Display map\n",
    "m.show()"
   ]
  },
  {
   "cell_type": "code",
   "execution_count": null,
   "metadata": {},
   "outputs": [],
   "source": [
    "# Let's see what is in the example database so we can continue to experiment\n",
    "print(gs.read_command(\"g.list\", type=\"all\"))"
=======
>>>>>>> a05b13298f (wxGUI/datacatalog: fix setting output vector/raster format (#1596))
=======
    "# Set computational region to the study area.\n",
    "gs.run_command(\"g.region\", raster=\"elevation\")"
>>>>>>> f541ee3b09 (libpython: Save and load benchmark results (#1711))
   ]
  },
  {
=======
>>>>>>> ea17e86303 (libpython: Support benchmarks of non-parallel runs better (#1733))
   "cell_type": "code",
   "execution_count": null,
   "metadata": {},
   "outputs": [],
   "source": [
    "# Demonstration of GrassRenderer for non-interactive map display\n",
<<<<<<< HEAD
    "\n",
    "r = gj.GrassRenderer(height=540, filename = \"streams_maps.png\")\n",
=======
    "r = gj.GrassRenderer(height=540)\n",
>>>>>>> 523219d6d4 (r.in.pdal: info.cpp also needs PDALCPPFLAGS (#1768))
    "\n",
    "r.run(\"d.rast\", map=\"elevation\")\n",
    "r.run(\"d.vect\", map=\"streams\")\n",
    "\n",
    "r.show()"
   ]
  },
  {
   "cell_type": "markdown",
   "metadata": {},
   "source": [
    "#### We can have two instances of GrassRenderer"
   ]
  },
  {
   "cell_type": "code",
   "execution_count": null,
   "metadata": {},
   "outputs": [],
   "source": [
    "# First, we'll make a second instance. Notice we need a different filename.\n",
    "\n",
    "r2 = gj.GrassRenderer(height=200, width=220, filename =\"roads_maps.png\")\n",
    "\n",
    "r2.run(\"d.rast\", map=\"elevation_shade\")\n",
    "r2.run(\"d.vect\", map=\"roadsmajor\")\n",
    "\n",
    "r2.show()"
   ]
  },
  {
   "cell_type": "code",
   "execution_count": null,
   "metadata": {},
   "outputs": [],
   "source": [
    "# Then, we return to the first instance and continue to modify and display it\n",
    "\n",
    "r.run(\"d.vect\", map = \"zipcodes\", color=\"red\", fill_color=\"none\")\n",
    "\n",
    "r.show()"
   ]
  },
  {
   "cell_type": "markdown",
   "metadata": {},
   "source": [
    "## Interactive Map Display"
   ]
  },
  {
   "cell_type": "code",
   "execution_count": null,
   "metadata": {},
   "outputs": [],
   "source": [
    "# Create Interactive Map\n",
    "m = gj.InteractiveMap(width = 600)\n",
    "\n",
    "# Add raster, vector and layer control to map\n",
    "m.add_raster(\"elevation\")\n",
    "m.add_vector(\"roadsmajor\")\n",
    "m.add_layer_control(position = \"bottomright\")\n",
    "\n",
    "# Display map\n",
    "m.show()"
   ]
  },
  {
   "cell_type": "code",
   "execution_count": null,
   "metadata": {},
   "outputs": [],
   "source": [
    "# Let's see what is in the example database so we can continue to experiment\n",
    "print(gs.read_command(\"g.list\", type=\"all\"))"
=======
=======
>>>>>>> 40118f6d63 (wxGUI/datacatalog: fix setting output vector/raster format (#1596))
=======
>>>>>>> 9e134ec08d (wxGUI/datacatalog: fix setting output vector/raster format (#1596))
=======
>>>>>>> 05e3f88683 (wxGUI/datacatalog: fix setting output vector/raster format (#1596))
    "# Let's display the DTM of our sample area to ensure all's working\n",
    "\n",
    "# Set computational region to the study area.\n",
    "gs.parse_command(\"g.region\", raster=\"elevation\", flags=\"pg\")\n",
    "\n",
    "# Draw elevation (DTM) to get an overview of the area.\n",
    "gs.run_command(\"r.colors\", map=\"elevation\", color=\"elevation\")\n",
    "gs.run_command(\"d.erase\")\n",
    "gs.run_command(\"d.rast\", map=\"elevation\")\n",
    "gs.run_command(\"d.legend\", raster=\"elevation\", at=(65, 90, 85, 90), fontsize=15, flags=\"b\", title=\"DTM\")\n",
    "Image(filename=\"map.png\")"
<<<<<<< HEAD
<<<<<<< HEAD
<<<<<<< HEAD
>>>>>>> 4625684fca (wxGUI/datacatalog: fix setting output vector/raster format (#1596))
=======
    "# Set computational region to the study area.\n",
    "gs.run_command(\"g.region\", raster=\"elevation\")"
>>>>>>> 923408bf7e (libpython: Save and load benchmark results (#1711))
   ]
  },
  {
=======
>>>>>>> 01a506d3d3 (libpython: Support benchmarks of non-parallel runs better (#1733))
   "cell_type": "code",
   "execution_count": null,
   "metadata": {},
   "outputs": [],
   "source": [
    "# Demonstration of GrassRenderer for non-interactive map display\n",
<<<<<<< HEAD
    "\n",
    "r = gj.GrassRenderer(height=540, filename = \"streams_maps.png\")\n",
=======
    "r = gj.GrassRenderer(height=540)\n",
>>>>>>> 523219d6d4 (r.in.pdal: info.cpp also needs PDALCPPFLAGS (#1768))
    "\n",
    "r.run(\"d.rast\", map=\"elevation\")\n",
    "r.run(\"d.vect\", map=\"streams\")\n",
    "\n",
    "r.show()"
   ]
  },
  {
   "cell_type": "markdown",
   "metadata": {},
   "source": [
    "#### We can have two instances of GrassRenderer"
   ]
  },
  {
   "cell_type": "code",
   "execution_count": null,
   "metadata": {},
   "outputs": [],
   "source": [
    "# First, we'll make a second instance. Notice we need a different filename.\n",
    "\n",
    "r2 = gj.GrassRenderer(height=200, width=220, filename =\"roads_maps.png\")\n",
    "\n",
    "r2.run(\"d.rast\", map=\"elevation_shade\")\n",
    "r2.run(\"d.vect\", map=\"roadsmajor\")\n",
    "\n",
    "r2.show()"
   ]
  },
  {
   "cell_type": "code",
   "execution_count": null,
   "metadata": {},
   "outputs": [],
   "source": [
    "# Then, we return to the first instance and continue to modify and display it\n",
    "\n",
    "r.run(\"d.vect\", map = \"zipcodes\", color=\"red\", fill_color=\"none\")\n",
    "\n",
    "r.show()"
   ]
  },
  {
   "cell_type": "markdown",
   "metadata": {},
   "source": [
    "## Interactive Map Display"
   ]
  },
  {
   "cell_type": "code",
   "execution_count": null,
   "metadata": {},
   "outputs": [],
   "source": [
    "# Create Interactive Map\n",
    "m = gj.InteractiveMap(width = 600)\n",
    "\n",
    "# Add raster, vector and layer control to map\n",
    "m.add_raster(\"elevation\")\n",
    "m.add_vector(\"roadsmajor\")\n",
    "m.add_layer_control(position = \"bottomright\")\n",
    "\n",
    "# Display map\n",
    "m.show()"
   ]
  },
  {
   "cell_type": "code",
   "execution_count": null,
   "metadata": {},
   "outputs": [],
   "source": [
    "# Let's see what is in the example database so we can continue to experiment\n",
    "print(gs.read_command(\"g.list\", type=\"all\"))"
=======
>>>>>>> 4625684fca (wxGUI/datacatalog: fix setting output vector/raster format (#1596))
=======
    "# Set computational region to the study area.\n",
    "gs.run_command(\"g.region\", raster=\"elevation\")"
>>>>>>> 923408bf7e (libpython: Save and load benchmark results (#1711))
   ]
  },
  {
=======
>>>>>>> 01a506d3d3 (libpython: Support benchmarks of non-parallel runs better (#1733))
   "cell_type": "code",
   "execution_count": null,
   "metadata": {},
   "outputs": [],
   "source": [
    "# Demonstration of GrassRenderer for non-interactive map display\n",
<<<<<<< HEAD
    "\n",
    "r = gj.GrassRenderer(height=540, filename = \"streams_maps.png\")\n",
=======
    "r = gj.GrassRenderer(height=540)\n",
>>>>>>> 523219d6d4 (r.in.pdal: info.cpp also needs PDALCPPFLAGS (#1768))
    "\n",
    "r.run(\"d.rast\", map=\"elevation\")\n",
    "r.run(\"d.vect\", map=\"streams\")\n",
    "\n",
    "r.show()"
   ]
  },
  {
   "cell_type": "markdown",
   "metadata": {},
   "source": [
    "#### We can have two instances of GrassRenderer"
   ]
  },
  {
   "cell_type": "code",
   "execution_count": null,
   "metadata": {},
   "outputs": [],
   "source": [
    "# First, we'll make a second instance. Notice we need a different filename.\n",
    "\n",
    "r2 = gj.GrassRenderer(height=200, width=220, filename =\"roads_maps.png\")\n",
    "\n",
    "r2.run(\"d.rast\", map=\"elevation_shade\")\n",
    "r2.run(\"d.vect\", map=\"roadsmajor\")\n",
    "\n",
    "r2.show()"
   ]
  },
  {
   "cell_type": "code",
   "execution_count": null,
   "metadata": {},
   "outputs": [],
   "source": [
    "# Then, we return to the first instance and continue to modify and display it\n",
    "\n",
    "r.run(\"d.vect\", map = \"zipcodes\", color=\"red\", fill_color=\"none\")\n",
    "\n",
    "r.show()"
   ]
  },
  {
   "cell_type": "markdown",
   "metadata": {},
   "source": [
    "## Interactive Map Display"
   ]
  },
  {
   "cell_type": "code",
   "execution_count": null,
   "metadata": {},
   "outputs": [],
   "source": [
    "# Create Interactive Map\n",
    "m = gj.InteractiveMap(width = 600)\n",
    "\n",
    "# Add raster, vector and layer control to map\n",
    "m.add_raster(\"elevation\")\n",
    "m.add_vector(\"roadsmajor\")\n",
    "m.add_layer_control(position = \"bottomright\")\n",
    "\n",
    "# Display map\n",
    "m.show()"
   ]
  },
  {
   "cell_type": "code",
   "execution_count": null,
   "metadata": {},
   "outputs": [],
   "source": [
    "# Let's see what is in the example database so we can continue to experiment\n",
    "print(gs.read_command(\"g.list\", type=\"all\"))"
=======
>>>>>>> 02f32ae2d4 (wxGUI/datacatalog: fix setting output vector/raster format (#1596))
=======
    "# Set computational region to the study area.\n",
    "gs.run_command(\"g.region\", raster=\"elevation\")"
>>>>>>> 2bf163e4b3 (libpython: Save and load benchmark results (#1711))
   ]
  },
  {
=======
>>>>>>> d23d575d0e (libpython: Support benchmarks of non-parallel runs better (#1733))
   "cell_type": "code",
   "execution_count": null,
   "metadata": {},
   "outputs": [],
   "source": [
    "# Demonstration of GrassRenderer for non-interactive map display\n",
<<<<<<< HEAD
    "\n",
    "r = gj.GrassRenderer(height=540, filename = \"streams_maps.png\")\n",
=======
    "r = gj.GrassRenderer(height=540)\n",
>>>>>>> 523219d6d4 (r.in.pdal: info.cpp also needs PDALCPPFLAGS (#1768))
    "\n",
    "r.run(\"d.rast\", map=\"elevation\")\n",
    "r.run(\"d.vect\", map=\"streams\")\n",
    "\n",
    "r.show()"
   ]
  },
  {
   "cell_type": "markdown",
   "metadata": {},
   "source": [
    "#### We can have two instances of GrassRenderer"
   ]
  },
  {
   "cell_type": "code",
   "execution_count": null,
   "metadata": {},
   "outputs": [],
   "source": [
    "# First, we'll make a second instance. Notice we need a different filename.\n",
    "\n",
    "r2 = gj.GrassRenderer(height=200, width=220, filename =\"roads_maps.png\")\n",
    "\n",
    "r2.run(\"d.rast\", map=\"elevation_shade\")\n",
    "r2.run(\"d.vect\", map=\"roadsmajor\")\n",
    "\n",
    "r2.show()"
   ]
  },
  {
   "cell_type": "code",
   "execution_count": null,
   "metadata": {},
   "outputs": [],
   "source": [
    "# Then, we return to the first instance and continue to modify and display it\n",
    "\n",
    "r.run(\"d.vect\", map = \"zipcodes\", color=\"red\", fill_color=\"none\")\n",
    "\n",
    "r.show()"
   ]
  },
  {
   "cell_type": "markdown",
   "metadata": {},
   "source": [
    "## Interactive Map Display"
   ]
  },
  {
   "cell_type": "code",
   "execution_count": null,
   "metadata": {},
   "outputs": [],
   "source": [
    "# Create Interactive Map\n",
    "m = gj.InteractiveMap(width = 600)\n",
    "\n",
    "# Add raster, vector and layer control to map\n",
    "m.add_raster(\"elevation\")\n",
    "m.add_vector(\"roadsmajor\")\n",
    "m.add_layer_control(position = \"bottomright\")\n",
    "\n",
    "# Display map\n",
    "m.show()"
   ]
  },
  {
   "cell_type": "code",
   "execution_count": null,
   "metadata": {},
   "outputs": [],
   "source": [
    "# Let's see what is in the example database so we can continue to experiment\n",
    "print(gs.read_command(\"g.list\", type=\"all\"))"
=======
>>>>>>> 40118f6d63 (wxGUI/datacatalog: fix setting output vector/raster format (#1596))
=======
    "# Set computational region to the study area.\n",
    "gs.run_command(\"g.region\", raster=\"elevation\")"
>>>>>>> af1011ff1e (libpython: Save and load benchmark results (#1711))
   ]
  },
  {
=======
>>>>>>> a4624812dc (libpython: Support benchmarks of non-parallel runs better (#1733))
   "cell_type": "code",
   "execution_count": null,
   "metadata": {},
   "outputs": [],
   "source": [
    "# Demonstration of GrassRenderer for non-interactive map display\n",
<<<<<<< HEAD
    "\n",
    "r = gj.GrassRenderer(height=540, filename = \"streams_maps.png\")\n",
=======
    "r = gj.GrassRenderer(height=540)\n",
>>>>>>> 523219d6d4 (r.in.pdal: info.cpp also needs PDALCPPFLAGS (#1768))
    "\n",
    "r.run(\"d.rast\", map=\"elevation\")\n",
    "r.run(\"d.vect\", map=\"streams\")\n",
    "\n",
    "r.show()"
   ]
  },
  {
   "cell_type": "markdown",
   "metadata": {},
   "source": [
    "#### We can have two instances of GrassRenderer"
   ]
  },
  {
   "cell_type": "code",
   "execution_count": null,
   "metadata": {},
   "outputs": [],
   "source": [
    "# First, we'll make a second instance. Notice we need a different filename.\n",
    "\n",
    "r2 = gj.GrassRenderer(height=200, width=220, filename =\"roads_maps.png\")\n",
    "\n",
    "r2.run(\"d.rast\", map=\"elevation_shade\")\n",
    "r2.run(\"d.vect\", map=\"roadsmajor\")\n",
    "\n",
    "r2.show()"
   ]
  },
  {
   "cell_type": "code",
   "execution_count": null,
   "metadata": {},
   "outputs": [],
   "source": [
    "# Then, we return to the first instance and continue to modify and display it\n",
    "\n",
    "r.run(\"d.vect\", map = \"zipcodes\", color=\"red\", fill_color=\"none\")\n",
    "\n",
    "r.show()"
   ]
  },
  {
   "cell_type": "markdown",
   "metadata": {},
   "source": [
    "## Interactive Map Display"
   ]
  },
  {
   "cell_type": "code",
   "execution_count": null,
   "metadata": {},
   "outputs": [],
   "source": [
    "# Create Interactive Map\n",
    "m = gj.InteractiveMap(width = 600)\n",
    "\n",
    "# Add raster, vector and layer control to map\n",
    "m.add_raster(\"elevation\")\n",
    "m.add_vector(\"roadsmajor\")\n",
    "m.add_layer_control(position = \"bottomright\")\n",
    "\n",
    "# Display map\n",
    "m.show()"
   ]
  },
  {
   "cell_type": "code",
   "execution_count": null,
   "metadata": {},
   "outputs": [],
   "source": [
    "# Let's see what is in the example database so we can continue to experiment\n",
    "print(gs.read_command(\"g.list\", type=\"all\"))"
=======
>>>>>>> 9e134ec08d (wxGUI/datacatalog: fix setting output vector/raster format (#1596))
=======
    "# Set computational region to the study area.\n",
    "gs.run_command(\"g.region\", raster=\"elevation\")"
>>>>>>> 033a57360f (libpython: Save and load benchmark results (#1711))
   ]
  },
  {
=======
>>>>>>> 434bf28e3d (libpython: Support benchmarks of non-parallel runs better (#1733))
   "cell_type": "code",
   "execution_count": null,
   "metadata": {},
   "outputs": [],
   "source": [
    "# Demonstration of GrassRenderer for non-interactive map display\n",
<<<<<<< HEAD
    "\n",
    "r = gj.GrassRenderer(height=540, filename = \"streams_maps.png\")\n",
=======
    "r = gj.GrassRenderer(height=540)\n",
>>>>>>> 523219d6d4 (r.in.pdal: info.cpp also needs PDALCPPFLAGS (#1768))
    "\n",
    "r.run(\"d.rast\", map=\"elevation\")\n",
    "r.run(\"d.vect\", map=\"streams\")\n",
    "\n",
    "r.show()"
   ]
  },
  {
   "cell_type": "markdown",
   "metadata": {},
   "source": [
    "#### We can have two instances of GrassRenderer"
   ]
  },
  {
   "cell_type": "code",
   "execution_count": null,
   "metadata": {},
   "outputs": [],
   "source": [
    "# First, we'll make a second instance. Notice we need a different filename.\n",
    "\n",
    "r2 = gj.GrassRenderer(height=200, width=220, filename =\"roads_maps.png\")\n",
    "\n",
    "r2.run(\"d.rast\", map=\"elevation_shade\")\n",
    "r2.run(\"d.vect\", map=\"roadsmajor\")\n",
    "\n",
    "r2.show()"
   ]
  },
  {
   "cell_type": "code",
   "execution_count": null,
   "metadata": {},
   "outputs": [],
   "source": [
    "# Then, we return to the first instance and continue to modify and display it\n",
    "\n",
    "r.run(\"d.vect\", map = \"zipcodes\", color=\"red\", fill_color=\"none\")\n",
    "\n",
    "r.show()"
   ]
  },
  {
   "cell_type": "markdown",
   "metadata": {},
   "source": [
    "## Interactive Map Display"
   ]
  },
  {
   "cell_type": "code",
   "execution_count": null,
   "metadata": {},
   "outputs": [],
   "source": [
    "# Create Interactive Map\n",
    "m = gj.InteractiveMap(width = 600)\n",
    "\n",
    "# Add raster, vector and layer control to map\n",
    "m.add_raster(\"elevation\")\n",
    "m.add_vector(\"roadsmajor\")\n",
    "m.add_layer_control(position = \"bottomright\")\n",
    "\n",
    "# Display map\n",
    "m.show()"
   ]
  },
  {
   "cell_type": "code",
   "execution_count": null,
   "metadata": {},
   "outputs": [],
   "source": [
    "# Let's see what is in the example database so we can continue to experiment\n",
    "print(gs.read_command(\"g.list\", type=\"all\"))"
=======
>>>>>>> 9e134ec08d (wxGUI/datacatalog: fix setting output vector/raster format (#1596))
=======
    "# Set computational region to the study area.\n",
    "gs.run_command(\"g.region\", raster=\"elevation\")"
>>>>>>> 033a57360f (libpython: Save and load benchmark results (#1711))
   ]
  },
  {
=======
>>>>>>> 434bf28e3d (libpython: Support benchmarks of non-parallel runs better (#1733))
   "cell_type": "code",
   "execution_count": null,
   "metadata": {},
   "outputs": [],
   "source": [
    "# Demonstration of GrassRenderer for non-interactive map display\n",
<<<<<<< HEAD
    "\n",
    "r = gj.GrassRenderer(height=540, filename = \"streams_maps.png\")\n",
=======
    "r = gj.GrassRenderer(height=540)\n",
>>>>>>> 523219d6d4 (r.in.pdal: info.cpp also needs PDALCPPFLAGS (#1768))
    "\n",
    "r.run(\"d.rast\", map=\"elevation\")\n",
    "r.run(\"d.vect\", map=\"streams\")\n",
    "\n",
    "r.show()"
   ]
  },
  {
   "cell_type": "markdown",
   "metadata": {},
   "source": [
    "#### We can have two instances of GrassRenderer"
   ]
  },
  {
   "cell_type": "code",
   "execution_count": null,
   "metadata": {},
   "outputs": [],
   "source": [
    "# First, we'll make a second instance. Notice we need a different filename.\n",
    "\n",
    "r2 = gj.GrassRenderer(height=200, width=220, filename =\"roads_maps.png\")\n",
    "\n",
    "r2.run(\"d.rast\", map=\"elevation_shade\")\n",
    "r2.run(\"d.vect\", map=\"roadsmajor\")\n",
    "\n",
    "r2.show()"
   ]
  },
  {
   "cell_type": "code",
   "execution_count": null,
   "metadata": {},
   "outputs": [],
   "source": [
    "# Then, we return to the first instance and continue to modify and display it\n",
    "\n",
    "r.run(\"d.vect\", map = \"zipcodes\", color=\"red\", fill_color=\"none\")\n",
    "\n",
    "r.show()"
   ]
  },
  {
   "cell_type": "markdown",
   "metadata": {},
   "source": [
    "## Interactive Map Display"
   ]
  },
  {
   "cell_type": "code",
   "execution_count": null,
   "metadata": {},
   "outputs": [],
   "source": [
    "# Create Interactive Map\n",
    "m = gj.InteractiveMap(width = 600)\n",
    "\n",
    "# Add raster, vector and layer control to map\n",
    "m.add_raster(\"elevation\")\n",
    "m.add_vector(\"roadsmajor\")\n",
    "m.add_layer_control(position = \"bottomright\")\n",
    "\n",
    "# Display map\n",
    "m.show()"
   ]
  },
  {
   "cell_type": "code",
   "execution_count": null,
   "metadata": {},
   "outputs": [],
   "source": [
    "# Let's see what is in the example database so we can continue to experiment\n",
    "print(gs.read_command(\"g.list\", type=\"all\"))"
=======
>>>>>>> 75f1063afc (wxGUI/datacatalog: fix setting output vector/raster format (#1596))
=======
    "# Set computational region to the study area.\n",
    "gs.run_command(\"g.region\", raster=\"elevation\")"
>>>>>>> 8984405ebb (libpython: Save and load benchmark results (#1711))
   ]
  },
  {
=======
>>>>>>> 1691c94d89 (libpython: Support benchmarks of non-parallel runs better (#1733))
   "cell_type": "code",
   "execution_count": null,
   "metadata": {},
   "outputs": [],
   "source": [
    "# Demonstration of GrassRenderer for non-interactive map display\n",
<<<<<<< HEAD
    "\n",
    "r = gj.GrassRenderer(height=540, filename = \"streams_maps.png\")\n",
=======
    "r = gj.GrassRenderer(height=540)\n",
>>>>>>> 523219d6d4 (r.in.pdal: info.cpp also needs PDALCPPFLAGS (#1768))
    "\n",
    "r.run(\"d.rast\", map=\"elevation\")\n",
    "r.run(\"d.vect\", map=\"streams\")\n",
    "\n",
    "r.show()"
   ]
  },
  {
   "cell_type": "markdown",
   "metadata": {},
   "source": [
    "#### We can have two instances of GrassRenderer"
   ]
  },
  {
   "cell_type": "code",
   "execution_count": null,
   "metadata": {},
   "outputs": [],
   "source": [
    "# First, we'll make a second instance. Notice we need a different filename.\n",
    "\n",
    "r2 = gj.GrassRenderer(height=200, width=220, filename =\"roads_maps.png\")\n",
    "\n",
    "r2.run(\"d.rast\", map=\"elevation_shade\")\n",
    "r2.run(\"d.vect\", map=\"roadsmajor\")\n",
    "\n",
    "r2.show()"
   ]
  },
  {
   "cell_type": "code",
   "execution_count": null,
   "metadata": {},
   "outputs": [],
   "source": [
    "# Then, we return to the first instance and continue to modify and display it\n",
    "\n",
    "r.run(\"d.vect\", map = \"zipcodes\", color=\"red\", fill_color=\"none\")\n",
    "\n",
    "r.show()"
   ]
  },
  {
   "cell_type": "markdown",
   "metadata": {},
   "source": [
    "## Interactive Map Display"
   ]
  },
  {
   "cell_type": "code",
   "execution_count": null,
   "metadata": {},
   "outputs": [],
   "source": [
    "# Create Interactive Map\n",
    "m = gj.InteractiveMap(width = 600)\n",
    "\n",
    "# Add raster, vector and layer control to map\n",
    "m.add_raster(\"elevation\")\n",
    "m.add_vector(\"roadsmajor\")\n",
    "m.add_layer_control(position = \"bottomright\")\n",
    "\n",
    "# Display map\n",
    "m.show()"
   ]
  },
  {
   "cell_type": "code",
   "execution_count": null,
   "metadata": {},
   "outputs": [],
   "source": [
    "# Let's see what is in the example database so we can continue to experiment\n",
    "print(gs.read_command(\"g.list\", type=\"all\"))"
=======
>>>>>>> b479d694c0 (wxGUI/datacatalog: fix setting output vector/raster format (#1596))
=======
    "# Set computational region to the study area.\n",
    "gs.run_command(\"g.region\", raster=\"elevation\")"
>>>>>>> 6abb78d81f (libpython: Save and load benchmark results (#1711))
   ]
  },
  {
=======
>>>>>>> 94090db73c (libpython: Support benchmarks of non-parallel runs better (#1733))
   "cell_type": "code",
   "execution_count": null,
   "metadata": {},
   "outputs": [],
   "source": [
    "# Demonstration of GrassRenderer for non-interactive map display\n",
<<<<<<< HEAD
    "\n",
    "r = gj.GrassRenderer(height=540, filename = \"streams_maps.png\")\n",
=======
    "r = gj.GrassRenderer(height=540)\n",
>>>>>>> 523219d6d4 (r.in.pdal: info.cpp also needs PDALCPPFLAGS (#1768))
    "\n",
    "r.run(\"d.rast\", map=\"elevation\")\n",
    "r.run(\"d.vect\", map=\"streams\")\n",
    "\n",
    "r.show()"
   ]
  },
  {
   "cell_type": "markdown",
   "metadata": {},
   "source": [
    "#### We can have two instances of GrassRenderer"
   ]
  },
  {
   "cell_type": "code",
   "execution_count": null,
   "metadata": {},
   "outputs": [],
   "source": [
    "# First, we'll make a second instance. Notice we need a different filename.\n",
    "\n",
    "r2 = gj.GrassRenderer(height=200, width=220, filename =\"roads_maps.png\")\n",
    "\n",
    "r2.run(\"d.rast\", map=\"elevation_shade\")\n",
    "r2.run(\"d.vect\", map=\"roadsmajor\")\n",
    "\n",
    "r2.show()"
   ]
  },
  {
   "cell_type": "code",
   "execution_count": null,
   "metadata": {},
   "outputs": [],
   "source": [
    "# Then, we return to the first instance and continue to modify and display it\n",
    "\n",
    "r.run(\"d.vect\", map = \"zipcodes\", color=\"red\", fill_color=\"none\")\n",
    "\n",
    "r.show()"
   ]
  },
  {
   "cell_type": "markdown",
   "metadata": {},
   "source": [
    "## Interactive Map Display"
   ]
  },
  {
   "cell_type": "code",
   "execution_count": null,
   "metadata": {},
   "outputs": [],
   "source": [
    "# Create Interactive Map\n",
    "m = gj.InteractiveMap(width = 600)\n",
    "\n",
    "# Add raster, vector and layer control to map\n",
    "m.add_raster(\"elevation\")\n",
    "m.add_vector(\"roadsmajor\")\n",
    "m.add_layer_control(position = \"bottomright\")\n",
    "\n",
    "# Display map\n",
    "m.show()"
   ]
  },
  {
   "cell_type": "code",
   "execution_count": null,
   "metadata": {},
   "outputs": [],
   "source": [
    "# Let's see what is in the example database so we can continue to experiment\n",
    "print(gs.read_command(\"g.list\", type=\"all\"))"
=======
>>>>>>> 8b762d062b (wxGUI/datacatalog: fix setting output vector/raster format (#1596))
=======
    "# Set computational region to the study area.\n",
    "gs.run_command(\"g.region\", raster=\"elevation\")"
>>>>>>> 4f7b5aea0b (libpython: Save and load benchmark results (#1711))
   ]
  },
  {
=======
>>>>>>> da95805ca1 (libpython: Support benchmarks of non-parallel runs better (#1733))
   "cell_type": "code",
   "execution_count": null,
   "metadata": {},
   "outputs": [],
   "source": [
    "# Demonstration of GrassRenderer for non-interactive map display\n",
<<<<<<< HEAD
    "\n",
    "r = gj.GrassRenderer(height=540, filename = \"streams_maps.png\")\n",
=======
    "r = gj.GrassRenderer(height=540)\n",
>>>>>>> 523219d6d4 (r.in.pdal: info.cpp also needs PDALCPPFLAGS (#1768))
    "\n",
    "r.run(\"d.rast\", map=\"elevation\")\n",
    "r.run(\"d.vect\", map=\"streams\")\n",
    "\n",
    "r.show()"
   ]
  },
  {
   "cell_type": "markdown",
   "metadata": {},
   "source": [
    "#### We can have two instances of GrassRenderer"
   ]
  },
  {
   "cell_type": "code",
   "execution_count": null,
   "metadata": {},
   "outputs": [],
   "source": [
    "# First, we'll make a second instance. Notice we need a different filename.\n",
    "\n",
    "r2 = gj.GrassRenderer(height=200, width=220, filename =\"roads_maps.png\")\n",
    "\n",
    "r2.run(\"d.rast\", map=\"elevation_shade\")\n",
    "r2.run(\"d.vect\", map=\"roadsmajor\")\n",
    "\n",
    "r2.show()"
   ]
  },
  {
   "cell_type": "code",
   "execution_count": null,
   "metadata": {},
   "outputs": [],
   "source": [
    "# Then, we return to the first instance and continue to modify and display it\n",
    "\n",
    "r.run(\"d.vect\", map = \"zipcodes\", color=\"red\", fill_color=\"none\")\n",
    "\n",
    "r.show()"
   ]
  },
  {
   "cell_type": "markdown",
   "metadata": {},
   "source": [
    "## Interactive Map Display"
   ]
  },
  {
   "cell_type": "code",
   "execution_count": null,
   "metadata": {},
   "outputs": [],
   "source": [
    "# Create Interactive Map\n",
    "m = gj.InteractiveMap(width = 600)\n",
    "\n",
    "# Add raster, vector and layer control to map\n",
    "m.add_raster(\"elevation\")\n",
    "m.add_vector(\"roadsmajor\")\n",
    "m.add_layer_control(position = \"bottomright\")\n",
    "\n",
    "# Display map\n",
    "m.show()"
   ]
  },
  {
   "cell_type": "code",
   "execution_count": null,
   "metadata": {},
   "outputs": [],
   "source": [
    "# Let's see what is in the example database so we can continue to experiment\n",
    "print(gs.read_command(\"g.list\", type=\"all\"))"
=======
>>>>>>> b621c8b780 (wxGUI/datacatalog: fix setting output vector/raster format (#1596))
=======
    "# Set computational region to the study area.\n",
    "gs.run_command(\"g.region\", raster=\"elevation\")"
>>>>>>> 6d0d0f1535 (libpython: Save and load benchmark results (#1711))
   ]
  },
  {
=======
>>>>>>> 2a88dad128 (libpython: Support benchmarks of non-parallel runs better (#1733))
   "cell_type": "code",
   "execution_count": null,
   "metadata": {},
   "outputs": [],
   "source": [
    "# Demonstration of GrassRenderer for non-interactive map display\n",
<<<<<<< HEAD
    "\n",
    "r = gj.GrassRenderer(height=540, filename = \"streams_maps.png\")\n",
=======
    "r = gj.GrassRenderer(height=540)\n",
>>>>>>> 523219d6d4 (r.in.pdal: info.cpp also needs PDALCPPFLAGS (#1768))
    "\n",
    "r.run(\"d.rast\", map=\"elevation\")\n",
    "r.run(\"d.vect\", map=\"streams\")\n",
    "\n",
    "r.show()"
   ]
  },
  {
   "cell_type": "markdown",
   "metadata": {},
   "source": [
    "#### We can have two instances of GrassRenderer"
   ]
  },
  {
   "cell_type": "code",
   "execution_count": null,
   "metadata": {},
   "outputs": [],
   "source": [
    "# First, we'll make a second instance. Notice we need a different filename.\n",
    "\n",
    "r2 = gj.GrassRenderer(height=200, width=220, filename =\"roads_maps.png\")\n",
    "\n",
    "r2.run(\"d.rast\", map=\"elevation_shade\")\n",
    "r2.run(\"d.vect\", map=\"roadsmajor\")\n",
    "\n",
    "r2.show()"
   ]
  },
  {
   "cell_type": "code",
   "execution_count": null,
   "metadata": {},
   "outputs": [],
   "source": [
    "# Then, we return to the first instance and continue to modify and display it\n",
    "\n",
    "r.run(\"d.vect\", map = \"zipcodes\", color=\"red\", fill_color=\"none\")\n",
    "\n",
    "r.show()"
   ]
  },
  {
   "cell_type": "markdown",
   "metadata": {},
   "source": [
    "## Interactive Map Display"
   ]
  },
  {
   "cell_type": "code",
   "execution_count": null,
   "metadata": {},
   "outputs": [],
   "source": [
    "# Create Interactive Map\n",
    "m = gj.InteractiveMap(width = 600)\n",
    "\n",
    "# Add raster, vector and layer control to map\n",
    "m.add_raster(\"elevation\")\n",
    "m.add_vector(\"roadsmajor\")\n",
    "m.add_layer_control(position = \"bottomright\")\n",
    "\n",
    "# Display map\n",
    "m.show()"
   ]
  },
  {
   "cell_type": "code",
   "execution_count": null,
   "metadata": {},
   "outputs": [],
   "source": [
    "# Let's see what is in the example database so we can continue to experiment\n",
    "print(gs.read_command(\"g.list\", type=\"all\"))"
=======
>>>>>>> 2942a2fdfb (wxGUI/datacatalog: fix setting output vector/raster format (#1596))
=======
    "# Set computational region to the study area.\n",
    "gs.run_command(\"g.region\", raster=\"elevation\")"
>>>>>>> f4219c860c (libpython: Save and load benchmark results (#1711))
   ]
  },
  {
=======
>>>>>>> bcd8260293 (libpython: Support benchmarks of non-parallel runs better (#1733))
   "cell_type": "code",
   "execution_count": null,
   "metadata": {},
   "outputs": [],
   "source": [
    "# Demonstration of GrassRenderer for non-interactive map display\n",
<<<<<<< HEAD
    "\n",
    "r = gj.GrassRenderer(height=540, filename = \"streams_maps.png\")\n",
=======
    "r = gj.GrassRenderer(height=540)\n",
>>>>>>> 523219d6d4 (r.in.pdal: info.cpp also needs PDALCPPFLAGS (#1768))
    "\n",
    "r.run(\"d.rast\", map=\"elevation\")\n",
    "r.run(\"d.vect\", map=\"streams\")\n",
    "\n",
    "r.show()"
   ]
  },
  {
   "cell_type": "markdown",
   "metadata": {},
   "source": [
    "#### We can have two instances of GrassRenderer"
   ]
  },
  {
   "cell_type": "code",
   "execution_count": null,
   "metadata": {},
   "outputs": [],
   "source": [
    "# First, we'll make a second instance. Notice we need a different filename.\n",
    "\n",
    "r2 = gj.GrassRenderer(height=200, width=220, filename =\"roads_maps.png\")\n",
    "\n",
    "r2.run(\"d.rast\", map=\"elevation_shade\")\n",
    "r2.run(\"d.vect\", map=\"roadsmajor\")\n",
    "\n",
    "r2.show()"
   ]
  },
  {
   "cell_type": "code",
   "execution_count": null,
   "metadata": {},
   "outputs": [],
   "source": [
    "# Then, we return to the first instance and continue to modify and display it\n",
    "\n",
    "r.run(\"d.vect\", map = \"zipcodes\", color=\"red\", fill_color=\"none\")\n",
    "\n",
    "r.show()"
   ]
  },
  {
   "cell_type": "markdown",
   "metadata": {},
   "source": [
    "## Interactive Map Display"
   ]
  },
  {
   "cell_type": "code",
   "execution_count": null,
   "metadata": {},
   "outputs": [],
   "source": [
    "# Create Interactive Map\n",
    "m = gj.InteractiveMap(width = 600)\n",
    "\n",
    "# Add raster, vector and layer control to map\n",
    "m.add_raster(\"elevation\")\n",
    "m.add_vector(\"roadsmajor\")\n",
    "m.add_layer_control(position = \"bottomright\")\n",
    "\n",
    "# Display map\n",
    "m.show()"
   ]
  },
  {
   "cell_type": "code",
   "execution_count": null,
   "metadata": {},
   "outputs": [],
   "source": [
    "# Let's see what is in the example database so we can continue to experiment\n",
    "print(gs.read_command(\"g.list\", type=\"all\"))"
=======
>>>>>>> 9051310ffd (wxGUI/datacatalog: fix setting output vector/raster format (#1596))
=======
    "# Set computational region to the study area.\n",
    "gs.run_command(\"g.region\", raster=\"elevation\")"
>>>>>>> ab99037454 (libpython: Save and load benchmark results (#1711))
   ]
  },
  {
=======
>>>>>>> 58f65d161b (libpython: Support benchmarks of non-parallel runs better (#1733))
   "cell_type": "code",
   "execution_count": null,
   "metadata": {},
   "outputs": [],
   "source": [
    "# Demonstration of GrassRenderer for non-interactive map display\n",
<<<<<<< HEAD
    "\n",
    "r = gj.GrassRenderer(height=540, filename = \"streams_maps.png\")\n",
=======
    "r = gj.GrassRenderer(height=540)\n",
>>>>>>> 523219d6d4 (r.in.pdal: info.cpp also needs PDALCPPFLAGS (#1768))
    "\n",
    "r.run(\"d.rast\", map=\"elevation\")\n",
    "r.run(\"d.vect\", map=\"streams\")\n",
    "\n",
    "r.show()"
   ]
  },
  {
   "cell_type": "markdown",
   "metadata": {},
   "source": [
    "#### We can have two instances of GrassRenderer"
   ]
  },
  {
   "cell_type": "code",
   "execution_count": null,
   "metadata": {},
   "outputs": [],
   "source": [
    "# First, we'll make a second instance. Notice we need a different filename.\n",
    "\n",
    "r2 = gj.GrassRenderer(height=200, width=220, filename =\"roads_maps.png\")\n",
    "\n",
    "r2.run(\"d.rast\", map=\"elevation_shade\")\n",
    "r2.run(\"d.vect\", map=\"roadsmajor\")\n",
    "\n",
    "r2.show()"
   ]
  },
  {
   "cell_type": "code",
   "execution_count": null,
   "metadata": {},
   "outputs": [],
   "source": [
    "# Then, we return to the first instance and continue to modify and display it\n",
    "\n",
    "r.run(\"d.vect\", map = \"zipcodes\", color=\"red\", fill_color=\"none\")\n",
    "\n",
    "r.show()"
   ]
  },
  {
   "cell_type": "markdown",
   "metadata": {},
   "source": [
    "## Interactive Map Display"
   ]
  },
  {
   "cell_type": "code",
   "execution_count": null,
   "metadata": {},
   "outputs": [],
   "source": [
    "# Create Interactive Map\n",
    "m = gj.InteractiveMap(width = 600)\n",
    "\n",
    "# Add raster, vector and layer control to map\n",
    "m.add_raster(\"elevation\")\n",
    "m.add_vector(\"roadsmajor\")\n",
    "m.add_layer_control(position = \"bottomright\")\n",
    "\n",
    "# Display map\n",
    "m.show()"
   ]
  },
  {
   "cell_type": "code",
   "execution_count": null,
   "metadata": {},
   "outputs": [],
   "source": [
    "# Let's see what is in the example database so we can continue to experiment\n",
    "print(gs.read_command(\"g.list\", type=\"all\"))"
=======
>>>>>>> 510052984c (wxGUI/datacatalog: fix setting output vector/raster format (#1596))
=======
    "# Set computational region to the study area.\n",
    "gs.run_command(\"g.region\", raster=\"elevation\")"
>>>>>>> eb42b06b22 (libpython: Save and load benchmark results (#1711))
   ]
  },
  {
=======
>>>>>>> 196a20892e (libpython: Support benchmarks of non-parallel runs better (#1733))
   "cell_type": "code",
   "execution_count": null,
   "metadata": {},
   "outputs": [],
   "source": [
    "# Demonstration of GrassRenderer for non-interactive map display\n",
<<<<<<< HEAD
    "\n",
    "r = gj.GrassRenderer(height=540, filename = \"streams_maps.png\")\n",
=======
    "r = gj.GrassRenderer(height=540)\n",
>>>>>>> 523219d6d4 (r.in.pdal: info.cpp also needs PDALCPPFLAGS (#1768))
    "\n",
    "r.run(\"d.rast\", map=\"elevation\")\n",
    "r.run(\"d.vect\", map=\"streams\")\n",
    "\n",
    "r.show()"
   ]
  },
  {
   "cell_type": "markdown",
   "metadata": {},
   "source": [
    "#### We can have two instances of GrassRenderer"
   ]
  },
  {
   "cell_type": "code",
   "execution_count": null,
   "metadata": {},
   "outputs": [],
   "source": [
    "# First, we'll make a second instance. Notice we need a different filename.\n",
    "\n",
    "r2 = gj.GrassRenderer(height=200, width=220, filename =\"roads_maps.png\")\n",
    "\n",
    "r2.run(\"d.rast\", map=\"elevation_shade\")\n",
    "r2.run(\"d.vect\", map=\"roadsmajor\")\n",
    "\n",
    "r2.show()"
   ]
  },
  {
   "cell_type": "code",
   "execution_count": null,
   "metadata": {},
   "outputs": [],
   "source": [
    "# Then, we return to the first instance and continue to modify and display it\n",
    "\n",
    "r.run(\"d.vect\", map = \"zipcodes\", color=\"red\", fill_color=\"none\")\n",
    "\n",
    "r.show()"
   ]
  },
  {
   "cell_type": "markdown",
   "metadata": {},
   "source": [
    "## Interactive Map Display"
   ]
  },
  {
   "cell_type": "code",
   "execution_count": null,
   "metadata": {},
   "outputs": [],
   "source": [
    "# Create Interactive Map\n",
    "m = gj.InteractiveMap(width = 600)\n",
    "\n",
    "# Add raster, vector and layer control to map\n",
    "m.add_raster(\"elevation\")\n",
    "m.add_vector(\"roadsmajor\")\n",
    "m.add_layer_control(position = \"bottomright\")\n",
    "\n",
    "# Display map\n",
    "m.show()"
   ]
  },
  {
   "cell_type": "code",
   "execution_count": null,
   "metadata": {},
   "outputs": [],
   "source": [
    "# Let's see what is in the example database so we can continue to experiment\n",
    "print(gs.read_command(\"g.list\", type=\"all\"))"
=======
>>>>>>> 095dc4def6 (wxGUI/datacatalog: fix setting output vector/raster format (#1596))
=======
    "# Set computational region to the study area.\n",
    "gs.run_command(\"g.region\", raster=\"elevation\")"
>>>>>>> f0a06841f5 (libpython: Save and load benchmark results (#1711))
   ]
  },
  {
=======
>>>>>>> 2e712c25e8 (libpython: Support benchmarks of non-parallel runs better (#1733))
   "cell_type": "code",
   "execution_count": null,
   "metadata": {},
   "outputs": [],
   "source": [
    "# Demonstration of GrassRenderer for non-interactive map display\n",
<<<<<<< HEAD
    "\n",
    "r = gj.GrassRenderer(height=540, filename = \"streams_maps.png\")\n",
=======
    "r = gj.GrassRenderer(height=540)\n",
>>>>>>> 523219d6d4 (r.in.pdal: info.cpp also needs PDALCPPFLAGS (#1768))
    "\n",
    "r.run(\"d.rast\", map=\"elevation\")\n",
    "r.run(\"d.vect\", map=\"streams\")\n",
    "\n",
    "r.show()"
   ]
  },
  {
   "cell_type": "markdown",
   "metadata": {},
   "source": [
    "#### We can have two instances of GrassRenderer"
   ]
  },
  {
   "cell_type": "code",
   "execution_count": null,
   "metadata": {},
   "outputs": [],
   "source": [
    "# First, we'll make a second instance. Notice we need a different filename.\n",
    "\n",
    "r2 = gj.GrassRenderer(height=200, width=220, filename =\"roads_maps.png\")\n",
    "\n",
    "r2.run(\"d.rast\", map=\"elevation_shade\")\n",
    "r2.run(\"d.vect\", map=\"roadsmajor\")\n",
    "\n",
    "r2.show()"
   ]
  },
  {
   "cell_type": "code",
   "execution_count": null,
   "metadata": {},
   "outputs": [],
   "source": [
    "# Then, we return to the first instance and continue to modify and display it\n",
    "\n",
    "r.run(\"d.vect\", map = \"zipcodes\", color=\"red\", fill_color=\"none\")\n",
    "\n",
    "r.show()"
   ]
  },
  {
   "cell_type": "markdown",
   "metadata": {},
   "source": [
    "## Interactive Map Display"
   ]
  },
  {
   "cell_type": "code",
   "execution_count": null,
   "metadata": {},
   "outputs": [],
   "source": [
    "# Create Interactive Map\n",
    "m = gj.InteractiveMap(width = 600)\n",
    "\n",
    "# Add raster, vector and layer control to map\n",
    "m.add_raster(\"elevation\")\n",
    "m.add_vector(\"roadsmajor\")\n",
    "m.add_layer_control(position = \"bottomright\")\n",
    "\n",
    "# Display map\n",
    "m.show()"
   ]
  },
  {
   "cell_type": "code",
   "execution_count": null,
   "metadata": {},
   "outputs": [],
   "source": [
    "# Let's see what is in the example database so we can continue to experiment\n",
    "print(gs.read_command(\"g.list\", type=\"all\"))"
=======
>>>>>>> 45a066d418 (wxGUI/datacatalog: fix setting output vector/raster format (#1596))
=======
    "# Set computational region to the study area.\n",
    "gs.run_command(\"g.region\", raster=\"elevation\")"
>>>>>>> 13ad0bbd2d (libpython: Save and load benchmark results (#1711))
   ]
  },
  {
=======
>>>>>>> 84a0683221 (libpython: Support benchmarks of non-parallel runs better (#1733))
   "cell_type": "code",
   "execution_count": null,
   "metadata": {},
   "outputs": [],
   "source": [
    "# Demonstration of GrassRenderer for non-interactive map display\n",
<<<<<<< HEAD
    "\n",
    "r = gj.GrassRenderer(height=540, filename = \"streams_maps.png\")\n",
=======
    "r = gj.GrassRenderer(height=540)\n",
>>>>>>> 523219d6d4 (r.in.pdal: info.cpp also needs PDALCPPFLAGS (#1768))
    "\n",
    "r.run(\"d.rast\", map=\"elevation\")\n",
    "r.run(\"d.vect\", map=\"streams\")\n",
    "\n",
    "r.show()"
   ]
  },
  {
   "cell_type": "markdown",
   "metadata": {},
   "source": [
    "#### We can have two instances of GrassRenderer"
   ]
  },
  {
   "cell_type": "code",
   "execution_count": null,
   "metadata": {},
   "outputs": [],
   "source": [
    "# First, we'll make a second instance. Notice we need a different filename.\n",
    "\n",
    "r2 = gj.GrassRenderer(height=200, width=220, filename =\"roads_maps.png\")\n",
    "\n",
    "r2.run(\"d.rast\", map=\"elevation_shade\")\n",
    "r2.run(\"d.vect\", map=\"roadsmajor\")\n",
    "\n",
    "r2.show()"
   ]
  },
  {
   "cell_type": "code",
   "execution_count": null,
   "metadata": {},
   "outputs": [],
   "source": [
    "# Then, we return to the first instance and continue to modify and display it\n",
    "\n",
    "r.run(\"d.vect\", map = \"zipcodes\", color=\"red\", fill_color=\"none\")\n",
    "\n",
    "r.show()"
   ]
  },
  {
   "cell_type": "markdown",
   "metadata": {},
   "source": [
    "## Interactive Map Display"
   ]
  },
  {
   "cell_type": "code",
   "execution_count": null,
   "metadata": {},
   "outputs": [],
   "source": [
    "# Create Interactive Map\n",
    "m = gj.InteractiveMap(width = 600)\n",
    "\n",
    "# Add raster, vector and layer control to map\n",
    "m.add_raster(\"elevation\")\n",
    "m.add_vector(\"roadsmajor\")\n",
    "m.add_layer_control(position = \"bottomright\")\n",
    "\n",
    "# Display map\n",
    "m.show()"
   ]
  },
  {
   "cell_type": "code",
   "execution_count": null,
   "metadata": {},
   "outputs": [],
   "source": [
    "# Let's see what is in the example database so we can continue to experiment\n",
    "print(gs.read_command(\"g.list\", type=\"all\"))"
=======
>>>>>>> 05e3f88683 (wxGUI/datacatalog: fix setting output vector/raster format (#1596))
=======
    "# Set computational region to the study area.\n",
    "gs.run_command(\"g.region\", raster=\"elevation\")"
>>>>>>> 504a46451c (libpython: Save and load benchmark results (#1711))
   ]
  },
  {
=======
>>>>>>> d3014fcc0b (libpython: Support benchmarks of non-parallel runs better (#1733))
   "cell_type": "code",
   "execution_count": null,
   "metadata": {},
   "outputs": [],
   "source": [
    "# Demonstration of GrassRenderer for non-interactive map display\n",
<<<<<<< HEAD
    "\n",
    "r = gj.GrassRenderer(height=540, filename = \"streams_maps.png\")\n",
=======
    "r = gj.GrassRenderer(height=540)\n",
>>>>>>> 523219d6d4 (r.in.pdal: info.cpp also needs PDALCPPFLAGS (#1768))
    "\n",
    "r.run(\"d.rast\", map=\"elevation\")\n",
    "r.run(\"d.vect\", map=\"streams\")\n",
    "\n",
    "r.show()"
   ]
  },
  {
   "cell_type": "markdown",
   "metadata": {},
   "source": [
    "#### We can have two instances of GrassRenderer"
   ]
  },
  {
   "cell_type": "code",
   "execution_count": null,
   "metadata": {},
   "outputs": [],
   "source": [
    "# First, we'll make a second instance. Notice we need a different filename.\n",
    "\n",
    "r2 = gj.GrassRenderer(height=200, width=220, filename =\"roads_maps.png\")\n",
    "\n",
    "r2.run(\"d.rast\", map=\"elevation_shade\")\n",
    "r2.run(\"d.vect\", map=\"roadsmajor\")\n",
    "\n",
    "r2.show()"
   ]
  },
  {
   "cell_type": "code",
   "execution_count": null,
   "metadata": {},
   "outputs": [],
   "source": [
    "# Then, we return to the first instance and continue to modify and display it\n",
    "\n",
    "r.run(\"d.vect\", map = \"zipcodes\", color=\"red\", fill_color=\"none\")\n",
    "\n",
    "r.show()"
   ]
  },
  {
   "cell_type": "markdown",
   "metadata": {},
   "source": [
    "## Interactive Map Display"
   ]
  },
  {
   "cell_type": "code",
   "execution_count": null,
   "metadata": {},
   "outputs": [],
   "source": [
    "# Create Interactive Map\n",
    "m = gj.InteractiveMap(width = 600)\n",
    "\n",
    "# Add raster, vector and layer control to map\n",
    "m.add_raster(\"elevation\")\n",
    "m.add_vector(\"roadsmajor\")\n",
    "m.add_layer_control(position = \"bottomright\")\n",
    "\n",
    "# Display map\n",
    "m.show()"
   ]
  },
  {
   "cell_type": "code",
   "execution_count": null,
   "metadata": {},
   "outputs": [],
   "source": [
    "# Let's see what is in the example database so we can continue to experiment\n",
    "print(gs.read_command(\"g.list\", type=\"all\"))"
=======
>>>>>>> fa3a181fb0 (wxGUI/datacatalog: fix setting output vector/raster format (#1596))
=======
    "# Set computational region to the study area.\n",
    "gs.run_command(\"g.region\", raster=\"elevation\")"
>>>>>>> 742603b912 (libpython: Save and load benchmark results (#1711))
   ]
  },
  {
=======
>>>>>>> 9deecba858 (libpython: Support benchmarks of non-parallel runs better (#1733))
   "cell_type": "code",
   "execution_count": null,
   "metadata": {},
   "outputs": [],
   "source": [
    "# Demonstration of GrassRenderer for non-interactive map display\n",
<<<<<<< HEAD
    "\n",
    "r = gj.GrassRenderer(height=540, filename = \"streams_maps.png\")\n",
=======
    "r = gj.GrassRenderer(height=540)\n",
>>>>>>> 523219d6d4 (r.in.pdal: info.cpp also needs PDALCPPFLAGS (#1768))
    "\n",
    "r.run(\"d.rast\", map=\"elevation\")\n",
    "r.run(\"d.vect\", map=\"streams\")\n",
    "\n",
    "r.show()"
   ]
  },
  {
   "cell_type": "markdown",
   "metadata": {},
   "source": [
    "#### We can have two instances of GrassRenderer"
   ]
  },
  {
   "cell_type": "code",
   "execution_count": null,
   "metadata": {},
   "outputs": [],
   "source": [
    "# First, we'll make a second instance. Notice we need a different filename.\n",
    "\n",
    "r2 = gj.GrassRenderer(height=200, width=220, filename =\"roads_maps.png\")\n",
    "\n",
    "r2.run(\"d.rast\", map=\"elevation_shade\")\n",
    "r2.run(\"d.vect\", map=\"roadsmajor\")\n",
    "\n",
    "r2.show()"
   ]
  },
  {
   "cell_type": "code",
   "execution_count": null,
   "metadata": {},
   "outputs": [],
   "source": [
    "# Then, we return to the first instance and continue to modify and display it\n",
    "\n",
    "r.run(\"d.vect\", map = \"zipcodes\", color=\"red\", fill_color=\"none\")\n",
    "\n",
    "r.show()"
   ]
  },
  {
   "cell_type": "markdown",
   "metadata": {},
   "source": [
    "## Interactive Map Display"
   ]
  },
  {
   "cell_type": "code",
   "execution_count": null,
   "metadata": {},
   "outputs": [],
   "source": [
    "# Create Interactive Map\n",
    "m = gj.InteractiveMap(width = 600)\n",
    "\n",
    "# Add raster, vector and layer control to map\n",
    "m.add_raster(\"elevation\")\n",
    "m.add_vector(\"roadsmajor\")\n",
    "m.add_layer_control(position = \"bottomright\")\n",
    "\n",
    "# Display map\n",
    "m.show()"
   ]
  },
  {
   "cell_type": "code",
   "execution_count": null,
   "metadata": {},
   "outputs": [],
   "source": [
    "# Let's see what is in the example database so we can continue to experiment\n",
    "print(gs.read_command(\"g.list\", type=\"all\"))"
   ]
  }
 ],
 "metadata": {
  "kernelspec": {
   "display_name": "Python 3",
   "language": "python",
   "name": "python3"
  },
  "language_info": {
   "codemirror_mode": {
    "name": "ipython",
    "version": 3
   },
   "file_extension": ".py",
   "mimetype": "text/x-python",
   "name": "python",
   "nbconvert_exporter": "python",
   "pygments_lexer": "ipython3",
<<<<<<< HEAD
<<<<<<< HEAD
<<<<<<< HEAD
<<<<<<< HEAD
<<<<<<< HEAD
<<<<<<< HEAD
<<<<<<< HEAD
<<<<<<< HEAD
<<<<<<< HEAD
<<<<<<< HEAD
<<<<<<< HEAD
<<<<<<< HEAD
<<<<<<< HEAD
<<<<<<< HEAD
<<<<<<< HEAD
<<<<<<< HEAD
<<<<<<< HEAD
<<<<<<< HEAD
<<<<<<< HEAD
<<<<<<< HEAD
<<<<<<< HEAD
<<<<<<< HEAD
<<<<<<< HEAD
<<<<<<< HEAD
<<<<<<< HEAD
<<<<<<< HEAD
<<<<<<< HEAD
<<<<<<< HEAD
<<<<<<< HEAD
<<<<<<< HEAD
<<<<<<< HEAD
<<<<<<< HEAD
<<<<<<< HEAD
<<<<<<< HEAD
<<<<<<< HEAD
<<<<<<< HEAD
<<<<<<< HEAD
<<<<<<< HEAD
<<<<<<< HEAD
<<<<<<< HEAD
<<<<<<< HEAD
<<<<<<< HEAD
<<<<<<< HEAD
<<<<<<< HEAD
<<<<<<< HEAD
<<<<<<< HEAD
<<<<<<< HEAD
<<<<<<< HEAD
<<<<<<< HEAD
<<<<<<< HEAD
<<<<<<< HEAD
<<<<<<< HEAD
<<<<<<< HEAD
<<<<<<< HEAD
<<<<<<< HEAD
<<<<<<< HEAD
<<<<<<< HEAD
<<<<<<< HEAD
<<<<<<< HEAD
<<<<<<< HEAD
<<<<<<< HEAD
<<<<<<< HEAD
<<<<<<< HEAD
<<<<<<< HEAD
<<<<<<< HEAD
<<<<<<< HEAD
<<<<<<< HEAD
<<<<<<< HEAD
<<<<<<< HEAD
<<<<<<< HEAD
<<<<<<< HEAD
<<<<<<< HEAD
<<<<<<< HEAD
<<<<<<< HEAD
<<<<<<< HEAD
<<<<<<< HEAD
<<<<<<< HEAD
<<<<<<< HEAD
<<<<<<< HEAD
<<<<<<< HEAD
<<<<<<< HEAD
<<<<<<< HEAD
<<<<<<< HEAD
<<<<<<< HEAD
<<<<<<< HEAD
<<<<<<< HEAD
<<<<<<< HEAD
<<<<<<< HEAD
<<<<<<< HEAD
<<<<<<< HEAD
<<<<<<< HEAD
<<<<<<< HEAD
<<<<<<< HEAD
<<<<<<< HEAD
<<<<<<< HEAD
<<<<<<< HEAD
<<<<<<< HEAD
<<<<<<< HEAD
<<<<<<< HEAD
<<<<<<< HEAD
<<<<<<< HEAD
<<<<<<< HEAD
<<<<<<< HEAD
<<<<<<< HEAD
<<<<<<< HEAD
<<<<<<< HEAD
<<<<<<< HEAD
<<<<<<< HEAD
=======
=======
>>>>>>> 855503a984 (wxGUI/datacatalog: fix setting output vector/raster format (#1596))
=======
>>>>>>> dad564ed48 (libpython: Support benchmarks of non-parallel runs better (#1733))
=======
>>>>>>> b4f1490ce2 (wxGUI/datacatalog: fix setting output vector/raster format (#1596))
=======
>>>>>>> 256f5d81a6 (libpython: Support benchmarks of non-parallel runs better (#1733))
=======
=======
>>>>>>> c4d1702fe7 (wxGUI/datacatalog: fix setting output vector/raster format (#1596))
>>>>>>> 4566710e5b (wxGUI/datacatalog: fix setting output vector/raster format (#1596))
=======
=======
>>>>>>> 0d97a989f6 (wxGUI/datacatalog: fix setting output vector/raster format (#1596))
=======
>>>>>>> 88accbfbad (libpython: Support benchmarks of non-parallel runs better (#1733))
=======
>>>>>>> fa7df22047 (wxGUI/datacatalog: fix setting output vector/raster format (#1596))
=======
>>>>>>> d4bec80a1c (libpython: Support benchmarks of non-parallel runs better (#1733))
=======
>>>>>>> 73c280b8c6 (wxGUI/datacatalog: fix setting output vector/raster format (#1596))
=======
>>>>>>> c41f2eb779 (libpython: Support benchmarks of non-parallel runs better (#1733))
=======
>>>>>>> d0b3ffd998 (wxGUI/datacatalog: fix setting output vector/raster format (#1596))
=======
>>>>>>> 6ce1ce4c0e (libpython: Support benchmarks of non-parallel runs better (#1733))
=======
>>>>>>> 3468665ca3 (wxGUI/datacatalog: fix setting output vector/raster format (#1596))
=======
>>>>>>> 7aeee7f0e9 (libpython: Support benchmarks of non-parallel runs better (#1733))
=======
>>>>>>> f9261b86c0 (wxGUI/datacatalog: fix setting output vector/raster format (#1596))
=======
>>>>>>> cb7d39cb66 (libpython: Support benchmarks of non-parallel runs better (#1733))
=======
>>>>>>> 16ac4aec37 (wxGUI/datacatalog: fix setting output vector/raster format (#1596))
=======
>>>>>>> 73a604b96c (libpython: Support benchmarks of non-parallel runs better (#1733))
=======
>>>>>>> 773ccfdfd3 (wxGUI/datacatalog: fix setting output vector/raster format (#1596))
=======
>>>>>>> 808f410679 (libpython: Support benchmarks of non-parallel runs better (#1733))
=======
>>>>>>> cef6c84d7f (wxGUI/datacatalog: fix setting output vector/raster format (#1596))
=======
>>>>>>> 5fbea63c8d (libpython: Support benchmarks of non-parallel runs better (#1733))
=======
>>>>>>> 98fd9cfdb5 (wxGUI/datacatalog: fix setting output vector/raster format (#1596))
=======
>>>>>>> 28bc5c68cb (libpython: Support benchmarks of non-parallel runs better (#1733))
=======
>>>>>>> cd0f28f571 (wxGUI/datacatalog: fix setting output vector/raster format (#1596))
=======
>>>>>>> 0fd8e61114 (libpython: Support benchmarks of non-parallel runs better (#1733))
=======
>>>>>>> 425a31d95b (wxGUI/datacatalog: fix setting output vector/raster format (#1596))
=======
>>>>>>> 9c4cb0749b (libpython: Support benchmarks of non-parallel runs better (#1733))
=======
>>>>>>> ea91af519a (wxGUI/datacatalog: fix setting output vector/raster format (#1596))
=======
>>>>>>> 2cf278b2b8 (libpython: Support benchmarks of non-parallel runs better (#1733))
=======
>>>>>>> c4d1702fe7 (wxGUI/datacatalog: fix setting output vector/raster format (#1596))
=======
>>>>>>> 4d38e4070b (libpython: Support benchmarks of non-parallel runs better (#1733))
<<<<<<< HEAD
>>>>>>> 3f42bae598 (libpython: Support benchmarks of non-parallel runs better (#1733))
=======
=======
>>>>>>> 7eeb1e86e5 (wxGUI/datacatalog: fix setting output vector/raster format (#1596))
<<<<<<< HEAD
>>>>>>> 0d97a989f6 (wxGUI/datacatalog: fix setting output vector/raster format (#1596))
=======
=======
>>>>>>> 97b8f7a849 (libpython: Support benchmarks of non-parallel runs better (#1733))
<<<<<<< HEAD
>>>>>>> 88accbfbad (libpython: Support benchmarks of non-parallel runs better (#1733))
=======
=======
>>>>>>> 946be2ff7b (wxGUI/datacatalog: fix setting output vector/raster format (#1596))
<<<<<<< HEAD
>>>>>>> 425a31d95b (wxGUI/datacatalog: fix setting output vector/raster format (#1596))
=======
=======
>>>>>>> 547913387f (libpython: Support benchmarks of non-parallel runs better (#1733))
>>>>>>> 9c4cb0749b (libpython: Support benchmarks of non-parallel runs better (#1733))
   "version": "3.8.10"
=======
   "version": "3.8.5"
>>>>>>> 584e61d06d (wxGUI/datacatalog: fix setting output vector/raster format (#1596))
=======
   "version": "3.8.5"
>>>>>>> 847046a031 (Add session initiations functions for Jupyter Notebooks (#1629))
=======
   "version": "3.8.10"
>>>>>>> ba3c0640fa (libpython: Support benchmarks of non-parallel runs better (#1733))
=======
   "version": "3.8.5"
>>>>>>> 793ee713c5 (wxGUI/datacatalog: fix setting output vector/raster format (#1596))
=======
   "version": "3.8.10"
>>>>>>> aae21b95f4 (libpython: Support benchmarks of non-parallel runs better (#1733))
=======
   "version": "3.8.5"
>>>>>>> b8162a916c (wxGUI/datacatalog: fix setting output vector/raster format (#1596))
=======
   "version": "3.8.10"
>>>>>>> 170fde8596 (libpython: Support benchmarks of non-parallel runs better (#1733))
=======
   "version": "3.8.5"
>>>>>>> a05b13298f (wxGUI/datacatalog: fix setting output vector/raster format (#1596))
=======
   "version": "3.8.10"
>>>>>>> ea17e86303 (libpython: Support benchmarks of non-parallel runs better (#1733))
=======
=======
>>>>>>> eda3ed4fd6 (libpython: Support benchmarks of non-parallel runs better (#1733))
>>>>>>> 824e32212e (libpython: Support benchmarks of non-parallel runs better (#1733))
   "version": "3.8.10"
=======
   "version": "3.8.5"
>>>>>>> 4625684fca (wxGUI/datacatalog: fix setting output vector/raster format (#1596))
<<<<<<< HEAD
=======
   "version": "3.8.10"
>>>>>>> 01a506d3d3 (libpython: Support benchmarks of non-parallel runs better (#1733))
=======
   "version": "3.8.10"
>>>>>>> osgeo-main
=======
   "version": "3.8.10"
>>>>>>> osgeo-main
=======
   "version": "3.8.5"
>>>>>>> 40118f6d63 (wxGUI/datacatalog: fix setting output vector/raster format (#1596))
=======
   "version": "3.8.10"
>>>>>>> a4624812dc (libpython: Support benchmarks of non-parallel runs better (#1733))
=======
<<<<<<< HEAD
   "version": "3.8.5"
>>>>>>> 9e134ec08d (wxGUI/datacatalog: fix setting output vector/raster format (#1596))
=======
   "version": "3.8.10"
>>>>>>> 434bf28e3d (libpython: Support benchmarks of non-parallel runs better (#1733))
=======
   "version": "3.8.10"
>>>>>>> osgeo-main
=======
   "version": "3.8.10"
>>>>>>> osgeo-main
>>>>>>> main
=======
   "version": "3.8.10"
>>>>>>> osgeo-main
=======
   "version": "3.8.10"
>>>>>>> osgeo-main
=======
   "version": "3.8.10"
>>>>>>> osgeo-main
=======
   "version": "3.8.10"
>>>>>>> osgeo-main
=======
   "version": "3.8.10"
>>>>>>> osgeo-main
=======
   "version": "3.8.10"
>>>>>>> osgeo-main
=======
   "version": "3.8.10"
>>>>>>> osgeo-main
=======
   "version": "3.8.10"
>>>>>>> osgeo-main
=======
   "version": "3.8.5"
>>>>>>> 05e3f88683 (wxGUI/datacatalog: fix setting output vector/raster format (#1596))
=======
   "version": "3.8.10"
>>>>>>> d3014fcc0b (libpython: Support benchmarks of non-parallel runs better (#1733))
=======
   "version": "3.8.10"
>>>>>>> osgeo-main
=======
   "version": "3.8.10"
>>>>>>> osgeo-main
=======
=======
>>>>>>> b53d4aed76 (Add session initiations functions for Jupyter Notebooks (#1629))
=======
>>>>>>> 0a00d6f9df (libpython: Support benchmarks of non-parallel runs better (#1733))
=======
>>>>>>> a09cd63835 (wxGUI/datacatalog: fix setting output vector/raster format (#1596))
=======
>>>>>>> c2d961e4a1 (libpython: Support benchmarks of non-parallel runs better (#1733))
=======
>>>>>>> 565c97946b (wxGUI/datacatalog: fix setting output vector/raster format (#1596))
=======
>>>>>>> 166e88ec39 (libpython: Support benchmarks of non-parallel runs better (#1733))
=======
>>>>>>> 150ef7b78e (wxGUI/datacatalog: fix setting output vector/raster format (#1596))
=======
>>>>>>> f6b704e2b3 (Merge branch 'a0x8o' into stag0)
=======
>>>>>>> 6f5fb4923c (wxGUI/datacatalog: fix setting output vector/raster format (#1596))
=======
>>>>>>> 962d13bfd3 (libpython: Support benchmarks of non-parallel runs better (#1733))
=======
>>>>>>> 3229dc2622 (wxGUI/datacatalog: fix setting output vector/raster format (#1596))
=======
>>>>>>> c1e96d556f (libpython: Support benchmarks of non-parallel runs better (#1733))
=======
>>>>>>> 9d1090ec82 (wxGUI/datacatalog: fix setting output vector/raster format (#1596))
=======
>>>>>>> 3bcef5e53e (libpython: Support benchmarks of non-parallel runs better (#1733))
=======
=======
>>>>>>> c4d1702fe7 (wxGUI/datacatalog: fix setting output vector/raster format (#1596))
>>>>>>> 83a2bf0c85 (wxGUI/datacatalog: fix setting output vector/raster format (#1596))
=======
=======
>>>>>>> 19273bf354 (wxGUI/datacatalog: fix setting output vector/raster format (#1596))
=======
>>>>>>> b8b0054745 (libpython: Support benchmarks of non-parallel runs better (#1733))
=======
>>>>>>> deaca750c4 (wxGUI/datacatalog: fix setting output vector/raster format (#1596))
=======
>>>>>>> 057765b894 (libpython: Support benchmarks of non-parallel runs better (#1733))
=======
>>>>>>> 4ea1bcfd13 (wxGUI/datacatalog: fix setting output vector/raster format (#1596))
=======
>>>>>>> 949d58a435 (libpython: Support benchmarks of non-parallel runs better (#1733))
=======
>>>>>>> d2b40d15ca (wxGUI/datacatalog: fix setting output vector/raster format (#1596))
=======
>>>>>>> 81ee4cdfd6 (libpython: Support benchmarks of non-parallel runs better (#1733))
=======
>>>>>>> 667b6aa79a (wxGUI/datacatalog: fix setting output vector/raster format (#1596))
=======
>>>>>>> 63045de622 (libpython: Support benchmarks of non-parallel runs better (#1733))
=======
>>>>>>> e4f4950cae (wxGUI/datacatalog: fix setting output vector/raster format (#1596))
=======
>>>>>>> fb1415d5b7 (libpython: Support benchmarks of non-parallel runs better (#1733))
=======
>>>>>>> d3be45bfb5 (wxGUI/datacatalog: fix setting output vector/raster format (#1596))
=======
>>>>>>> 5a369c18ab (libpython: Support benchmarks of non-parallel runs better (#1733))
=======
>>>>>>> 744c99be79 (wxGUI/datacatalog: fix setting output vector/raster format (#1596))
=======
>>>>>>> 8e09c28a9a (libpython: Support benchmarks of non-parallel runs better (#1733))
=======
>>>>>>> 024f004a0e (wxGUI/datacatalog: fix setting output vector/raster format (#1596))
=======
>>>>>>> ff508b1907 (libpython: Support benchmarks of non-parallel runs better (#1733))
=======
>>>>>>> 724bccdb58 (wxGUI/datacatalog: fix setting output vector/raster format (#1596))
=======
>>>>>>> 479bcc2525 (libpython: Support benchmarks of non-parallel runs better (#1733))
=======
>>>>>>> e502e3849e (wxGUI/datacatalog: fix setting output vector/raster format (#1596))
=======
>>>>>>> a5bc7458b9 (libpython: Support benchmarks of non-parallel runs better (#1733))
=======
>>>>>>> 1eade8c933 (wxGUI/datacatalog: fix setting output vector/raster format (#1596))
=======
>>>>>>> 86d855a90b (libpython: Support benchmarks of non-parallel runs better (#1733))
=======
>>>>>>> e2b92fe11f (wxGUI/datacatalog: fix setting output vector/raster format (#1596))
=======
>>>>>>> aada9378f8 (libpython: Support benchmarks of non-parallel runs better (#1733))
=======
>>>>>>> 073da2916c (wxGUI/datacatalog: fix setting output vector/raster format (#1596))
=======
>>>>>>> de0e6aa50e (libpython: Support benchmarks of non-parallel runs better (#1733))
=======
>>>>>>> c4d1702fe7 (wxGUI/datacatalog: fix setting output vector/raster format (#1596))
=======
>>>>>>> 4d38e4070b (libpython: Support benchmarks of non-parallel runs better (#1733))
<<<<<<< HEAD
>>>>>>> 21cac8ec4f (libpython: Support benchmarks of non-parallel runs better (#1733))
=======
=======
>>>>>>> 7eeb1e86e5 (wxGUI/datacatalog: fix setting output vector/raster format (#1596))
<<<<<<< HEAD
>>>>>>> 19273bf354 (wxGUI/datacatalog: fix setting output vector/raster format (#1596))
=======
=======
>>>>>>> 97b8f7a849 (libpython: Support benchmarks of non-parallel runs better (#1733))
<<<<<<< HEAD
>>>>>>> b8b0054745 (libpython: Support benchmarks of non-parallel runs better (#1733))
=======
=======
>>>>>>> 946be2ff7b (wxGUI/datacatalog: fix setting output vector/raster format (#1596))
<<<<<<< HEAD
>>>>>>> 1eade8c933 (wxGUI/datacatalog: fix setting output vector/raster format (#1596))
=======
=======
>>>>>>> 547913387f (libpython: Support benchmarks of non-parallel runs better (#1733))
>>>>>>> 86d855a90b (libpython: Support benchmarks of non-parallel runs better (#1733))
=======
>>>>>>> 6ce1bc9e11 (Add session initiations functions for Jupyter Notebooks (#1629))
=======
>>>>>>> 2ba4dbc7e5 (libpython: Support benchmarks of non-parallel runs better (#1733))
=======
>>>>>>> 836a40382b (wxGUI/datacatalog: fix setting output vector/raster format (#1596))
=======
>>>>>>> 85e622234d (libpython: Support benchmarks of non-parallel runs better (#1733))
=======
>>>>>>> 75ca885908 (wxGUI/datacatalog: fix setting output vector/raster format (#1596))
=======
>>>>>>> 7393c080aa (libpython: Support benchmarks of non-parallel runs better (#1733))
=======
>>>>>>> 08a756738c (wxGUI/datacatalog: fix setting output vector/raster format (#1596))
=======
>>>>>>> 3e81947fcf (Merge branch 'a0x8o' into stag0)
=======
>>>>>>> 756f105374 (wxGUI/datacatalog: fix setting output vector/raster format (#1596))
   "version": "3.8.10"
=======
   "version": "3.8.5"
>>>>>>> 584e61d06d (wxGUI/datacatalog: fix setting output vector/raster format (#1596))
<<<<<<< HEAD
<<<<<<< HEAD
>>>>>>> 1cb35c2fc8 (wxGUI/datacatalog: fix setting output vector/raster format (#1596))
=======
=======
   "version": "3.8.5"
>>>>>>> 847046a031 (Add session initiations functions for Jupyter Notebooks (#1629))
<<<<<<< HEAD
<<<<<<< HEAD
>>>>>>> b53d4aed76 (Add session initiations functions for Jupyter Notebooks (#1629))
=======
=======
   "version": "3.8.10"
>>>>>>> ba3c0640fa (libpython: Support benchmarks of non-parallel runs better (#1733))
<<<<<<< HEAD
<<<<<<< HEAD
>>>>>>> 0a00d6f9df (libpython: Support benchmarks of non-parallel runs better (#1733))
=======
=======
   "version": "3.8.5"
>>>>>>> 793ee713c5 (wxGUI/datacatalog: fix setting output vector/raster format (#1596))
<<<<<<< HEAD
<<<<<<< HEAD
>>>>>>> a09cd63835 (wxGUI/datacatalog: fix setting output vector/raster format (#1596))
=======
=======
   "version": "3.8.10"
>>>>>>> aae21b95f4 (libpython: Support benchmarks of non-parallel runs better (#1733))
<<<<<<< HEAD
<<<<<<< HEAD
>>>>>>> c2d961e4a1 (libpython: Support benchmarks of non-parallel runs better (#1733))
=======
=======
   "version": "3.8.5"
>>>>>>> b8162a916c (wxGUI/datacatalog: fix setting output vector/raster format (#1596))
<<<<<<< HEAD
<<<<<<< HEAD
>>>>>>> 565c97946b (wxGUI/datacatalog: fix setting output vector/raster format (#1596))
=======
=======
   "version": "3.8.10"
>>>>>>> 170fde8596 (libpython: Support benchmarks of non-parallel runs better (#1733))
<<<<<<< HEAD
<<<<<<< HEAD
>>>>>>> 166e88ec39 (libpython: Support benchmarks of non-parallel runs better (#1733))
=======
=======
   "version": "3.8.5"
>>>>>>> a05b13298f (wxGUI/datacatalog: fix setting output vector/raster format (#1596))
<<<<<<< HEAD
<<<<<<< HEAD
>>>>>>> 150ef7b78e (wxGUI/datacatalog: fix setting output vector/raster format (#1596))
=======
=======
   "version": "3.8.10"
>>>>>>> ea17e86303 (libpython: Support benchmarks of non-parallel runs better (#1733))
<<<<<<< HEAD
<<<<<<< HEAD
>>>>>>> f6b704e2b3 (Merge branch 'a0x8o' into stag0)
=======
=======
=======
>>>>>>> eda3ed4fd6 (libpython: Support benchmarks of non-parallel runs better (#1733))
=======
=======
>>>>>>> 756f105374 (wxGUI/datacatalog: fix setting output vector/raster format (#1596))
   "version": "3.8.10"
=======
   "version": "3.8.5"
>>>>>>> 4625684fca (wxGUI/datacatalog: fix setting output vector/raster format (#1596))
<<<<<<< HEAD
<<<<<<< HEAD
>>>>>>> 6433ad1296 (wxGUI/datacatalog: fix setting output vector/raster format (#1596))
<<<<<<< HEAD
>>>>>>> 6f5fb4923c (wxGUI/datacatalog: fix setting output vector/raster format (#1596))
=======
=======
<<<<<<< HEAD
>>>>>>> 6433ad1296 (wxGUI/datacatalog: fix setting output vector/raster format (#1596))
>>>>>>> 824e32212e (libpython: Support benchmarks of non-parallel runs better (#1733))
=======
=======
   "version": "3.8.10"
>>>>>>> 01a506d3d3 (libpython: Support benchmarks of non-parallel runs better (#1733))
>>>>>>> eda3ed4fd6 (libpython: Support benchmarks of non-parallel runs better (#1733))
<<<<<<< HEAD
<<<<<<< HEAD
<<<<<<< HEAD
>>>>>>> 962d13bfd3 (libpython: Support benchmarks of non-parallel runs better (#1733))
=======
=======
   "version": "3.8.5"
>>>>>>> 4625684fca (wxGUI/datacatalog: fix setting output vector/raster format (#1596))
<<<<<<< HEAD
<<<<<<< HEAD
>>>>>>> 3229dc2622 (wxGUI/datacatalog: fix setting output vector/raster format (#1596))
=======
=======
   "version": "3.8.10"
>>>>>>> 01a506d3d3 (libpython: Support benchmarks of non-parallel runs better (#1733))
<<<<<<< HEAD
<<<<<<< HEAD
>>>>>>> c1e96d556f (libpython: Support benchmarks of non-parallel runs better (#1733))
=======
=======
   "version": "3.8.5"
>>>>>>> 02f32ae2d4 (wxGUI/datacatalog: fix setting output vector/raster format (#1596))
<<<<<<< HEAD
<<<<<<< HEAD
>>>>>>> 9d1090ec82 (wxGUI/datacatalog: fix setting output vector/raster format (#1596))
=======
=======
   "version": "3.8.10"
<<<<<<< HEAD
>>>>>>> d23d575d0e (libpython: Support benchmarks of non-parallel runs better (#1733))
<<<<<<< HEAD
>>>>>>> 3bcef5e53e (libpython: Support benchmarks of non-parallel runs better (#1733))
=======
=======
>>>>>>> osgeo-main
=======
   "version": "3.8.5"
>>>>>>> 40118f6d63 (wxGUI/datacatalog: fix setting output vector/raster format (#1596))
<<<<<<< HEAD
>>>>>>> c4d1702fe7 (wxGUI/datacatalog: fix setting output vector/raster format (#1596))
<<<<<<< HEAD
>>>>>>> 83a2bf0c85 (wxGUI/datacatalog: fix setting output vector/raster format (#1596))
=======
=======
=======
   "version": "3.8.10"
>>>>>>> a4624812dc (libpython: Support benchmarks of non-parallel runs better (#1733))
<<<<<<< HEAD
>>>>>>> 4d38e4070b (libpython: Support benchmarks of non-parallel runs better (#1733))
<<<<<<< HEAD
>>>>>>> 21cac8ec4f (libpython: Support benchmarks of non-parallel runs better (#1733))
=======
=======
=======
   "version": "3.8.5"
>>>>>>> 9e134ec08d (wxGUI/datacatalog: fix setting output vector/raster format (#1596))
<<<<<<< HEAD
>>>>>>> 7eeb1e86e5 (wxGUI/datacatalog: fix setting output vector/raster format (#1596))
<<<<<<< HEAD
>>>>>>> 19273bf354 (wxGUI/datacatalog: fix setting output vector/raster format (#1596))
=======
=======
=======
   "version": "3.8.10"
>>>>>>> 434bf28e3d (libpython: Support benchmarks of non-parallel runs better (#1733))
>>>>>>> 97b8f7a849 (libpython: Support benchmarks of non-parallel runs better (#1733))
<<<<<<< HEAD
<<<<<<< HEAD
>>>>>>> b8b0054745 (libpython: Support benchmarks of non-parallel runs better (#1733))
=======
=======
   "version": "3.8.5"
>>>>>>> 9e134ec08d (wxGUI/datacatalog: fix setting output vector/raster format (#1596))
<<<<<<< HEAD
<<<<<<< HEAD
>>>>>>> deaca750c4 (wxGUI/datacatalog: fix setting output vector/raster format (#1596))
=======
=======
   "version": "3.8.10"
>>>>>>> 434bf28e3d (libpython: Support benchmarks of non-parallel runs better (#1733))
<<<<<<< HEAD
<<<<<<< HEAD
>>>>>>> 057765b894 (libpython: Support benchmarks of non-parallel runs better (#1733))
=======
=======
   "version": "3.8.5"
>>>>>>> 75f1063afc (wxGUI/datacatalog: fix setting output vector/raster format (#1596))
<<<<<<< HEAD
<<<<<<< HEAD
>>>>>>> 4ea1bcfd13 (wxGUI/datacatalog: fix setting output vector/raster format (#1596))
=======
=======
   "version": "3.8.10"
>>>>>>> 1691c94d89 (libpython: Support benchmarks of non-parallel runs better (#1733))
<<<<<<< HEAD
<<<<<<< HEAD
>>>>>>> 949d58a435 (libpython: Support benchmarks of non-parallel runs better (#1733))
=======
=======
   "version": "3.8.5"
>>>>>>> b479d694c0 (wxGUI/datacatalog: fix setting output vector/raster format (#1596))
<<<<<<< HEAD
<<<<<<< HEAD
>>>>>>> d2b40d15ca (wxGUI/datacatalog: fix setting output vector/raster format (#1596))
=======
=======
   "version": "3.8.10"
>>>>>>> 94090db73c (libpython: Support benchmarks of non-parallel runs better (#1733))
<<<<<<< HEAD
<<<<<<< HEAD
>>>>>>> 81ee4cdfd6 (libpython: Support benchmarks of non-parallel runs better (#1733))
=======
=======
   "version": "3.8.5"
>>>>>>> 8b762d062b (wxGUI/datacatalog: fix setting output vector/raster format (#1596))
<<<<<<< HEAD
<<<<<<< HEAD
>>>>>>> 667b6aa79a (wxGUI/datacatalog: fix setting output vector/raster format (#1596))
=======
=======
   "version": "3.8.10"
>>>>>>> da95805ca1 (libpython: Support benchmarks of non-parallel runs better (#1733))
<<<<<<< HEAD
<<<<<<< HEAD
>>>>>>> 63045de622 (libpython: Support benchmarks of non-parallel runs better (#1733))
=======
=======
   "version": "3.8.5"
>>>>>>> b621c8b780 (wxGUI/datacatalog: fix setting output vector/raster format (#1596))
<<<<<<< HEAD
<<<<<<< HEAD
>>>>>>> e4f4950cae (wxGUI/datacatalog: fix setting output vector/raster format (#1596))
=======
=======
   "version": "3.8.10"
>>>>>>> 2a88dad128 (libpython: Support benchmarks of non-parallel runs better (#1733))
<<<<<<< HEAD
<<<<<<< HEAD
>>>>>>> fb1415d5b7 (libpython: Support benchmarks of non-parallel runs better (#1733))
=======
=======
   "version": "3.8.5"
>>>>>>> 2942a2fdfb (wxGUI/datacatalog: fix setting output vector/raster format (#1596))
<<<<<<< HEAD
<<<<<<< HEAD
>>>>>>> d3be45bfb5 (wxGUI/datacatalog: fix setting output vector/raster format (#1596))
=======
=======
   "version": "3.8.10"
>>>>>>> bcd8260293 (libpython: Support benchmarks of non-parallel runs better (#1733))
<<<<<<< HEAD
<<<<<<< HEAD
>>>>>>> 5a369c18ab (libpython: Support benchmarks of non-parallel runs better (#1733))
=======
=======
   "version": "3.8.5"
>>>>>>> 9051310ffd (wxGUI/datacatalog: fix setting output vector/raster format (#1596))
<<<<<<< HEAD
<<<<<<< HEAD
>>>>>>> 744c99be79 (wxGUI/datacatalog: fix setting output vector/raster format (#1596))
=======
=======
   "version": "3.8.10"
>>>>>>> 58f65d161b (libpython: Support benchmarks of non-parallel runs better (#1733))
<<<<<<< HEAD
<<<<<<< HEAD
>>>>>>> 8e09c28a9a (libpython: Support benchmarks of non-parallel runs better (#1733))
=======
=======
   "version": "3.8.5"
>>>>>>> 510052984c (wxGUI/datacatalog: fix setting output vector/raster format (#1596))
<<<<<<< HEAD
<<<<<<< HEAD
>>>>>>> 024f004a0e (wxGUI/datacatalog: fix setting output vector/raster format (#1596))
=======
=======
   "version": "3.8.10"
>>>>>>> 196a20892e (libpython: Support benchmarks of non-parallel runs better (#1733))
<<<<<<< HEAD
<<<<<<< HEAD
>>>>>>> ff508b1907 (libpython: Support benchmarks of non-parallel runs better (#1733))
=======
=======
   "version": "3.8.5"
>>>>>>> 095dc4def6 (wxGUI/datacatalog: fix setting output vector/raster format (#1596))
<<<<<<< HEAD
<<<<<<< HEAD
>>>>>>> 724bccdb58 (wxGUI/datacatalog: fix setting output vector/raster format (#1596))
=======
=======
   "version": "3.8.10"
>>>>>>> 2e712c25e8 (libpython: Support benchmarks of non-parallel runs better (#1733))
<<<<<<< HEAD
<<<<<<< HEAD
>>>>>>> 479bcc2525 (libpython: Support benchmarks of non-parallel runs better (#1733))
=======
=======
   "version": "3.8.5"
>>>>>>> 45a066d418 (wxGUI/datacatalog: fix setting output vector/raster format (#1596))
<<<<<<< HEAD
<<<<<<< HEAD
>>>>>>> e502e3849e (wxGUI/datacatalog: fix setting output vector/raster format (#1596))
=======
=======
   "version": "3.8.10"
<<<<<<< HEAD
>>>>>>> 84a0683221 (libpython: Support benchmarks of non-parallel runs better (#1733))
<<<<<<< HEAD
>>>>>>> a5bc7458b9 (libpython: Support benchmarks of non-parallel runs better (#1733))
=======
=======
>>>>>>> osgeo-main
=======
   "version": "3.8.5"
>>>>>>> 05e3f88683 (wxGUI/datacatalog: fix setting output vector/raster format (#1596))
<<<<<<< HEAD
>>>>>>> 946be2ff7b (wxGUI/datacatalog: fix setting output vector/raster format (#1596))
<<<<<<< HEAD
>>>>>>> 1eade8c933 (wxGUI/datacatalog: fix setting output vector/raster format (#1596))
=======
=======
=======
   "version": "3.8.10"
>>>>>>> d3014fcc0b (libpython: Support benchmarks of non-parallel runs better (#1733))
>>>>>>> 547913387f (libpython: Support benchmarks of non-parallel runs better (#1733))
<<<<<<< HEAD
<<<<<<< HEAD
>>>>>>> 86d855a90b (libpython: Support benchmarks of non-parallel runs better (#1733))
=======
=======
   "version": "3.8.5"
>>>>>>> fa3a181fb0 (wxGUI/datacatalog: fix setting output vector/raster format (#1596))
<<<<<<< HEAD
<<<<<<< HEAD
>>>>>>> e2b92fe11f (wxGUI/datacatalog: fix setting output vector/raster format (#1596))
=======
=======
   "version": "3.8.10"
>>>>>>> 9deecba858 (libpython: Support benchmarks of non-parallel runs better (#1733))
<<<<<<< HEAD
>>>>>>> aada9378f8 (libpython: Support benchmarks of non-parallel runs better (#1733))
=======
=======
   "version": "3.8.5"
>>>>>>> bd71b111b3 (wxGUI/datacatalog: fix setting output vector/raster format (#1596))
<<<<<<< HEAD
>>>>>>> 073da2916c (wxGUI/datacatalog: fix setting output vector/raster format (#1596))
=======
=======
   "version": "3.8.10"
>>>>>>> 1b9dd510b7 (libpython: Support benchmarks of non-parallel runs better (#1733))
>>>>>>> de0e6aa50e (libpython: Support benchmarks of non-parallel runs better (#1733))
=======
   "version": "3.8.10"
=======
   "version": "3.8.5"
>>>>>>> 584e61d06d (wxGUI/datacatalog: fix setting output vector/raster format (#1596))
>>>>>>> 07fcd460d0 (wxGUI/datacatalog: fix setting output vector/raster format (#1596))
=======
=======
   "version": "3.8.5"
>>>>>>> 847046a031 (Add session initiations functions for Jupyter Notebooks (#1629))
>>>>>>> 6ce1bc9e11 (Add session initiations functions for Jupyter Notebooks (#1629))
=======
=======
   "version": "3.8.10"
>>>>>>> ba3c0640fa (libpython: Support benchmarks of non-parallel runs better (#1733))
>>>>>>> 2ba4dbc7e5 (libpython: Support benchmarks of non-parallel runs better (#1733))
=======
=======
   "version": "3.8.5"
>>>>>>> 793ee713c5 (wxGUI/datacatalog: fix setting output vector/raster format (#1596))
>>>>>>> 836a40382b (wxGUI/datacatalog: fix setting output vector/raster format (#1596))
=======
=======
   "version": "3.8.10"
>>>>>>> aae21b95f4 (libpython: Support benchmarks of non-parallel runs better (#1733))
>>>>>>> 85e622234d (libpython: Support benchmarks of non-parallel runs better (#1733))
=======
=======
   "version": "3.8.5"
>>>>>>> b8162a916c (wxGUI/datacatalog: fix setting output vector/raster format (#1596))
>>>>>>> 75ca885908 (wxGUI/datacatalog: fix setting output vector/raster format (#1596))
=======
=======
   "version": "3.8.10"
>>>>>>> 170fde8596 (libpython: Support benchmarks of non-parallel runs better (#1733))
>>>>>>> 7393c080aa (libpython: Support benchmarks of non-parallel runs better (#1733))
=======
=======
   "version": "3.8.5"
>>>>>>> a05b13298f (wxGUI/datacatalog: fix setting output vector/raster format (#1596))
>>>>>>> 08a756738c (wxGUI/datacatalog: fix setting output vector/raster format (#1596))
=======
=======
   "version": "3.8.10"
>>>>>>> ea17e86303 (libpython: Support benchmarks of non-parallel runs better (#1733))
>>>>>>> 3e81947fcf (Merge branch 'a0x8o' into stag0)
=======
>>>>>>> 6433ad1296 (wxGUI/datacatalog: fix setting output vector/raster format (#1596))
>>>>>>> 756f105374 (wxGUI/datacatalog: fix setting output vector/raster format (#1596))
=======
>>>>>>> 824e32212e (libpython: Support benchmarks of non-parallel runs better (#1733))
=======
=======
   "version": "3.8.5"
>>>>>>> 4625684fca (wxGUI/datacatalog: fix setting output vector/raster format (#1596))
>>>>>>> 855503a984 (wxGUI/datacatalog: fix setting output vector/raster format (#1596))
=======
=======
   "version": "3.8.10"
>>>>>>> 01a506d3d3 (libpython: Support benchmarks of non-parallel runs better (#1733))
>>>>>>> dad564ed48 (libpython: Support benchmarks of non-parallel runs better (#1733))
=======
=======
   "version": "3.8.5"
>>>>>>> 02f32ae2d4 (wxGUI/datacatalog: fix setting output vector/raster format (#1596))
>>>>>>> b4f1490ce2 (wxGUI/datacatalog: fix setting output vector/raster format (#1596))
=======
=======
   "version": "3.8.10"
<<<<<<< HEAD
>>>>>>> d23d575d0e (libpython: Support benchmarks of non-parallel runs better (#1733))
<<<<<<< HEAD
>>>>>>> 256f5d81a6 (libpython: Support benchmarks of non-parallel runs better (#1733))
=======
=======
>>>>>>> osgeo-main
=======
   "version": "3.8.5"
>>>>>>> 40118f6d63 (wxGUI/datacatalog: fix setting output vector/raster format (#1596))
<<<<<<< HEAD
>>>>>>> c4d1702fe7 (wxGUI/datacatalog: fix setting output vector/raster format (#1596))
<<<<<<< HEAD
>>>>>>> 4566710e5b (wxGUI/datacatalog: fix setting output vector/raster format (#1596))
=======
=======
=======
   "version": "3.8.10"
>>>>>>> a4624812dc (libpython: Support benchmarks of non-parallel runs better (#1733))
<<<<<<< HEAD
>>>>>>> 4d38e4070b (libpython: Support benchmarks of non-parallel runs better (#1733))
<<<<<<< HEAD
>>>>>>> 3f42bae598 (libpython: Support benchmarks of non-parallel runs better (#1733))
=======
=======
=======
   "version": "3.8.5"
>>>>>>> 9e134ec08d (wxGUI/datacatalog: fix setting output vector/raster format (#1596))
<<<<<<< HEAD
>>>>>>> 7eeb1e86e5 (wxGUI/datacatalog: fix setting output vector/raster format (#1596))
<<<<<<< HEAD
>>>>>>> 0d97a989f6 (wxGUI/datacatalog: fix setting output vector/raster format (#1596))
=======
=======
=======
   "version": "3.8.10"
>>>>>>> 434bf28e3d (libpython: Support benchmarks of non-parallel runs better (#1733))
>>>>>>> 97b8f7a849 (libpython: Support benchmarks of non-parallel runs better (#1733))
>>>>>>> 88accbfbad (libpython: Support benchmarks of non-parallel runs better (#1733))
=======
=======
   "version": "3.8.5"
>>>>>>> 9e134ec08d (wxGUI/datacatalog: fix setting output vector/raster format (#1596))
>>>>>>> fa7df22047 (wxGUI/datacatalog: fix setting output vector/raster format (#1596))
=======
=======
   "version": "3.8.10"
>>>>>>> 434bf28e3d (libpython: Support benchmarks of non-parallel runs better (#1733))
>>>>>>> d4bec80a1c (libpython: Support benchmarks of non-parallel runs better (#1733))
=======
=======
   "version": "3.8.5"
>>>>>>> 75f1063afc (wxGUI/datacatalog: fix setting output vector/raster format (#1596))
>>>>>>> 73c280b8c6 (wxGUI/datacatalog: fix setting output vector/raster format (#1596))
=======
=======
   "version": "3.8.10"
>>>>>>> 1691c94d89 (libpython: Support benchmarks of non-parallel runs better (#1733))
>>>>>>> c41f2eb779 (libpython: Support benchmarks of non-parallel runs better (#1733))
=======
=======
   "version": "3.8.5"
>>>>>>> b479d694c0 (wxGUI/datacatalog: fix setting output vector/raster format (#1596))
>>>>>>> d0b3ffd998 (wxGUI/datacatalog: fix setting output vector/raster format (#1596))
=======
=======
   "version": "3.8.10"
>>>>>>> 94090db73c (libpython: Support benchmarks of non-parallel runs better (#1733))
>>>>>>> 6ce1ce4c0e (libpython: Support benchmarks of non-parallel runs better (#1733))
=======
=======
   "version": "3.8.5"
>>>>>>> 8b762d062b (wxGUI/datacatalog: fix setting output vector/raster format (#1596))
>>>>>>> 3468665ca3 (wxGUI/datacatalog: fix setting output vector/raster format (#1596))
=======
=======
   "version": "3.8.10"
>>>>>>> da95805ca1 (libpython: Support benchmarks of non-parallel runs better (#1733))
>>>>>>> 7aeee7f0e9 (libpython: Support benchmarks of non-parallel runs better (#1733))
=======
=======
   "version": "3.8.5"
>>>>>>> b621c8b780 (wxGUI/datacatalog: fix setting output vector/raster format (#1596))
>>>>>>> f9261b86c0 (wxGUI/datacatalog: fix setting output vector/raster format (#1596))
=======
=======
   "version": "3.8.10"
>>>>>>> 2a88dad128 (libpython: Support benchmarks of non-parallel runs better (#1733))
>>>>>>> cb7d39cb66 (libpython: Support benchmarks of non-parallel runs better (#1733))
=======
=======
   "version": "3.8.5"
>>>>>>> 2942a2fdfb (wxGUI/datacatalog: fix setting output vector/raster format (#1596))
>>>>>>> 16ac4aec37 (wxGUI/datacatalog: fix setting output vector/raster format (#1596))
=======
=======
   "version": "3.8.10"
>>>>>>> bcd8260293 (libpython: Support benchmarks of non-parallel runs better (#1733))
>>>>>>> 73a604b96c (libpython: Support benchmarks of non-parallel runs better (#1733))
=======
=======
   "version": "3.8.5"
>>>>>>> 9051310ffd (wxGUI/datacatalog: fix setting output vector/raster format (#1596))
>>>>>>> 773ccfdfd3 (wxGUI/datacatalog: fix setting output vector/raster format (#1596))
=======
=======
   "version": "3.8.10"
>>>>>>> 58f65d161b (libpython: Support benchmarks of non-parallel runs better (#1733))
>>>>>>> 808f410679 (libpython: Support benchmarks of non-parallel runs better (#1733))
=======
=======
   "version": "3.8.5"
>>>>>>> 510052984c (wxGUI/datacatalog: fix setting output vector/raster format (#1596))
>>>>>>> cef6c84d7f (wxGUI/datacatalog: fix setting output vector/raster format (#1596))
=======
=======
   "version": "3.8.10"
>>>>>>> 196a20892e (libpython: Support benchmarks of non-parallel runs better (#1733))
>>>>>>> 5fbea63c8d (libpython: Support benchmarks of non-parallel runs better (#1733))
=======
=======
   "version": "3.8.5"
>>>>>>> 095dc4def6 (wxGUI/datacatalog: fix setting output vector/raster format (#1596))
>>>>>>> 98fd9cfdb5 (wxGUI/datacatalog: fix setting output vector/raster format (#1596))
=======
=======
   "version": "3.8.10"
>>>>>>> 2e712c25e8 (libpython: Support benchmarks of non-parallel runs better (#1733))
>>>>>>> 28bc5c68cb (libpython: Support benchmarks of non-parallel runs better (#1733))
=======
=======
   "version": "3.8.5"
>>>>>>> 45a066d418 (wxGUI/datacatalog: fix setting output vector/raster format (#1596))
>>>>>>> cd0f28f571 (wxGUI/datacatalog: fix setting output vector/raster format (#1596))
=======
=======
   "version": "3.8.10"
<<<<<<< HEAD
>>>>>>> 84a0683221 (libpython: Support benchmarks of non-parallel runs better (#1733))
<<<<<<< HEAD
>>>>>>> 0fd8e61114 (libpython: Support benchmarks of non-parallel runs better (#1733))
=======
=======
>>>>>>> osgeo-main
=======
   "version": "3.8.5"
>>>>>>> 05e3f88683 (wxGUI/datacatalog: fix setting output vector/raster format (#1596))
<<<<<<< HEAD
>>>>>>> 946be2ff7b (wxGUI/datacatalog: fix setting output vector/raster format (#1596))
<<<<<<< HEAD
>>>>>>> 425a31d95b (wxGUI/datacatalog: fix setting output vector/raster format (#1596))
=======
=======
=======
   "version": "3.8.10"
>>>>>>> d3014fcc0b (libpython: Support benchmarks of non-parallel runs better (#1733))
>>>>>>> 547913387f (libpython: Support benchmarks of non-parallel runs better (#1733))
>>>>>>> 9c4cb0749b (libpython: Support benchmarks of non-parallel runs better (#1733))
=======
=======
   "version": "3.8.5"
>>>>>>> fa3a181fb0 (wxGUI/datacatalog: fix setting output vector/raster format (#1596))
>>>>>>> ea91af519a (wxGUI/datacatalog: fix setting output vector/raster format (#1596))
=======
=======
   "version": "3.8.10"
>>>>>>> 9deecba858 (libpython: Support benchmarks of non-parallel runs better (#1733))
>>>>>>> 2cf278b2b8 (libpython: Support benchmarks of non-parallel runs better (#1733))
  }
 },
 "nbformat": 4,
 "nbformat_minor": 4
}
