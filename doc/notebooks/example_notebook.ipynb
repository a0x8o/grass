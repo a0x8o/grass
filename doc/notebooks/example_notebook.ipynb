{
<<<<<<< HEAD
<<<<<<< HEAD
<<<<<<< HEAD
<<<<<<< HEAD
<<<<<<< HEAD
<<<<<<< HEAD
<<<<<<< HEAD
<<<<<<< HEAD
<<<<<<< HEAD
<<<<<<< HEAD
<<<<<<< HEAD
<<<<<<< HEAD
<<<<<<< HEAD
<<<<<<< HEAD
<<<<<<< HEAD
<<<<<<< HEAD
<<<<<<< HEAD
<<<<<<< HEAD
<<<<<<< HEAD
<<<<<<< HEAD
<<<<<<< HEAD
<<<<<<< HEAD
<<<<<<< HEAD
<<<<<<< HEAD
<<<<<<< HEAD
<<<<<<< HEAD
<<<<<<< HEAD
<<<<<<< HEAD
<<<<<<< HEAD
<<<<<<< HEAD
<<<<<<< HEAD
<<<<<<< HEAD
<<<<<<< HEAD
<<<<<<< HEAD
<<<<<<< HEAD
<<<<<<< HEAD
<<<<<<< HEAD
<<<<<<< HEAD
<<<<<<< HEAD
<<<<<<< HEAD
<<<<<<< HEAD
<<<<<<< HEAD
<<<<<<< HEAD
<<<<<<< HEAD
<<<<<<< HEAD
<<<<<<< HEAD
<<<<<<< HEAD
<<<<<<< HEAD
<<<<<<< HEAD
<<<<<<< HEAD
<<<<<<< HEAD
<<<<<<< HEAD
<<<<<<< HEAD
<<<<<<< HEAD
<<<<<<< HEAD
<<<<<<< HEAD
<<<<<<< HEAD
<<<<<<< HEAD
<<<<<<< HEAD
<<<<<<< HEAD
<<<<<<< HEAD
<<<<<<< HEAD
<<<<<<< HEAD
<<<<<<< HEAD
=======
<<<<<<< HEAD
>>>>>>> main
=======
>>>>>>> 72f0d278b2 (Add Binder badge/button to readme (#1628))
=======
>>>>>>> 8500c8720e (Add Binder badge/button to readme (#1628))
=======
>>>>>>> ac15d23554 (Add Binder badge/button to readme (#1628))
=======
>>>>>>> 118a90ef8b (Add Binder badge/button to readme (#1628))
=======
>>>>>>> ee5e000e2b (Add Binder badge/button to readme (#1628))
=======
>>>>>>> 2c51b13e9f (Add Binder badge/button to readme (#1628))
=======
>>>>>>> f8951eb271 (Add Binder badge/button to readme (#1628))
=======
>>>>>>> 0902609bfc (Add Binder badge/button to readme (#1628))
=======
>>>>>>> e13cd54a0f (Add Binder badge/button to readme (#1628))
=======
>>>>>>> df12705265 (Add Binder badge/button to readme (#1628))
=======
>>>>>>> 00859ebcd4 (Add Binder badge/button to readme (#1628))
=======
>>>>>>> aa9c0bff66 (Add Binder badge/button to readme (#1628))
=======
>>>>>>> 7c76b7f7c0 (Add Binder badge/button to readme (#1628))
=======
>>>>>>> 4db983de69 (Add Binder badge/button to readme (#1628))
=======
>>>>>>> ce49542432 (Add Binder badge/button to readme (#1628))
=======
>>>>>>> bf116f53b0 (Add Binder badge/button to readme (#1628))
=======
>>>>>>> 0a9ba2e3fa (Add Binder badge/button to readme (#1628))
=======
=======
>>>>>>> bc8c26248b (Add Binder badge/button to readme (#1628))
=======
>>>>>>> d378f4420b (Add Binder badge/button to readme (#1628))
=======
<<<<<<< HEAD
=======
>>>>>>> 855c626fb4 (Add Binder badge/button to readme (#1628))
<<<<<<< HEAD
>>>>>>> ef1baf1027 (Add Binder badge/button to readme (#1628))
 "cells": [
  {
   "cell_type": "markdown",
   "metadata": {},
=======
=======
<<<<<<< HEAD
>>>>>>> osgeo-main
=======
>>>>>>> osgeo-main
=======
>>>>>>> d7010890e1 (Add Binder badge/button to readme (#1628))
=======
>>>>>>> osgeo-main
=======
>>>>>>> osgeo-main
=======
>>>>>>> 58e6f5060a (Add Binder badge/button to readme (#1628))
=======
<<<<<<< HEAD
>>>>>>> 50aa049e59 (Add Binder badge/button to readme (#1628))
=======
>>>>>>> osgeo-main
=======
>>>>>>> osgeo-main
>>>>>>> main
=======
>>>>>>> osgeo-main
=======
>>>>>>> osgeo-main
=======
>>>>>>> osgeo-main
=======
>>>>>>> osgeo-main
=======
>>>>>>> osgeo-main
=======
>>>>>>> osgeo-main
=======
>>>>>>> osgeo-main
=======
>>>>>>> osgeo-main
=======
>>>>>>> da4381783c (Add Binder badge/button to readme (#1628))
=======
>>>>>>> osgeo-main
=======
>>>>>>> osgeo-main
=======
>>>>>>> e28239bf7b (Add Binder badge/button to readme (#1628))
<<<<<<< HEAD
>>>>>>> 72f0d278b2 (Add Binder badge/button to readme (#1628))
=======
=======
<<<<<<< HEAD
>>>>>>> 47fc32999c (Add Binder badge/button to readme (#1628))
<<<<<<< HEAD
>>>>>>> 8500c8720e (Add Binder badge/button to readme (#1628))
=======
=======
>>>>>>> osgeo-main
=======
>>>>>>> d7010890e1 (Add Binder badge/button to readme (#1628))
>>>>>>> 0503a5c10a (Add Binder badge/button to readme (#1628))
<<<<<<< HEAD
>>>>>>> ac15d23554 (Add Binder badge/button to readme (#1628))
=======
=======
>>>>>>> d7010890e1 (Add Binder badge/button to readme (#1628))
<<<<<<< HEAD
>>>>>>> 118a90ef8b (Add Binder badge/button to readme (#1628))
=======
=======
<<<<<<< HEAD
>>>>>>> 9fcc606878 (Add Binder badge/button to readme (#1628))
<<<<<<< HEAD
>>>>>>> ee5e000e2b (Add Binder badge/button to readme (#1628))
=======
=======
>>>>>>> osgeo-main
=======
>>>>>>> 58e6f5060a (Add Binder badge/button to readme (#1628))
<<<<<<< HEAD
>>>>>>> 8e6cd350bf (Add Binder badge/button to readme (#1628))
<<<<<<< HEAD
>>>>>>> 2c51b13e9f (Add Binder badge/button to readme (#1628))
=======
=======
=======
>>>>>>> 50aa049e59 (Add Binder badge/button to readme (#1628))
>>>>>>> 52dc90b371 (Add Binder badge/button to readme (#1628))
<<<<<<< HEAD
>>>>>>> f8951eb271 (Add Binder badge/button to readme (#1628))
=======
=======
>>>>>>> 50aa049e59 (Add Binder badge/button to readme (#1628))
<<<<<<< HEAD
>>>>>>> 0902609bfc (Add Binder badge/button to readme (#1628))
=======
=======
>>>>>>> 2e71c24fb0 (Add Binder badge/button to readme (#1628))
<<<<<<< HEAD
>>>>>>> e13cd54a0f (Add Binder badge/button to readme (#1628))
=======
=======
>>>>>>> c33bedbddf (Add Binder badge/button to readme (#1628))
<<<<<<< HEAD
>>>>>>> df12705265 (Add Binder badge/button to readme (#1628))
=======
=======
>>>>>>> eda5a73942 (Add Binder badge/button to readme (#1628))
<<<<<<< HEAD
>>>>>>> 00859ebcd4 (Add Binder badge/button to readme (#1628))
=======
=======
>>>>>>> a807758bcc (Add Binder badge/button to readme (#1628))
<<<<<<< HEAD
>>>>>>> aa9c0bff66 (Add Binder badge/button to readme (#1628))
=======
=======
>>>>>>> f4f8e0d593 (Add Binder badge/button to readme (#1628))
<<<<<<< HEAD
>>>>>>> 7c76b7f7c0 (Add Binder badge/button to readme (#1628))
=======
=======
>>>>>>> b27e109a47 (Add Binder badge/button to readme (#1628))
<<<<<<< HEAD
>>>>>>> 4db983de69 (Add Binder badge/button to readme (#1628))
=======
=======
>>>>>>> bbb5f12d40 (Add Binder badge/button to readme (#1628))
<<<<<<< HEAD
>>>>>>> ce49542432 (Add Binder badge/button to readme (#1628))
=======
=======
>>>>>>> 2390a327b4 (Add Binder badge/button to readme (#1628))
<<<<<<< HEAD
>>>>>>> bf116f53b0 (Add Binder badge/button to readme (#1628))
=======
=======
<<<<<<< HEAD
>>>>>>> 8ac294c05f (Add Binder badge/button to readme (#1628))
<<<<<<< HEAD
>>>>>>> 0a9ba2e3fa (Add Binder badge/button to readme (#1628))
=======
=======
>>>>>>> osgeo-main
=======
>>>>>>> osgeo-main
=======
>>>>>>> da4381783c (Add Binder badge/button to readme (#1628))
>>>>>>> 855c626fb4 (Add Binder badge/button to readme (#1628))
<<<<<<< HEAD
>>>>>>> ef1baf1027 (Add Binder badge/button to readme (#1628))
=======
=======
>>>>>>> 8e2ca9c153 (Add Binder badge/button to readme (#1628))
<<<<<<< HEAD
>>>>>>> bc8c26248b (Add Binder badge/button to readme (#1628))
=======
=======
>>>>>>> 8257ecf53a (Add Binder badge/button to readme (#1628))
>>>>>>> d378f4420b (Add Binder badge/button to readme (#1628))
 "metadata": {
  "language_info": {
   "codemirror_mode": {
    "name": "ipython",
    "version": 3
   },
   "file_extension": ".py",
   "mimetype": "text/x-python",
   "name": "python",
   "nbconvert_exporter": "python",
   "pygments_lexer": "ipython3",
   "version": 3
  },
  "orig_nbformat": 2
 },
 "nbformat": 4,
 "nbformat_minor": 2,
=======
>>>>>>> c64d48cd6c (Add additional GRASS info to the main example notebook (#1686))
=======
>>>>>>> 9531f8e4af (Add Binder badge/button to readme (#1628))
=======
>>>>>>> e4b0e912a4 (Add Binder badge/button to readme (#1628))
=======
>>>>>>> b20066f7ff (Add Binder badge/button to readme (#1628))
=======
>>>>>>> bf4cf68e7a (Add Binder badge/button to readme (#1628))
=======
>>>>>>> a97c4bb91f (Add Binder badge/button to readme (#1628))
=======
>>>>>>> 01148b26a3 (Add Binder badge/button to readme (#1628))
=======
>>>>>>> d8b5d4044b (Add Binder badge/button to readme (#1628))
=======
>>>>>>> 939728f441 (Add Binder badge/button to readme (#1628))
=======
>>>>>>> 0bdc4b4dd8 (Add Binder badge/button to readme (#1628))
=======
>>>>>>> 487d2eaeaa (Add Binder badge/button to readme (#1628))
=======
>>>>>>> c3ac766842 (Add Binder badge/button to readme (#1628))
=======
>>>>>>> fe0747311e (Add Binder badge/button to readme (#1628))
=======
>>>>>>> fe406d59f0 (Add Binder badge/button to readme (#1628))
=======
>>>>>>> 085eab1722 (Add Binder badge/button to readme (#1628))
=======
>>>>>>> f4ca1b21d2 (Add Binder badge/button to readme (#1628))
=======
>>>>>>> 13d948fd24 (Add Binder badge/button to readme (#1628))
=======
>>>>>>> 746f2e6d8a (Add Binder badge/button to readme (#1628))
=======
>>>>>>> aebdb8e800 (Add Binder badge/button to readme (#1628))
=======
=======
>>>>>>> acaabcedb1 (Add Binder badge/button to readme (#1628))
=======
>>>>>>> 9e5adb4441 (Add Binder badge/button to readme (#1628))
=======
<<<<<<< HEAD
=======
>>>>>>> 855c626fb4 (Add Binder badge/button to readme (#1628))
<<<<<<< HEAD
>>>>>>> b1889b7764 (Add Binder badge/button to readme (#1628))
=======
>>>>>>> dc9386ff19 (Add Binder badge/button to readme (#1628))
 "cells": [
  {
<<<<<<< HEAD
<<<<<<< HEAD
<<<<<<< HEAD
<<<<<<< HEAD
<<<<<<< HEAD
<<<<<<< HEAD
<<<<<<< HEAD
<<<<<<< HEAD
<<<<<<< HEAD
<<<<<<< HEAD
<<<<<<< HEAD
<<<<<<< HEAD
<<<<<<< HEAD
<<<<<<< HEAD
<<<<<<< HEAD
<<<<<<< HEAD
<<<<<<< HEAD
<<<<<<< HEAD
<<<<<<< HEAD
<<<<<<< HEAD
<<<<<<< HEAD
<<<<<<< HEAD
<<<<<<< HEAD
<<<<<<< HEAD
<<<<<<< HEAD
<<<<<<< HEAD
<<<<<<< HEAD
<<<<<<< HEAD
<<<<<<< HEAD
<<<<<<< HEAD
<<<<<<< HEAD
<<<<<<< HEAD
<<<<<<< HEAD
<<<<<<< HEAD
<<<<<<< HEAD
<<<<<<< HEAD
<<<<<<< HEAD
<<<<<<< HEAD
<<<<<<< HEAD
<<<<<<< HEAD
=======
>>>>>>> f723e019f3 (Add Binder badge/button to readme (#1628))
>>>>>>> d378f4420b (Add Binder badge/button to readme (#1628))
=======
>>>>>>> f723e019f3 (Add Binder badge/button to readme (#1628))
>>>>>>> bc8c26248b (Add Binder badge/button to readme (#1628))
=======
=======
>>>>>>> ee5e000e2b (Add Binder badge/button to readme (#1628))
=======
>>>>>>> 2c51b13e9f (Add Binder badge/button to readme (#1628))
=======
>>>>>>> f8951eb271 (Add Binder badge/button to readme (#1628))
=======
>>>>>>> 0902609bfc (Add Binder badge/button to readme (#1628))
=======
>>>>>>> e13cd54a0f (Add Binder badge/button to readme (#1628))
=======
>>>>>>> df12705265 (Add Binder badge/button to readme (#1628))
=======
>>>>>>> 00859ebcd4 (Add Binder badge/button to readme (#1628))
=======
>>>>>>> aa9c0bff66 (Add Binder badge/button to readme (#1628))
=======
>>>>>>> 7c76b7f7c0 (Add Binder badge/button to readme (#1628))
=======
>>>>>>> 4db983de69 (Add Binder badge/button to readme (#1628))
=======
>>>>>>> ce49542432 (Add Binder badge/button to readme (#1628))
=======
>>>>>>> bf116f53b0 (Add Binder badge/button to readme (#1628))
=======
>>>>>>> 0a9ba2e3fa (Add Binder badge/button to readme (#1628))
>>>>>>> f723e019f3 (Add Binder badge/button to readme (#1628))
>>>>>>> 118a90ef8b (Add Binder badge/button to readme (#1628))
=======
<<<<<<< HEAD
>>>>>>> main
>>>>>>> osgeo-main
<<<<<<< HEAD
<<<<<<< HEAD
=======
>>>>>>> osgeo-main
=======
>>>>>>> osgeo-main
=======
>>>>>>> d7010890e1 (Add Binder badge/button to readme (#1628))
=======
>>>>>>> osgeo-main
=======
>>>>>>> osgeo-main
=======
>>>>>>> 58e6f5060a (Add Binder badge/button to readme (#1628))
=======
<<<<<<< HEAD
>>>>>>> 50aa049e59 (Add Binder badge/button to readme (#1628))
=======
>>>>>>> osgeo-main
=======
>>>>>>> osgeo-main
>>>>>>> main
=======
>>>>>>> osgeo-main
=======
>>>>>>> osgeo-main
=======
>>>>>>> osgeo-main
=======
>>>>>>> osgeo-main
=======
>>>>>>> osgeo-main
=======
>>>>>>> osgeo-main
=======
>>>>>>> osgeo-main
=======
>>>>>>> osgeo-main
=======
>>>>>>> da4381783c (Add Binder badge/button to readme (#1628))
=======
>>>>>>> osgeo-main
=======
>>>>>>> osgeo-main
=======
>>>>>>> 89e695d85c (Add Binder setup files (#1603))
=======
>>>>>>> 59a7b4bfb4 (Add Binder setup files (#1603))
=======
=======
>>>>>>> 4fcbd3f967 (Add Binder badge/button to readme (#1628))
>>>>>>> 95499cb16f (Add Binder badge/button to readme (#1628))
=======
=======
>>>>>>> 4fcbd3f967 (Add Binder badge/button to readme (#1628))
=======
   "cell_type": "markdown",
   "metadata": {},
>>>>>>> fe58c5e811 (Add additional GRASS info to the main example notebook (#1686))
<<<<<<< HEAD
<<<<<<< HEAD
>>>>>>> c64d48cd6c (Add additional GRASS info to the main example notebook (#1686))
=======
=======
=======
=======
>>>>>>> 52dc90b371 (Add Binder badge/button to readme (#1628))
=======
<<<<<<< HEAD
>>>>>>> osgeo-main
>>>>>>> f8951eb271 (Add Binder badge/button to readme (#1628))
>>>>>>> 8e6cd350bf (Add Binder badge/button to readme (#1628))
=======
<<<<<<< HEAD
>>>>>>> osgeo-main
>>>>>>> 0503a5c10a (Add Binder badge/button to readme (#1628))
>>>>>>> 2c51b13e9f (Add Binder badge/button to readme (#1628))
=======
>>>>>>> e28239bf7b (Add Binder badge/button to readme (#1628))
=======
<<<<<<< HEAD
>>>>>>> 47fc32999c (Add Binder badge/button to readme (#1628))
=======
>>>>>>> osgeo-main
=======
>>>>>>> d7010890e1 (Add Binder badge/button to readme (#1628))
>>>>>>> 0503a5c10a (Add Binder badge/button to readme (#1628))
=======
>>>>>>> d7010890e1 (Add Binder badge/button to readme (#1628))
<<<<<<< HEAD
<<<<<<< HEAD
=======
<<<<<<< HEAD
>>>>>>> 9fcc606878 (Add Binder badge/button to readme (#1628))
=======
>>>>>>> osgeo-main
=======
>>>>>>> 58e6f5060a (Add Binder badge/button to readme (#1628))
<<<<<<< HEAD
>>>>>>> 8e6cd350bf (Add Binder badge/button to readme (#1628))
=======
=======
>>>>>>> 50aa049e59 (Add Binder badge/button to readme (#1628))
>>>>>>> 52dc90b371 (Add Binder badge/button to readme (#1628))
<<<<<<< HEAD
=======
>>>>>>> 50aa049e59 (Add Binder badge/button to readme (#1628))
=======
>>>>>>> 2e71c24fb0 (Add Binder badge/button to readme (#1628))
=======
>>>>>>> c33bedbddf (Add Binder badge/button to readme (#1628))
=======
>>>>>>> eda5a73942 (Add Binder badge/button to readme (#1628))
=======
>>>>>>> a807758bcc (Add Binder badge/button to readme (#1628))
=======
>>>>>>> f4f8e0d593 (Add Binder badge/button to readme (#1628))
=======
>>>>>>> b27e109a47 (Add Binder badge/button to readme (#1628))
=======
>>>>>>> bbb5f12d40 (Add Binder badge/button to readme (#1628))
<<<<<<< HEAD
<<<<<<< HEAD
=======
>>>>>>> 2390a327b4 (Add Binder badge/button to readme (#1628))
=======
<<<<<<< HEAD
<<<<<<< HEAD
>>>>>>> 8ac294c05f (Add Binder badge/button to readme (#1628))
=======
>>>>>>> osgeo-main
=======
>>>>>>> osgeo-main
=======
>>>>>>> da4381783c (Add Binder badge/button to readme (#1628))
>>>>>>> 855c626fb4 (Add Binder badge/button to readme (#1628))
=======
>>>>>>> 8e2ca9c153 (Add Binder badge/button to readme (#1628))
<<<<<<< HEAD
<<<<<<< HEAD
=======
>>>>>>> 8257ecf53a (Add Binder badge/button to readme (#1628))
=======
=======
>>>>>>> dc9386ff19 (Add Binder badge/button to readme (#1628))
 "metadata": {
  "language_info": {
   "codemirror_mode": {
    "name": "ipython",
    "version": 3
   },
   "file_extension": ".py",
   "mimetype": "text/x-python",
   "name": "python",
   "nbconvert_exporter": "python",
   "pygments_lexer": "ipython3",
   "version": 3
  },
  "orig_nbformat": 2
 },
 "nbformat": 4,
 "nbformat_minor": 2,
<<<<<<< HEAD
=======
>>>>>>> 75aba2088a (Add additional GRASS info to the main example notebook (#1686))
 "cells": [
  {
<<<<<<< HEAD
<<<<<<< HEAD
<<<<<<< HEAD
<<<<<<< HEAD
<<<<<<< HEAD
<<<<<<< HEAD
<<<<<<< HEAD
<<<<<<< HEAD
<<<<<<< HEAD
<<<<<<< HEAD
<<<<<<< HEAD
<<<<<<< HEAD
<<<<<<< HEAD
<<<<<<< HEAD
<<<<<<< HEAD
<<<<<<< HEAD
<<<<<<< HEAD
<<<<<<< HEAD
<<<<<<< HEAD
<<<<<<< HEAD
<<<<<<< HEAD
<<<<<<< HEAD
<<<<<<< HEAD
<<<<<<< HEAD
=======
>>>>>>> ef1baf1027 (Add Binder badge/button to readme (#1628))
>>>>>>> f723e019f3 (Add Binder badge/button to readme (#1628))
<<<<<<< HEAD
>>>>>>> 9531f8e4af (Add Binder badge/button to readme (#1628))
=======
=======
>>>>>>> 855c626fb4 (Add Binder badge/button to readme (#1628))
=======
>>>>>>> 855c626fb4 (Add Binder badge/button to readme (#1628))
=======
<<<<<<< HEAD
>>>>>>> osgeo-main
>>>>>>> 52dc90b371 (Add Binder badge/button to readme (#1628))
=======
<<<<<<< HEAD
>>>>>>> osgeo-main
>>>>>>> 8e6cd350bf (Add Binder badge/button to readme (#1628))
=======
<<<<<<< HEAD
>>>>>>> osgeo-main
>>>>>>> 0503a5c10a (Add Binder badge/button to readme (#1628))
=======
>>>>>>> e28239bf7b (Add Binder badge/button to readme (#1628))
<<<<<<< HEAD
>>>>>>> e4b0e912a4 (Add Binder badge/button to readme (#1628))
=======
=======
<<<<<<< HEAD
>>>>>>> 47fc32999c (Add Binder badge/button to readme (#1628))
<<<<<<< HEAD
>>>>>>> b20066f7ff (Add Binder badge/button to readme (#1628))
=======
=======
>>>>>>> osgeo-main
=======
>>>>>>> d7010890e1 (Add Binder badge/button to readme (#1628))
>>>>>>> 0503a5c10a (Add Binder badge/button to readme (#1628))
<<<<<<< HEAD
>>>>>>> bf4cf68e7a (Add Binder badge/button to readme (#1628))
=======
=======
>>>>>>> d7010890e1 (Add Binder badge/button to readme (#1628))
<<<<<<< HEAD
>>>>>>> a97c4bb91f (Add Binder badge/button to readme (#1628))
=======
=======
<<<<<<< HEAD
>>>>>>> 9fcc606878 (Add Binder badge/button to readme (#1628))
<<<<<<< HEAD
>>>>>>> 01148b26a3 (Add Binder badge/button to readme (#1628))
=======
=======
>>>>>>> osgeo-main
=======
>>>>>>> 58e6f5060a (Add Binder badge/button to readme (#1628))
<<<<<<< HEAD
>>>>>>> 8e6cd350bf (Add Binder badge/button to readme (#1628))
<<<<<<< HEAD
>>>>>>> d8b5d4044b (Add Binder badge/button to readme (#1628))
=======
=======
=======
>>>>>>> 50aa049e59 (Add Binder badge/button to readme (#1628))
>>>>>>> 52dc90b371 (Add Binder badge/button to readme (#1628))
<<<<<<< HEAD
<<<<<<< HEAD
>>>>>>> 939728f441 (Add Binder badge/button to readme (#1628))
=======
=======
>>>>>>> 50aa049e59 (Add Binder badge/button to readme (#1628))
<<<<<<< HEAD
<<<<<<< HEAD
>>>>>>> 0bdc4b4dd8 (Add Binder badge/button to readme (#1628))
=======
=======
>>>>>>> 2e71c24fb0 (Add Binder badge/button to readme (#1628))
<<<<<<< HEAD
<<<<<<< HEAD
>>>>>>> 487d2eaeaa (Add Binder badge/button to readme (#1628))
=======
=======
>>>>>>> c33bedbddf (Add Binder badge/button to readme (#1628))
<<<<<<< HEAD
<<<<<<< HEAD
>>>>>>> c3ac766842 (Add Binder badge/button to readme (#1628))
=======
=======
>>>>>>> eda5a73942 (Add Binder badge/button to readme (#1628))
<<<<<<< HEAD
<<<<<<< HEAD
>>>>>>> fe0747311e (Add Binder badge/button to readme (#1628))
=======
=======
>>>>>>> a807758bcc (Add Binder badge/button to readme (#1628))
<<<<<<< HEAD
<<<<<<< HEAD
>>>>>>> fe406d59f0 (Add Binder badge/button to readme (#1628))
=======
=======
>>>>>>> f4f8e0d593 (Add Binder badge/button to readme (#1628))
<<<<<<< HEAD
<<<<<<< HEAD
>>>>>>> 085eab1722 (Add Binder badge/button to readme (#1628))
=======
=======
>>>>>>> b27e109a47 (Add Binder badge/button to readme (#1628))
<<<<<<< HEAD
>>>>>>> f4ca1b21d2 (Add Binder badge/button to readme (#1628))
=======
=======
>>>>>>> bbb5f12d40 (Add Binder badge/button to readme (#1628))
<<<<<<< HEAD
>>>>>>> 13d948fd24 (Add Binder badge/button to readme (#1628))
=======
=======
>>>>>>> 2390a327b4 (Add Binder badge/button to readme (#1628))
<<<<<<< HEAD
>>>>>>> 746f2e6d8a (Add Binder badge/button to readme (#1628))
=======
=======
<<<<<<< HEAD
>>>>>>> 8ac294c05f (Add Binder badge/button to readme (#1628))
<<<<<<< HEAD
>>>>>>> aebdb8e800 (Add Binder badge/button to readme (#1628))
=======
=======
>>>>>>> osgeo-main
=======
>>>>>>> osgeo-main
=======
>>>>>>> da4381783c (Add Binder badge/button to readme (#1628))
>>>>>>> 855c626fb4 (Add Binder badge/button to readme (#1628))
<<<<<<< HEAD
>>>>>>> b1889b7764 (Add Binder badge/button to readme (#1628))
=======
=======
>>>>>>> 8e2ca9c153 (Add Binder badge/button to readme (#1628))
<<<<<<< HEAD
>>>>>>> acaabcedb1 (Add Binder badge/button to readme (#1628))
=======
=======
>>>>>>> 8257ecf53a (Add Binder badge/button to readme (#1628))
>>>>>>> 9e5adb4441 (Add Binder badge/button to readme (#1628))
=======
>>>>>>> d61771ce2d (Add Binder setup files (#1603))
=======
>>>>>>> 104e187247 (Add Binder setup files (#1603))
=======
=======
>>>>>>> 4fcbd3f967 (Add Binder badge/button to readme (#1628))
>>>>>>> b9a54acd98 (Add Binder badge/button to readme (#1628))
=======
=======
>>>>>>> 4fcbd3f967 (Add Binder badge/button to readme (#1628))
=======
   "cell_type": "markdown",
   "metadata": {},
>>>>>>> fe58c5e811 (Add additional GRASS info to the main example notebook (#1686))
>>>>>>> 75aba2088a (Add additional GRASS info to the main example notebook (#1686))
=======
 "cells": [
  {
<<<<<<< HEAD
<<<<<<< HEAD
<<<<<<< HEAD
>>>>>>> f723e019f3 (Add Binder badge/button to readme (#1628))
<<<<<<< HEAD
>>>>>>> dc9386ff19 (Add Binder badge/button to readme (#1628))
=======
=======
<<<<<<< HEAD
>>>>>>> osgeo-main
>>>>>>> 0503a5c10a (Add Binder badge/button to readme (#1628))
=======
>>>>>>> e28239bf7b (Add Binder badge/button to readme (#1628))
<<<<<<< HEAD
>>>>>>> 72f0d278b2 (Add Binder badge/button to readme (#1628))
=======
=======
<<<<<<< HEAD
>>>>>>> 47fc32999c (Add Binder badge/button to readme (#1628))
<<<<<<< HEAD
>>>>>>> 8500c8720e (Add Binder badge/button to readme (#1628))
=======
=======
>>>>>>> osgeo-main
=======
>>>>>>> d7010890e1 (Add Binder badge/button to readme (#1628))
>>>>>>> 0503a5c10a (Add Binder badge/button to readme (#1628))
>>>>>>> ac15d23554 (Add Binder badge/button to readme (#1628))
=======
>>>>>>> 118a90ef8b (Add Binder badge/button to readme (#1628))
=======
=======
<<<<<<< HEAD
>>>>>>> 9fcc606878 (Add Binder badge/button to readme (#1628))
<<<<<<< HEAD
>>>>>>> ee5e000e2b (Add Binder badge/button to readme (#1628))
=======
=======
>>>>>>> osgeo-main
=======
>>>>>>> 58e6f5060a (Add Binder badge/button to readme (#1628))
>>>>>>> 8e6cd350bf (Add Binder badge/button to readme (#1628))
>>>>>>> 2c51b13e9f (Add Binder badge/button to readme (#1628))
=======
>>>>>>> f8951eb271 (Add Binder badge/button to readme (#1628))
=======
=======
>>>>>>> 50aa049e59 (Add Binder badge/button to readme (#1628))
>>>>>>> 0902609bfc (Add Binder badge/button to readme (#1628))
=======
=======
>>>>>>> 2e71c24fb0 (Add Binder badge/button to readme (#1628))
>>>>>>> e13cd54a0f (Add Binder badge/button to readme (#1628))
=======
=======
>>>>>>> c33bedbddf (Add Binder badge/button to readme (#1628))
>>>>>>> df12705265 (Add Binder badge/button to readme (#1628))
=======
=======
>>>>>>> eda5a73942 (Add Binder badge/button to readme (#1628))
>>>>>>> 00859ebcd4 (Add Binder badge/button to readme (#1628))
=======
=======
>>>>>>> a807758bcc (Add Binder badge/button to readme (#1628))
>>>>>>> aa9c0bff66 (Add Binder badge/button to readme (#1628))
=======
=======
>>>>>>> f4f8e0d593 (Add Binder badge/button to readme (#1628))
>>>>>>> 7c76b7f7c0 (Add Binder badge/button to readme (#1628))
=======
=======
>>>>>>> b27e109a47 (Add Binder badge/button to readme (#1628))
>>>>>>> 4db983de69 (Add Binder badge/button to readme (#1628))
=======
>>>>>>> ce49542432 (Add Binder badge/button to readme (#1628))
=======
=======
>>>>>>> 2390a327b4 (Add Binder badge/button to readme (#1628))
>>>>>>> bf116f53b0 (Add Binder badge/button to readme (#1628))
=======
<<<<<<< HEAD
>>>>>>> 8ac294c05f (Add Binder badge/button to readme (#1628))
<<<<<<< HEAD
>>>>>>> 0a9ba2e3fa (Add Binder badge/button to readme (#1628))
=======
=======
>>>>>>> osgeo-main
=======
>>>>>>> osgeo-main
=======
>>>>>>> da4381783c (Add Binder badge/button to readme (#1628))
>>>>>>> 855c626fb4 (Add Binder badge/button to readme (#1628))
>>>>>>> ef1baf1027 (Add Binder badge/button to readme (#1628))
=======
>>>>>>> bc8c26248b (Add Binder badge/button to readme (#1628))
=======
=======
>>>>>>> 8257ecf53a (Add Binder badge/button to readme (#1628))
>>>>>>> d378f4420b (Add Binder badge/button to readme (#1628))
   "source": [
    "# Try GRASS GIS in Jupyter Notebook with Python\n",
    "\n",
    "[<img src=\"../../man/grass_logo.png\" alt=\"GRASS GIS\" style=\"width:200px;\"/>](https://grass.osgeo.org/)\n",
    "\n",
    "This is a quick introduction to *GRASS GIS* in a *Jupyter Notebook* using the *Python* scripting language.\n",
    "The interactive notebook is available online thanks to the [*Binder*](https://mybinder.org/) service.\n",
    "\n",
    "Examples here are using a sample GRASS GIS dataset for North Carolina, USA. The dataset is included in this environment.\n",
    "\n",
    "## Usage\n",
    "\n",
    "To run the selected part which is called a cell, hit `Shift + Enter`.\n",
    "\n",
    "## Start\n",
    "\n",
    "There are several ways to use GRASS GIS. When using Python in a notebook, we usually find GRASS GIS Python packages first, import them, initialize GRASS GIS session, and set several variables useful for using GRASS GIS in a notebook."
<<<<<<< HEAD
<<<<<<< HEAD
<<<<<<< HEAD
<<<<<<< HEAD
<<<<<<< HEAD
<<<<<<< HEAD
<<<<<<< HEAD
<<<<<<< HEAD
<<<<<<< HEAD
<<<<<<< HEAD
<<<<<<< HEAD
<<<<<<< HEAD
<<<<<<< HEAD
<<<<<<< HEAD
<<<<<<< HEAD
<<<<<<< HEAD
<<<<<<< HEAD
<<<<<<< HEAD
<<<<<<< HEAD
<<<<<<< HEAD
<<<<<<< HEAD
<<<<<<< HEAD
<<<<<<< HEAD
<<<<<<< HEAD
<<<<<<< HEAD
<<<<<<< HEAD
<<<<<<< HEAD
<<<<<<< HEAD
<<<<<<< HEAD
<<<<<<< HEAD
<<<<<<< HEAD
<<<<<<< HEAD
<<<<<<< HEAD
<<<<<<< HEAD
<<<<<<< HEAD
<<<<<<< HEAD
<<<<<<< HEAD
<<<<<<< HEAD
<<<<<<< HEAD
<<<<<<< HEAD
<<<<<<< HEAD
<<<<<<< HEAD
<<<<<<< HEAD
<<<<<<< HEAD
<<<<<<< HEAD
<<<<<<< HEAD
<<<<<<< HEAD
<<<<<<< HEAD
<<<<<<< HEAD
<<<<<<< HEAD
<<<<<<< HEAD
<<<<<<< HEAD
<<<<<<< HEAD
<<<<<<< HEAD
<<<<<<< HEAD
<<<<<<< HEAD
<<<<<<< HEAD
<<<<<<< HEAD
<<<<<<< HEAD
<<<<<<< HEAD
<<<<<<< HEAD
<<<<<<< HEAD
<<<<<<< HEAD
<<<<<<< HEAD
=======
<<<<<<< HEAD
>>>>>>> main
=======
>>>>>>> 9531f8e4af (Add Binder badge/button to readme (#1628))
=======
>>>>>>> e4b0e912a4 (Add Binder badge/button to readme (#1628))
=======
>>>>>>> b20066f7ff (Add Binder badge/button to readme (#1628))
=======
>>>>>>> dc9386ff19 (Add Binder badge/button to readme (#1628))
=======
>>>>>>> 72f0d278b2 (Add Binder badge/button to readme (#1628))
=======
>>>>>>> 8500c8720e (Add Binder badge/button to readme (#1628))
   ]
=======
=======
>>>>>>> a97c4bb91f (Add Binder badge/button to readme (#1628))
=======
>>>>>>> 01148b26a3 (Add Binder badge/button to readme (#1628))
=======
>>>>>>> d8b5d4044b (Add Binder badge/button to readme (#1628))
=======
>>>>>>> 939728f441 (Add Binder badge/button to readme (#1628))
=======
>>>>>>> 0bdc4b4dd8 (Add Binder badge/button to readme (#1628))
=======
>>>>>>> 487d2eaeaa (Add Binder badge/button to readme (#1628))
=======
>>>>>>> c3ac766842 (Add Binder badge/button to readme (#1628))
=======
>>>>>>> fe0747311e (Add Binder badge/button to readme (#1628))
=======
>>>>>>> fe406d59f0 (Add Binder badge/button to readme (#1628))
=======
>>>>>>> 085eab1722 (Add Binder badge/button to readme (#1628))
=======
>>>>>>> f4ca1b21d2 (Add Binder badge/button to readme (#1628))
=======
>>>>>>> 13d948fd24 (Add Binder badge/button to readme (#1628))
=======
>>>>>>> 746f2e6d8a (Add Binder badge/button to readme (#1628))
=======
>>>>>>> aebdb8e800 (Add Binder badge/button to readme (#1628))
=======
=======
>>>>>>> acaabcedb1 (Add Binder badge/button to readme (#1628))
=======
>>>>>>> 9e5adb4441 (Add Binder badge/button to readme (#1628))
=======
>>>>>>> ef1baf1027 (Add Binder badge/button to readme (#1628))
=======
>>>>>>> bc8c26248b (Add Binder badge/button to readme (#1628))
=======
>>>>>>> d378f4420b (Add Binder badge/button to readme (#1628))
=======
<<<<<<< HEAD
=======
>>>>>>> 855c626fb4 (Add Binder badge/button to readme (#1628))
<<<<<<< HEAD
<<<<<<< HEAD
>>>>>>> b1889b7764 (Add Binder badge/button to readme (#1628))
=======
>>>>>>> 118a90ef8b (Add Binder badge/button to readme (#1628))
=======
>>>>>>> ee5e000e2b (Add Binder badge/button to readme (#1628))
=======
>>>>>>> 2c51b13e9f (Add Binder badge/button to readme (#1628))
=======
>>>>>>> f8951eb271 (Add Binder badge/button to readme (#1628))
=======
>>>>>>> 0902609bfc (Add Binder badge/button to readme (#1628))
=======
>>>>>>> e13cd54a0f (Add Binder badge/button to readme (#1628))
=======
>>>>>>> df12705265 (Add Binder badge/button to readme (#1628))
=======
>>>>>>> 00859ebcd4 (Add Binder badge/button to readme (#1628))
=======
>>>>>>> aa9c0bff66 (Add Binder badge/button to readme (#1628))
=======
>>>>>>> 7c76b7f7c0 (Add Binder badge/button to readme (#1628))
=======
>>>>>>> 4db983de69 (Add Binder badge/button to readme (#1628))
=======
>>>>>>> ce49542432 (Add Binder badge/button to readme (#1628))
=======
>>>>>>> bf116f53b0 (Add Binder badge/button to readme (#1628))
=======
>>>>>>> 0a9ba2e3fa (Add Binder badge/button to readme (#1628))
=======
>>>>>>> ef1baf1027 (Add Binder badge/button to readme (#1628))
   ]
<<<<<<< HEAD
=======
>>>>>>> bf4cf68e7a (Add Binder badge/button to readme (#1628))
=======
   ]
<<<<<<< HEAD
=======
>>>>>>> ac15d23554 (Add Binder badge/button to readme (#1628))
=======
   ],
   "cell_type": "markdown",
   "metadata": {}
>>>>>>> osgeo-main
=======
   ],
   "cell_type": "markdown",
   "metadata": {}
>>>>>>> osgeo-main
=======
   ],
   "cell_type": "markdown",
   "metadata": {}
>>>>>>> osgeo-main
=======
   ],
   "cell_type": "markdown",
   "metadata": {}
>>>>>>> d7010890e1 (Add Binder badge/button to readme (#1628))
<<<<<<< HEAD
<<<<<<< HEAD
<<<<<<< HEAD
<<<<<<< HEAD
=======
   ],
   "cell_type": "markdown",
   "metadata": {}
>>>>>>> osgeo-main
=======
   ],
   "cell_type": "markdown",
   "metadata": {}
>>>>>>> osgeo-main
=======
   ],
   "cell_type": "markdown",
   "metadata": {}
>>>>>>> 58e6f5060a (Add Binder badge/button to readme (#1628))
=======
   ],
   "cell_type": "markdown",
   "metadata": {}
<<<<<<< HEAD
>>>>>>> 50aa049e59 (Add Binder badge/button to readme (#1628))
=======
>>>>>>> osgeo-main
=======
   ],
   "cell_type": "markdown",
   "metadata": {}
>>>>>>> osgeo-main
>>>>>>> main
=======
   ],
   "cell_type": "markdown",
   "metadata": {}
>>>>>>> osgeo-main
=======
   ],
   "cell_type": "markdown",
   "metadata": {}
>>>>>>> osgeo-main
=======
   ],
   "cell_type": "markdown",
   "metadata": {}
>>>>>>> osgeo-main
=======
   ],
   "cell_type": "markdown",
   "metadata": {}
>>>>>>> osgeo-main
=======
   ],
   "cell_type": "markdown",
   "metadata": {}
>>>>>>> osgeo-main
=======
   ],
   "cell_type": "markdown",
   "metadata": {}
>>>>>>> osgeo-main
=======
   ],
   "cell_type": "markdown",
   "metadata": {}
>>>>>>> osgeo-main
=======
   ],
   "cell_type": "markdown",
   "metadata": {}
>>>>>>> osgeo-main
=======
   ],
   "cell_type": "markdown",
   "metadata": {}
>>>>>>> da4381783c (Add Binder badge/button to readme (#1628))
=======
   ],
   "cell_type": "markdown",
   "metadata": {}
>>>>>>> osgeo-main
=======
   ],
   "cell_type": "markdown",
   "metadata": {}
>>>>>>> osgeo-main
=======
   ]
>>>>>>> c64d48cd6c (Add additional GRASS info to the main example notebook (#1686))
=======
>>>>>>> 0503a5c10a (Add Binder badge/button to readme (#1628))
>>>>>>> bf4cf68e7a (Add Binder badge/button to readme (#1628))
=======
>>>>>>> 0503a5c10a (Add Binder badge/button to readme (#1628))
=======
>>>>>>> 0503a5c10a (Add Binder badge/button to readme (#1628))
>>>>>>> 2c51b13e9f (Add Binder badge/button to readme (#1628))
=======
=======
   ],
   "cell_type": "markdown",
   "metadata": {}
>>>>>>> osgeo-main
=======
   ],
   "cell_type": "markdown",
   "metadata": {}
>>>>>>> osgeo-main
=======
   ],
   "cell_type": "markdown",
   "metadata": {}
>>>>>>> 58e6f5060a (Add Binder badge/button to readme (#1628))
<<<<<<< HEAD
<<<<<<< HEAD
<<<<<<< HEAD
>>>>>>> 8e6cd350bf (Add Binder badge/button to readme (#1628))
<<<<<<< HEAD
>>>>>>> d8b5d4044b (Add Binder badge/button to readme (#1628))
=======
=======
>>>>>>> 8e6cd350bf (Add Binder badge/button to readme (#1628))
>>>>>>> f8951eb271 (Add Binder badge/button to readme (#1628))
=======
=======
   ],
   "cell_type": "markdown",
   "metadata": {}
>>>>>>> 50aa049e59 (Add Binder badge/button to readme (#1628))
<<<<<<< HEAD
<<<<<<< HEAD
<<<<<<< HEAD
>>>>>>> 52dc90b371 (Add Binder badge/button to readme (#1628))
<<<<<<< HEAD
>>>>>>> 939728f441 (Add Binder badge/button to readme (#1628))
=======
=======
>>>>>>> 52dc90b371 (Add Binder badge/button to readme (#1628))
>>>>>>> ef1baf1027 (Add Binder badge/button to readme (#1628))
=======
=======
>>>>>>> osgeo-main
=======
   ],
   "cell_type": "markdown",
   "metadata": {}
>>>>>>> osgeo-main
>>>>>>> main
=======
   ],
   "cell_type": "markdown",
   "metadata": {}
>>>>>>> osgeo-main
=======
   ],
   "cell_type": "markdown",
   "metadata": {}
>>>>>>> osgeo-main
=======
   ],
   "cell_type": "markdown",
   "metadata": {}
>>>>>>> osgeo-main
=======
   ],
   "cell_type": "markdown",
   "metadata": {}
>>>>>>> osgeo-main
=======
   ],
   "cell_type": "markdown",
   "metadata": {}
>>>>>>> osgeo-main
=======
   ],
   "cell_type": "markdown",
   "metadata": {}
>>>>>>> osgeo-main
=======
   ],
   "cell_type": "markdown",
   "metadata": {}
>>>>>>> osgeo-main
=======
   ],
   "cell_type": "markdown",
   "metadata": {}
>>>>>>> osgeo-main
=======
   ],
   "cell_type": "markdown",
   "metadata": {}
>>>>>>> da4381783c (Add Binder badge/button to readme (#1628))
>>>>>>> 855c626fb4 (Add Binder badge/button to readme (#1628))
<<<<<<< HEAD
>>>>>>> b1889b7764 (Add Binder badge/button to readme (#1628))
=======
   ]
>>>>>>> 75aba2088a (Add additional GRASS info to the main example notebook (#1686))
=======
>>>>>>> 0503a5c10a (Add Binder badge/button to readme (#1628))
>>>>>>> ac15d23554 (Add Binder badge/button to readme (#1628))
=======
>>>>>>> 8e6cd350bf (Add Binder badge/button to readme (#1628))
>>>>>>> 2c51b13e9f (Add Binder badge/button to readme (#1628))
=======
>>>>>>> 52dc90b371 (Add Binder badge/button to readme (#1628))
>>>>>>> f8951eb271 (Add Binder badge/button to readme (#1628))
=======
>>>>>>> ef1baf1027 (Add Binder badge/button to readme (#1628))
  },
  {
<<<<<<< HEAD
=======
>>>>>>> eec6314975 (Add Binder setup files (#1603))
=======
>>>>>>> 4c7000bc90 (Add Binder setup files (#1603))
=======
>>>>>>> 4fcbd3f967 (Add Binder badge/button to readme (#1628))
=======
<<<<<<< HEAD
<<<<<<< HEAD
=======
>>>>>>> e28239bf7b (Add Binder badge/button to readme (#1628))
=======
>>>>>>> 47fc32999c (Add Binder badge/button to readme (#1628))
<<<<<<< HEAD
<<<<<<< HEAD
=======
>>>>>>> d7010890e1 (Add Binder badge/button to readme (#1628))
=======
>>>>>>> 9fcc606878 (Add Binder badge/button to readme (#1628))
<<<<<<< HEAD
<<<<<<< HEAD
=======
>>>>>>> 50aa049e59 (Add Binder badge/button to readme (#1628))
=======
>>>>>>> 2e71c24fb0 (Add Binder badge/button to readme (#1628))
<<<<<<< HEAD
<<<<<<< HEAD
=======
>>>>>>> c33bedbddf (Add Binder badge/button to readme (#1628))
=======
>>>>>>> eda5a73942 (Add Binder badge/button to readme (#1628))
<<<<<<< HEAD
<<<<<<< HEAD
=======
>>>>>>> a807758bcc (Add Binder badge/button to readme (#1628))
=======
>>>>>>> f4f8e0d593 (Add Binder badge/button to readme (#1628))
<<<<<<< HEAD
<<<<<<< HEAD
=======
>>>>>>> b27e109a47 (Add Binder badge/button to readme (#1628))
=======
>>>>>>> bbb5f12d40 (Add Binder badge/button to readme (#1628))
<<<<<<< HEAD
<<<<<<< HEAD
=======
>>>>>>> 2390a327b4 (Add Binder badge/button to readme (#1628))
=======
>>>>>>> 8ac294c05f (Add Binder badge/button to readme (#1628))
<<<<<<< HEAD
<<<<<<< HEAD
=======
>>>>>>> 8e2ca9c153 (Add Binder badge/button to readme (#1628))
=======
>>>>>>> 8257ecf53a (Add Binder badge/button to readme (#1628))
<<<<<<< HEAD
=======
>>>>>>> dc9386ff19 (Add Binder badge/button to readme (#1628))
=======
=======
>>>>>>> e28239bf7b (Add Binder badge/button to readme (#1628))
>>>>>>> 72f0d278b2 (Add Binder badge/button to readme (#1628))
=======
>>>>>>> 8500c8720e (Add Binder badge/button to readme (#1628))
=======
=======
>>>>>>> d7010890e1 (Add Binder badge/button to readme (#1628))
>>>>>>> 118a90ef8b (Add Binder badge/button to readme (#1628))
=======
>>>>>>> ee5e000e2b (Add Binder badge/button to readme (#1628))
=======
=======
>>>>>>> 50aa049e59 (Add Binder badge/button to readme (#1628))
>>>>>>> 0902609bfc (Add Binder badge/button to readme (#1628))
=======
>>>>>>> e13cd54a0f (Add Binder badge/button to readme (#1628))
=======
=======
>>>>>>> c33bedbddf (Add Binder badge/button to readme (#1628))
>>>>>>> df12705265 (Add Binder badge/button to readme (#1628))
=======
>>>>>>> 00859ebcd4 (Add Binder badge/button to readme (#1628))
=======
=======
>>>>>>> a807758bcc (Add Binder badge/button to readme (#1628))
>>>>>>> aa9c0bff66 (Add Binder badge/button to readme (#1628))
=======
>>>>>>> 7c76b7f7c0 (Add Binder badge/button to readme (#1628))
=======
=======
>>>>>>> b27e109a47 (Add Binder badge/button to readme (#1628))
>>>>>>> 4db983de69 (Add Binder badge/button to readme (#1628))
=======
>>>>>>> ce49542432 (Add Binder badge/button to readme (#1628))
=======
=======
>>>>>>> 2390a327b4 (Add Binder badge/button to readme (#1628))
>>>>>>> bf116f53b0 (Add Binder badge/button to readme (#1628))
=======
>>>>>>> 0a9ba2e3fa (Add Binder badge/button to readme (#1628))
=======
=======
>>>>>>> 8e2ca9c153 (Add Binder badge/button to readme (#1628))
>>>>>>> bc8c26248b (Add Binder badge/button to readme (#1628))
=======
>>>>>>> d378f4420b (Add Binder badge/button to readme (#1628))
   ],
   "cell_type": "markdown",
   "metadata": {}
  },
  {
<<<<<<< HEAD
<<<<<<< HEAD
<<<<<<< HEAD
<<<<<<< HEAD
<<<<<<< HEAD
<<<<<<< HEAD
<<<<<<< HEAD
<<<<<<< HEAD
<<<<<<< HEAD
<<<<<<< HEAD
<<<<<<< HEAD
<<<<<<< HEAD
<<<<<<< HEAD
<<<<<<< HEAD
<<<<<<< HEAD
<<<<<<< HEAD
<<<<<<< HEAD
<<<<<<< HEAD
<<<<<<< HEAD
<<<<<<< HEAD
<<<<<<< HEAD
<<<<<<< HEAD
<<<<<<< HEAD
<<<<<<< HEAD
<<<<<<< HEAD
<<<<<<< HEAD
<<<<<<< HEAD
<<<<<<< HEAD
<<<<<<< HEAD
<<<<<<< HEAD
<<<<<<< HEAD
<<<<<<< HEAD
<<<<<<< HEAD
<<<<<<< HEAD
<<<<<<< HEAD
=======
>>>>>>> 8500c8720e (Add Binder badge/button to readme (#1628))
=======
>>>>>>> 118a90ef8b (Add Binder badge/button to readme (#1628))
=======
>>>>>>> ee5e000e2b (Add Binder badge/button to readme (#1628))
=======
>>>>>>> 0902609bfc (Add Binder badge/button to readme (#1628))
=======
>>>>>>> e13cd54a0f (Add Binder badge/button to readme (#1628))
=======
>>>>>>> df12705265 (Add Binder badge/button to readme (#1628))
=======
>>>>>>> 00859ebcd4 (Add Binder badge/button to readme (#1628))
=======
>>>>>>> aa9c0bff66 (Add Binder badge/button to readme (#1628))
=======
>>>>>>> 7c76b7f7c0 (Add Binder badge/button to readme (#1628))
=======
>>>>>>> 4db983de69 (Add Binder badge/button to readme (#1628))
=======
>>>>>>> ce49542432 (Add Binder badge/button to readme (#1628))
=======
>>>>>>> bf116f53b0 (Add Binder badge/button to readme (#1628))
=======
>>>>>>> 0a9ba2e3fa (Add Binder badge/button to readme (#1628))
=======
>>>>>>> bc8c26248b (Add Binder badge/button to readme (#1628))
=======
>>>>>>> d378f4420b (Add Binder badge/button to readme (#1628))
>>>>>>> f723e019f3 (Add Binder badge/button to readme (#1628))
=======
>>>>>>> e28239bf7b (Add Binder badge/button to readme (#1628))
=======
>>>>>>> 47fc32999c (Add Binder badge/button to readme (#1628))
<<<<<<< HEAD
<<<<<<< HEAD
=======
>>>>>>> d7010890e1 (Add Binder badge/button to readme (#1628))
=======
>>>>>>> 9fcc606878 (Add Binder badge/button to readme (#1628))
<<<<<<< HEAD
<<<<<<< HEAD
=======
>>>>>>> 50aa049e59 (Add Binder badge/button to readme (#1628))
=======
>>>>>>> 2e71c24fb0 (Add Binder badge/button to readme (#1628))
<<<<<<< HEAD
<<<<<<< HEAD
=======
>>>>>>> c33bedbddf (Add Binder badge/button to readme (#1628))
=======
>>>>>>> eda5a73942 (Add Binder badge/button to readme (#1628))
<<<<<<< HEAD
<<<<<<< HEAD
=======
>>>>>>> a807758bcc (Add Binder badge/button to readme (#1628))
=======
>>>>>>> f4f8e0d593 (Add Binder badge/button to readme (#1628))
<<<<<<< HEAD
<<<<<<< HEAD
=======
>>>>>>> b27e109a47 (Add Binder badge/button to readme (#1628))
=======
>>>>>>> bbb5f12d40 (Add Binder badge/button to readme (#1628))
<<<<<<< HEAD
<<<<<<< HEAD
=======
>>>>>>> 2390a327b4 (Add Binder badge/button to readme (#1628))
=======
>>>>>>> 8ac294c05f (Add Binder badge/button to readme (#1628))
<<<<<<< HEAD
<<<<<<< HEAD
=======
>>>>>>> 8e2ca9c153 (Add Binder badge/button to readme (#1628))
=======
>>>>>>> 8257ecf53a (Add Binder badge/button to readme (#1628))
<<<<<<< HEAD
=======
=======
>>>>>>> b9a54acd98 (Add Binder badge/button to readme (#1628))
=======
>>>>>>> eec6314975 (Add Binder setup files (#1603))
<<<<<<< HEAD
>>>>>>> d61771ce2d (Add Binder setup files (#1603))
=======
=======
>>>>>>> 4c7000bc90 (Add Binder setup files (#1603))
<<<<<<< HEAD
>>>>>>> 104e187247 (Add Binder setup files (#1603))
=======
=======
>>>>>>> 4fcbd3f967 (Add Binder badge/button to readme (#1628))
>>>>>>> b9a54acd98 (Add Binder badge/button to readme (#1628))
=======
>>>>>>> f723e019f3 (Add Binder badge/button to readme (#1628))
>>>>>>> dc9386ff19 (Add Binder badge/button to readme (#1628))
=======
>>>>>>> f723e019f3 (Add Binder badge/button to readme (#1628))
=======
>>>>>>> e28239bf7b (Add Binder badge/button to readme (#1628))
>>>>>>> 72f0d278b2 (Add Binder badge/button to readme (#1628))
=======
>>>>>>> 8500c8720e (Add Binder badge/button to readme (#1628))
=======
=======
>>>>>>> d7010890e1 (Add Binder badge/button to readme (#1628))
>>>>>>> 118a90ef8b (Add Binder badge/button to readme (#1628))
=======
>>>>>>> ee5e000e2b (Add Binder badge/button to readme (#1628))
=======
=======
>>>>>>> 50aa049e59 (Add Binder badge/button to readme (#1628))
>>>>>>> 0902609bfc (Add Binder badge/button to readme (#1628))
=======
>>>>>>> e13cd54a0f (Add Binder badge/button to readme (#1628))
=======
=======
>>>>>>> c33bedbddf (Add Binder badge/button to readme (#1628))
>>>>>>> df12705265 (Add Binder badge/button to readme (#1628))
=======
>>>>>>> 00859ebcd4 (Add Binder badge/button to readme (#1628))
=======
=======
>>>>>>> a807758bcc (Add Binder badge/button to readme (#1628))
>>>>>>> aa9c0bff66 (Add Binder badge/button to readme (#1628))
=======
>>>>>>> 7c76b7f7c0 (Add Binder badge/button to readme (#1628))
=======
=======
>>>>>>> b27e109a47 (Add Binder badge/button to readme (#1628))
>>>>>>> 4db983de69 (Add Binder badge/button to readme (#1628))
=======
>>>>>>> ce49542432 (Add Binder badge/button to readme (#1628))
=======
=======
>>>>>>> 2390a327b4 (Add Binder badge/button to readme (#1628))
>>>>>>> bf116f53b0 (Add Binder badge/button to readme (#1628))
=======
>>>>>>> 0a9ba2e3fa (Add Binder badge/button to readme (#1628))
=======
=======
>>>>>>> 8e2ca9c153 (Add Binder badge/button to readme (#1628))
>>>>>>> bc8c26248b (Add Binder badge/button to readme (#1628))
=======
>>>>>>> d378f4420b (Add Binder badge/button to readme (#1628))
   "cell_type": "code",
   "execution_count": null,
   "metadata": {},
   "outputs": [],
<<<<<<< HEAD
<<<<<<< HEAD
<<<<<<< HEAD
<<<<<<< HEAD
<<<<<<< HEAD
<<<<<<< HEAD
<<<<<<< HEAD
<<<<<<< HEAD
<<<<<<< HEAD
<<<<<<< HEAD
<<<<<<< HEAD
<<<<<<< HEAD
<<<<<<< HEAD
<<<<<<< HEAD
<<<<<<< HEAD
<<<<<<< HEAD
<<<<<<< HEAD
<<<<<<< HEAD
<<<<<<< HEAD
<<<<<<< HEAD
<<<<<<< HEAD
<<<<<<< HEAD
<<<<<<< HEAD
<<<<<<< HEAD
<<<<<<< HEAD
<<<<<<< HEAD
<<<<<<< HEAD
<<<<<<< HEAD
<<<<<<< HEAD
<<<<<<< HEAD
<<<<<<< HEAD
<<<<<<< HEAD
<<<<<<< HEAD
<<<<<<< HEAD
<<<<<<< HEAD
<<<<<<< HEAD
<<<<<<< HEAD
<<<<<<< HEAD
<<<<<<< HEAD
<<<<<<< HEAD
=======
>>>>>>> dc9386ff19 (Add Binder badge/button to readme (#1628))
=======
>>>>>>> 72f0d278b2 (Add Binder badge/button to readme (#1628))
=======
>>>>>>> 8500c8720e (Add Binder badge/button to readme (#1628))
=======
>>>>>>> 118a90ef8b (Add Binder badge/button to readme (#1628))
=======
>>>>>>> ee5e000e2b (Add Binder badge/button to readme (#1628))
=======
>>>>>>> 0902609bfc (Add Binder badge/button to readme (#1628))
=======
>>>>>>> e13cd54a0f (Add Binder badge/button to readme (#1628))
=======
>>>>>>> df12705265 (Add Binder badge/button to readme (#1628))
=======
>>>>>>> 00859ebcd4 (Add Binder badge/button to readme (#1628))
=======
>>>>>>> aa9c0bff66 (Add Binder badge/button to readme (#1628))
=======
>>>>>>> 7c76b7f7c0 (Add Binder badge/button to readme (#1628))
=======
>>>>>>> 4db983de69 (Add Binder badge/button to readme (#1628))
=======
>>>>>>> ce49542432 (Add Binder badge/button to readme (#1628))
=======
>>>>>>> bf116f53b0 (Add Binder badge/button to readme (#1628))
=======
>>>>>>> 0a9ba2e3fa (Add Binder badge/button to readme (#1628))
=======
>>>>>>> bc8c26248b (Add Binder badge/button to readme (#1628))
=======
>>>>>>> d378f4420b (Add Binder badge/button to readme (#1628))
=======
>>>>>>> 4fcbd3f967 (Add Binder badge/button to readme (#1628))
=======
>>>>>>> f723e019f3 (Add Binder badge/button to readme (#1628))
<<<<<<< HEAD
<<<<<<< HEAD
=======
>>>>>>> e28239bf7b (Add Binder badge/button to readme (#1628))
=======
>>>>>>> 47fc32999c (Add Binder badge/button to readme (#1628))
<<<<<<< HEAD
<<<<<<< HEAD
=======
>>>>>>> d7010890e1 (Add Binder badge/button to readme (#1628))
=======
>>>>>>> 9fcc606878 (Add Binder badge/button to readme (#1628))
<<<<<<< HEAD
<<<<<<< HEAD
=======
>>>>>>> 50aa049e59 (Add Binder badge/button to readme (#1628))
=======
>>>>>>> 2e71c24fb0 (Add Binder badge/button to readme (#1628))
<<<<<<< HEAD
<<<<<<< HEAD
=======
>>>>>>> c33bedbddf (Add Binder badge/button to readme (#1628))
=======
>>>>>>> eda5a73942 (Add Binder badge/button to readme (#1628))
<<<<<<< HEAD
<<<<<<< HEAD
=======
>>>>>>> a807758bcc (Add Binder badge/button to readme (#1628))
=======
>>>>>>> f4f8e0d593 (Add Binder badge/button to readme (#1628))
<<<<<<< HEAD
<<<<<<< HEAD
=======
>>>>>>> b27e109a47 (Add Binder badge/button to readme (#1628))
=======
>>>>>>> bbb5f12d40 (Add Binder badge/button to readme (#1628))
<<<<<<< HEAD
<<<<<<< HEAD
=======
>>>>>>> 2390a327b4 (Add Binder badge/button to readme (#1628))
=======
>>>>>>> 8ac294c05f (Add Binder badge/button to readme (#1628))
<<<<<<< HEAD
<<<<<<< HEAD
=======
>>>>>>> 8e2ca9c153 (Add Binder badge/button to readme (#1628))
=======
>>>>>>> 8257ecf53a (Add Binder badge/button to readme (#1628))
<<<<<<< HEAD
=======
>>>>>>> d61771ce2d (Add Binder setup files (#1603))
=======
>>>>>>> 104e187247 (Add Binder setup files (#1603))
=======
=======
>>>>>>> 4fcbd3f967 (Add Binder badge/button to readme (#1628))
>>>>>>> b9a54acd98 (Add Binder badge/button to readme (#1628))
=======
>>>>>>> dc9386ff19 (Add Binder badge/button to readme (#1628))
=======
=======
>>>>>>> e28239bf7b (Add Binder badge/button to readme (#1628))
>>>>>>> 72f0d278b2 (Add Binder badge/button to readme (#1628))
=======
>>>>>>> 8500c8720e (Add Binder badge/button to readme (#1628))
=======
=======
>>>>>>> d7010890e1 (Add Binder badge/button to readme (#1628))
>>>>>>> 118a90ef8b (Add Binder badge/button to readme (#1628))
=======
>>>>>>> ee5e000e2b (Add Binder badge/button to readme (#1628))
=======
=======
>>>>>>> 50aa049e59 (Add Binder badge/button to readme (#1628))
>>>>>>> 0902609bfc (Add Binder badge/button to readme (#1628))
=======
>>>>>>> e13cd54a0f (Add Binder badge/button to readme (#1628))
=======
=======
>>>>>>> c33bedbddf (Add Binder badge/button to readme (#1628))
>>>>>>> df12705265 (Add Binder badge/button to readme (#1628))
=======
>>>>>>> 00859ebcd4 (Add Binder badge/button to readme (#1628))
=======
=======
>>>>>>> a807758bcc (Add Binder badge/button to readme (#1628))
>>>>>>> aa9c0bff66 (Add Binder badge/button to readme (#1628))
=======
>>>>>>> 7c76b7f7c0 (Add Binder badge/button to readme (#1628))
=======
=======
>>>>>>> b27e109a47 (Add Binder badge/button to readme (#1628))
>>>>>>> 4db983de69 (Add Binder badge/button to readme (#1628))
=======
>>>>>>> ce49542432 (Add Binder badge/button to readme (#1628))
=======
=======
>>>>>>> 2390a327b4 (Add Binder badge/button to readme (#1628))
>>>>>>> bf116f53b0 (Add Binder badge/button to readme (#1628))
=======
>>>>>>> 0a9ba2e3fa (Add Binder badge/button to readme (#1628))
=======
=======
>>>>>>> 8e2ca9c153 (Add Binder badge/button to readme (#1628))
>>>>>>> bc8c26248b (Add Binder badge/button to readme (#1628))
=======
>>>>>>> d378f4420b (Add Binder badge/button to readme (#1628))
   "source": [
    "# Import Python standard library and IPython packages we need.\n",
    "import os\n",
    "import sys\n",
    "import subprocess\n",
    "from IPython.display import Image\n",
    "\n",
    "# Ask GRASS GIS where its Python packages are.\n",
    "gisbase = subprocess.check_output([\"grass\", \"--config\", \"path\"], text=True).strip()\n",
    "os.environ['GISBASE'] = gisbase\n",
    "sys.path.append(os.path.join(gisbase, \"etc\", \"python\"))\n",
    "\n",
    "# Import the GRASS GIS packages we need.\n",
    "import grass.script as gs\n",
    "import grass.script.setup as gsetup\n",
    "\n",
    "# Create a GRASS GIS session.\n",
    "rcfile = gsetup.init(gisbase, \"../../data/grassdata\", \"nc_basic_spm_grass7\", \"user1\")\n",
    "\n",
    "# We want functions to raise exceptions and see standard output of the modules in the notebook.\n",
    "gs.set_raise_on_error(True)\n",
    "gs.set_capture_stderr(True)\n",
    "# Simply overwrite existing maps like we overwrite Python variable values.\n",
    "os.environ['GRASS_OVERWRITE'] = '1'\n",
    "# Enable map rendering in a notebook.\n",
    "os.environ['GRASS_FONT'] = 'sans'\n",
    "# Set display modules to render into a file (named map.png by default)\n",
    "os.environ['GRASS_RENDER_IMMEDIATE'] = 'cairo'\n",
    "os.environ['GRASS_RENDER_FILE_READ'] = 'TRUE'\n",
    "os.environ['GRASS_LEGEND_FILE'] = 'legend.txt'"
   ]
  },
  {
<<<<<<< HEAD
<<<<<<< HEAD
<<<<<<< HEAD
<<<<<<< HEAD
<<<<<<< HEAD
<<<<<<< HEAD
<<<<<<< HEAD
<<<<<<< HEAD
<<<<<<< HEAD
<<<<<<< HEAD
<<<<<<< HEAD
<<<<<<< HEAD
<<<<<<< HEAD
<<<<<<< HEAD
<<<<<<< HEAD
<<<<<<< HEAD
<<<<<<< HEAD
<<<<<<< HEAD
<<<<<<< HEAD
<<<<<<< HEAD
<<<<<<< HEAD
<<<<<<< HEAD
<<<<<<< HEAD
<<<<<<< HEAD
<<<<<<< HEAD
<<<<<<< HEAD
<<<<<<< HEAD
<<<<<<< HEAD
<<<<<<< HEAD
<<<<<<< HEAD
<<<<<<< HEAD
<<<<<<< HEAD
<<<<<<< HEAD
<<<<<<< HEAD
<<<<<<< HEAD
<<<<<<< HEAD
<<<<<<< HEAD
<<<<<<< HEAD
<<<<<<< HEAD
<<<<<<< HEAD
<<<<<<< HEAD
<<<<<<< HEAD
<<<<<<< HEAD
<<<<<<< HEAD
<<<<<<< HEAD
<<<<<<< HEAD
<<<<<<< HEAD
<<<<<<< HEAD
<<<<<<< HEAD
<<<<<<< HEAD
<<<<<<< HEAD
<<<<<<< HEAD
<<<<<<< HEAD
<<<<<<< HEAD
<<<<<<< HEAD
<<<<<<< HEAD
<<<<<<< HEAD
<<<<<<< HEAD
<<<<<<< HEAD
<<<<<<< HEAD
<<<<<<< HEAD
<<<<<<< HEAD
<<<<<<< HEAD
<<<<<<< HEAD
=======
<<<<<<< HEAD
>>>>>>> main
   "cell_type": "markdown",
   "metadata": {},
=======
>>>>>>> osgeo-main
=======
>>>>>>> osgeo-main
=======
>>>>>>> osgeo-main
=======
>>>>>>> d7010890e1 (Add Binder badge/button to readme (#1628))
=======
>>>>>>> osgeo-main
=======
>>>>>>> osgeo-main
=======
>>>>>>> 58e6f5060a (Add Binder badge/button to readme (#1628))
=======
<<<<<<< HEAD
>>>>>>> 50aa049e59 (Add Binder badge/button to readme (#1628))
=======
>>>>>>> osgeo-main
=======
>>>>>>> osgeo-main
>>>>>>> main
=======
>>>>>>> osgeo-main
=======
>>>>>>> osgeo-main
=======
>>>>>>> osgeo-main
=======
>>>>>>> osgeo-main
=======
>>>>>>> osgeo-main
=======
>>>>>>> osgeo-main
=======
>>>>>>> osgeo-main
=======
>>>>>>> osgeo-main
=======
>>>>>>> da4381783c (Add Binder badge/button to readme (#1628))
=======
>>>>>>> osgeo-main
=======
>>>>>>> osgeo-main
=======
   "cell_type": "markdown",
   "metadata": {},
>>>>>>> c64d48cd6c (Add additional GRASS info to the main example notebook (#1686))
=======
=======
>>>>>>> e4b0e912a4 (Add Binder badge/button to readme (#1628))
=======
>>>>>>> b20066f7ff (Add Binder badge/button to readme (#1628))
=======
>>>>>>> bf4cf68e7a (Add Binder badge/button to readme (#1628))
=======
>>>>>>> a97c4bb91f (Add Binder badge/button to readme (#1628))
=======
>>>>>>> 01148b26a3 (Add Binder badge/button to readme (#1628))
=======
>>>>>>> d8b5d4044b (Add Binder badge/button to readme (#1628))
=======
>>>>>>> 939728f441 (Add Binder badge/button to readme (#1628))
=======
>>>>>>> 0bdc4b4dd8 (Add Binder badge/button to readme (#1628))
=======
>>>>>>> 487d2eaeaa (Add Binder badge/button to readme (#1628))
=======
>>>>>>> c3ac766842 (Add Binder badge/button to readme (#1628))
=======
>>>>>>> fe0747311e (Add Binder badge/button to readme (#1628))
=======
>>>>>>> fe406d59f0 (Add Binder badge/button to readme (#1628))
=======
>>>>>>> 085eab1722 (Add Binder badge/button to readme (#1628))
=======
>>>>>>> f4ca1b21d2 (Add Binder badge/button to readme (#1628))
=======
>>>>>>> 13d948fd24 (Add Binder badge/button to readme (#1628))
=======
>>>>>>> 746f2e6d8a (Add Binder badge/button to readme (#1628))
=======
>>>>>>> aebdb8e800 (Add Binder badge/button to readme (#1628))
=======
=======
>>>>>>> acaabcedb1 (Add Binder badge/button to readme (#1628))
=======
>>>>>>> 9e5adb4441 (Add Binder badge/button to readme (#1628))
=======
>>>>>>> ef1baf1027 (Add Binder badge/button to readme (#1628))
=======
>>>>>>> bc8c26248b (Add Binder badge/button to readme (#1628))
=======
>>>>>>> d378f4420b (Add Binder badge/button to readme (#1628))
=======
<<<<<<< HEAD
=======
>>>>>>> 855c626fb4 (Add Binder badge/button to readme (#1628))
<<<<<<< HEAD
<<<<<<< HEAD
>>>>>>> b1889b7764 (Add Binder badge/button to readme (#1628))
=======
>>>>>>> 72f0d278b2 (Add Binder badge/button to readme (#1628))
=======
>>>>>>> 8500c8720e (Add Binder badge/button to readme (#1628))
=======
>>>>>>> ac15d23554 (Add Binder badge/button to readme (#1628))
=======
>>>>>>> 118a90ef8b (Add Binder badge/button to readme (#1628))
=======
>>>>>>> ee5e000e2b (Add Binder badge/button to readme (#1628))
=======
>>>>>>> 2c51b13e9f (Add Binder badge/button to readme (#1628))
=======
>>>>>>> f8951eb271 (Add Binder badge/button to readme (#1628))
=======
>>>>>>> 0902609bfc (Add Binder badge/button to readme (#1628))
=======
>>>>>>> e13cd54a0f (Add Binder badge/button to readme (#1628))
=======
>>>>>>> df12705265 (Add Binder badge/button to readme (#1628))
=======
>>>>>>> 00859ebcd4 (Add Binder badge/button to readme (#1628))
=======
>>>>>>> aa9c0bff66 (Add Binder badge/button to readme (#1628))
=======
>>>>>>> 7c76b7f7c0 (Add Binder badge/button to readme (#1628))
=======
>>>>>>> 4db983de69 (Add Binder badge/button to readme (#1628))
=======
>>>>>>> ce49542432 (Add Binder badge/button to readme (#1628))
=======
>>>>>>> bf116f53b0 (Add Binder badge/button to readme (#1628))
=======
>>>>>>> 0a9ba2e3fa (Add Binder badge/button to readme (#1628))
=======
>>>>>>> ef1baf1027 (Add Binder badge/button to readme (#1628))
   "cell_type": "markdown",
   "metadata": {},
=======
>>>>>>> f723e019f3 (Add Binder badge/button to readme (#1628))
<<<<<<< HEAD
<<<<<<< HEAD
>>>>>>> 9531f8e4af (Add Binder badge/button to readme (#1628))
=======
=======
>>>>>>> e28239bf7b (Add Binder badge/button to readme (#1628))
<<<<<<< HEAD
<<<<<<< HEAD
>>>>>>> e4b0e912a4 (Add Binder badge/button to readme (#1628))
=======
=======
<<<<<<< HEAD
>>>>>>> 47fc32999c (Add Binder badge/button to readme (#1628))
<<<<<<< HEAD
>>>>>>> b20066f7ff (Add Binder badge/button to readme (#1628))
=======
=======
>>>>>>> osgeo-main
=======
>>>>>>> d7010890e1 (Add Binder badge/button to readme (#1628))
>>>>>>> 0503a5c10a (Add Binder badge/button to readme (#1628))
<<<<<<< HEAD
<<<<<<< HEAD
>>>>>>> bf4cf68e7a (Add Binder badge/button to readme (#1628))
=======
=======
>>>>>>> d7010890e1 (Add Binder badge/button to readme (#1628))
<<<<<<< HEAD
<<<<<<< HEAD
>>>>>>> a97c4bb91f (Add Binder badge/button to readme (#1628))
=======
=======
<<<<<<< HEAD
>>>>>>> 9fcc606878 (Add Binder badge/button to readme (#1628))
<<<<<<< HEAD
>>>>>>> 01148b26a3 (Add Binder badge/button to readme (#1628))
=======
=======
>>>>>>> osgeo-main
=======
>>>>>>> 58e6f5060a (Add Binder badge/button to readme (#1628))
<<<<<<< HEAD
>>>>>>> 8e6cd350bf (Add Binder badge/button to readme (#1628))
<<<<<<< HEAD
>>>>>>> d8b5d4044b (Add Binder badge/button to readme (#1628))
=======
=======
=======
>>>>>>> 50aa049e59 (Add Binder badge/button to readme (#1628))
>>>>>>> 52dc90b371 (Add Binder badge/button to readme (#1628))
<<<<<<< HEAD
<<<<<<< HEAD
>>>>>>> 939728f441 (Add Binder badge/button to readme (#1628))
=======
=======
>>>>>>> 50aa049e59 (Add Binder badge/button to readme (#1628))
<<<<<<< HEAD
<<<<<<< HEAD
>>>>>>> 0bdc4b4dd8 (Add Binder badge/button to readme (#1628))
=======
=======
>>>>>>> 2e71c24fb0 (Add Binder badge/button to readme (#1628))
<<<<<<< HEAD
<<<<<<< HEAD
>>>>>>> 487d2eaeaa (Add Binder badge/button to readme (#1628))
=======
=======
>>>>>>> c33bedbddf (Add Binder badge/button to readme (#1628))
<<<<<<< HEAD
<<<<<<< HEAD
>>>>>>> c3ac766842 (Add Binder badge/button to readme (#1628))
=======
=======
>>>>>>> eda5a73942 (Add Binder badge/button to readme (#1628))
<<<<<<< HEAD
<<<<<<< HEAD
>>>>>>> fe0747311e (Add Binder badge/button to readme (#1628))
=======
=======
>>>>>>> a807758bcc (Add Binder badge/button to readme (#1628))
<<<<<<< HEAD
<<<<<<< HEAD
>>>>>>> fe406d59f0 (Add Binder badge/button to readme (#1628))
=======
=======
>>>>>>> f4f8e0d593 (Add Binder badge/button to readme (#1628))
<<<<<<< HEAD
<<<<<<< HEAD
>>>>>>> 085eab1722 (Add Binder badge/button to readme (#1628))
=======
=======
>>>>>>> b27e109a47 (Add Binder badge/button to readme (#1628))
<<<<<<< HEAD
<<<<<<< HEAD
>>>>>>> f4ca1b21d2 (Add Binder badge/button to readme (#1628))
=======
=======
>>>>>>> bbb5f12d40 (Add Binder badge/button to readme (#1628))
<<<<<<< HEAD
<<<<<<< HEAD
>>>>>>> 13d948fd24 (Add Binder badge/button to readme (#1628))
=======
=======
>>>>>>> 2390a327b4 (Add Binder badge/button to readme (#1628))
<<<<<<< HEAD
<<<<<<< HEAD
>>>>>>> 746f2e6d8a (Add Binder badge/button to readme (#1628))
=======
=======
<<<<<<< HEAD
>>>>>>> 8ac294c05f (Add Binder badge/button to readme (#1628))
<<<<<<< HEAD
>>>>>>> aebdb8e800 (Add Binder badge/button to readme (#1628))
=======
=======
>>>>>>> osgeo-main
=======
>>>>>>> osgeo-main
=======
>>>>>>> da4381783c (Add Binder badge/button to readme (#1628))
>>>>>>> 855c626fb4 (Add Binder badge/button to readme (#1628))
<<<<<<< HEAD
<<<<<<< HEAD
>>>>>>> b1889b7764 (Add Binder badge/button to readme (#1628))
=======
=======
>>>>>>> 8e2ca9c153 (Add Binder badge/button to readme (#1628))
<<<<<<< HEAD
<<<<<<< HEAD
>>>>>>> acaabcedb1 (Add Binder badge/button to readme (#1628))
=======
=======
>>>>>>> 8257ecf53a (Add Binder badge/button to readme (#1628))
>>>>>>> 9e5adb4441 (Add Binder badge/button to readme (#1628))
=======
   "cell_type": "markdown",
   "metadata": {},
>>>>>>> 75aba2088a (Add additional GRASS info to the main example notebook (#1686))
=======
   "cell_type": "markdown",
   "metadata": {},
=======
>>>>>>> f723e019f3 (Add Binder badge/button to readme (#1628))
>>>>>>> dc9386ff19 (Add Binder badge/button to readme (#1628))
=======
=======
>>>>>>> e28239bf7b (Add Binder badge/button to readme (#1628))
>>>>>>> 72f0d278b2 (Add Binder badge/button to readme (#1628))
=======
=======
<<<<<<< HEAD
>>>>>>> 47fc32999c (Add Binder badge/button to readme (#1628))
<<<<<<< HEAD
>>>>>>> 8500c8720e (Add Binder badge/button to readme (#1628))
=======
=======
>>>>>>> osgeo-main
=======
>>>>>>> d7010890e1 (Add Binder badge/button to readme (#1628))
>>>>>>> 0503a5c10a (Add Binder badge/button to readme (#1628))
>>>>>>> ac15d23554 (Add Binder badge/button to readme (#1628))
=======
=======
>>>>>>> d7010890e1 (Add Binder badge/button to readme (#1628))
>>>>>>> 118a90ef8b (Add Binder badge/button to readme (#1628))
=======
=======
<<<<<<< HEAD
>>>>>>> 9fcc606878 (Add Binder badge/button to readme (#1628))
<<<<<<< HEAD
>>>>>>> ee5e000e2b (Add Binder badge/button to readme (#1628))
=======
=======
>>>>>>> osgeo-main
=======
>>>>>>> 58e6f5060a (Add Binder badge/button to readme (#1628))
<<<<<<< HEAD
>>>>>>> 8e6cd350bf (Add Binder badge/button to readme (#1628))
<<<<<<< HEAD
>>>>>>> 2c51b13e9f (Add Binder badge/button to readme (#1628))
=======
=======
=======
>>>>>>> 50aa049e59 (Add Binder badge/button to readme (#1628))
>>>>>>> 52dc90b371 (Add Binder badge/button to readme (#1628))
>>>>>>> f8951eb271 (Add Binder badge/button to readme (#1628))
=======
=======
>>>>>>> 50aa049e59 (Add Binder badge/button to readme (#1628))
>>>>>>> 0902609bfc (Add Binder badge/button to readme (#1628))
=======
=======
>>>>>>> 2e71c24fb0 (Add Binder badge/button to readme (#1628))
>>>>>>> e13cd54a0f (Add Binder badge/button to readme (#1628))
=======
=======
>>>>>>> c33bedbddf (Add Binder badge/button to readme (#1628))
>>>>>>> df12705265 (Add Binder badge/button to readme (#1628))
=======
=======
>>>>>>> eda5a73942 (Add Binder badge/button to readme (#1628))
>>>>>>> 00859ebcd4 (Add Binder badge/button to readme (#1628))
=======
=======
>>>>>>> a807758bcc (Add Binder badge/button to readme (#1628))
>>>>>>> aa9c0bff66 (Add Binder badge/button to readme (#1628))
=======
=======
>>>>>>> f4f8e0d593 (Add Binder badge/button to readme (#1628))
>>>>>>> 7c76b7f7c0 (Add Binder badge/button to readme (#1628))
=======
=======
>>>>>>> b27e109a47 (Add Binder badge/button to readme (#1628))
>>>>>>> 4db983de69 (Add Binder badge/button to readme (#1628))
=======
=======
>>>>>>> bbb5f12d40 (Add Binder badge/button to readme (#1628))
>>>>>>> ce49542432 (Add Binder badge/button to readme (#1628))
=======
=======
>>>>>>> 2390a327b4 (Add Binder badge/button to readme (#1628))
>>>>>>> bf116f53b0 (Add Binder badge/button to readme (#1628))
=======
=======
<<<<<<< HEAD
>>>>>>> 8ac294c05f (Add Binder badge/button to readme (#1628))
<<<<<<< HEAD
>>>>>>> 0a9ba2e3fa (Add Binder badge/button to readme (#1628))
=======
=======
>>>>>>> osgeo-main
=======
>>>>>>> osgeo-main
=======
>>>>>>> da4381783c (Add Binder badge/button to readme (#1628))
>>>>>>> 855c626fb4 (Add Binder badge/button to readme (#1628))
>>>>>>> ef1baf1027 (Add Binder badge/button to readme (#1628))
=======
=======
>>>>>>> 8e2ca9c153 (Add Binder badge/button to readme (#1628))
>>>>>>> bc8c26248b (Add Binder badge/button to readme (#1628))
=======
=======
>>>>>>> 8257ecf53a (Add Binder badge/button to readme (#1628))
>>>>>>> d378f4420b (Add Binder badge/button to readme (#1628))
   "source": [
    "## Raster buffer\n",
    "\n",
    "Set computational region and create multiple buffers in given distances\n",
    "around lakes represented as raster:"
<<<<<<< HEAD
<<<<<<< HEAD
<<<<<<< HEAD
<<<<<<< HEAD
<<<<<<< HEAD
<<<<<<< HEAD
<<<<<<< HEAD
<<<<<<< HEAD
<<<<<<< HEAD
<<<<<<< HEAD
<<<<<<< HEAD
<<<<<<< HEAD
<<<<<<< HEAD
<<<<<<< HEAD
<<<<<<< HEAD
<<<<<<< HEAD
<<<<<<< HEAD
<<<<<<< HEAD
<<<<<<< HEAD
<<<<<<< HEAD
<<<<<<< HEAD
<<<<<<< HEAD
<<<<<<< HEAD
<<<<<<< HEAD
<<<<<<< HEAD
<<<<<<< HEAD
<<<<<<< HEAD
<<<<<<< HEAD
<<<<<<< HEAD
<<<<<<< HEAD
<<<<<<< HEAD
<<<<<<< HEAD
<<<<<<< HEAD
<<<<<<< HEAD
<<<<<<< HEAD
<<<<<<< HEAD
<<<<<<< HEAD
<<<<<<< HEAD
<<<<<<< HEAD
<<<<<<< HEAD
<<<<<<< HEAD
<<<<<<< HEAD
<<<<<<< HEAD
<<<<<<< HEAD
<<<<<<< HEAD
<<<<<<< HEAD
<<<<<<< HEAD
<<<<<<< HEAD
<<<<<<< HEAD
<<<<<<< HEAD
<<<<<<< HEAD
<<<<<<< HEAD
<<<<<<< HEAD
<<<<<<< HEAD
<<<<<<< HEAD
<<<<<<< HEAD
<<<<<<< HEAD
<<<<<<< HEAD
<<<<<<< HEAD
<<<<<<< HEAD
<<<<<<< HEAD
<<<<<<< HEAD
<<<<<<< HEAD
<<<<<<< HEAD
=======
<<<<<<< HEAD
>>>>>>> main
=======
>>>>>>> 9531f8e4af (Add Binder badge/button to readme (#1628))
=======
>>>>>>> e4b0e912a4 (Add Binder badge/button to readme (#1628))
=======
>>>>>>> b20066f7ff (Add Binder badge/button to readme (#1628))
=======
>>>>>>> bf4cf68e7a (Add Binder badge/button to readme (#1628))
=======
>>>>>>> a97c4bb91f (Add Binder badge/button to readme (#1628))
=======
>>>>>>> 01148b26a3 (Add Binder badge/button to readme (#1628))
=======
>>>>>>> d8b5d4044b (Add Binder badge/button to readme (#1628))
=======
>>>>>>> 939728f441 (Add Binder badge/button to readme (#1628))
=======
>>>>>>> 0bdc4b4dd8 (Add Binder badge/button to readme (#1628))
=======
>>>>>>> 487d2eaeaa (Add Binder badge/button to readme (#1628))
=======
>>>>>>> c3ac766842 (Add Binder badge/button to readme (#1628))
=======
>>>>>>> fe0747311e (Add Binder badge/button to readme (#1628))
=======
>>>>>>> fe406d59f0 (Add Binder badge/button to readme (#1628))
=======
>>>>>>> 085eab1722 (Add Binder badge/button to readme (#1628))
=======
>>>>>>> f4ca1b21d2 (Add Binder badge/button to readme (#1628))
=======
>>>>>>> 13d948fd24 (Add Binder badge/button to readme (#1628))
=======
>>>>>>> 746f2e6d8a (Add Binder badge/button to readme (#1628))
=======
>>>>>>> aebdb8e800 (Add Binder badge/button to readme (#1628))
=======
=======
>>>>>>> acaabcedb1 (Add Binder badge/button to readme (#1628))
=======
>>>>>>> 9e5adb4441 (Add Binder badge/button to readme (#1628))
=======
>>>>>>> ef1baf1027 (Add Binder badge/button to readme (#1628))
=======
>>>>>>> bc8c26248b (Add Binder badge/button to readme (#1628))
=======
>>>>>>> d378f4420b (Add Binder badge/button to readme (#1628))
=======
<<<<<<< HEAD
=======
>>>>>>> 855c626fb4 (Add Binder badge/button to readme (#1628))
<<<<<<< HEAD
<<<<<<< HEAD
>>>>>>> b1889b7764 (Add Binder badge/button to readme (#1628))
=======
>>>>>>> dc9386ff19 (Add Binder badge/button to readme (#1628))
=======
>>>>>>> 72f0d278b2 (Add Binder badge/button to readme (#1628))
=======
>>>>>>> 8500c8720e (Add Binder badge/button to readme (#1628))
=======
>>>>>>> ac15d23554 (Add Binder badge/button to readme (#1628))
=======
>>>>>>> 118a90ef8b (Add Binder badge/button to readme (#1628))
=======
>>>>>>> ee5e000e2b (Add Binder badge/button to readme (#1628))
=======
>>>>>>> 2c51b13e9f (Add Binder badge/button to readme (#1628))
=======
>>>>>>> f8951eb271 (Add Binder badge/button to readme (#1628))
=======
>>>>>>> 0902609bfc (Add Binder badge/button to readme (#1628))
=======
>>>>>>> e13cd54a0f (Add Binder badge/button to readme (#1628))
=======
>>>>>>> df12705265 (Add Binder badge/button to readme (#1628))
=======
>>>>>>> 00859ebcd4 (Add Binder badge/button to readme (#1628))
=======
>>>>>>> aa9c0bff66 (Add Binder badge/button to readme (#1628))
=======
>>>>>>> 7c76b7f7c0 (Add Binder badge/button to readme (#1628))
=======
>>>>>>> 4db983de69 (Add Binder badge/button to readme (#1628))
=======
>>>>>>> ce49542432 (Add Binder badge/button to readme (#1628))
=======
>>>>>>> bf116f53b0 (Add Binder badge/button to readme (#1628))
=======
>>>>>>> 0a9ba2e3fa (Add Binder badge/button to readme (#1628))
=======
>>>>>>> ef1baf1027 (Add Binder badge/button to readme (#1628))
   ]
=======
   ],
   "cell_type": "markdown",
   "metadata": {}
<<<<<<< HEAD
<<<<<<< HEAD
>>>>>>> osgeo-main
=======
   ],
   "cell_type": "markdown",
   "metadata": {}
>>>>>>> osgeo-main
=======
   ],
   "cell_type": "markdown",
   "metadata": {}
>>>>>>> osgeo-main
=======
   ],
   "cell_type": "markdown",
   "metadata": {}
>>>>>>> d7010890e1 (Add Binder badge/button to readme (#1628))
=======
   ],
   "cell_type": "markdown",
   "metadata": {}
>>>>>>> osgeo-main
=======
   ],
   "cell_type": "markdown",
   "metadata": {}
>>>>>>> osgeo-main
=======
   ],
   "cell_type": "markdown",
   "metadata": {}
>>>>>>> 58e6f5060a (Add Binder badge/button to readme (#1628))
=======
   ],
   "cell_type": "markdown",
   "metadata": {}
<<<<<<< HEAD
>>>>>>> 50aa049e59 (Add Binder badge/button to readme (#1628))
=======
>>>>>>> osgeo-main
=======
   ],
   "cell_type": "markdown",
   "metadata": {}
>>>>>>> osgeo-main
>>>>>>> main
=======
   ],
   "cell_type": "markdown",
   "metadata": {}
>>>>>>> osgeo-main
=======
   ],
   "cell_type": "markdown",
   "metadata": {}
>>>>>>> osgeo-main
=======
   ],
   "cell_type": "markdown",
   "metadata": {}
>>>>>>> osgeo-main
=======
   ],
   "cell_type": "markdown",
   "metadata": {}
>>>>>>> osgeo-main
=======
   ],
   "cell_type": "markdown",
   "metadata": {}
>>>>>>> osgeo-main
=======
   ],
   "cell_type": "markdown",
   "metadata": {}
>>>>>>> osgeo-main
=======
   ],
   "cell_type": "markdown",
   "metadata": {}
>>>>>>> osgeo-main
=======
   ],
   "cell_type": "markdown",
   "metadata": {}
>>>>>>> osgeo-main
=======
   ],
   "cell_type": "markdown",
   "metadata": {}
>>>>>>> da4381783c (Add Binder badge/button to readme (#1628))
=======
   ],
   "cell_type": "markdown",
   "metadata": {}
>>>>>>> osgeo-main
=======
   ],
   "cell_type": "markdown",
   "metadata": {}
>>>>>>> osgeo-main
=======
   ]
>>>>>>> c64d48cd6c (Add additional GRASS info to the main example notebook (#1686))
=======
>>>>>>> f723e019f3 (Add Binder badge/button to readme (#1628))
<<<<<<< HEAD
<<<<<<< HEAD
>>>>>>> 9531f8e4af (Add Binder badge/button to readme (#1628))
=======
=======
>>>>>>> 72f0d278b2 (Add Binder badge/button to readme (#1628))
=======
   ],
   "cell_type": "markdown",
   "metadata": {}
>>>>>>> e28239bf7b (Add Binder badge/button to readme (#1628))
<<<<<<< HEAD
<<<<<<< HEAD
<<<<<<< HEAD
>>>>>>> e4b0e912a4 (Add Binder badge/button to readme (#1628))
=======
=======
>>>>>>> 8500c8720e (Add Binder badge/button to readme (#1628))
=======
   ],
   "cell_type": "markdown",
   "metadata": {}
<<<<<<< HEAD
<<<<<<< HEAD
<<<<<<< HEAD
>>>>>>> 47fc32999c (Add Binder badge/button to readme (#1628))
<<<<<<< HEAD
>>>>>>> b20066f7ff (Add Binder badge/button to readme (#1628))
=======
=======
>>>>>>> 47fc32999c (Add Binder badge/button to readme (#1628))
>>>>>>> ac15d23554 (Add Binder badge/button to readme (#1628))
=======
>>>>>>> osgeo-main
=======
   ],
   "cell_type": "markdown",
   "metadata": {}
>>>>>>> d7010890e1 (Add Binder badge/button to readme (#1628))
>>>>>>> 0503a5c10a (Add Binder badge/button to readme (#1628))
<<<<<<< HEAD
<<<<<<< HEAD
<<<<<<< HEAD
>>>>>>> bf4cf68e7a (Add Binder badge/button to readme (#1628))
=======
=======
>>>>>>> 118a90ef8b (Add Binder badge/button to readme (#1628))
=======
   ],
   "cell_type": "markdown",
   "metadata": {}
>>>>>>> d7010890e1 (Add Binder badge/button to readme (#1628))
<<<<<<< HEAD
<<<<<<< HEAD
<<<<<<< HEAD
>>>>>>> a97c4bb91f (Add Binder badge/button to readme (#1628))
=======
=======
>>>>>>> ee5e000e2b (Add Binder badge/button to readme (#1628))
=======
   ],
   "cell_type": "markdown",
   "metadata": {}
<<<<<<< HEAD
<<<<<<< HEAD
<<<<<<< HEAD
>>>>>>> 9fcc606878 (Add Binder badge/button to readme (#1628))
<<<<<<< HEAD
>>>>>>> 01148b26a3 (Add Binder badge/button to readme (#1628))
=======
=======
>>>>>>> 9fcc606878 (Add Binder badge/button to readme (#1628))
>>>>>>> 2c51b13e9f (Add Binder badge/button to readme (#1628))
=======
>>>>>>> osgeo-main
=======
   ],
   "cell_type": "markdown",
   "metadata": {}
>>>>>>> osgeo-main
=======
   ],
   "cell_type": "markdown",
   "metadata": {}
>>>>>>> 58e6f5060a (Add Binder badge/button to readme (#1628))
<<<<<<< HEAD
<<<<<<< HEAD
<<<<<<< HEAD
>>>>>>> 8e6cd350bf (Add Binder badge/button to readme (#1628))
<<<<<<< HEAD
>>>>>>> d8b5d4044b (Add Binder badge/button to readme (#1628))
=======
=======
>>>>>>> 8e6cd350bf (Add Binder badge/button to readme (#1628))
>>>>>>> f8951eb271 (Add Binder badge/button to readme (#1628))
=======
=======
   ],
   "cell_type": "markdown",
   "metadata": {}
>>>>>>> 50aa049e59 (Add Binder badge/button to readme (#1628))
>>>>>>> 52dc90b371 (Add Binder badge/button to readme (#1628))
<<<<<<< HEAD
<<<<<<< HEAD
<<<<<<< HEAD
>>>>>>> 939728f441 (Add Binder badge/button to readme (#1628))
=======
=======
>>>>>>> 0902609bfc (Add Binder badge/button to readme (#1628))
=======
   ],
   "cell_type": "markdown",
   "metadata": {}
>>>>>>> 50aa049e59 (Add Binder badge/button to readme (#1628))
<<<<<<< HEAD
<<<<<<< HEAD
<<<<<<< HEAD
>>>>>>> 0bdc4b4dd8 (Add Binder badge/button to readme (#1628))
=======
=======
>>>>>>> e13cd54a0f (Add Binder badge/button to readme (#1628))
=======
   ],
   "cell_type": "markdown",
   "metadata": {}
>>>>>>> 2e71c24fb0 (Add Binder badge/button to readme (#1628))
<<<<<<< HEAD
<<<<<<< HEAD
<<<<<<< HEAD
>>>>>>> 487d2eaeaa (Add Binder badge/button to readme (#1628))
=======
=======
>>>>>>> df12705265 (Add Binder badge/button to readme (#1628))
=======
   ],
   "cell_type": "markdown",
   "metadata": {}
>>>>>>> c33bedbddf (Add Binder badge/button to readme (#1628))
<<<<<<< HEAD
<<<<<<< HEAD
<<<<<<< HEAD
>>>>>>> c3ac766842 (Add Binder badge/button to readme (#1628))
=======
=======
>>>>>>> 00859ebcd4 (Add Binder badge/button to readme (#1628))
=======
   ],
   "cell_type": "markdown",
   "metadata": {}
>>>>>>> eda5a73942 (Add Binder badge/button to readme (#1628))
<<<<<<< HEAD
<<<<<<< HEAD
<<<<<<< HEAD
>>>>>>> fe0747311e (Add Binder badge/button to readme (#1628))
=======
=======
>>>>>>> aa9c0bff66 (Add Binder badge/button to readme (#1628))
=======
   ],
   "cell_type": "markdown",
   "metadata": {}
>>>>>>> a807758bcc (Add Binder badge/button to readme (#1628))
<<<<<<< HEAD
<<<<<<< HEAD
<<<<<<< HEAD
>>>>>>> fe406d59f0 (Add Binder badge/button to readme (#1628))
=======
=======
>>>>>>> 7c76b7f7c0 (Add Binder badge/button to readme (#1628))
=======
   ],
   "cell_type": "markdown",
   "metadata": {}
>>>>>>> f4f8e0d593 (Add Binder badge/button to readme (#1628))
<<<<<<< HEAD
<<<<<<< HEAD
<<<<<<< HEAD
>>>>>>> 085eab1722 (Add Binder badge/button to readme (#1628))
=======
=======
>>>>>>> 4db983de69 (Add Binder badge/button to readme (#1628))
=======
   ],
   "cell_type": "markdown",
   "metadata": {}
>>>>>>> b27e109a47 (Add Binder badge/button to readme (#1628))
<<<<<<< HEAD
<<<<<<< HEAD
<<<<<<< HEAD
>>>>>>> f4ca1b21d2 (Add Binder badge/button to readme (#1628))
=======
=======
>>>>>>> ce49542432 (Add Binder badge/button to readme (#1628))
=======
   ],
   "cell_type": "markdown",
   "metadata": {}
>>>>>>> bbb5f12d40 (Add Binder badge/button to readme (#1628))
<<<<<<< HEAD
<<<<<<< HEAD
<<<<<<< HEAD
>>>>>>> 13d948fd24 (Add Binder badge/button to readme (#1628))
=======
=======
>>>>>>> bf116f53b0 (Add Binder badge/button to readme (#1628))
=======
   ],
   "cell_type": "markdown",
   "metadata": {}
>>>>>>> 2390a327b4 (Add Binder badge/button to readme (#1628))
<<<<<<< HEAD
<<<<<<< HEAD
<<<<<<< HEAD
>>>>>>> 746f2e6d8a (Add Binder badge/button to readme (#1628))
=======
=======
>>>>>>> 0a9ba2e3fa (Add Binder badge/button to readme (#1628))
=======
   ],
   "cell_type": "markdown",
   "metadata": {}
<<<<<<< HEAD
<<<<<<< HEAD
<<<<<<< HEAD
>>>>>>> 8ac294c05f (Add Binder badge/button to readme (#1628))
<<<<<<< HEAD
>>>>>>> aebdb8e800 (Add Binder badge/button to readme (#1628))
=======
=======
>>>>>>> 8ac294c05f (Add Binder badge/button to readme (#1628))
>>>>>>> ef1baf1027 (Add Binder badge/button to readme (#1628))
=======
>>>>>>> osgeo-main
=======
   ],
   "cell_type": "markdown",
   "metadata": {}
>>>>>>> osgeo-main
=======
   ],
   "cell_type": "markdown",
   "metadata": {}
>>>>>>> da4381783c (Add Binder badge/button to readme (#1628))
>>>>>>> 855c626fb4 (Add Binder badge/button to readme (#1628))
<<<<<<< HEAD
<<<<<<< HEAD
<<<<<<< HEAD
>>>>>>> b1889b7764 (Add Binder badge/button to readme (#1628))
=======
=======
>>>>>>> bc8c26248b (Add Binder badge/button to readme (#1628))
=======
   ],
   "cell_type": "markdown",
   "metadata": {}
>>>>>>> 8e2ca9c153 (Add Binder badge/button to readme (#1628))
<<<<<<< HEAD
<<<<<<< HEAD
<<<<<<< HEAD
>>>>>>> acaabcedb1 (Add Binder badge/button to readme (#1628))
=======
=======
>>>>>>> d378f4420b (Add Binder badge/button to readme (#1628))
=======
   ],
   "cell_type": "markdown",
   "metadata": {}
>>>>>>> 8257ecf53a (Add Binder badge/button to readme (#1628))
<<<<<<< HEAD
>>>>>>> 9e5adb4441 (Add Binder badge/button to readme (#1628))
=======
   ]
>>>>>>> 75aba2088a (Add additional GRASS info to the main example notebook (#1686))
=======
>>>>>>> f723e019f3 (Add Binder badge/button to readme (#1628))
>>>>>>> dc9386ff19 (Add Binder badge/button to readme (#1628))
=======
>>>>>>> 72f0d278b2 (Add Binder badge/button to readme (#1628))
=======
>>>>>>> 47fc32999c (Add Binder badge/button to readme (#1628))
>>>>>>> 8500c8720e (Add Binder badge/button to readme (#1628))
=======
>>>>>>> ac15d23554 (Add Binder badge/button to readme (#1628))
=======
>>>>>>> 118a90ef8b (Add Binder badge/button to readme (#1628))
=======
>>>>>>> 9fcc606878 (Add Binder badge/button to readme (#1628))
>>>>>>> ee5e000e2b (Add Binder badge/button to readme (#1628))
=======
>>>>>>> 8e6cd350bf (Add Binder badge/button to readme (#1628))
>>>>>>> 2c51b13e9f (Add Binder badge/button to readme (#1628))
=======
>>>>>>> f8951eb271 (Add Binder badge/button to readme (#1628))
=======
>>>>>>> 0902609bfc (Add Binder badge/button to readme (#1628))
=======
>>>>>>> e13cd54a0f (Add Binder badge/button to readme (#1628))
=======
>>>>>>> df12705265 (Add Binder badge/button to readme (#1628))
=======
>>>>>>> 00859ebcd4 (Add Binder badge/button to readme (#1628))
=======
>>>>>>> aa9c0bff66 (Add Binder badge/button to readme (#1628))
=======
>>>>>>> 7c76b7f7c0 (Add Binder badge/button to readme (#1628))
=======
>>>>>>> 4db983de69 (Add Binder badge/button to readme (#1628))
=======
>>>>>>> ce49542432 (Add Binder badge/button to readme (#1628))
=======
>>>>>>> bf116f53b0 (Add Binder badge/button to readme (#1628))
=======
>>>>>>> 8ac294c05f (Add Binder badge/button to readme (#1628))
>>>>>>> 0a9ba2e3fa (Add Binder badge/button to readme (#1628))
=======
>>>>>>> ef1baf1027 (Add Binder badge/button to readme (#1628))
=======
>>>>>>> bc8c26248b (Add Binder badge/button to readme (#1628))
=======
>>>>>>> d378f4420b (Add Binder badge/button to readme (#1628))
  },
  {
   "cell_type": "code",
   "execution_count": null,
   "metadata": {},
   "outputs": [],
   "source": [
    "gs.parse_command('g.region', raster=\"lakes\", flags='pg')\n",
    "gs.run_command('r.buffer', input=\"lakes\", output=\"lakes_buff\", distances=[60, 120, 240, 500])\n",
    "gs.run_command('d.erase')\n",
    "gs.run_command('d.rast', map=\"lakes_buff\")\n",
    "gs.run_command('d.legend', raster=\"lakes_buff\", range=(2, 5), at=(80, 100, 2, 10))\n",
    "Image(filename=\"map.png\")"
   ]
  },
  {
<<<<<<< HEAD
<<<<<<< HEAD
<<<<<<< HEAD
<<<<<<< HEAD
<<<<<<< HEAD
<<<<<<< HEAD
<<<<<<< HEAD
<<<<<<< HEAD
<<<<<<< HEAD
<<<<<<< HEAD
<<<<<<< HEAD
<<<<<<< HEAD
<<<<<<< HEAD
<<<<<<< HEAD
<<<<<<< HEAD
<<<<<<< HEAD
<<<<<<< HEAD
<<<<<<< HEAD
<<<<<<< HEAD
<<<<<<< HEAD
<<<<<<< HEAD
<<<<<<< HEAD
<<<<<<< HEAD
<<<<<<< HEAD
<<<<<<< HEAD
<<<<<<< HEAD
<<<<<<< HEAD
<<<<<<< HEAD
<<<<<<< HEAD
<<<<<<< HEAD
<<<<<<< HEAD
<<<<<<< HEAD
<<<<<<< HEAD
<<<<<<< HEAD
<<<<<<< HEAD
<<<<<<< HEAD
<<<<<<< HEAD
<<<<<<< HEAD
<<<<<<< HEAD
<<<<<<< HEAD
<<<<<<< HEAD
<<<<<<< HEAD
<<<<<<< HEAD
<<<<<<< HEAD
<<<<<<< HEAD
<<<<<<< HEAD
<<<<<<< HEAD
<<<<<<< HEAD
<<<<<<< HEAD
<<<<<<< HEAD
<<<<<<< HEAD
<<<<<<< HEAD
<<<<<<< HEAD
<<<<<<< HEAD
<<<<<<< HEAD
<<<<<<< HEAD
<<<<<<< HEAD
<<<<<<< HEAD
<<<<<<< HEAD
<<<<<<< HEAD
<<<<<<< HEAD
<<<<<<< HEAD
<<<<<<< HEAD
<<<<<<< HEAD
=======
<<<<<<< HEAD
>>>>>>> main
   "cell_type": "markdown",
   "metadata": {},
=======
>>>>>>> osgeo-main
=======
>>>>>>> osgeo-main
=======
>>>>>>> osgeo-main
=======
>>>>>>> d7010890e1 (Add Binder badge/button to readme (#1628))
=======
>>>>>>> osgeo-main
=======
>>>>>>> osgeo-main
=======
>>>>>>> 58e6f5060a (Add Binder badge/button to readme (#1628))
=======
<<<<<<< HEAD
>>>>>>> 50aa049e59 (Add Binder badge/button to readme (#1628))
=======
>>>>>>> osgeo-main
=======
>>>>>>> osgeo-main
>>>>>>> main
=======
>>>>>>> osgeo-main
=======
>>>>>>> osgeo-main
=======
>>>>>>> osgeo-main
=======
>>>>>>> osgeo-main
=======
>>>>>>> osgeo-main
=======
>>>>>>> osgeo-main
=======
>>>>>>> osgeo-main
=======
>>>>>>> osgeo-main
=======
>>>>>>> da4381783c (Add Binder badge/button to readme (#1628))
=======
>>>>>>> osgeo-main
=======
>>>>>>> osgeo-main
=======
   "cell_type": "markdown",
   "metadata": {},
>>>>>>> c64d48cd6c (Add additional GRASS info to the main example notebook (#1686))
=======
=======
>>>>>>> e4b0e912a4 (Add Binder badge/button to readme (#1628))
=======
>>>>>>> b20066f7ff (Add Binder badge/button to readme (#1628))
=======
>>>>>>> bf4cf68e7a (Add Binder badge/button to readme (#1628))
=======
>>>>>>> a97c4bb91f (Add Binder badge/button to readme (#1628))
=======
>>>>>>> 01148b26a3 (Add Binder badge/button to readme (#1628))
=======
>>>>>>> d8b5d4044b (Add Binder badge/button to readme (#1628))
=======
>>>>>>> 939728f441 (Add Binder badge/button to readme (#1628))
=======
>>>>>>> 0bdc4b4dd8 (Add Binder badge/button to readme (#1628))
=======
>>>>>>> 487d2eaeaa (Add Binder badge/button to readme (#1628))
=======
>>>>>>> c3ac766842 (Add Binder badge/button to readme (#1628))
=======
>>>>>>> fe0747311e (Add Binder badge/button to readme (#1628))
=======
>>>>>>> fe406d59f0 (Add Binder badge/button to readme (#1628))
=======
>>>>>>> 085eab1722 (Add Binder badge/button to readme (#1628))
=======
>>>>>>> f4ca1b21d2 (Add Binder badge/button to readme (#1628))
=======
>>>>>>> 13d948fd24 (Add Binder badge/button to readme (#1628))
=======
>>>>>>> 746f2e6d8a (Add Binder badge/button to readme (#1628))
=======
>>>>>>> aebdb8e800 (Add Binder badge/button to readme (#1628))
=======
=======
>>>>>>> acaabcedb1 (Add Binder badge/button to readme (#1628))
=======
>>>>>>> 9e5adb4441 (Add Binder badge/button to readme (#1628))
=======
>>>>>>> ef1baf1027 (Add Binder badge/button to readme (#1628))
=======
>>>>>>> bc8c26248b (Add Binder badge/button to readme (#1628))
=======
>>>>>>> d378f4420b (Add Binder badge/button to readme (#1628))
=======
<<<<<<< HEAD
=======
>>>>>>> 855c626fb4 (Add Binder badge/button to readme (#1628))
<<<<<<< HEAD
<<<<<<< HEAD
>>>>>>> b1889b7764 (Add Binder badge/button to readme (#1628))
=======
>>>>>>> 72f0d278b2 (Add Binder badge/button to readme (#1628))
=======
>>>>>>> 8500c8720e (Add Binder badge/button to readme (#1628))
=======
>>>>>>> ac15d23554 (Add Binder badge/button to readme (#1628))
=======
>>>>>>> 118a90ef8b (Add Binder badge/button to readme (#1628))
=======
>>>>>>> ee5e000e2b (Add Binder badge/button to readme (#1628))
=======
>>>>>>> 2c51b13e9f (Add Binder badge/button to readme (#1628))
=======
>>>>>>> f8951eb271 (Add Binder badge/button to readme (#1628))
=======
>>>>>>> 0902609bfc (Add Binder badge/button to readme (#1628))
=======
>>>>>>> e13cd54a0f (Add Binder badge/button to readme (#1628))
=======
>>>>>>> df12705265 (Add Binder badge/button to readme (#1628))
=======
>>>>>>> 00859ebcd4 (Add Binder badge/button to readme (#1628))
=======
>>>>>>> aa9c0bff66 (Add Binder badge/button to readme (#1628))
=======
>>>>>>> 7c76b7f7c0 (Add Binder badge/button to readme (#1628))
=======
>>>>>>> 4db983de69 (Add Binder badge/button to readme (#1628))
=======
>>>>>>> ce49542432 (Add Binder badge/button to readme (#1628))
=======
>>>>>>> bf116f53b0 (Add Binder badge/button to readme (#1628))
=======
>>>>>>> 0a9ba2e3fa (Add Binder badge/button to readme (#1628))
=======
>>>>>>> ef1baf1027 (Add Binder badge/button to readme (#1628))
   "cell_type": "markdown",
   "metadata": {},
=======
>>>>>>> f723e019f3 (Add Binder badge/button to readme (#1628))
<<<<<<< HEAD
<<<<<<< HEAD
>>>>>>> 9531f8e4af (Add Binder badge/button to readme (#1628))
=======
=======
>>>>>>> e28239bf7b (Add Binder badge/button to readme (#1628))
<<<<<<< HEAD
<<<<<<< HEAD
>>>>>>> e4b0e912a4 (Add Binder badge/button to readme (#1628))
=======
=======
<<<<<<< HEAD
>>>>>>> 47fc32999c (Add Binder badge/button to readme (#1628))
<<<<<<< HEAD
>>>>>>> b20066f7ff (Add Binder badge/button to readme (#1628))
=======
=======
>>>>>>> osgeo-main
=======
>>>>>>> d7010890e1 (Add Binder badge/button to readme (#1628))
>>>>>>> 0503a5c10a (Add Binder badge/button to readme (#1628))
<<<<<<< HEAD
<<<<<<< HEAD
>>>>>>> bf4cf68e7a (Add Binder badge/button to readme (#1628))
=======
=======
>>>>>>> d7010890e1 (Add Binder badge/button to readme (#1628))
<<<<<<< HEAD
<<<<<<< HEAD
>>>>>>> a97c4bb91f (Add Binder badge/button to readme (#1628))
=======
=======
<<<<<<< HEAD
>>>>>>> 9fcc606878 (Add Binder badge/button to readme (#1628))
<<<<<<< HEAD
>>>>>>> 01148b26a3 (Add Binder badge/button to readme (#1628))
=======
=======
>>>>>>> osgeo-main
=======
>>>>>>> 58e6f5060a (Add Binder badge/button to readme (#1628))
<<<<<<< HEAD
>>>>>>> 8e6cd350bf (Add Binder badge/button to readme (#1628))
<<<<<<< HEAD
>>>>>>> d8b5d4044b (Add Binder badge/button to readme (#1628))
=======
=======
=======
>>>>>>> 50aa049e59 (Add Binder badge/button to readme (#1628))
>>>>>>> 52dc90b371 (Add Binder badge/button to readme (#1628))
<<<<<<< HEAD
<<<<<<< HEAD
>>>>>>> 939728f441 (Add Binder badge/button to readme (#1628))
=======
=======
>>>>>>> 50aa049e59 (Add Binder badge/button to readme (#1628))
<<<<<<< HEAD
<<<<<<< HEAD
>>>>>>> 0bdc4b4dd8 (Add Binder badge/button to readme (#1628))
=======
=======
>>>>>>> 2e71c24fb0 (Add Binder badge/button to readme (#1628))
<<<<<<< HEAD
<<<<<<< HEAD
>>>>>>> 487d2eaeaa (Add Binder badge/button to readme (#1628))
=======
=======
>>>>>>> c33bedbddf (Add Binder badge/button to readme (#1628))
<<<<<<< HEAD
<<<<<<< HEAD
>>>>>>> c3ac766842 (Add Binder badge/button to readme (#1628))
=======
=======
>>>>>>> eda5a73942 (Add Binder badge/button to readme (#1628))
<<<<<<< HEAD
<<<<<<< HEAD
>>>>>>> fe0747311e (Add Binder badge/button to readme (#1628))
=======
=======
>>>>>>> a807758bcc (Add Binder badge/button to readme (#1628))
<<<<<<< HEAD
<<<<<<< HEAD
>>>>>>> fe406d59f0 (Add Binder badge/button to readme (#1628))
=======
=======
>>>>>>> f4f8e0d593 (Add Binder badge/button to readme (#1628))
<<<<<<< HEAD
<<<<<<< HEAD
>>>>>>> 085eab1722 (Add Binder badge/button to readme (#1628))
=======
=======
>>>>>>> b27e109a47 (Add Binder badge/button to readme (#1628))
<<<<<<< HEAD
<<<<<<< HEAD
>>>>>>> f4ca1b21d2 (Add Binder badge/button to readme (#1628))
=======
=======
>>>>>>> bbb5f12d40 (Add Binder badge/button to readme (#1628))
<<<<<<< HEAD
<<<<<<< HEAD
>>>>>>> 13d948fd24 (Add Binder badge/button to readme (#1628))
=======
=======
>>>>>>> 2390a327b4 (Add Binder badge/button to readme (#1628))
<<<<<<< HEAD
<<<<<<< HEAD
>>>>>>> 746f2e6d8a (Add Binder badge/button to readme (#1628))
=======
=======
<<<<<<< HEAD
>>>>>>> 8ac294c05f (Add Binder badge/button to readme (#1628))
<<<<<<< HEAD
>>>>>>> aebdb8e800 (Add Binder badge/button to readme (#1628))
=======
=======
>>>>>>> osgeo-main
=======
>>>>>>> osgeo-main
=======
>>>>>>> da4381783c (Add Binder badge/button to readme (#1628))
>>>>>>> 855c626fb4 (Add Binder badge/button to readme (#1628))
<<<<<<< HEAD
<<<<<<< HEAD
>>>>>>> b1889b7764 (Add Binder badge/button to readme (#1628))
=======
=======
>>>>>>> 8e2ca9c153 (Add Binder badge/button to readme (#1628))
<<<<<<< HEAD
<<<<<<< HEAD
>>>>>>> acaabcedb1 (Add Binder badge/button to readme (#1628))
=======
=======
>>>>>>> 8257ecf53a (Add Binder badge/button to readme (#1628))
>>>>>>> 9e5adb4441 (Add Binder badge/button to readme (#1628))
=======
   "cell_type": "markdown",
   "metadata": {},
>>>>>>> 75aba2088a (Add additional GRASS info to the main example notebook (#1686))
=======
   "cell_type": "markdown",
   "metadata": {},
=======
>>>>>>> f723e019f3 (Add Binder badge/button to readme (#1628))
>>>>>>> dc9386ff19 (Add Binder badge/button to readme (#1628))
=======
=======
>>>>>>> e28239bf7b (Add Binder badge/button to readme (#1628))
>>>>>>> 72f0d278b2 (Add Binder badge/button to readme (#1628))
=======
=======
<<<<<<< HEAD
>>>>>>> 47fc32999c (Add Binder badge/button to readme (#1628))
<<<<<<< HEAD
>>>>>>> 8500c8720e (Add Binder badge/button to readme (#1628))
=======
=======
>>>>>>> osgeo-main
=======
>>>>>>> d7010890e1 (Add Binder badge/button to readme (#1628))
>>>>>>> 0503a5c10a (Add Binder badge/button to readme (#1628))
>>>>>>> ac15d23554 (Add Binder badge/button to readme (#1628))
=======
=======
>>>>>>> d7010890e1 (Add Binder badge/button to readme (#1628))
>>>>>>> 118a90ef8b (Add Binder badge/button to readme (#1628))
=======
=======
<<<<<<< HEAD
>>>>>>> 9fcc606878 (Add Binder badge/button to readme (#1628))
<<<<<<< HEAD
>>>>>>> ee5e000e2b (Add Binder badge/button to readme (#1628))
=======
=======
>>>>>>> osgeo-main
=======
>>>>>>> 58e6f5060a (Add Binder badge/button to readme (#1628))
<<<<<<< HEAD
>>>>>>> 8e6cd350bf (Add Binder badge/button to readme (#1628))
<<<<<<< HEAD
>>>>>>> 2c51b13e9f (Add Binder badge/button to readme (#1628))
=======
=======
=======
>>>>>>> 50aa049e59 (Add Binder badge/button to readme (#1628))
>>>>>>> 52dc90b371 (Add Binder badge/button to readme (#1628))
>>>>>>> f8951eb271 (Add Binder badge/button to readme (#1628))
=======
=======
>>>>>>> 50aa049e59 (Add Binder badge/button to readme (#1628))
>>>>>>> 0902609bfc (Add Binder badge/button to readme (#1628))
=======
=======
>>>>>>> 2e71c24fb0 (Add Binder badge/button to readme (#1628))
>>>>>>> e13cd54a0f (Add Binder badge/button to readme (#1628))
=======
=======
>>>>>>> c33bedbddf (Add Binder badge/button to readme (#1628))
>>>>>>> df12705265 (Add Binder badge/button to readme (#1628))
=======
=======
>>>>>>> eda5a73942 (Add Binder badge/button to readme (#1628))
>>>>>>> 00859ebcd4 (Add Binder badge/button to readme (#1628))
=======
=======
>>>>>>> a807758bcc (Add Binder badge/button to readme (#1628))
>>>>>>> aa9c0bff66 (Add Binder badge/button to readme (#1628))
=======
=======
>>>>>>> f4f8e0d593 (Add Binder badge/button to readme (#1628))
>>>>>>> 7c76b7f7c0 (Add Binder badge/button to readme (#1628))
=======
=======
>>>>>>> b27e109a47 (Add Binder badge/button to readme (#1628))
>>>>>>> 4db983de69 (Add Binder badge/button to readme (#1628))
=======
=======
>>>>>>> bbb5f12d40 (Add Binder badge/button to readme (#1628))
>>>>>>> ce49542432 (Add Binder badge/button to readme (#1628))
=======
=======
>>>>>>> 2390a327b4 (Add Binder badge/button to readme (#1628))
>>>>>>> bf116f53b0 (Add Binder badge/button to readme (#1628))
=======
=======
<<<<<<< HEAD
>>>>>>> 8ac294c05f (Add Binder badge/button to readme (#1628))
<<<<<<< HEAD
>>>>>>> 0a9ba2e3fa (Add Binder badge/button to readme (#1628))
=======
=======
>>>>>>> osgeo-main
=======
>>>>>>> osgeo-main
=======
>>>>>>> da4381783c (Add Binder badge/button to readme (#1628))
>>>>>>> 855c626fb4 (Add Binder badge/button to readme (#1628))
>>>>>>> ef1baf1027 (Add Binder badge/button to readme (#1628))
=======
=======
>>>>>>> 8e2ca9c153 (Add Binder badge/button to readme (#1628))
>>>>>>> bc8c26248b (Add Binder badge/button to readme (#1628))
=======
=======
>>>>>>> 8257ecf53a (Add Binder badge/button to readme (#1628))
>>>>>>> d378f4420b (Add Binder badge/button to readme (#1628))
   "source": [
    "## Vector buffer\n",
    "\n",
    "Create a negative buffer around state boundary represented as a vector.\n",
    "Vector modules typically don't follow computational region,\n",
    "but we set it to inform display modules about our area of interest."
<<<<<<< HEAD
<<<<<<< HEAD
<<<<<<< HEAD
<<<<<<< HEAD
<<<<<<< HEAD
<<<<<<< HEAD
<<<<<<< HEAD
<<<<<<< HEAD
<<<<<<< HEAD
<<<<<<< HEAD
<<<<<<< HEAD
<<<<<<< HEAD
<<<<<<< HEAD
<<<<<<< HEAD
<<<<<<< HEAD
<<<<<<< HEAD
<<<<<<< HEAD
<<<<<<< HEAD
<<<<<<< HEAD
<<<<<<< HEAD
<<<<<<< HEAD
<<<<<<< HEAD
<<<<<<< HEAD
<<<<<<< HEAD
<<<<<<< HEAD
<<<<<<< HEAD
<<<<<<< HEAD
<<<<<<< HEAD
<<<<<<< HEAD
<<<<<<< HEAD
<<<<<<< HEAD
<<<<<<< HEAD
<<<<<<< HEAD
<<<<<<< HEAD
<<<<<<< HEAD
<<<<<<< HEAD
<<<<<<< HEAD
<<<<<<< HEAD
<<<<<<< HEAD
<<<<<<< HEAD
<<<<<<< HEAD
<<<<<<< HEAD
<<<<<<< HEAD
<<<<<<< HEAD
<<<<<<< HEAD
<<<<<<< HEAD
<<<<<<< HEAD
<<<<<<< HEAD
<<<<<<< HEAD
<<<<<<< HEAD
<<<<<<< HEAD
<<<<<<< HEAD
<<<<<<< HEAD
<<<<<<< HEAD
<<<<<<< HEAD
<<<<<<< HEAD
<<<<<<< HEAD
<<<<<<< HEAD
<<<<<<< HEAD
<<<<<<< HEAD
<<<<<<< HEAD
<<<<<<< HEAD
<<<<<<< HEAD
<<<<<<< HEAD
=======
<<<<<<< HEAD
>>>>>>> main
=======
>>>>>>> 9531f8e4af (Add Binder badge/button to readme (#1628))
=======
>>>>>>> e4b0e912a4 (Add Binder badge/button to readme (#1628))
=======
>>>>>>> b20066f7ff (Add Binder badge/button to readme (#1628))
=======
>>>>>>> bf4cf68e7a (Add Binder badge/button to readme (#1628))
=======
>>>>>>> a97c4bb91f (Add Binder badge/button to readme (#1628))
=======
>>>>>>> 01148b26a3 (Add Binder badge/button to readme (#1628))
=======
>>>>>>> d8b5d4044b (Add Binder badge/button to readme (#1628))
=======
>>>>>>> 939728f441 (Add Binder badge/button to readme (#1628))
=======
>>>>>>> 0bdc4b4dd8 (Add Binder badge/button to readme (#1628))
=======
>>>>>>> 487d2eaeaa (Add Binder badge/button to readme (#1628))
=======
>>>>>>> c3ac766842 (Add Binder badge/button to readme (#1628))
=======
>>>>>>> fe0747311e (Add Binder badge/button to readme (#1628))
=======
>>>>>>> fe406d59f0 (Add Binder badge/button to readme (#1628))
=======
>>>>>>> 085eab1722 (Add Binder badge/button to readme (#1628))
=======
>>>>>>> f4ca1b21d2 (Add Binder badge/button to readme (#1628))
=======
>>>>>>> 13d948fd24 (Add Binder badge/button to readme (#1628))
=======
>>>>>>> 746f2e6d8a (Add Binder badge/button to readme (#1628))
=======
>>>>>>> aebdb8e800 (Add Binder badge/button to readme (#1628))
=======
=======
>>>>>>> acaabcedb1 (Add Binder badge/button to readme (#1628))
=======
>>>>>>> 9e5adb4441 (Add Binder badge/button to readme (#1628))
=======
>>>>>>> ef1baf1027 (Add Binder badge/button to readme (#1628))
=======
>>>>>>> bc8c26248b (Add Binder badge/button to readme (#1628))
=======
>>>>>>> d378f4420b (Add Binder badge/button to readme (#1628))
=======
<<<<<<< HEAD
=======
>>>>>>> 855c626fb4 (Add Binder badge/button to readme (#1628))
<<<<<<< HEAD
<<<<<<< HEAD
>>>>>>> b1889b7764 (Add Binder badge/button to readme (#1628))
=======
>>>>>>> dc9386ff19 (Add Binder badge/button to readme (#1628))
=======
>>>>>>> 72f0d278b2 (Add Binder badge/button to readme (#1628))
=======
>>>>>>> 8500c8720e (Add Binder badge/button to readme (#1628))
=======
>>>>>>> ac15d23554 (Add Binder badge/button to readme (#1628))
=======
>>>>>>> 118a90ef8b (Add Binder badge/button to readme (#1628))
=======
>>>>>>> ee5e000e2b (Add Binder badge/button to readme (#1628))
=======
>>>>>>> 2c51b13e9f (Add Binder badge/button to readme (#1628))
=======
>>>>>>> f8951eb271 (Add Binder badge/button to readme (#1628))
=======
>>>>>>> 0902609bfc (Add Binder badge/button to readme (#1628))
=======
>>>>>>> e13cd54a0f (Add Binder badge/button to readme (#1628))
=======
>>>>>>> df12705265 (Add Binder badge/button to readme (#1628))
=======
>>>>>>> 00859ebcd4 (Add Binder badge/button to readme (#1628))
=======
>>>>>>> aa9c0bff66 (Add Binder badge/button to readme (#1628))
=======
>>>>>>> 7c76b7f7c0 (Add Binder badge/button to readme (#1628))
=======
>>>>>>> 4db983de69 (Add Binder badge/button to readme (#1628))
=======
>>>>>>> ce49542432 (Add Binder badge/button to readme (#1628))
=======
>>>>>>> bf116f53b0 (Add Binder badge/button to readme (#1628))
=======
>>>>>>> 0a9ba2e3fa (Add Binder badge/button to readme (#1628))
=======
>>>>>>> ef1baf1027 (Add Binder badge/button to readme (#1628))
   ]
=======
   ],
   "cell_type": "markdown",
   "metadata": {}
<<<<<<< HEAD
<<<<<<< HEAD
>>>>>>> osgeo-main
=======
   ],
   "cell_type": "markdown",
   "metadata": {}
>>>>>>> osgeo-main
=======
   ],
   "cell_type": "markdown",
   "metadata": {}
>>>>>>> osgeo-main
=======
   ],
   "cell_type": "markdown",
   "metadata": {}
>>>>>>> d7010890e1 (Add Binder badge/button to readme (#1628))
=======
   ],
   "cell_type": "markdown",
   "metadata": {}
>>>>>>> osgeo-main
=======
   ],
   "cell_type": "markdown",
   "metadata": {}
>>>>>>> osgeo-main
=======
   ],
   "cell_type": "markdown",
   "metadata": {}
>>>>>>> 58e6f5060a (Add Binder badge/button to readme (#1628))
=======
   ],
   "cell_type": "markdown",
   "metadata": {}
<<<<<<< HEAD
>>>>>>> 50aa049e59 (Add Binder badge/button to readme (#1628))
=======
>>>>>>> osgeo-main
=======
   ],
   "cell_type": "markdown",
   "metadata": {}
>>>>>>> osgeo-main
>>>>>>> main
=======
   ],
   "cell_type": "markdown",
   "metadata": {}
>>>>>>> osgeo-main
=======
   ],
   "cell_type": "markdown",
   "metadata": {}
>>>>>>> osgeo-main
=======
   ],
   "cell_type": "markdown",
   "metadata": {}
>>>>>>> osgeo-main
=======
   ],
   "cell_type": "markdown",
   "metadata": {}
>>>>>>> osgeo-main
=======
   ],
   "cell_type": "markdown",
   "metadata": {}
>>>>>>> osgeo-main
=======
   ],
   "cell_type": "markdown",
   "metadata": {}
>>>>>>> osgeo-main
=======
   ],
   "cell_type": "markdown",
   "metadata": {}
>>>>>>> osgeo-main
=======
   ],
   "cell_type": "markdown",
   "metadata": {}
>>>>>>> osgeo-main
=======
   ],
   "cell_type": "markdown",
   "metadata": {}
>>>>>>> da4381783c (Add Binder badge/button to readme (#1628))
=======
   ],
   "cell_type": "markdown",
   "metadata": {}
>>>>>>> osgeo-main
=======
   ],
   "cell_type": "markdown",
   "metadata": {}
>>>>>>> osgeo-main
=======
   ]
>>>>>>> c64d48cd6c (Add additional GRASS info to the main example notebook (#1686))
=======
>>>>>>> f723e019f3 (Add Binder badge/button to readme (#1628))
<<<<<<< HEAD
<<<<<<< HEAD
>>>>>>> 9531f8e4af (Add Binder badge/button to readme (#1628))
=======
=======
>>>>>>> 72f0d278b2 (Add Binder badge/button to readme (#1628))
=======
   ],
   "cell_type": "markdown",
   "metadata": {}
>>>>>>> e28239bf7b (Add Binder badge/button to readme (#1628))
<<<<<<< HEAD
<<<<<<< HEAD
<<<<<<< HEAD
>>>>>>> e4b0e912a4 (Add Binder badge/button to readme (#1628))
=======
=======
>>>>>>> 8500c8720e (Add Binder badge/button to readme (#1628))
=======
   ],
   "cell_type": "markdown",
   "metadata": {}
<<<<<<< HEAD
<<<<<<< HEAD
<<<<<<< HEAD
>>>>>>> 47fc32999c (Add Binder badge/button to readme (#1628))
<<<<<<< HEAD
>>>>>>> b20066f7ff (Add Binder badge/button to readme (#1628))
=======
=======
>>>>>>> 47fc32999c (Add Binder badge/button to readme (#1628))
>>>>>>> ac15d23554 (Add Binder badge/button to readme (#1628))
=======
>>>>>>> osgeo-main
=======
   ],
   "cell_type": "markdown",
   "metadata": {}
>>>>>>> d7010890e1 (Add Binder badge/button to readme (#1628))
>>>>>>> 0503a5c10a (Add Binder badge/button to readme (#1628))
<<<<<<< HEAD
<<<<<<< HEAD
<<<<<<< HEAD
>>>>>>> bf4cf68e7a (Add Binder badge/button to readme (#1628))
=======
=======
>>>>>>> 118a90ef8b (Add Binder badge/button to readme (#1628))
=======
   ],
   "cell_type": "markdown",
   "metadata": {}
>>>>>>> d7010890e1 (Add Binder badge/button to readme (#1628))
<<<<<<< HEAD
<<<<<<< HEAD
<<<<<<< HEAD
>>>>>>> a97c4bb91f (Add Binder badge/button to readme (#1628))
=======
=======
>>>>>>> ee5e000e2b (Add Binder badge/button to readme (#1628))
=======
   ],
   "cell_type": "markdown",
   "metadata": {}
<<<<<<< HEAD
<<<<<<< HEAD
<<<<<<< HEAD
>>>>>>> 9fcc606878 (Add Binder badge/button to readme (#1628))
<<<<<<< HEAD
>>>>>>> 01148b26a3 (Add Binder badge/button to readme (#1628))
=======
=======
>>>>>>> 9fcc606878 (Add Binder badge/button to readme (#1628))
>>>>>>> 2c51b13e9f (Add Binder badge/button to readme (#1628))
=======
>>>>>>> osgeo-main
=======
   ],
   "cell_type": "markdown",
   "metadata": {}
>>>>>>> osgeo-main
=======
   ],
   "cell_type": "markdown",
   "metadata": {}
>>>>>>> 58e6f5060a (Add Binder badge/button to readme (#1628))
<<<<<<< HEAD
<<<<<<< HEAD
<<<<<<< HEAD
>>>>>>> 8e6cd350bf (Add Binder badge/button to readme (#1628))
<<<<<<< HEAD
>>>>>>> d8b5d4044b (Add Binder badge/button to readme (#1628))
=======
=======
>>>>>>> 8e6cd350bf (Add Binder badge/button to readme (#1628))
>>>>>>> f8951eb271 (Add Binder badge/button to readme (#1628))
=======
=======
   ],
   "cell_type": "markdown",
   "metadata": {}
>>>>>>> 50aa049e59 (Add Binder badge/button to readme (#1628))
>>>>>>> 52dc90b371 (Add Binder badge/button to readme (#1628))
<<<<<<< HEAD
<<<<<<< HEAD
<<<<<<< HEAD
>>>>>>> 939728f441 (Add Binder badge/button to readme (#1628))
=======
=======
>>>>>>> 0902609bfc (Add Binder badge/button to readme (#1628))
=======
   ],
   "cell_type": "markdown",
   "metadata": {}
>>>>>>> 50aa049e59 (Add Binder badge/button to readme (#1628))
<<<<<<< HEAD
<<<<<<< HEAD
<<<<<<< HEAD
>>>>>>> 0bdc4b4dd8 (Add Binder badge/button to readme (#1628))
=======
=======
>>>>>>> e13cd54a0f (Add Binder badge/button to readme (#1628))
=======
   ],
   "cell_type": "markdown",
   "metadata": {}
>>>>>>> 2e71c24fb0 (Add Binder badge/button to readme (#1628))
<<<<<<< HEAD
<<<<<<< HEAD
<<<<<<< HEAD
>>>>>>> 487d2eaeaa (Add Binder badge/button to readme (#1628))
=======
=======
>>>>>>> df12705265 (Add Binder badge/button to readme (#1628))
=======
   ],
   "cell_type": "markdown",
   "metadata": {}
>>>>>>> c33bedbddf (Add Binder badge/button to readme (#1628))
<<<<<<< HEAD
<<<<<<< HEAD
<<<<<<< HEAD
>>>>>>> c3ac766842 (Add Binder badge/button to readme (#1628))
=======
=======
>>>>>>> 00859ebcd4 (Add Binder badge/button to readme (#1628))
=======
   ],
   "cell_type": "markdown",
   "metadata": {}
>>>>>>> eda5a73942 (Add Binder badge/button to readme (#1628))
<<<<<<< HEAD
<<<<<<< HEAD
<<<<<<< HEAD
>>>>>>> fe0747311e (Add Binder badge/button to readme (#1628))
=======
=======
>>>>>>> aa9c0bff66 (Add Binder badge/button to readme (#1628))
=======
   ],
   "cell_type": "markdown",
   "metadata": {}
>>>>>>> a807758bcc (Add Binder badge/button to readme (#1628))
<<<<<<< HEAD
<<<<<<< HEAD
<<<<<<< HEAD
>>>>>>> fe406d59f0 (Add Binder badge/button to readme (#1628))
=======
=======
>>>>>>> 7c76b7f7c0 (Add Binder badge/button to readme (#1628))
=======
   ],
   "cell_type": "markdown",
   "metadata": {}
>>>>>>> f4f8e0d593 (Add Binder badge/button to readme (#1628))
<<<<<<< HEAD
<<<<<<< HEAD
<<<<<<< HEAD
>>>>>>> 085eab1722 (Add Binder badge/button to readme (#1628))
=======
=======
>>>>>>> 4db983de69 (Add Binder badge/button to readme (#1628))
=======
   ],
   "cell_type": "markdown",
   "metadata": {}
>>>>>>> b27e109a47 (Add Binder badge/button to readme (#1628))
<<<<<<< HEAD
<<<<<<< HEAD
<<<<<<< HEAD
>>>>>>> f4ca1b21d2 (Add Binder badge/button to readme (#1628))
=======
=======
>>>>>>> ce49542432 (Add Binder badge/button to readme (#1628))
=======
   ],
   "cell_type": "markdown",
   "metadata": {}
>>>>>>> bbb5f12d40 (Add Binder badge/button to readme (#1628))
<<<<<<< HEAD
<<<<<<< HEAD
<<<<<<< HEAD
>>>>>>> 13d948fd24 (Add Binder badge/button to readme (#1628))
=======
=======
>>>>>>> bf116f53b0 (Add Binder badge/button to readme (#1628))
=======
   ],
   "cell_type": "markdown",
   "metadata": {}
>>>>>>> 2390a327b4 (Add Binder badge/button to readme (#1628))
<<<<<<< HEAD
<<<<<<< HEAD
<<<<<<< HEAD
>>>>>>> 746f2e6d8a (Add Binder badge/button to readme (#1628))
=======
=======
>>>>>>> 0a9ba2e3fa (Add Binder badge/button to readme (#1628))
=======
   ],
   "cell_type": "markdown",
   "metadata": {}
<<<<<<< HEAD
<<<<<<< HEAD
<<<<<<< HEAD
>>>>>>> 8ac294c05f (Add Binder badge/button to readme (#1628))
<<<<<<< HEAD
>>>>>>> aebdb8e800 (Add Binder badge/button to readme (#1628))
=======
=======
>>>>>>> 8ac294c05f (Add Binder badge/button to readme (#1628))
>>>>>>> ef1baf1027 (Add Binder badge/button to readme (#1628))
=======
>>>>>>> osgeo-main
=======
   ],
   "cell_type": "markdown",
   "metadata": {}
>>>>>>> osgeo-main
=======
   ],
   "cell_type": "markdown",
   "metadata": {}
>>>>>>> da4381783c (Add Binder badge/button to readme (#1628))
>>>>>>> 855c626fb4 (Add Binder badge/button to readme (#1628))
<<<<<<< HEAD
<<<<<<< HEAD
<<<<<<< HEAD
>>>>>>> b1889b7764 (Add Binder badge/button to readme (#1628))
=======
=======
>>>>>>> bc8c26248b (Add Binder badge/button to readme (#1628))
=======
   ],
   "cell_type": "markdown",
   "metadata": {}
>>>>>>> 8e2ca9c153 (Add Binder badge/button to readme (#1628))
<<<<<<< HEAD
<<<<<<< HEAD
<<<<<<< HEAD
>>>>>>> acaabcedb1 (Add Binder badge/button to readme (#1628))
=======
=======
>>>>>>> d378f4420b (Add Binder badge/button to readme (#1628))
=======
   ],
   "cell_type": "markdown",
   "metadata": {}
>>>>>>> 8257ecf53a (Add Binder badge/button to readme (#1628))
<<<<<<< HEAD
>>>>>>> 9e5adb4441 (Add Binder badge/button to readme (#1628))
=======
   ]
>>>>>>> 75aba2088a (Add additional GRASS info to the main example notebook (#1686))
=======
>>>>>>> f723e019f3 (Add Binder badge/button to readme (#1628))
>>>>>>> dc9386ff19 (Add Binder badge/button to readme (#1628))
=======
>>>>>>> 72f0d278b2 (Add Binder badge/button to readme (#1628))
=======
>>>>>>> 47fc32999c (Add Binder badge/button to readme (#1628))
>>>>>>> 8500c8720e (Add Binder badge/button to readme (#1628))
=======
>>>>>>> ac15d23554 (Add Binder badge/button to readme (#1628))
=======
>>>>>>> 118a90ef8b (Add Binder badge/button to readme (#1628))
=======
>>>>>>> 9fcc606878 (Add Binder badge/button to readme (#1628))
>>>>>>> ee5e000e2b (Add Binder badge/button to readme (#1628))
=======
>>>>>>> 8e6cd350bf (Add Binder badge/button to readme (#1628))
>>>>>>> 2c51b13e9f (Add Binder badge/button to readme (#1628))
=======
>>>>>>> f8951eb271 (Add Binder badge/button to readme (#1628))
=======
>>>>>>> 0902609bfc (Add Binder badge/button to readme (#1628))
=======
>>>>>>> e13cd54a0f (Add Binder badge/button to readme (#1628))
=======
>>>>>>> df12705265 (Add Binder badge/button to readme (#1628))
=======
>>>>>>> 00859ebcd4 (Add Binder badge/button to readme (#1628))
=======
>>>>>>> aa9c0bff66 (Add Binder badge/button to readme (#1628))
=======
>>>>>>> 7c76b7f7c0 (Add Binder badge/button to readme (#1628))
=======
>>>>>>> 4db983de69 (Add Binder badge/button to readme (#1628))
=======
>>>>>>> ce49542432 (Add Binder badge/button to readme (#1628))
=======
>>>>>>> bf116f53b0 (Add Binder badge/button to readme (#1628))
=======
>>>>>>> 8ac294c05f (Add Binder badge/button to readme (#1628))
>>>>>>> 0a9ba2e3fa (Add Binder badge/button to readme (#1628))
=======
>>>>>>> ef1baf1027 (Add Binder badge/button to readme (#1628))
=======
>>>>>>> bc8c26248b (Add Binder badge/button to readme (#1628))
=======
>>>>>>> d378f4420b (Add Binder badge/button to readme (#1628))
  },
  {
   "cell_type": "code",
   "execution_count": null,
   "metadata": {},
   "outputs": [],
   "source": [
    "gs.run_command('v.buffer', input=\"boundary_state\", output=\"buffer\", distance=-10000)\n",
    "gs.parse_command('g.region', vector=\"boundary_state\", flags='pg')\n",
    "gs.run_command('d.erase')  # erase the display before drawing again\n",
    "!rm -f $GRASS_LEGEND_FILE  # and remove the legend file\n",
    "gs.run_command('d.vect', map=\"boundary_state\", fill_color=\"#5A91ED\", legend_label=\"State boundary\")\n",
    "gs.run_command('d.vect', map=\"buffer\", fill_color=\"#F8766D\", legend_label=\"Inner portion\")\n",
    "gs.run_command('d.legend.vect', at=(10, 35))\n",
    "Image(filename=\"map.png\")"
   ]
<<<<<<< HEAD
<<<<<<< HEAD
<<<<<<< HEAD
<<<<<<< HEAD
<<<<<<< HEAD
<<<<<<< HEAD
<<<<<<< HEAD
<<<<<<< HEAD
<<<<<<< HEAD
<<<<<<< HEAD
<<<<<<< HEAD
<<<<<<< HEAD
<<<<<<< HEAD
<<<<<<< HEAD
<<<<<<< HEAD
<<<<<<< HEAD
<<<<<<< HEAD
<<<<<<< HEAD
<<<<<<< HEAD
<<<<<<< HEAD
=======
<<<<<<< HEAD
=======
>>>>>>> 855c626fb4 (Add Binder badge/button to readme (#1628))
<<<<<<< HEAD
<<<<<<< HEAD
<<<<<<< HEAD
<<<<<<< HEAD
<<<<<<< HEAD
<<<<<<< HEAD
<<<<<<< HEAD
<<<<<<< HEAD
<<<<<<< HEAD
<<<<<<< HEAD
<<<<<<< HEAD
<<<<<<< HEAD
<<<<<<< HEAD
<<<<<<< HEAD
<<<<<<< HEAD
<<<<<<< HEAD
<<<<<<< HEAD
<<<<<<< HEAD
<<<<<<< HEAD
<<<<<<< HEAD
<<<<<<< HEAD
<<<<<<< HEAD
<<<<<<< HEAD
=======
>>>>>>> 8500c8720e (Add Binder badge/button to readme (#1628))
=======
>>>>>>> 72f0d278b2 (Add Binder badge/button to readme (#1628))
=======
>>>>>>> dc9386ff19 (Add Binder badge/button to readme (#1628))
=======
<<<<<<< HEAD
=======
>>>>>>> 855c626fb4 (Add Binder badge/button to readme (#1628))
<<<<<<< HEAD
<<<<<<< HEAD
<<<<<<< HEAD
<<<<<<< HEAD
<<<<<<< HEAD
<<<<<<< HEAD
<<<<<<< HEAD
<<<<<<< HEAD
<<<<<<< HEAD
<<<<<<< HEAD
<<<<<<< HEAD
<<<<<<< HEAD
<<<<<<< HEAD
<<<<<<< HEAD
<<<<<<< HEAD
<<<<<<< HEAD
<<<<<<< HEAD
<<<<<<< HEAD
<<<<<<< HEAD
<<<<<<< HEAD
<<<<<<< HEAD
<<<<<<< HEAD
<<<<<<< HEAD
=======
>>>>>>> b20066f7ff (Add Binder badge/button to readme (#1628))
=======
>>>>>>> e4b0e912a4 (Add Binder badge/button to readme (#1628))
=======
>>>>>>> 9531f8e4af (Add Binder badge/button to readme (#1628))
=======
<<<<<<< HEAD
>>>>>>> main
=======
=======
>>>>>>> c64d48cd6c (Add additional GRASS info to the main example notebook (#1686))
=======
=======
>>>>>>> a97c4bb91f (Add Binder badge/button to readme (#1628))
=======
>>>>>>> 01148b26a3 (Add Binder badge/button to readme (#1628))
=======
>>>>>>> 118a90ef8b (Add Binder badge/button to readme (#1628))
=======
>>>>>>> ee5e000e2b (Add Binder badge/button to readme (#1628))
=======
=======
>>>>>>> 0503a5c10a (Add Binder badge/button to readme (#1628))
>>>>>>> bf4cf68e7a (Add Binder badge/button to readme (#1628))
=======
=======
>>>>>>> 939728f441 (Add Binder badge/button to readme (#1628))
=======
>>>>>>> 0bdc4b4dd8 (Add Binder badge/button to readme (#1628))
=======
>>>>>>> 487d2eaeaa (Add Binder badge/button to readme (#1628))
=======
>>>>>>> c3ac766842 (Add Binder badge/button to readme (#1628))
=======
>>>>>>> fe0747311e (Add Binder badge/button to readme (#1628))
=======
>>>>>>> fe406d59f0 (Add Binder badge/button to readme (#1628))
=======
>>>>>>> 085eab1722 (Add Binder badge/button to readme (#1628))
=======
>>>>>>> f4ca1b21d2 (Add Binder badge/button to readme (#1628))
=======
>>>>>>> 13d948fd24 (Add Binder badge/button to readme (#1628))
=======
>>>>>>> 746f2e6d8a (Add Binder badge/button to readme (#1628))
=======
>>>>>>> aebdb8e800 (Add Binder badge/button to readme (#1628))
=======
>>>>>>> f8951eb271 (Add Binder badge/button to readme (#1628))
=======
>>>>>>> 0902609bfc (Add Binder badge/button to readme (#1628))
=======
>>>>>>> e13cd54a0f (Add Binder badge/button to readme (#1628))
=======
>>>>>>> df12705265 (Add Binder badge/button to readme (#1628))
=======
>>>>>>> 00859ebcd4 (Add Binder badge/button to readme (#1628))
=======
>>>>>>> aa9c0bff66 (Add Binder badge/button to readme (#1628))
=======
>>>>>>> 7c76b7f7c0 (Add Binder badge/button to readme (#1628))
=======
>>>>>>> 4db983de69 (Add Binder badge/button to readme (#1628))
=======
>>>>>>> ce49542432 (Add Binder badge/button to readme (#1628))
=======
>>>>>>> bf116f53b0 (Add Binder badge/button to readme (#1628))
=======
>>>>>>> 0a9ba2e3fa (Add Binder badge/button to readme (#1628))
=======
=======
>>>>>>> 0503a5c10a (Add Binder badge/button to readme (#1628))
=======
>>>>>>> 8e6cd350bf (Add Binder badge/button to readme (#1628))
<<<<<<< HEAD
<<<<<<< HEAD
>>>>>>> d8b5d4044b (Add Binder badge/button to readme (#1628))
=======
=======
>>>>>>> 52dc90b371 (Add Binder badge/button to readme (#1628))
>>>>>>> 939728f441 (Add Binder badge/button to readme (#1628))
=======
=======
>>>>>>> 75aba2088a (Add additional GRASS info to the main example notebook (#1686))
=======
=======
=======
>>>>>>> 0503a5c10a (Add Binder badge/button to readme (#1628))
>>>>>>> ac15d23554 (Add Binder badge/button to readme (#1628))
=======
=======
=======
>>>>>>> 0503a5c10a (Add Binder badge/button to readme (#1628))
=======
>>>>>>> 8e6cd350bf (Add Binder badge/button to readme (#1628))
>>>>>>> 2c51b13e9f (Add Binder badge/button to readme (#1628))
=======
=======
>>>>>>> 52dc90b371 (Add Binder badge/button to readme (#1628))
>>>>>>> f8951eb271 (Add Binder badge/button to readme (#1628))
  },
  {
   "cell_type": "markdown",
   "metadata": {},
   "source": [
    "## Additional GRASS Information and Tutorials\n",
    "\n",
    "To find more information on what one can do with GRASS GIS APIs, check out:\n",
    "    \n",
    " - [GRASS GIS Manual](https://grass.osgeo.org/grass-stable/manuals)\n",
    "    \n",
    " - [GRASS Python API Manual](https://grass.osgeo.org/grass-stable/manuals/libpython)\n",
    "\n",
    "For more Jupyter Notebook GRASS GIS tutorials, visit:\n",
    " - [Try GRASS GIS online](https://grass.osgeo.org/learn/tryonline/)\n",
    "\n",
    "## What else is in the sample North Carolina dataset?"
   ]
  },
  {
   "cell_type": "code",
   "execution_count": null,
   "metadata": {},
   "outputs": [],
   "source": [
    "print(gs.read_command(\"g.list\", type=\"all\"))"
   ]
  },
  {
   "cell_type": "markdown",
   "metadata": {},
   "source": [
    "## What other GRASS modules can I try in this notebooks?"
   ]
  },
  {
   "cell_type": "code",
   "execution_count": null,
   "metadata": {},
   "outputs": [],
   "source": [
    "print(gs.read_command(\"g.search.modules\", flags=\"g\"))"
   ]
<<<<<<< HEAD
<<<<<<< HEAD
  }
 ],
 "metadata": {
  "kernelspec": {
   "display_name": "Python 3",
   "language": "python",
   "name": "python3"
  },
  "language_info": {
   "codemirror_mode": {
    "name": "ipython",
    "version": 3
   },
   "file_extension": ".py",
   "mimetype": "text/x-python",
   "name": "python",
   "nbconvert_exporter": "python",
   "pygments_lexer": "ipython3",
   "version": "3.8.5"
  }
 },
 "nbformat": 4,
 "nbformat_minor": 4
<<<<<<< HEAD
=======
=======
>>>>>>> 95499cb16f (Add Binder badge/button to readme (#1628))
=======
>>>>>>> b9a54acd98 (Add Binder badge/button to readme (#1628))
  }
 ]
>>>>>>> osgeo-main
=======
  }
 ]
>>>>>>> osgeo-main
=======
  }
 ]
>>>>>>> osgeo-main
=======
  }
 ]
>>>>>>> d7010890e1 (Add Binder badge/button to readme (#1628))
<<<<<<< HEAD
=======
  }
 ]
>>>>>>> osgeo-main
=======
  }
 ]
>>>>>>> osgeo-main
=======
  }
 ]
>>>>>>> 58e6f5060a (Add Binder badge/button to readme (#1628))
=======
  }
 ]
<<<<<<< HEAD
>>>>>>> 50aa049e59 (Add Binder badge/button to readme (#1628))
=======
>>>>>>> osgeo-main
=======
  }
 ]
>>>>>>> osgeo-main
>>>>>>> main
=======
  }
 ]
>>>>>>> osgeo-main
=======
  }
 ]
>>>>>>> osgeo-main
=======
  }
 ]
>>>>>>> osgeo-main
=======
  }
 ]
>>>>>>> osgeo-main
=======
  }
 ]
>>>>>>> osgeo-main
=======
  }
 ]
>>>>>>> osgeo-main
=======
  }
 ]
>>>>>>> osgeo-main
=======
  }
 ]
>>>>>>> osgeo-main
=======
  }
 ]
>>>>>>> da4381783c (Add Binder badge/button to readme (#1628))
=======
  }
 ]
>>>>>>> osgeo-main
=======
  }
 ]
>>>>>>> osgeo-main
=======
>>>>>>> fe58c5e811 (Add additional GRASS info to the main example notebook (#1686))
  }
=======
>>>>>>> fe58c5e811 (Add additional GRASS info to the main example notebook (#1686))
  }
>>>>>>> 75aba2088a (Add additional GRASS info to the main example notebook (#1686))
 ],
 "metadata": {
  "kernelspec": {
   "display_name": "Python 3",
   "language": "python",
   "name": "python3"
  },
  "language_info": {
   "codemirror_mode": {
    "name": "ipython",
    "version": 3
   },
   "file_extension": ".py",
   "mimetype": "text/x-python",
   "name": "python",
   "nbconvert_exporter": "python",
   "pygments_lexer": "ipython3",
   "version": "3.8.5"
  }
 },
 "nbformat": 4,
 "nbformat_minor": 4
<<<<<<< HEAD
<<<<<<< HEAD
>>>>>>> c64d48cd6c (Add additional GRASS info to the main example notebook (#1686))
=======
=======
>>>>>>> ac15d23554 (Add Binder badge/button to readme (#1628))
<<<<<<< HEAD
=======
=======
  }
 ]
>>>>>>> osgeo-main
=======
  }
 ]
>>>>>>> osgeo-main
=======
  }
 ]
>>>>>>> osgeo-main
=======
  }
 ]
>>>>>>> d7010890e1 (Add Binder badge/button to readme (#1628))
<<<<<<< HEAD
<<<<<<< HEAD
>>>>>>> 0503a5c10a (Add Binder badge/button to readme (#1628))
<<<<<<< HEAD
>>>>>>> bf4cf68e7a (Add Binder badge/button to readme (#1628))
=======
=======
<<<<<<< HEAD
>>>>>>> 0503a5c10a (Add Binder badge/button to readme (#1628))
>>>>>>> 2c51b13e9f (Add Binder badge/button to readme (#1628))
=======
=======
  }
 ]
>>>>>>> osgeo-main
=======
  }
 ]
>>>>>>> osgeo-main
=======
  }
 ]
>>>>>>> 58e6f5060a (Add Binder badge/button to readme (#1628))
<<<<<<< HEAD
<<<<<<< HEAD
<<<<<<< HEAD
>>>>>>> 8e6cd350bf (Add Binder badge/button to readme (#1628))
<<<<<<< HEAD
>>>>>>> d8b5d4044b (Add Binder badge/button to readme (#1628))
=======
=======
>>>>>>> 8e6cd350bf (Add Binder badge/button to readme (#1628))
>>>>>>> f8951eb271 (Add Binder badge/button to readme (#1628))
=======
=======
  }
 ]
>>>>>>> 50aa049e59 (Add Binder badge/button to readme (#1628))
>>>>>>> 52dc90b371 (Add Binder badge/button to readme (#1628))
<<<<<<< HEAD
>>>>>>> 939728f441 (Add Binder badge/button to readme (#1628))
=======
>>>>>>> 75aba2088a (Add additional GRASS info to the main example notebook (#1686))
=======
>>>>>>> 0503a5c10a (Add Binder badge/button to readme (#1628))
>>>>>>> ac15d23554 (Add Binder badge/button to readme (#1628))
=======
>>>>>>> 8e6cd350bf (Add Binder badge/button to readme (#1628))
>>>>>>> 2c51b13e9f (Add Binder badge/button to readme (#1628))
=======
>>>>>>> f8951eb271 (Add Binder badge/button to readme (#1628))
}
=======
   "source": []
  }
 ]
}
<<<<<<< HEAD
>>>>>>> eec6314975 (Add Binder setup files (#1603))
=======
<<<<<<< HEAD
>>>>>>> d61771ce2d (Add Binder setup files (#1603))
=======
=======
>>>>>>> 104e187247 (Add Binder setup files (#1603))
   "source": []
  }
 ]
}
<<<<<<< HEAD
<<<<<<< HEAD
>>>>>>> 4c7000bc90 (Add Binder setup files (#1603))
=======
  }
 ]
}
>>>>>>> 4fcbd3f967 (Add Binder badge/button to readme (#1628))
<<<<<<< HEAD
<<<<<<< HEAD
=======
>>>>>>> dc9386ff19 (Add Binder badge/button to readme (#1628))
=======
  }
 ]
}
>>>>>>> f723e019f3 (Add Binder badge/button to readme (#1628))
<<<<<<< HEAD
<<<<<<< HEAD
=======
>>>>>>> 72f0d278b2 (Add Binder badge/button to readme (#1628))
=======
  }
 ]
}
>>>>>>> e28239bf7b (Add Binder badge/button to readme (#1628))
<<<<<<< HEAD
<<<<<<< HEAD
=======
>>>>>>> 8500c8720e (Add Binder badge/button to readme (#1628))
=======
  }
 ]
}
>>>>>>> 47fc32999c (Add Binder badge/button to readme (#1628))
<<<<<<< HEAD
<<<<<<< HEAD
=======
>>>>>>> 118a90ef8b (Add Binder badge/button to readme (#1628))
=======
  }
 ]
}
>>>>>>> d7010890e1 (Add Binder badge/button to readme (#1628))
<<<<<<< HEAD
<<<<<<< HEAD
=======
>>>>>>> ee5e000e2b (Add Binder badge/button to readme (#1628))
=======
  }
 ]
}
>>>>>>> 9fcc606878 (Add Binder badge/button to readme (#1628))
<<<<<<< HEAD
<<<<<<< HEAD
=======
>>>>>>> 0902609bfc (Add Binder badge/button to readme (#1628))
=======
  }
 ]
}
>>>>>>> 50aa049e59 (Add Binder badge/button to readme (#1628))
<<<<<<< HEAD
<<<<<<< HEAD
=======
  }
 ]
<<<<<<< HEAD
=======
>>>>>>> osgeo-main
>>>>>>> main
=======
  }
 ]
>>>>>>> osgeo-main
=======
  }
 ]
>>>>>>> osgeo-main
=======
  }
 ]
>>>>>>> osgeo-main
=======
  }
 ]
>>>>>>> osgeo-main
=======
  }
 ]
>>>>>>> osgeo-main
=======
  }
 ]
>>>>>>> osgeo-main
=======
  }
 ]
>>>>>>> osgeo-main
=======
  }
 ]
>>>>>>> osgeo-main
=======
  }
 ]
>>>>>>> da4381783c (Add Binder badge/button to readme (#1628))
>>>>>>> 855c626fb4 (Add Binder badge/button to readme (#1628))
}
>>>>>>> 2e71c24fb0 (Add Binder badge/button to readme (#1628))
=======
  }
 ]
}
>>>>>>> c33bedbddf (Add Binder badge/button to readme (#1628))
=======
  }
 ]
}
>>>>>>> eda5a73942 (Add Binder badge/button to readme (#1628))
<<<<<<< HEAD
<<<<<<< HEAD
=======
>>>>>>> aa9c0bff66 (Add Binder badge/button to readme (#1628))
=======
  }
 ]
}
>>>>>>> a807758bcc (Add Binder badge/button to readme (#1628))
<<<<<<< HEAD
<<<<<<< HEAD
=======
>>>>>>> 7c76b7f7c0 (Add Binder badge/button to readme (#1628))
=======
  }
 ]
}
>>>>>>> f4f8e0d593 (Add Binder badge/button to readme (#1628))
<<<<<<< HEAD
<<<<<<< HEAD
=======
>>>>>>> 4db983de69 (Add Binder badge/button to readme (#1628))
=======
  }
 ]
}
>>>>>>> b27e109a47 (Add Binder badge/button to readme (#1628))
<<<<<<< HEAD
<<<<<<< HEAD
=======
>>>>>>> ce49542432 (Add Binder badge/button to readme (#1628))
=======
  }
 ]
}
>>>>>>> bbb5f12d40 (Add Binder badge/button to readme (#1628))
<<<<<<< HEAD
<<<<<<< HEAD
=======
>>>>>>> bf116f53b0 (Add Binder badge/button to readme (#1628))
=======
  }
 ]
}
>>>>>>> 2390a327b4 (Add Binder badge/button to readme (#1628))
<<<<<<< HEAD
<<<<<<< HEAD
=======
>>>>>>> 0a9ba2e3fa (Add Binder badge/button to readme (#1628))
=======
  }
 ]
}
>>>>>>> 8ac294c05f (Add Binder badge/button to readme (#1628))
<<<<<<< HEAD
<<<<<<< HEAD
=======
>>>>>>> bc8c26248b (Add Binder badge/button to readme (#1628))
=======
  }
 ]
}
>>>>>>> 8e2ca9c153 (Add Binder badge/button to readme (#1628))
<<<<<<< HEAD
<<<<<<< HEAD
=======
>>>>>>> d378f4420b (Add Binder badge/button to readme (#1628))
=======
  }
 ]
}
>>>>>>> 8257ecf53a (Add Binder badge/button to readme (#1628))
<<<<<<< HEAD
=======
>>>>>>> eec6314975 (Add Binder setup files (#1603))
>>>>>>> d61771ce2d (Add Binder setup files (#1603))
=======
>>>>>>> 4c7000bc90 (Add Binder setup files (#1603))
>>>>>>> 104e187247 (Add Binder setup files (#1603))
=======
>>>>>>> b9a54acd98 (Add Binder badge/button to readme (#1628))
=======
>>>>>>> dc9386ff19 (Add Binder badge/button to readme (#1628))
=======
>>>>>>> 72f0d278b2 (Add Binder badge/button to readme (#1628))
=======
>>>>>>> 8500c8720e (Add Binder badge/button to readme (#1628))
=======
>>>>>>> 118a90ef8b (Add Binder badge/button to readme (#1628))
=======
>>>>>>> ee5e000e2b (Add Binder badge/button to readme (#1628))
=======
>>>>>>> 0902609bfc (Add Binder badge/button to readme (#1628))
=======
=======
  }
 ]
}
>>>>>>> 2e71c24fb0 (Add Binder badge/button to readme (#1628))
<<<<<<< HEAD
>>>>>>> e13cd54a0f (Add Binder badge/button to readme (#1628))
=======
=======
  }
 ]
}
>>>>>>> c33bedbddf (Add Binder badge/button to readme (#1628))
>>>>>>> df12705265 (Add Binder badge/button to readme (#1628))
=======
>>>>>>> 00859ebcd4 (Add Binder badge/button to readme (#1628))
=======
>>>>>>> aa9c0bff66 (Add Binder badge/button to readme (#1628))
=======
>>>>>>> 7c76b7f7c0 (Add Binder badge/button to readme (#1628))
=======
>>>>>>> 4db983de69 (Add Binder badge/button to readme (#1628))
=======
>>>>>>> ce49542432 (Add Binder badge/button to readme (#1628))
=======
>>>>>>> bf116f53b0 (Add Binder badge/button to readme (#1628))
=======
>>>>>>> 0a9ba2e3fa (Add Binder badge/button to readme (#1628))
=======
>>>>>>> bc8c26248b (Add Binder badge/button to readme (#1628))
=======
>>>>>>> d378f4420b (Add Binder badge/button to readme (#1628))
